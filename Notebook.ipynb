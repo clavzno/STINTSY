{
  "cells": [
    {
      "cell_type": "markdown",
      "metadata": {
        "id": "gwPVVLmVGuFk"
      },
      "source": [
        "# Section 1: **Introduction and Rationale**"
      ]
    },
    {
      "cell_type": "markdown",
      "metadata": {
        "id": "iTPQ0JtEGuFl"
      },
      "source": [
        "## Brief Description of the Dataset\n",
        "\n",
        "//todo"
      ]
    },
    {
      "cell_type": "code",
      "execution_count": 10,
      "metadata": {
        "id": "pqfA98XGGuFm"
      },
      "outputs": [],
      "source": [
        "import numpy as np\n",
        "import pandas as pd\n",
        "import matplotlib.pyplot as plt\n",
        "from scipy.stats import norm\n",
        "from scipy.stats import ttest_ind"
      ]
    },
    {
      "cell_type": "code",
      "execution_count": 11,
      "metadata": {
        "colab": {
          "base_uri": "https://localhost:8080/"
        },
        "id": "_g0xpluZLvo3",
        "outputId": "58226325-61a4-43ba-b505-2560a6946ab1"
      },
      "outputs": [],
      "source": [
        "lfs_df = pd.read_csv('./data/LFS PUF April 2016.csv')"
      ]
    },
    {
      "cell_type": "code",
      "execution_count": 12,
      "metadata": {
        "colab": {
          "base_uri": "https://localhost:8080/"
        },
        "id": "oX3WHepmGuFn",
        "outputId": "dcf8d26c-b882-491e-bde7-54490370df23"
      },
      "outputs": [
        {
          "name": "stdout",
          "output_type": "stream",
          "text": [
            "<class 'pandas.core.frame.DataFrame'>\n",
            "RangeIndex: 180862 entries, 0 to 180861\n",
            "Data columns (total 50 columns):\n",
            " #   Column           Non-Null Count   Dtype  \n",
            "---  ------           --------------   -----  \n",
            " 0   PUFREG           180862 non-null  int64  \n",
            " 1   PUFPRV           180862 non-null  int64  \n",
            " 2   PUFPRRCD         180862 non-null  int64  \n",
            " 3   PUFHHNUM         180862 non-null  int64  \n",
            " 4   PUFURB2K10       180862 non-null  int64  \n",
            " 5   PUFPWGTFIN       180862 non-null  float64\n",
            " 6   PUFSVYMO         180862 non-null  int64  \n",
            " 7   PUFSVYYR         180862 non-null  int64  \n",
            " 8   PUFPSU           180862 non-null  int64  \n",
            " 9   PUFRPL           180862 non-null  int64  \n",
            " 10  PUFHHSIZE        180862 non-null  int64  \n",
            " 11  PUFC01_LNO       180862 non-null  int64  \n",
            " 12  PUFC03_REL       180862 non-null  int64  \n",
            " 13  PUFC04_SEX       180862 non-null  int64  \n",
            " 14  PUFC05_AGE       180862 non-null  int64  \n",
            " 15  PUFC06_MSTAT     180862 non-null  object \n",
            " 16  PUFC07_GRADE     180862 non-null  object \n",
            " 17  PUFC08_CURSCH    180862 non-null  object \n",
            " 18  PUFC09_GRADTECH  180862 non-null  object \n",
            " 19  PUFC10_CONWR     180862 non-null  object \n",
            " 20  PUFC11_WORK      180862 non-null  object \n",
            " 21  PUFC12_JOB       180862 non-null  object \n",
            " 22  PUFC14_PROCC     180862 non-null  object \n",
            " 23  PUFC16_PKB       180862 non-null  object \n",
            " 24  PUFC17_NATEM     180862 non-null  object \n",
            " 25  PUFC18_PNWHRS    180862 non-null  object \n",
            " 26  PUFC19_PHOURS    180862 non-null  object \n",
            " 27  PUFC20_PWMORE    180862 non-null  object \n",
            " 28  PUFC21_PLADDW    180862 non-null  object \n",
            " 29  PUFC22_PFWRK     180862 non-null  object \n",
            " 30  PUFC23_PCLASS    180862 non-null  object \n",
            " 31  PUFC24_PBASIS    180862 non-null  object \n",
            " 32  PUFC25_PBASIC    180862 non-null  object \n",
            " 33  PUFC26_OJOB      180862 non-null  object \n",
            " 34  PUFC27_NJOBS     180862 non-null  object \n",
            " 35  PUFC28_THOURS    180862 non-null  object \n",
            " 36  PUFC29_WWM48H    180862 non-null  object \n",
            " 37  PUFC30_LOOKW     180862 non-null  object \n",
            " 38  PUFC31_FLWRK     180862 non-null  object \n",
            " 39  PUFC32_JOBSM     180862 non-null  object \n",
            " 40  PUFC33_WEEKS     180862 non-null  object \n",
            " 41  PUFC34_WYNOT     180862 non-null  object \n",
            " 42  PUFC35_LTLOOKW   180862 non-null  object \n",
            " 43  PUFC36_AVAIL     180862 non-null  object \n",
            " 44  PUFC37_WILLING   180862 non-null  object \n",
            " 45  PUFC38_PREVJOB   180862 non-null  object \n",
            " 46  PUFC40_POCC      180862 non-null  object \n",
            " 47  PUFC41_WQTR      180862 non-null  object \n",
            " 48  PUFC43_QKB       180862 non-null  object \n",
            " 49  PUFNEWEMPSTAT    180862 non-null  object \n",
            "dtypes: float64(1), int64(14), object(35)\n",
            "memory usage: 69.0+ MB\n"
          ]
        }
      ],
      "source": [
        "lfs_df.info()"
      ]
    },
    {
      "cell_type": "code",
      "execution_count": 13,
      "metadata": {
        "colab": {
          "base_uri": "https://localhost:8080/"
        },
        "id": "9yb24aryGuFn",
        "outputId": "a8e90b97-1fbc-405e-eeee-65baed7ab68e"
      },
      "outputs": [
        {
          "name": "stdout",
          "output_type": "stream",
          "text": [
            "180862\n",
            "50\n"
          ]
        }
      ],
      "source": [
        "print(len(lfs_df))\n",
        "print(len(lfs_df.columns))"
      ]
    },
    {
      "cell_type": "markdown",
      "metadata": {
        "id": "970fYdB1GuFn"
      },
      "source": [
        "There are 180862 total observations and 50 total variables.\n",
        "\n",
        "The variable list consists of these variables that can be categorized into certain categories for easier reference:"
      ]
    },
    {
      "cell_type": "markdown",
      "metadata": {
        "id": "PAqtxTlUGuFn"
      },
      "source": [
        "**Demographic Variables**:\n",
        "* `PUFREG`: Region (categorical)\n",
        "* `PUFPRV`: Province code (categorical)\n",
        "* `PUFPRRCD`: Province recode (categorical)\n",
        "* `PUFHHSIZE`: Number of household members (numerical)\n",
        "* `PUFC04_SEX`: Sex of the person (binary categorical)\n",
        "* `PUFC05_AGE`: Age of the person (numerical)\n",
        "* `PUFC06_MSTAT`: Marital status of the person (categorical)\n",
        "* `PUFC07_GRADE`: Highest grade completed (numerical)\n",
        "\n",
        "**Education Variables**:\n",
        "* `PUFC08_CURSCH`: Currently attending school (binary categorical)\n",
        "* `PUFC09_GRADTECH`: Graduate of a technical/vocational course (binary categorical)\n",
        "\n",
        "**Employment Variables**:\n",
        "* `PUFC11_WORK`: Worked in the past week (binary categorical)\n",
        "* `PUFC12_JOB`: Had a job/business in the past week (binary categorical)\n",
        "* `PUFC14_PROCC`: Primary occupation (categorical)\n",
        "* `PUFC16_PKB`: Kind of business or industry (categorical)\n",
        "* `PUFC17_NATEM`: Nature of employment (categorical)\n",
        "* `PUFC18_PNWHRS`: Normal working hours per day (numerical)\n",
        "* `PUFC19_PHOURS`: Total hours worked in the past week (numerical)\n",
        "* `PUFC20_PWMORE`: Want more hours of work (binary categorical)\n",
        "* `PUFC21_PLADDW`: Looked for additional work (binary categorical)\n",
        "* `PUFC22_PFWRK`: First time doing any work (binary categorical)\n",
        "* `PUFC23_PCLASS`: Class of worker for primary occupation (categorical)\n",
        "* `PUFC24_PBASIS`: Basis of payment for primary occupation (categorical)\n",
        "* `PUFC25_PBASIC`: Basic pay per day (numerical)\n",
        "* `PUFC26_OJOB`: Had another job/business (binary categorical)\n",
        "* `PUFC27_NJOBS`: Number of jobs in the past week (numerical)\n",
        "* `PUFC28_THOURS`: Total hours worked for all jobs (numerical)\n",
        "* `PUFNEWEMPSTAT`: New Employment Criteria (categorical)\n",
        "\n",
        "**Job Search Variables**:\n",
        "* `PUFC30_LOOKW`: Looked for work or tried to establish a business (binary categorical)\n",
        "* `PUFC31_FLWRK`: First time looking for work (binary categorical)\n",
        "* `PUFC32_JOBSM`: Job search method (categorical)\n",
        "* `PUFC33_WEEKS`: Weeks spent looking for work (numerical)\n",
        "* `UFC34_WYNOT`: Reason for not looking for work (categorical)\n",
        "* `PUFC35_LTLOOKW`: Last time looked for work (numerical)\n",
        "* `PUFC36_AVAIL`: Available for work (binary categorical)\n",
        "* `PUFC37_WILLING`: Willing to take up work (binary categorical)\n",
        "* `PUFC38_PREVJOB`: Worked at any time before (binary categorical)\n",
        "* `PUFC40_POCC`: Last occupation (categorical)\n",
        "* `PUFC41_WQTR`: Worked or had a job during the past quarter (binary categorical)\n",
        "* `PUFC43_QKB`: Kind of business for the past quarter (categorical)\n",
        "\n",
        "**Date Variables**:\n",
        "* `PUFSVYMO`: Survey month (numerical)\n",
        "* `PUFSVYYR`: Survey year (numerical)\n",
        "* `PUFPSU`: PSU number (numerical)\n",
        "* `PUFRPL`: Replicate (numerical)\n",
        "* `PUFPWGTFIN`: Final weight based on projection (numerical)\n",
        "\n",
        "Source: https://psada.psa.gov.ph/catalog/67/data-dictionary/F1?file_name=lfs_april2016"
      ]
    },
    {
      "cell_type": "markdown",
      "metadata": {
        "id": "PYmgi5leGuFo"
      },
      "source": [
        "Given these variables, the group has chosen to exclude these obsolete values that have been represented in another variable, or are not needed for analysis:\n",
        "* `PUFSVYMO`: Survey month (numerical)\n",
        "* `PUFSVYYR`: Survey year (numerical)\n",
        "* `PUFPSU`: PSU number (numerical)\n",
        "* `PUFRPL`: Replicate (numerical)\n",
        "* `PUFPWGTFIN`: Final weight based on projection (numerical)\n",
        "* `PUFPRV`: Province code (categorical)\n",
        "* `PUFPRRCD`: Province recode (categorical)\n",
        "\n",
        "We will be cross referencing the responses with a valueset provided alongside the dataset which was uploaded onto google sheets for easier viewing: https://docs.google.com/spreadsheets/d/1y1n2LIWIda9aI5Cur8I5_HXIJUDbuXewTbNlI1y1uEU/edit?usp=sharing"
      ]
    },
    {
      "cell_type": "markdown",
      "metadata": {
        "id": "viwKlkFdGuFo"
      },
      "source": [
        "# Section 2: **Data Cleaning**"
      ]
    },
    {
      "cell_type": "markdown",
      "metadata": {},
      "source": [
        "To start with the data cleaning, we first need to exclude the variables we will not be working with. We will save the filtered dataset as jobs_df."
      ]
    },
    {
      "cell_type": "code",
      "execution_count": 14,
      "metadata": {},
      "outputs": [
        {
          "name": "stdout",
          "output_type": "stream",
          "text": [
            "<class 'pandas.core.frame.DataFrame'>\n",
            "RangeIndex: 180862 entries, 0 to 180861\n",
            "Data columns (total 43 columns):\n",
            " #   Column           Non-Null Count   Dtype \n",
            "---  ------           --------------   ----- \n",
            " 0   PUFREG           180862 non-null  int64 \n",
            " 1   PUFHHNUM         180862 non-null  int64 \n",
            " 2   PUFURB2K10       180862 non-null  int64 \n",
            " 3   PUFHHSIZE        180862 non-null  int64 \n",
            " 4   PUFC01_LNO       180862 non-null  int64 \n",
            " 5   PUFC03_REL       180862 non-null  int64 \n",
            " 6   PUFC04_SEX       180862 non-null  int64 \n",
            " 7   PUFC05_AGE       180862 non-null  int64 \n",
            " 8   PUFC06_MSTAT     180862 non-null  object\n",
            " 9   PUFC07_GRADE     180862 non-null  object\n",
            " 10  PUFC08_CURSCH    180862 non-null  object\n",
            " 11  PUFC09_GRADTECH  180862 non-null  object\n",
            " 12  PUFC10_CONWR     180862 non-null  object\n",
            " 13  PUFC11_WORK      180862 non-null  object\n",
            " 14  PUFC12_JOB       180862 non-null  object\n",
            " 15  PUFC14_PROCC     180862 non-null  object\n",
            " 16  PUFC16_PKB       180862 non-null  object\n",
            " 17  PUFC17_NATEM     180862 non-null  object\n",
            " 18  PUFC18_PNWHRS    180862 non-null  object\n",
            " 19  PUFC19_PHOURS    180862 non-null  object\n",
            " 20  PUFC20_PWMORE    180862 non-null  object\n",
            " 21  PUFC21_PLADDW    180862 non-null  object\n",
            " 22  PUFC22_PFWRK     180862 non-null  object\n",
            " 23  PUFC23_PCLASS    180862 non-null  object\n",
            " 24  PUFC24_PBASIS    180862 non-null  object\n",
            " 25  PUFC25_PBASIC    180862 non-null  object\n",
            " 26  PUFC26_OJOB      180862 non-null  object\n",
            " 27  PUFC27_NJOBS     180862 non-null  object\n",
            " 28  PUFC28_THOURS    180862 non-null  object\n",
            " 29  PUFC29_WWM48H    180862 non-null  object\n",
            " 30  PUFC30_LOOKW     180862 non-null  object\n",
            " 31  PUFC31_FLWRK     180862 non-null  object\n",
            " 32  PUFC32_JOBSM     180862 non-null  object\n",
            " 33  PUFC33_WEEKS     180862 non-null  object\n",
            " 34  PUFC34_WYNOT     180862 non-null  object\n",
            " 35  PUFC35_LTLOOKW   180862 non-null  object\n",
            " 36  PUFC36_AVAIL     180862 non-null  object\n",
            " 37  PUFC37_WILLING   180862 non-null  object\n",
            " 38  PUFC38_PREVJOB   180862 non-null  object\n",
            " 39  PUFC40_POCC      180862 non-null  object\n",
            " 40  PUFC41_WQTR      180862 non-null  object\n",
            " 41  PUFC43_QKB       180862 non-null  object\n",
            " 42  PUFNEWEMPSTAT    180862 non-null  object\n",
            "dtypes: int64(8), object(35)\n",
            "memory usage: 59.3+ MB\n"
          ]
        }
      ],
      "source": [
        "exclude_vars = ['PUFSVYMO', 'PUFSVYYR', 'PUFPSU', 'PUFRPL', 'PUFPWGTFIN', 'PUFPRV', 'PUFPRRCD']\n",
        "jobs_df = lfs_df.drop(columns=exclude_vars).copy()\n",
        "jobs_df.info()"
      ]
    },
    {
      "cell_type": "markdown",
      "metadata": {
        "id": "YfA0qZxuGuFo"
      },
      "source": [
        "First, we check for duplicate data or NaN values in the original dataframe before grouping the selected variables together."
      ]
    },
    {
      "cell_type": "code",
      "execution_count": 15,
      "metadata": {
        "colab": {
          "base_uri": "https://localhost:8080/"
        },
        "id": "yEggJikiGuFo",
        "outputId": "3a56cbdc-e57d-4f15-94bd-a3433abc02cd"
      },
      "outputs": [
        {
          "data": {
            "text/plain": [
              "np.int64(0)"
            ]
          },
          "execution_count": 15,
          "metadata": {},
          "output_type": "execute_result"
        }
      ],
      "source": [
        "duplicate_count = jobs_df.duplicated().sum()\n",
        "duplicate_count"
      ]
    },
    {
      "cell_type": "code",
      "execution_count": 16,
      "metadata": {
        "colab": {
          "base_uri": "https://localhost:8080/",
          "height": 1000
        },
        "id": "SKQwIDbiGuFo",
        "outputId": "5e53b228-bde0-4344-8be2-aaeea9146293"
      },
      "outputs": [
        {
          "data": {
            "text/plain": [
              "PUFREG             0\n",
              "PUFHHNUM           0\n",
              "PUFURB2K10         0\n",
              "PUFHHSIZE          0\n",
              "PUFC01_LNO         0\n",
              "PUFC03_REL         0\n",
              "PUFC04_SEX         0\n",
              "PUFC05_AGE         0\n",
              "PUFC06_MSTAT       0\n",
              "PUFC07_GRADE       0\n",
              "PUFC08_CURSCH      0\n",
              "PUFC09_GRADTECH    0\n",
              "PUFC10_CONWR       0\n",
              "PUFC11_WORK        0\n",
              "PUFC12_JOB         0\n",
              "PUFC14_PROCC       0\n",
              "PUFC16_PKB         0\n",
              "PUFC17_NATEM       0\n",
              "PUFC18_PNWHRS      0\n",
              "PUFC19_PHOURS      0\n",
              "PUFC20_PWMORE      0\n",
              "PUFC21_PLADDW      0\n",
              "PUFC22_PFWRK       0\n",
              "PUFC23_PCLASS      0\n",
              "PUFC24_PBASIS      0\n",
              "PUFC25_PBASIC      0\n",
              "PUFC26_OJOB        0\n",
              "PUFC27_NJOBS       0\n",
              "PUFC28_THOURS      0\n",
              "PUFC29_WWM48H      0\n",
              "PUFC30_LOOKW       0\n",
              "PUFC31_FLWRK       0\n",
              "PUFC32_JOBSM       0\n",
              "PUFC33_WEEKS       0\n",
              "PUFC34_WYNOT       0\n",
              "PUFC35_LTLOOKW     0\n",
              "PUFC36_AVAIL       0\n",
              "PUFC37_WILLING     0\n",
              "PUFC38_PREVJOB     0\n",
              "PUFC40_POCC        0\n",
              "PUFC41_WQTR        0\n",
              "PUFC43_QKB         0\n",
              "PUFNEWEMPSTAT      0\n",
              "dtype: int64"
            ]
          },
          "execution_count": 16,
          "metadata": {},
          "output_type": "execute_result"
        }
      ],
      "source": [
        "null_count = jobs_df.isnull().sum()\n",
        "null_count"
      ]
    },
    {
      "cell_type": "markdown",
      "metadata": {
        "id": "J7-psnAYGuFo"
      },
      "source": [
        "There seems to be no duplicates or null values. We can proceed with the cleaning of the individual variables."
      ]
    },
    {
      "cell_type": "code",
      "execution_count": 17,
      "metadata": {
        "colab": {
          "base_uri": "https://localhost:8080/",
          "height": 677
        },
        "id": "ZDhxEmMoGuFo",
        "outputId": "c04670ad-e648-422b-b32d-7f8f6e074957"
      },
      "outputs": [
        {
          "data": {
            "text/html": [
              "<div>\n",
              "<style scoped>\n",
              "    .dataframe tbody tr th:only-of-type {\n",
              "        vertical-align: middle;\n",
              "    }\n",
              "\n",
              "    .dataframe tbody tr th {\n",
              "        vertical-align: top;\n",
              "    }\n",
              "\n",
              "    .dataframe thead th {\n",
              "        text-align: right;\n",
              "    }\n",
              "</style>\n",
              "<table border=\"1\" class=\"dataframe\">\n",
              "  <thead>\n",
              "    <tr style=\"text-align: right;\">\n",
              "      <th></th>\n",
              "      <th>PUFREG</th>\n",
              "      <th>PUFHHNUM</th>\n",
              "      <th>PUFURB2K10</th>\n",
              "      <th>PUFHHSIZE</th>\n",
              "      <th>PUFC01_LNO</th>\n",
              "      <th>PUFC03_REL</th>\n",
              "      <th>PUFC04_SEX</th>\n",
              "      <th>PUFC05_AGE</th>\n",
              "      <th>PUFC06_MSTAT</th>\n",
              "      <th>PUFC07_GRADE</th>\n",
              "      <th>...</th>\n",
              "      <th>PUFC33_WEEKS</th>\n",
              "      <th>PUFC34_WYNOT</th>\n",
              "      <th>PUFC35_LTLOOKW</th>\n",
              "      <th>PUFC36_AVAIL</th>\n",
              "      <th>PUFC37_WILLING</th>\n",
              "      <th>PUFC38_PREVJOB</th>\n",
              "      <th>PUFC40_POCC</th>\n",
              "      <th>PUFC41_WQTR</th>\n",
              "      <th>PUFC43_QKB</th>\n",
              "      <th>PUFNEWEMPSTAT</th>\n",
              "    </tr>\n",
              "  </thead>\n",
              "  <tbody>\n",
              "    <tr>\n",
              "      <th>0</th>\n",
              "      <td>1</td>\n",
              "      <td>1</td>\n",
              "      <td>2</td>\n",
              "      <td>3</td>\n",
              "      <td>1</td>\n",
              "      <td>1</td>\n",
              "      <td>1</td>\n",
              "      <td>49</td>\n",
              "      <td>2</td>\n",
              "      <td>350</td>\n",
              "      <td>...</td>\n",
              "      <td></td>\n",
              "      <td></td>\n",
              "      <td></td>\n",
              "      <td></td>\n",
              "      <td></td>\n",
              "      <td></td>\n",
              "      <td></td>\n",
              "      <td>1</td>\n",
              "      <td>01</td>\n",
              "      <td>1</td>\n",
              "    </tr>\n",
              "    <tr>\n",
              "      <th>1</th>\n",
              "      <td>1</td>\n",
              "      <td>1</td>\n",
              "      <td>2</td>\n",
              "      <td>3</td>\n",
              "      <td>2</td>\n",
              "      <td>2</td>\n",
              "      <td>2</td>\n",
              "      <td>61</td>\n",
              "      <td>2</td>\n",
              "      <td>350</td>\n",
              "      <td>...</td>\n",
              "      <td></td>\n",
              "      <td></td>\n",
              "      <td></td>\n",
              "      <td></td>\n",
              "      <td></td>\n",
              "      <td></td>\n",
              "      <td></td>\n",
              "      <td>1</td>\n",
              "      <td>01</td>\n",
              "      <td>1</td>\n",
              "    </tr>\n",
              "    <tr>\n",
              "      <th>2</th>\n",
              "      <td>1</td>\n",
              "      <td>1</td>\n",
              "      <td>2</td>\n",
              "      <td>3</td>\n",
              "      <td>3</td>\n",
              "      <td>3</td>\n",
              "      <td>1</td>\n",
              "      <td>19</td>\n",
              "      <td>1</td>\n",
              "      <td>350</td>\n",
              "      <td>...</td>\n",
              "      <td></td>\n",
              "      <td></td>\n",
              "      <td></td>\n",
              "      <td></td>\n",
              "      <td></td>\n",
              "      <td></td>\n",
              "      <td></td>\n",
              "      <td>1</td>\n",
              "      <td>01</td>\n",
              "      <td>1</td>\n",
              "    </tr>\n",
              "    <tr>\n",
              "      <th>3</th>\n",
              "      <td>1</td>\n",
              "      <td>2</td>\n",
              "      <td>2</td>\n",
              "      <td>4</td>\n",
              "      <td>1</td>\n",
              "      <td>1</td>\n",
              "      <td>1</td>\n",
              "      <td>48</td>\n",
              "      <td>2</td>\n",
              "      <td>320</td>\n",
              "      <td>...</td>\n",
              "      <td></td>\n",
              "      <td></td>\n",
              "      <td></td>\n",
              "      <td></td>\n",
              "      <td></td>\n",
              "      <td></td>\n",
              "      <td></td>\n",
              "      <td>1</td>\n",
              "      <td>01</td>\n",
              "      <td>1</td>\n",
              "    </tr>\n",
              "    <tr>\n",
              "      <th>4</th>\n",
              "      <td>1</td>\n",
              "      <td>2</td>\n",
              "      <td>2</td>\n",
              "      <td>4</td>\n",
              "      <td>2</td>\n",
              "      <td>2</td>\n",
              "      <td>2</td>\n",
              "      <td>41</td>\n",
              "      <td>2</td>\n",
              "      <td>350</td>\n",
              "      <td>...</td>\n",
              "      <td></td>\n",
              "      <td></td>\n",
              "      <td></td>\n",
              "      <td></td>\n",
              "      <td></td>\n",
              "      <td></td>\n",
              "      <td></td>\n",
              "      <td>1</td>\n",
              "      <td>96</td>\n",
              "      <td>1</td>\n",
              "    </tr>\n",
              "    <tr>\n",
              "      <th>5</th>\n",
              "      <td>1</td>\n",
              "      <td>2</td>\n",
              "      <td>2</td>\n",
              "      <td>4</td>\n",
              "      <td>3</td>\n",
              "      <td>3</td>\n",
              "      <td>1</td>\n",
              "      <td>20</td>\n",
              "      <td>1</td>\n",
              "      <td>350</td>\n",
              "      <td>...</td>\n",
              "      <td></td>\n",
              "      <td></td>\n",
              "      <td></td>\n",
              "      <td></td>\n",
              "      <td></td>\n",
              "      <td></td>\n",
              "      <td></td>\n",
              "      <td>1</td>\n",
              "      <td>01</td>\n",
              "      <td>1</td>\n",
              "    </tr>\n",
              "    <tr>\n",
              "      <th>6</th>\n",
              "      <td>1</td>\n",
              "      <td>2</td>\n",
              "      <td>2</td>\n",
              "      <td>4</td>\n",
              "      <td>4</td>\n",
              "      <td>3</td>\n",
              "      <td>2</td>\n",
              "      <td>15</td>\n",
              "      <td>1</td>\n",
              "      <td>320</td>\n",
              "      <td>...</td>\n",
              "      <td></td>\n",
              "      <td>8</td>\n",
              "      <td></td>\n",
              "      <td></td>\n",
              "      <td></td>\n",
              "      <td>2</td>\n",
              "      <td></td>\n",
              "      <td></td>\n",
              "      <td></td>\n",
              "      <td>3</td>\n",
              "    </tr>\n",
              "    <tr>\n",
              "      <th>7</th>\n",
              "      <td>1</td>\n",
              "      <td>3</td>\n",
              "      <td>2</td>\n",
              "      <td>4</td>\n",
              "      <td>1</td>\n",
              "      <td>1</td>\n",
              "      <td>1</td>\n",
              "      <td>59</td>\n",
              "      <td>2</td>\n",
              "      <td>350</td>\n",
              "      <td>...</td>\n",
              "      <td></td>\n",
              "      <td></td>\n",
              "      <td></td>\n",
              "      <td></td>\n",
              "      <td></td>\n",
              "      <td></td>\n",
              "      <td></td>\n",
              "      <td>1</td>\n",
              "      <td>01</td>\n",
              "      <td>1</td>\n",
              "    </tr>\n",
              "    <tr>\n",
              "      <th>8</th>\n",
              "      <td>1</td>\n",
              "      <td>3</td>\n",
              "      <td>2</td>\n",
              "      <td>4</td>\n",
              "      <td>2</td>\n",
              "      <td>2</td>\n",
              "      <td>2</td>\n",
              "      <td>61</td>\n",
              "      <td>2</td>\n",
              "      <td>350</td>\n",
              "      <td>...</td>\n",
              "      <td></td>\n",
              "      <td></td>\n",
              "      <td></td>\n",
              "      <td></td>\n",
              "      <td></td>\n",
              "      <td></td>\n",
              "      <td></td>\n",
              "      <td>1</td>\n",
              "      <td>84</td>\n",
              "      <td>1</td>\n",
              "    </tr>\n",
              "    <tr>\n",
              "      <th>9</th>\n",
              "      <td>1</td>\n",
              "      <td>3</td>\n",
              "      <td>2</td>\n",
              "      <td>4</td>\n",
              "      <td>3</td>\n",
              "      <td>6</td>\n",
              "      <td>2</td>\n",
              "      <td>11</td>\n",
              "      <td>1</td>\n",
              "      <td>250</td>\n",
              "      <td>...</td>\n",
              "      <td></td>\n",
              "      <td></td>\n",
              "      <td></td>\n",
              "      <td></td>\n",
              "      <td></td>\n",
              "      <td></td>\n",
              "      <td></td>\n",
              "      <td></td>\n",
              "      <td></td>\n",
              "      <td></td>\n",
              "    </tr>\n",
              "    <tr>\n",
              "      <th>10</th>\n",
              "      <td>1</td>\n",
              "      <td>3</td>\n",
              "      <td>2</td>\n",
              "      <td>4</td>\n",
              "      <td>4</td>\n",
              "      <td>6</td>\n",
              "      <td>2</td>\n",
              "      <td>2</td>\n",
              "      <td></td>\n",
              "      <td></td>\n",
              "      <td>...</td>\n",
              "      <td></td>\n",
              "      <td></td>\n",
              "      <td></td>\n",
              "      <td></td>\n",
              "      <td></td>\n",
              "      <td></td>\n",
              "      <td></td>\n",
              "      <td></td>\n",
              "      <td></td>\n",
              "      <td></td>\n",
              "    </tr>\n",
              "    <tr>\n",
              "      <th>11</th>\n",
              "      <td>1</td>\n",
              "      <td>4</td>\n",
              "      <td>2</td>\n",
              "      <td>4</td>\n",
              "      <td>1</td>\n",
              "      <td>1</td>\n",
              "      <td>1</td>\n",
              "      <td>51</td>\n",
              "      <td>2</td>\n",
              "      <td>350</td>\n",
              "      <td>...</td>\n",
              "      <td></td>\n",
              "      <td></td>\n",
              "      <td></td>\n",
              "      <td></td>\n",
              "      <td></td>\n",
              "      <td></td>\n",
              "      <td></td>\n",
              "      <td>1</td>\n",
              "      <td>49</td>\n",
              "      <td>1</td>\n",
              "    </tr>\n",
              "    <tr>\n",
              "      <th>12</th>\n",
              "      <td>1</td>\n",
              "      <td>4</td>\n",
              "      <td>2</td>\n",
              "      <td>4</td>\n",
              "      <td>2</td>\n",
              "      <td>2</td>\n",
              "      <td>2</td>\n",
              "      <td>51</td>\n",
              "      <td>2</td>\n",
              "      <td>622</td>\n",
              "      <td>...</td>\n",
              "      <td></td>\n",
              "      <td>7</td>\n",
              "      <td></td>\n",
              "      <td></td>\n",
              "      <td></td>\n",
              "      <td>1</td>\n",
              "      <td>52</td>\n",
              "      <td>2</td>\n",
              "      <td></td>\n",
              "      <td>3</td>\n",
              "    </tr>\n",
              "    <tr>\n",
              "      <th>13</th>\n",
              "      <td>1</td>\n",
              "      <td>4</td>\n",
              "      <td>2</td>\n",
              "      <td>4</td>\n",
              "      <td>3</td>\n",
              "      <td>3</td>\n",
              "      <td>1</td>\n",
              "      <td>26</td>\n",
              "      <td>1</td>\n",
              "      <td>672</td>\n",
              "      <td>...</td>\n",
              "      <td></td>\n",
              "      <td>2</td>\n",
              "      <td>3</td>\n",
              "      <td>1</td>\n",
              "      <td>1</td>\n",
              "      <td>2</td>\n",
              "      <td></td>\n",
              "      <td></td>\n",
              "      <td></td>\n",
              "      <td>2</td>\n",
              "    </tr>\n",
              "    <tr>\n",
              "      <th>14</th>\n",
              "      <td>1</td>\n",
              "      <td>4</td>\n",
              "      <td>2</td>\n",
              "      <td>4</td>\n",
              "      <td>4</td>\n",
              "      <td>3</td>\n",
              "      <td>1</td>\n",
              "      <td>23</td>\n",
              "      <td>1</td>\n",
              "      <td>350</td>\n",
              "      <td>...</td>\n",
              "      <td></td>\n",
              "      <td></td>\n",
              "      <td></td>\n",
              "      <td></td>\n",
              "      <td></td>\n",
              "      <td></td>\n",
              "      <td></td>\n",
              "      <td>1</td>\n",
              "      <td>80</td>\n",
              "      <td>1</td>\n",
              "    </tr>\n",
              "    <tr>\n",
              "      <th>15</th>\n",
              "      <td>1</td>\n",
              "      <td>5</td>\n",
              "      <td>2</td>\n",
              "      <td>3</td>\n",
              "      <td>1</td>\n",
              "      <td>1</td>\n",
              "      <td>1</td>\n",
              "      <td>71</td>\n",
              "      <td>2</td>\n",
              "      <td>240</td>\n",
              "      <td>...</td>\n",
              "      <td></td>\n",
              "      <td></td>\n",
              "      <td></td>\n",
              "      <td></td>\n",
              "      <td></td>\n",
              "      <td></td>\n",
              "      <td></td>\n",
              "      <td>1</td>\n",
              "      <td>41</td>\n",
              "      <td>1</td>\n",
              "    </tr>\n",
              "    <tr>\n",
              "      <th>16</th>\n",
              "      <td>1</td>\n",
              "      <td>5</td>\n",
              "      <td>2</td>\n",
              "      <td>3</td>\n",
              "      <td>2</td>\n",
              "      <td>2</td>\n",
              "      <td>2</td>\n",
              "      <td>54</td>\n",
              "      <td>2</td>\n",
              "      <td>220</td>\n",
              "      <td>...</td>\n",
              "      <td></td>\n",
              "      <td></td>\n",
              "      <td></td>\n",
              "      <td></td>\n",
              "      <td></td>\n",
              "      <td></td>\n",
              "      <td></td>\n",
              "      <td>1</td>\n",
              "      <td>96</td>\n",
              "      <td>1</td>\n",
              "    </tr>\n",
              "    <tr>\n",
              "      <th>17</th>\n",
              "      <td>1</td>\n",
              "      <td>5</td>\n",
              "      <td>2</td>\n",
              "      <td>3</td>\n",
              "      <td>3</td>\n",
              "      <td>3</td>\n",
              "      <td>1</td>\n",
              "      <td>27</td>\n",
              "      <td>1</td>\n",
              "      <td>614</td>\n",
              "      <td>...</td>\n",
              "      <td></td>\n",
              "      <td></td>\n",
              "      <td></td>\n",
              "      <td></td>\n",
              "      <td></td>\n",
              "      <td></td>\n",
              "      <td></td>\n",
              "      <td>1</td>\n",
              "      <td>84</td>\n",
              "      <td>1</td>\n",
              "    </tr>\n",
              "    <tr>\n",
              "      <th>18</th>\n",
              "      <td>1</td>\n",
              "      <td>6</td>\n",
              "      <td>2</td>\n",
              "      <td>5</td>\n",
              "      <td>1</td>\n",
              "      <td>1</td>\n",
              "      <td>1</td>\n",
              "      <td>46</td>\n",
              "      <td>2</td>\n",
              "      <td>330</td>\n",
              "      <td>...</td>\n",
              "      <td></td>\n",
              "      <td></td>\n",
              "      <td></td>\n",
              "      <td></td>\n",
              "      <td></td>\n",
              "      <td></td>\n",
              "      <td></td>\n",
              "      <td>1</td>\n",
              "      <td>41</td>\n",
              "      <td>1</td>\n",
              "    </tr>\n",
              "    <tr>\n",
              "      <th>19</th>\n",
              "      <td>1</td>\n",
              "      <td>6</td>\n",
              "      <td>2</td>\n",
              "      <td>5</td>\n",
              "      <td>2</td>\n",
              "      <td>2</td>\n",
              "      <td>2</td>\n",
              "      <td>46</td>\n",
              "      <td>2</td>\n",
              "      <td>350</td>\n",
              "      <td>...</td>\n",
              "      <td></td>\n",
              "      <td>7</td>\n",
              "      <td></td>\n",
              "      <td></td>\n",
              "      <td></td>\n",
              "      <td>2</td>\n",
              "      <td></td>\n",
              "      <td></td>\n",
              "      <td></td>\n",
              "      <td>3</td>\n",
              "    </tr>\n",
              "  </tbody>\n",
              "</table>\n",
              "<p>20 rows × 43 columns</p>\n",
              "</div>"
            ],
            "text/plain": [
              "    PUFREG  PUFHHNUM  PUFURB2K10  PUFHHSIZE  PUFC01_LNO  PUFC03_REL  \\\n",
              "0        1         1           2          3           1           1   \n",
              "1        1         1           2          3           2           2   \n",
              "2        1         1           2          3           3           3   \n",
              "3        1         2           2          4           1           1   \n",
              "4        1         2           2          4           2           2   \n",
              "5        1         2           2          4           3           3   \n",
              "6        1         2           2          4           4           3   \n",
              "7        1         3           2          4           1           1   \n",
              "8        1         3           2          4           2           2   \n",
              "9        1         3           2          4           3           6   \n",
              "10       1         3           2          4           4           6   \n",
              "11       1         4           2          4           1           1   \n",
              "12       1         4           2          4           2           2   \n",
              "13       1         4           2          4           3           3   \n",
              "14       1         4           2          4           4           3   \n",
              "15       1         5           2          3           1           1   \n",
              "16       1         5           2          3           2           2   \n",
              "17       1         5           2          3           3           3   \n",
              "18       1         6           2          5           1           1   \n",
              "19       1         6           2          5           2           2   \n",
              "\n",
              "    PUFC04_SEX  PUFC05_AGE PUFC06_MSTAT PUFC07_GRADE  ... PUFC33_WEEKS  \\\n",
              "0            1          49            2          350  ...                \n",
              "1            2          61            2          350  ...                \n",
              "2            1          19            1          350  ...                \n",
              "3            1          48            2          320  ...                \n",
              "4            2          41            2          350  ...                \n",
              "5            1          20            1          350  ...                \n",
              "6            2          15            1          320  ...                \n",
              "7            1          59            2          350  ...                \n",
              "8            2          61            2          350  ...                \n",
              "9            2          11            1          250  ...                \n",
              "10           2           2                            ...                \n",
              "11           1          51            2          350  ...                \n",
              "12           2          51            2          622  ...                \n",
              "13           1          26            1          672  ...                \n",
              "14           1          23            1          350  ...                \n",
              "15           1          71            2          240  ...                \n",
              "16           2          54            2          220  ...                \n",
              "17           1          27            1          614  ...                \n",
              "18           1          46            2          330  ...                \n",
              "19           2          46            2          350  ...                \n",
              "\n",
              "   PUFC34_WYNOT PUFC35_LTLOOKW PUFC36_AVAIL PUFC37_WILLING PUFC38_PREVJOB  \\\n",
              "0                                                                           \n",
              "1                                                                           \n",
              "2                                                                           \n",
              "3                                                                           \n",
              "4                                                                           \n",
              "5                                                                           \n",
              "6             8                                                         2   \n",
              "7                                                                           \n",
              "8                                                                           \n",
              "9                                                                           \n",
              "10                                                                          \n",
              "11                                                                          \n",
              "12            7                                                         1   \n",
              "13            2              3            1              1              2   \n",
              "14                                                                          \n",
              "15                                                                          \n",
              "16                                                                          \n",
              "17                                                                          \n",
              "18                                                                          \n",
              "19            7                                                         2   \n",
              "\n",
              "   PUFC40_POCC PUFC41_WQTR PUFC43_QKB PUFNEWEMPSTAT  \n",
              "0                        1         01             1  \n",
              "1                        1         01             1  \n",
              "2                        1         01             1  \n",
              "3                        1         01             1  \n",
              "4                        1         96             1  \n",
              "5                        1         01             1  \n",
              "6                                                 3  \n",
              "7                        1         01             1  \n",
              "8                        1         84             1  \n",
              "9                                                    \n",
              "10                                                   \n",
              "11                       1         49             1  \n",
              "12          52           2                        3  \n",
              "13                                                2  \n",
              "14                       1         80             1  \n",
              "15                       1         41             1  \n",
              "16                       1         96             1  \n",
              "17                       1         84             1  \n",
              "18                       1         41             1  \n",
              "19                                                3  \n",
              "\n",
              "[20 rows x 43 columns]"
            ]
          },
          "execution_count": 17,
          "metadata": {},
          "output_type": "execute_result"
        }
      ],
      "source": [
        "jobs_df.head(20)"
      ]
    },
    {
      "cell_type": "markdown",
      "metadata": {
        "id": "zNSNjOCdGuFo"
      },
      "source": [
        "There still seems to be blank values, though, after consulting the valueset, they are the corresponding value to \"not-applicable\" answers, which we will change to be more readable in the preprocessing phase."
      ]
    },
    {
      "cell_type": "markdown",
      "metadata": {
        "id": "bPgGRo5vGuFo"
      },
      "source": [
        "## Binary Categorical Variable Preprocessing\n",
        "\n",
        "We can start our data cleaning process with binary categorical variables."
      ]
    },
    {
      "cell_type": "markdown",
      "metadata": {
        "id": "mfUJo118GRxm"
      },
      "source": [
        "As we can see, there are some rows with blank responses, and according to the valueset, this is interpreted as \"not applicable\"."
      ]
    },
    {
      "cell_type": "code",
      "execution_count": 18,
      "metadata": {
        "colab": {
          "base_uri": "https://localhost:8080/",
          "height": 424
        },
        "id": "BTySxWKnGuFp",
        "outputId": "499d90c1-fedf-490f-9bce-10a30c73014a"
      },
      "outputs": [
        {
          "data": {
            "text/html": [
              "<div>\n",
              "<style scoped>\n",
              "    .dataframe tbody tr th:only-of-type {\n",
              "        vertical-align: middle;\n",
              "    }\n",
              "\n",
              "    .dataframe tbody tr th {\n",
              "        vertical-align: top;\n",
              "    }\n",
              "\n",
              "    .dataframe thead th {\n",
              "        text-align: right;\n",
              "    }\n",
              "</style>\n",
              "<table border=\"1\" class=\"dataframe\">\n",
              "  <thead>\n",
              "    <tr style=\"text-align: right;\">\n",
              "      <th></th>\n",
              "      <th>PUFC08_CURSCH</th>\n",
              "      <th>PUFC26_OJOB</th>\n",
              "    </tr>\n",
              "  </thead>\n",
              "  <tbody>\n",
              "    <tr>\n",
              "      <th>0</th>\n",
              "      <td></td>\n",
              "      <td>1</td>\n",
              "    </tr>\n",
              "    <tr>\n",
              "      <th>1</th>\n",
              "      <td></td>\n",
              "      <td>2</td>\n",
              "    </tr>\n",
              "    <tr>\n",
              "      <th>2</th>\n",
              "      <td>2</td>\n",
              "      <td>1</td>\n",
              "    </tr>\n",
              "    <tr>\n",
              "      <th>3</th>\n",
              "      <td></td>\n",
              "      <td>1</td>\n",
              "    </tr>\n",
              "    <tr>\n",
              "      <th>4</th>\n",
              "      <td></td>\n",
              "      <td>2</td>\n",
              "    </tr>\n",
              "    <tr>\n",
              "      <th>...</th>\n",
              "      <td>...</td>\n",
              "      <td>...</td>\n",
              "    </tr>\n",
              "    <tr>\n",
              "      <th>180857</th>\n",
              "      <td></td>\n",
              "      <td>2</td>\n",
              "    </tr>\n",
              "    <tr>\n",
              "      <th>180858</th>\n",
              "      <td></td>\n",
              "      <td></td>\n",
              "    </tr>\n",
              "    <tr>\n",
              "      <th>180859</th>\n",
              "      <td></td>\n",
              "      <td></td>\n",
              "    </tr>\n",
              "    <tr>\n",
              "      <th>180860</th>\n",
              "      <td></td>\n",
              "      <td></td>\n",
              "    </tr>\n",
              "    <tr>\n",
              "      <th>180861</th>\n",
              "      <td>2</td>\n",
              "      <td>2</td>\n",
              "    </tr>\n",
              "  </tbody>\n",
              "</table>\n",
              "<p>180862 rows × 2 columns</p>\n",
              "</div>"
            ],
            "text/plain": [
              "       PUFC08_CURSCH PUFC26_OJOB\n",
              "0                              1\n",
              "1                              2\n",
              "2                  2           1\n",
              "3                              1\n",
              "4                              2\n",
              "...              ...         ...\n",
              "180857                         2\n",
              "180858                          \n",
              "180859                          \n",
              "180860                          \n",
              "180861             2           2\n",
              "\n",
              "[180862 rows x 2 columns]"
            ]
          },
          "execution_count": 18,
          "metadata": {},
          "output_type": "execute_result"
        }
      ],
      "source": [
        "jobs_df[['PUFC08_CURSCH', 'PUFC26_OJOB']]"
      ]
    },
    {
      "cell_type": "markdown",
      "metadata": {
        "id": "H4e_DHP2GuFp"
      },
      "source": [
        "Given that these variables have binary responses, it would be more appropriate to change them into boolean datatypes for a more appropriate data representation.\n",
        "\n",
        "To transform them into a boolean datatype, we have to first see the value counts of each specific variable in order to limit the responses into either 1 or 0."
      ]
    },
    {
      "cell_type": "code",
      "execution_count": 19,
      "metadata": {
        "colab": {
          "base_uri": "https://localhost:8080/",
          "height": 210
        },
        "id": "4wIG10IqGuFp",
        "outputId": "65c85075-598e-4fd5-fe6a-61edf8d73e2a"
      },
      "outputs": [
        {
          "data": {
            "text/plain": [
              "PUFC08_CURSCH\n",
              "     107137\n",
              "1     51643\n",
              "2     22082\n",
              "Name: count, dtype: int64"
            ]
          },
          "execution_count": 19,
          "metadata": {},
          "output_type": "execute_result"
        }
      ],
      "source": [
        "jobs_df['PUFC08_CURSCH'].value_counts()"
      ]
    },
    {
      "cell_type": "code",
      "execution_count": 20,
      "metadata": {
        "colab": {
          "base_uri": "https://localhost:8080/",
          "height": 210
        },
        "id": "JeB4vtX6GuFp",
        "outputId": "e8b5b386-1fa1-414b-87dd-1797fef74164"
      },
      "outputs": [
        {
          "data": {
            "text/plain": [
              "PUFC26_OJOB\n",
              "     109507\n",
              "2     65417\n",
              "1      5938\n",
              "Name: count, dtype: int64"
            ]
          },
          "execution_count": 20,
          "metadata": {},
          "output_type": "execute_result"
        }
      ],
      "source": [
        "jobs_df['PUFC26_OJOB'].value_counts()"
      ]
    },
    {
      "cell_type": "markdown",
      "metadata": {
        "id": "GDLV-JSOGuFp"
      },
      "source": [
        "### Attending School variable & Secondary Job variable\n",
        "\n",
        "Given these responses and cross referencing these responses with the valueset provided along with the dataset, we are able to first understand what each of these responses mean.\n",
        "\n",
        "* `PUC08_CURSCH` responses represent whether the respondent is currently attending school or not.\n",
        "* `PUFC26_OJOB`  responses represents whether the respondent currently has another job aside from their primary occupation.\n",
        "\n",
        "Valuset dictates that:\n",
        "* 1 = Yes\n",
        "* 2 = No\n",
        "* blank = Not Applicable\n",
        "\n",
        "Given these representations, we are then able to convert and combine them into 2 distinct responses by combining No(2), and Not Applicable(blank) into False(0), and leaving Yes as True(1).\n",
        "\n",
        "We first do this by combining the responses first, then changing the datatype later."
      ]
    },
    {
      "cell_type": "code",
      "execution_count": 21,
      "metadata": {
        "id": "YgsMmzVEGuFp"
      },
      "outputs": [],
      "source": [
        "jobs_df['PUFC08_CURSCH'] = jobs_df['PUFC08_CURSCH'].replace({'2': 0, ' ': 0})\n",
        "jobs_df['PUFC26_OJOB'] = jobs_df['PUFC26_OJOB'].replace({'2': 0, ' ': 0})"
      ]
    },
    {
      "cell_type": "code",
      "execution_count": 22,
      "metadata": {
        "colab": {
          "base_uri": "https://localhost:8080/",
          "height": 178
        },
        "id": "TiqFhkItGuFp",
        "outputId": "8edd9d39-7411-4377-f307-dde2f20a7743"
      },
      "outputs": [
        {
          "data": {
            "text/plain": [
              "PUFC08_CURSCH\n",
              "0    129219\n",
              "1     51643\n",
              "Name: count, dtype: int64"
            ]
          },
          "execution_count": 22,
          "metadata": {},
          "output_type": "execute_result"
        }
      ],
      "source": [
        "jobs_df['PUFC08_CURSCH'].value_counts()"
      ]
    },
    {
      "cell_type": "code",
      "execution_count": 23,
      "metadata": {
        "colab": {
          "base_uri": "https://localhost:8080/",
          "height": 178
        },
        "id": "cU9zgtFuGuFp",
        "outputId": "d7a62ff2-b015-4566-b74e-c262e088ec5b"
      },
      "outputs": [
        {
          "data": {
            "text/plain": [
              "PUFC26_OJOB\n",
              "0    174924\n",
              "1      5938\n",
              "Name: count, dtype: int64"
            ]
          },
          "execution_count": 23,
          "metadata": {},
          "output_type": "execute_result"
        }
      ],
      "source": [
        "jobs_df['PUFC26_OJOB'].value_counts()"
      ]
    },
    {
      "cell_type": "code",
      "execution_count": 24,
      "metadata": {
        "id": "pL4ETBlqGuFp"
      },
      "outputs": [],
      "source": [
        "jobs_df['PUFC08_CURSCH'] = jobs_df['PUFC08_CURSCH'].astype(bool)\n",
        "jobs_df['PUFC26_OJOB'] = jobs_df['PUFC26_OJOB'].astype(bool)"
      ]
    },
    {
      "cell_type": "code",
      "execution_count": 25,
      "metadata": {
        "colab": {
          "base_uri": "https://localhost:8080/",
          "height": 178
        },
        "id": "MrWUHT4vGuFp",
        "outputId": "60832c95-555e-49a0-e908-d78349c6a286"
      },
      "outputs": [
        {
          "data": {
            "text/plain": [
              "PUFC08_CURSCH\n",
              "False    129219\n",
              "True      51643\n",
              "Name: count, dtype: int64"
            ]
          },
          "execution_count": 25,
          "metadata": {},
          "output_type": "execute_result"
        }
      ],
      "source": [
        "jobs_df['PUFC08_CURSCH'].value_counts()"
      ]
    },
    {
      "cell_type": "code",
      "execution_count": 26,
      "metadata": {
        "colab": {
          "base_uri": "https://localhost:8080/",
          "height": 178
        },
        "id": "tqtHdcicGuFp",
        "outputId": "9829674a-261b-48f0-895b-766e9a6e975d"
      },
      "outputs": [
        {
          "data": {
            "text/plain": [
              "PUFC26_OJOB\n",
              "False    174924\n",
              "True       5938\n",
              "Name: count, dtype: int64"
            ]
          },
          "execution_count": 26,
          "metadata": {},
          "output_type": "execute_result"
        }
      ],
      "source": [
        "jobs_df['PUFC26_OJOB'].value_counts()"
      ]
    },
    {
      "cell_type": "code",
      "execution_count": 27,
      "metadata": {
        "colab": {
          "base_uri": "https://localhost:8080/"
        },
        "id": "-ANEDgTkGuFp",
        "outputId": "888647fa-fb32-4a2e-ac1e-a51359fe7271"
      },
      "outputs": [
        {
          "name": "stdout",
          "output_type": "stream",
          "text": [
            "<class 'pandas.core.frame.DataFrame'>\n",
            "RangeIndex: 180862 entries, 0 to 180861\n",
            "Data columns (total 2 columns):\n",
            " #   Column         Non-Null Count   Dtype\n",
            "---  ------         --------------   -----\n",
            " 0   PUFC08_CURSCH  180862 non-null  bool \n",
            " 1   PUFC26_OJOB    180862 non-null  bool \n",
            "dtypes: bool(2)\n",
            "memory usage: 353.4 KB\n"
          ]
        }
      ],
      "source": [
        "jobs_df[['PUFC08_CURSCH', 'PUFC26_OJOB']].info()"
      ]
    },
    {
      "cell_type": "markdown",
      "metadata": {
        "id": "ZNJc2FhEGuFp"
      },
      "source": [
        "## Categorical Variable Preprocessing\n",
        "\n",
        "Now that we've converted the binary category variables into their respective datatypes and responses, we move on to the other categorical variables."
      ]
    },
    {
      "cell_type": "markdown",
      "metadata": {
        "id": "DW7he8AWGuFp"
      },
      "source": [
        "### Sex variable\n",
        "\n",
        "Starting off with `PUFC04_SEX` which is the sex of the respondent, according to the valueset,\n",
        "* 1 = Male\n",
        "* 2 = Female\n",
        "\n",
        "Therefore we may opt to change the numbers into characters M and F for easier readability."
      ]
    },
    {
      "cell_type": "code",
      "execution_count": 28,
      "metadata": {
        "colab": {
          "base_uri": "https://localhost:8080/"
        },
        "id": "OVopZ3vEGuFp",
        "outputId": "10f3266f-0bc1-4ae3-b219-cb3c4ce1f5af"
      },
      "outputs": [
        {
          "name": "stdout",
          "output_type": "stream",
          "text": [
            "<class 'pandas.core.frame.DataFrame'>\n",
            "RangeIndex: 180862 entries, 0 to 180861\n",
            "Data columns (total 5 columns):\n",
            " #   Column        Non-Null Count   Dtype \n",
            "---  ------        --------------   ----- \n",
            " 0   PUFREG        180862 non-null  int64 \n",
            " 1   PUFC16_PKB    180862 non-null  object\n",
            " 2   PUFC14_PROCC  180862 non-null  object\n",
            " 3   PUFC17_NATEM  180862 non-null  object\n",
            " 4   PUFC04_SEX    180862 non-null  int64 \n",
            "dtypes: int64(2), object(3)\n",
            "memory usage: 6.9+ MB\n"
          ]
        }
      ],
      "source": [
        "jobs_df[['PUFREG', 'PUFC16_PKB', 'PUFC14_PROCC', 'PUFC17_NATEM', 'PUFC04_SEX']].info()"
      ]
    },
    {
      "cell_type": "code",
      "execution_count": 29,
      "metadata": {
        "colab": {
          "base_uri": "https://localhost:8080/",
          "height": 178
        },
        "id": "AlCyT3RiGuFq",
        "outputId": "f650b25f-e947-4eb5-f6de-b22d1fb73575"
      },
      "outputs": [
        {
          "data": {
            "text/plain": [
              "PUFC04_SEX\n",
              "1    91539\n",
              "2    89323\n",
              "Name: count, dtype: int64"
            ]
          },
          "execution_count": 29,
          "metadata": {},
          "output_type": "execute_result"
        }
      ],
      "source": [
        "jobs_df['PUFC04_SEX'].value_counts()"
      ]
    },
    {
      "cell_type": "markdown",
      "metadata": {
        "id": "e8qvhlX5GuFq"
      },
      "source": [
        "We change the datatype to the 'category' from object first."
      ]
    },
    {
      "cell_type": "code",
      "execution_count": 30,
      "metadata": {
        "id": "ZZgVPf8gGuFt"
      },
      "outputs": [],
      "source": [
        "jobs_df['PUFC04_SEX'] = jobs_df['PUFC04_SEX'].astype('category')"
      ]
    },
    {
      "cell_type": "code",
      "execution_count": 31,
      "metadata": {
        "colab": {
          "base_uri": "https://localhost:8080/",
          "height": 235
        },
        "id": "L74OgOayGuFt",
        "outputId": "2907c659-d30e-412b-9e34-14591493b8ca"
      },
      "outputs": [
        {
          "name": "stderr",
          "output_type": "stream",
          "text": [
            "C:\\Users\\Marcus\\AppData\\Local\\Temp\\ipykernel_9636\\1489607154.py:1: FutureWarning: The behavior of Series.replace (and DataFrame.replace) with CategoricalDtype is deprecated. In a future version, replace will only be used for cases that preserve the categories. To change the categories, use ser.cat.rename_categories instead.\n",
            "  jobs_df['PUFC04_SEX'] = jobs_df['PUFC04_SEX'].replace({2: 'F', 1: 'M'})\n"
          ]
        },
        {
          "data": {
            "text/plain": [
              "PUFC04_SEX\n",
              "M    91539\n",
              "F    89323\n",
              "Name: count, dtype: int64"
            ]
          },
          "execution_count": 31,
          "metadata": {},
          "output_type": "execute_result"
        }
      ],
      "source": [
        "jobs_df['PUFC04_SEX'] = jobs_df['PUFC04_SEX'].replace({2: 'F', 1: 'M'})\n",
        "jobs_df['PUFC04_SEX'].value_counts()"
      ]
    },
    {
      "cell_type": "markdown",
      "metadata": {
        "id": "2m-VMw7gGuFt"
      },
      "source": [
        "### Nature of Employment variable\n",
        "\n",
        "Moving on to the variable `PUFC17_NATEM`, which represents the nature of employment of each respondent,\n",
        "* 1 = Permanent Job\n",
        "* 2 = Short-term\n",
        "* 3 = Different employer\n",
        "* blank = Not applicable/no employment\n",
        "\n",
        "Since our aim will be to focus on the respondents who are employed, we drop all respondents who are not employed."
      ]
    },
    {
      "cell_type": "code",
      "execution_count": 32,
      "metadata": {
        "colab": {
          "base_uri": "https://localhost:8080/"
        },
        "id": "tXztlNRJGuFt",
        "outputId": "b10962f3-9c7a-402c-8981-ae141d4e4e04"
      },
      "outputs": [
        {
          "data": {
            "text/plain": [
              "np.int64(71355)"
            ]
          },
          "execution_count": 32,
          "metadata": {},
          "output_type": "execute_result"
        }
      ],
      "source": [
        "(jobs_df['PUFC17_NATEM'] != ' ').sum()"
      ]
    },
    {
      "cell_type": "markdown",
      "metadata": {
        "id": "5sOfS-ThGuFt"
      },
      "source": [
        "This will narrow down our dataframe to 71355 respondents."
      ]
    },
    {
      "cell_type": "code",
      "execution_count": 33,
      "metadata": {
        "colab": {
          "base_uri": "https://localhost:8080/",
          "height": 677
        },
        "id": "GNyb837oGuFt",
        "outputId": "701fb8e3-3eaf-4466-ef90-5f352e98054a"
      },
      "outputs": [
        {
          "data": {
            "text/html": [
              "<div>\n",
              "<style scoped>\n",
              "    .dataframe tbody tr th:only-of-type {\n",
              "        vertical-align: middle;\n",
              "    }\n",
              "\n",
              "    .dataframe tbody tr th {\n",
              "        vertical-align: top;\n",
              "    }\n",
              "\n",
              "    .dataframe thead th {\n",
              "        text-align: right;\n",
              "    }\n",
              "</style>\n",
              "<table border=\"1\" class=\"dataframe\">\n",
              "  <thead>\n",
              "    <tr style=\"text-align: right;\">\n",
              "      <th></th>\n",
              "      <th>PUFREG</th>\n",
              "      <th>PUFHHNUM</th>\n",
              "      <th>PUFURB2K10</th>\n",
              "      <th>PUFHHSIZE</th>\n",
              "      <th>PUFC01_LNO</th>\n",
              "      <th>PUFC03_REL</th>\n",
              "      <th>PUFC04_SEX</th>\n",
              "      <th>PUFC05_AGE</th>\n",
              "      <th>PUFC06_MSTAT</th>\n",
              "      <th>PUFC07_GRADE</th>\n",
              "      <th>...</th>\n",
              "      <th>PUFC33_WEEKS</th>\n",
              "      <th>PUFC34_WYNOT</th>\n",
              "      <th>PUFC35_LTLOOKW</th>\n",
              "      <th>PUFC36_AVAIL</th>\n",
              "      <th>PUFC37_WILLING</th>\n",
              "      <th>PUFC38_PREVJOB</th>\n",
              "      <th>PUFC40_POCC</th>\n",
              "      <th>PUFC41_WQTR</th>\n",
              "      <th>PUFC43_QKB</th>\n",
              "      <th>PUFNEWEMPSTAT</th>\n",
              "    </tr>\n",
              "  </thead>\n",
              "  <tbody>\n",
              "    <tr>\n",
              "      <th>0</th>\n",
              "      <td>1</td>\n",
              "      <td>1</td>\n",
              "      <td>2</td>\n",
              "      <td>3</td>\n",
              "      <td>1</td>\n",
              "      <td>1</td>\n",
              "      <td>M</td>\n",
              "      <td>49</td>\n",
              "      <td>2</td>\n",
              "      <td>350</td>\n",
              "      <td>...</td>\n",
              "      <td></td>\n",
              "      <td></td>\n",
              "      <td></td>\n",
              "      <td></td>\n",
              "      <td></td>\n",
              "      <td></td>\n",
              "      <td></td>\n",
              "      <td>1</td>\n",
              "      <td>01</td>\n",
              "      <td>1</td>\n",
              "    </tr>\n",
              "    <tr>\n",
              "      <th>1</th>\n",
              "      <td>1</td>\n",
              "      <td>1</td>\n",
              "      <td>2</td>\n",
              "      <td>3</td>\n",
              "      <td>2</td>\n",
              "      <td>2</td>\n",
              "      <td>F</td>\n",
              "      <td>61</td>\n",
              "      <td>2</td>\n",
              "      <td>350</td>\n",
              "      <td>...</td>\n",
              "      <td></td>\n",
              "      <td></td>\n",
              "      <td></td>\n",
              "      <td></td>\n",
              "      <td></td>\n",
              "      <td></td>\n",
              "      <td></td>\n",
              "      <td>1</td>\n",
              "      <td>01</td>\n",
              "      <td>1</td>\n",
              "    </tr>\n",
              "    <tr>\n",
              "      <th>2</th>\n",
              "      <td>1</td>\n",
              "      <td>1</td>\n",
              "      <td>2</td>\n",
              "      <td>3</td>\n",
              "      <td>3</td>\n",
              "      <td>3</td>\n",
              "      <td>M</td>\n",
              "      <td>19</td>\n",
              "      <td>1</td>\n",
              "      <td>350</td>\n",
              "      <td>...</td>\n",
              "      <td></td>\n",
              "      <td></td>\n",
              "      <td></td>\n",
              "      <td></td>\n",
              "      <td></td>\n",
              "      <td></td>\n",
              "      <td></td>\n",
              "      <td>1</td>\n",
              "      <td>01</td>\n",
              "      <td>1</td>\n",
              "    </tr>\n",
              "    <tr>\n",
              "      <th>3</th>\n",
              "      <td>1</td>\n",
              "      <td>2</td>\n",
              "      <td>2</td>\n",
              "      <td>4</td>\n",
              "      <td>1</td>\n",
              "      <td>1</td>\n",
              "      <td>M</td>\n",
              "      <td>48</td>\n",
              "      <td>2</td>\n",
              "      <td>320</td>\n",
              "      <td>...</td>\n",
              "      <td></td>\n",
              "      <td></td>\n",
              "      <td></td>\n",
              "      <td></td>\n",
              "      <td></td>\n",
              "      <td></td>\n",
              "      <td></td>\n",
              "      <td>1</td>\n",
              "      <td>01</td>\n",
              "      <td>1</td>\n",
              "    </tr>\n",
              "    <tr>\n",
              "      <th>4</th>\n",
              "      <td>1</td>\n",
              "      <td>2</td>\n",
              "      <td>2</td>\n",
              "      <td>4</td>\n",
              "      <td>2</td>\n",
              "      <td>2</td>\n",
              "      <td>F</td>\n",
              "      <td>41</td>\n",
              "      <td>2</td>\n",
              "      <td>350</td>\n",
              "      <td>...</td>\n",
              "      <td></td>\n",
              "      <td></td>\n",
              "      <td></td>\n",
              "      <td></td>\n",
              "      <td></td>\n",
              "      <td></td>\n",
              "      <td></td>\n",
              "      <td>1</td>\n",
              "      <td>96</td>\n",
              "      <td>1</td>\n",
              "    </tr>\n",
              "    <tr>\n",
              "      <th>5</th>\n",
              "      <td>1</td>\n",
              "      <td>2</td>\n",
              "      <td>2</td>\n",
              "      <td>4</td>\n",
              "      <td>3</td>\n",
              "      <td>3</td>\n",
              "      <td>M</td>\n",
              "      <td>20</td>\n",
              "      <td>1</td>\n",
              "      <td>350</td>\n",
              "      <td>...</td>\n",
              "      <td></td>\n",
              "      <td></td>\n",
              "      <td></td>\n",
              "      <td></td>\n",
              "      <td></td>\n",
              "      <td></td>\n",
              "      <td></td>\n",
              "      <td>1</td>\n",
              "      <td>01</td>\n",
              "      <td>1</td>\n",
              "    </tr>\n",
              "    <tr>\n",
              "      <th>7</th>\n",
              "      <td>1</td>\n",
              "      <td>3</td>\n",
              "      <td>2</td>\n",
              "      <td>4</td>\n",
              "      <td>1</td>\n",
              "      <td>1</td>\n",
              "      <td>M</td>\n",
              "      <td>59</td>\n",
              "      <td>2</td>\n",
              "      <td>350</td>\n",
              "      <td>...</td>\n",
              "      <td></td>\n",
              "      <td></td>\n",
              "      <td></td>\n",
              "      <td></td>\n",
              "      <td></td>\n",
              "      <td></td>\n",
              "      <td></td>\n",
              "      <td>1</td>\n",
              "      <td>01</td>\n",
              "      <td>1</td>\n",
              "    </tr>\n",
              "    <tr>\n",
              "      <th>8</th>\n",
              "      <td>1</td>\n",
              "      <td>3</td>\n",
              "      <td>2</td>\n",
              "      <td>4</td>\n",
              "      <td>2</td>\n",
              "      <td>2</td>\n",
              "      <td>F</td>\n",
              "      <td>61</td>\n",
              "      <td>2</td>\n",
              "      <td>350</td>\n",
              "      <td>...</td>\n",
              "      <td></td>\n",
              "      <td></td>\n",
              "      <td></td>\n",
              "      <td></td>\n",
              "      <td></td>\n",
              "      <td></td>\n",
              "      <td></td>\n",
              "      <td>1</td>\n",
              "      <td>84</td>\n",
              "      <td>1</td>\n",
              "    </tr>\n",
              "    <tr>\n",
              "      <th>11</th>\n",
              "      <td>1</td>\n",
              "      <td>4</td>\n",
              "      <td>2</td>\n",
              "      <td>4</td>\n",
              "      <td>1</td>\n",
              "      <td>1</td>\n",
              "      <td>M</td>\n",
              "      <td>51</td>\n",
              "      <td>2</td>\n",
              "      <td>350</td>\n",
              "      <td>...</td>\n",
              "      <td></td>\n",
              "      <td></td>\n",
              "      <td></td>\n",
              "      <td></td>\n",
              "      <td></td>\n",
              "      <td></td>\n",
              "      <td></td>\n",
              "      <td>1</td>\n",
              "      <td>49</td>\n",
              "      <td>1</td>\n",
              "    </tr>\n",
              "    <tr>\n",
              "      <th>14</th>\n",
              "      <td>1</td>\n",
              "      <td>4</td>\n",
              "      <td>2</td>\n",
              "      <td>4</td>\n",
              "      <td>4</td>\n",
              "      <td>3</td>\n",
              "      <td>M</td>\n",
              "      <td>23</td>\n",
              "      <td>1</td>\n",
              "      <td>350</td>\n",
              "      <td>...</td>\n",
              "      <td></td>\n",
              "      <td></td>\n",
              "      <td></td>\n",
              "      <td></td>\n",
              "      <td></td>\n",
              "      <td></td>\n",
              "      <td></td>\n",
              "      <td>1</td>\n",
              "      <td>80</td>\n",
              "      <td>1</td>\n",
              "    </tr>\n",
              "    <tr>\n",
              "      <th>15</th>\n",
              "      <td>1</td>\n",
              "      <td>5</td>\n",
              "      <td>2</td>\n",
              "      <td>3</td>\n",
              "      <td>1</td>\n",
              "      <td>1</td>\n",
              "      <td>M</td>\n",
              "      <td>71</td>\n",
              "      <td>2</td>\n",
              "      <td>240</td>\n",
              "      <td>...</td>\n",
              "      <td></td>\n",
              "      <td></td>\n",
              "      <td></td>\n",
              "      <td></td>\n",
              "      <td></td>\n",
              "      <td></td>\n",
              "      <td></td>\n",
              "      <td>1</td>\n",
              "      <td>41</td>\n",
              "      <td>1</td>\n",
              "    </tr>\n",
              "    <tr>\n",
              "      <th>16</th>\n",
              "      <td>1</td>\n",
              "      <td>5</td>\n",
              "      <td>2</td>\n",
              "      <td>3</td>\n",
              "      <td>2</td>\n",
              "      <td>2</td>\n",
              "      <td>F</td>\n",
              "      <td>54</td>\n",
              "      <td>2</td>\n",
              "      <td>220</td>\n",
              "      <td>...</td>\n",
              "      <td></td>\n",
              "      <td></td>\n",
              "      <td></td>\n",
              "      <td></td>\n",
              "      <td></td>\n",
              "      <td></td>\n",
              "      <td></td>\n",
              "      <td>1</td>\n",
              "      <td>96</td>\n",
              "      <td>1</td>\n",
              "    </tr>\n",
              "    <tr>\n",
              "      <th>17</th>\n",
              "      <td>1</td>\n",
              "      <td>5</td>\n",
              "      <td>2</td>\n",
              "      <td>3</td>\n",
              "      <td>3</td>\n",
              "      <td>3</td>\n",
              "      <td>M</td>\n",
              "      <td>27</td>\n",
              "      <td>1</td>\n",
              "      <td>614</td>\n",
              "      <td>...</td>\n",
              "      <td></td>\n",
              "      <td></td>\n",
              "      <td></td>\n",
              "      <td></td>\n",
              "      <td></td>\n",
              "      <td></td>\n",
              "      <td></td>\n",
              "      <td>1</td>\n",
              "      <td>84</td>\n",
              "      <td>1</td>\n",
              "    </tr>\n",
              "    <tr>\n",
              "      <th>18</th>\n",
              "      <td>1</td>\n",
              "      <td>6</td>\n",
              "      <td>2</td>\n",
              "      <td>5</td>\n",
              "      <td>1</td>\n",
              "      <td>1</td>\n",
              "      <td>M</td>\n",
              "      <td>46</td>\n",
              "      <td>2</td>\n",
              "      <td>330</td>\n",
              "      <td>...</td>\n",
              "      <td></td>\n",
              "      <td></td>\n",
              "      <td></td>\n",
              "      <td></td>\n",
              "      <td></td>\n",
              "      <td></td>\n",
              "      <td></td>\n",
              "      <td>1</td>\n",
              "      <td>41</td>\n",
              "      <td>1</td>\n",
              "    </tr>\n",
              "    <tr>\n",
              "      <th>20</th>\n",
              "      <td>1</td>\n",
              "      <td>6</td>\n",
              "      <td>2</td>\n",
              "      <td>5</td>\n",
              "      <td>3</td>\n",
              "      <td>3</td>\n",
              "      <td>M</td>\n",
              "      <td>23</td>\n",
              "      <td>1</td>\n",
              "      <td>350</td>\n",
              "      <td>...</td>\n",
              "      <td></td>\n",
              "      <td></td>\n",
              "      <td></td>\n",
              "      <td></td>\n",
              "      <td></td>\n",
              "      <td></td>\n",
              "      <td></td>\n",
              "      <td>1</td>\n",
              "      <td>43</td>\n",
              "      <td>1</td>\n",
              "    </tr>\n",
              "    <tr>\n",
              "      <th>24</th>\n",
              "      <td>1</td>\n",
              "      <td>8</td>\n",
              "      <td>2</td>\n",
              "      <td>1</td>\n",
              "      <td>1</td>\n",
              "      <td>1</td>\n",
              "      <td>F</td>\n",
              "      <td>43</td>\n",
              "      <td>1</td>\n",
              "      <td>320</td>\n",
              "      <td>...</td>\n",
              "      <td></td>\n",
              "      <td></td>\n",
              "      <td></td>\n",
              "      <td></td>\n",
              "      <td></td>\n",
              "      <td></td>\n",
              "      <td></td>\n",
              "      <td>1</td>\n",
              "      <td>01</td>\n",
              "      <td>1</td>\n",
              "    </tr>\n",
              "    <tr>\n",
              "      <th>25</th>\n",
              "      <td>1</td>\n",
              "      <td>9</td>\n",
              "      <td>2</td>\n",
              "      <td>4</td>\n",
              "      <td>1</td>\n",
              "      <td>1</td>\n",
              "      <td>F</td>\n",
              "      <td>38</td>\n",
              "      <td>1</td>\n",
              "      <td>632</td>\n",
              "      <td>...</td>\n",
              "      <td></td>\n",
              "      <td></td>\n",
              "      <td></td>\n",
              "      <td></td>\n",
              "      <td></td>\n",
              "      <td></td>\n",
              "      <td></td>\n",
              "      <td>1</td>\n",
              "      <td>84</td>\n",
              "      <td>1</td>\n",
              "    </tr>\n",
              "    <tr>\n",
              "      <th>27</th>\n",
              "      <td>1</td>\n",
              "      <td>9</td>\n",
              "      <td>2</td>\n",
              "      <td>4</td>\n",
              "      <td>3</td>\n",
              "      <td>8</td>\n",
              "      <td>M</td>\n",
              "      <td>35</td>\n",
              "      <td>1</td>\n",
              "      <td>350</td>\n",
              "      <td>...</td>\n",
              "      <td></td>\n",
              "      <td></td>\n",
              "      <td></td>\n",
              "      <td></td>\n",
              "      <td></td>\n",
              "      <td></td>\n",
              "      <td></td>\n",
              "      <td>1</td>\n",
              "      <td>49</td>\n",
              "      <td>1</td>\n",
              "    </tr>\n",
              "    <tr>\n",
              "      <th>28</th>\n",
              "      <td>1</td>\n",
              "      <td>9</td>\n",
              "      <td>2</td>\n",
              "      <td>4</td>\n",
              "      <td>4</td>\n",
              "      <td>10</td>\n",
              "      <td>F</td>\n",
              "      <td>19</td>\n",
              "      <td>1</td>\n",
              "      <td>350</td>\n",
              "      <td>...</td>\n",
              "      <td></td>\n",
              "      <td></td>\n",
              "      <td></td>\n",
              "      <td></td>\n",
              "      <td></td>\n",
              "      <td></td>\n",
              "      <td></td>\n",
              "      <td>1</td>\n",
              "      <td>96</td>\n",
              "      <td>1</td>\n",
              "    </tr>\n",
              "    <tr>\n",
              "      <th>29</th>\n",
              "      <td>1</td>\n",
              "      <td>10</td>\n",
              "      <td>2</td>\n",
              "      <td>6</td>\n",
              "      <td>1</td>\n",
              "      <td>1</td>\n",
              "      <td>M</td>\n",
              "      <td>72</td>\n",
              "      <td>2</td>\n",
              "      <td>280</td>\n",
              "      <td>...</td>\n",
              "      <td></td>\n",
              "      <td></td>\n",
              "      <td></td>\n",
              "      <td></td>\n",
              "      <td></td>\n",
              "      <td></td>\n",
              "      <td></td>\n",
              "      <td>1</td>\n",
              "      <td>01</td>\n",
              "      <td>1</td>\n",
              "    </tr>\n",
              "  </tbody>\n",
              "</table>\n",
              "<p>20 rows × 43 columns</p>\n",
              "</div>"
            ],
            "text/plain": [
              "    PUFREG  PUFHHNUM  PUFURB2K10  PUFHHSIZE  PUFC01_LNO  PUFC03_REL  \\\n",
              "0        1         1           2          3           1           1   \n",
              "1        1         1           2          3           2           2   \n",
              "2        1         1           2          3           3           3   \n",
              "3        1         2           2          4           1           1   \n",
              "4        1         2           2          4           2           2   \n",
              "5        1         2           2          4           3           3   \n",
              "7        1         3           2          4           1           1   \n",
              "8        1         3           2          4           2           2   \n",
              "11       1         4           2          4           1           1   \n",
              "14       1         4           2          4           4           3   \n",
              "15       1         5           2          3           1           1   \n",
              "16       1         5           2          3           2           2   \n",
              "17       1         5           2          3           3           3   \n",
              "18       1         6           2          5           1           1   \n",
              "20       1         6           2          5           3           3   \n",
              "24       1         8           2          1           1           1   \n",
              "25       1         9           2          4           1           1   \n",
              "27       1         9           2          4           3           8   \n",
              "28       1         9           2          4           4          10   \n",
              "29       1        10           2          6           1           1   \n",
              "\n",
              "   PUFC04_SEX  PUFC05_AGE PUFC06_MSTAT PUFC07_GRADE  ...  PUFC33_WEEKS  \\\n",
              "0           M          49            2          350  ...                 \n",
              "1           F          61            2          350  ...                 \n",
              "2           M          19            1          350  ...                 \n",
              "3           M          48            2          320  ...                 \n",
              "4           F          41            2          350  ...                 \n",
              "5           M          20            1          350  ...                 \n",
              "7           M          59            2          350  ...                 \n",
              "8           F          61            2          350  ...                 \n",
              "11          M          51            2          350  ...                 \n",
              "14          M          23            1          350  ...                 \n",
              "15          M          71            2          240  ...                 \n",
              "16          F          54            2          220  ...                 \n",
              "17          M          27            1          614  ...                 \n",
              "18          M          46            2          330  ...                 \n",
              "20          M          23            1          350  ...                 \n",
              "24          F          43            1          320  ...                 \n",
              "25          F          38            1          632  ...                 \n",
              "27          M          35            1          350  ...                 \n",
              "28          F          19            1          350  ...                 \n",
              "29          M          72            2          280  ...                 \n",
              "\n",
              "   PUFC34_WYNOT PUFC35_LTLOOKW PUFC36_AVAIL PUFC37_WILLING PUFC38_PREVJOB  \\\n",
              "0                                                                           \n",
              "1                                                                           \n",
              "2                                                                           \n",
              "3                                                                           \n",
              "4                                                                           \n",
              "5                                                                           \n",
              "7                                                                           \n",
              "8                                                                           \n",
              "11                                                                          \n",
              "14                                                                          \n",
              "15                                                                          \n",
              "16                                                                          \n",
              "17                                                                          \n",
              "18                                                                          \n",
              "20                                                                          \n",
              "24                                                                          \n",
              "25                                                                          \n",
              "27                                                                          \n",
              "28                                                                          \n",
              "29                                                                          \n",
              "\n",
              "   PUFC40_POCC PUFC41_WQTR PUFC43_QKB PUFNEWEMPSTAT  \n",
              "0                        1         01             1  \n",
              "1                        1         01             1  \n",
              "2                        1         01             1  \n",
              "3                        1         01             1  \n",
              "4                        1         96             1  \n",
              "5                        1         01             1  \n",
              "7                        1         01             1  \n",
              "8                        1         84             1  \n",
              "11                       1         49             1  \n",
              "14                       1         80             1  \n",
              "15                       1         41             1  \n",
              "16                       1         96             1  \n",
              "17                       1         84             1  \n",
              "18                       1         41             1  \n",
              "20                       1         43             1  \n",
              "24                       1         01             1  \n",
              "25                       1         84             1  \n",
              "27                       1         49             1  \n",
              "28                       1         96             1  \n",
              "29                       1         01             1  \n",
              "\n",
              "[20 rows x 43 columns]"
            ]
          },
          "execution_count": 33,
          "metadata": {},
          "output_type": "execute_result"
        }
      ],
      "source": [
        "jobs_df = jobs_df[jobs_df['PUFC17_NATEM'] != ' ']\n",
        "jobs_df.head(20)"
      ]
    },
    {
      "cell_type": "markdown",
      "metadata": {
        "id": "FB57PHHqGuFt"
      },
      "source": [
        "### Primary Occupation variable\n",
        "\n",
        "`PUFC14_PROCC` represents the primary occupation of the respondents.\n",
        "\n",
        "According to the valueset, the responses are grouped into different bins:\n",
        "* 11-14 = managers\n",
        "* 21-26 = professionals\n",
        "* 31-36 = technicians and associate professionals\n",
        "* 41-44 = clerical support workers\n",
        "* 51-54 = service and sales workers\n",
        "* 61-63 = skilled agricultural, forestry and fishery workers\n",
        "* 71-75 = craft and related trades workers\n",
        "* 81-83 = plant and machine operators and assemblers\n",
        "* 91-96 = elementary occupations\n",
        "* 1-3 = armed forces occupations"
      ]
    },
    {
      "cell_type": "code",
      "execution_count": 34,
      "metadata": {
        "colab": {
          "base_uri": "https://localhost:8080/",
          "height": 1000
        },
        "id": "C_EeLwfQGuFu",
        "outputId": "1db58963-16ba-4e34-8535-1ab8cb790837"
      },
      "outputs": [
        {
          "data": {
            "text/plain": [
              "PUFC14_PROCC\n",
              "92    9565\n",
              "61    8499\n",
              "14    6820\n",
              "52    5546\n",
              "93    5239\n",
              "13    3968\n",
              "91    3026\n",
              "83    2823\n",
              "51    2778\n",
              "71    2524\n",
              "62    1963\n",
              "23    1862\n",
              "42    1572\n",
              "54    1529\n",
              "75    1160\n",
              "33     963\n",
              "72     907\n",
              "41     871\n",
              "96     851\n",
              "11     751\n",
              "53     696\n",
              "81     683\n",
              "43     652\n",
              "22     563\n",
              "44     533\n",
              "31     520\n",
              "12     506\n",
              "74     499\n",
              "34     422\n",
              "24     412\n",
              "32     405\n",
              "21     368\n",
              "73     356\n",
              "82     320\n",
              "26     292\n",
              "94     220\n",
              "25     174\n",
              "35     171\n",
              "95     147\n",
              "03     100\n",
              "01      40\n",
              "02      33\n",
              "63      26\n",
              "Name: count, dtype: int64"
            ]
          },
          "execution_count": 34,
          "metadata": {},
          "output_type": "execute_result"
        }
      ],
      "source": [
        "jobs_df['PUFC14_PROCC'].value_counts()"
      ]
    },
    {
      "cell_type": "markdown",
      "metadata": {
        "id": "3ZJeOTdUGuFu"
      },
      "source": [
        "We can group the different responses into categorical bins and represent their numbers as the title of their occupation."
      ]
    },
    {
      "cell_type": "code",
      "execution_count": 35,
      "metadata": {
        "id": "Q4tBlXa-GuFu"
      },
      "outputs": [],
      "source": [
        "PUFC14_PROCC_bins = [0, 3, 14, 26, 36, 44, 54, 63, 75, 83, 97]\n",
        "PUFC14_PROCC_labels = [\n",
        "    'Armed Forces Occupations',\n",
        "    'Managers',\n",
        "    'Professionals',\n",
        "    'Technicians and Associate Professionals',\n",
        "    'Clerical Support Workers',\n",
        "    'Service and Sales Workers',\n",
        "    'Skilled Agricultural, Forestry and Fishery Workers',\n",
        "    'Craft and Related Trades Workers',\n",
        "    'Plant and Machine Operators and Assemblers',\n",
        "    'Elementary Occupations',\n",
        "]"
      ]
    },
    {
      "cell_type": "markdown",
      "metadata": {
        "id": "TUeMVCQPGuFu"
      },
      "source": [
        "To start the binning process, we first have to convert the variable to an integer as it is currently an object."
      ]
    },
    {
      "cell_type": "code",
      "execution_count": 36,
      "metadata": {
        "id": "VMn05H6aGuFu"
      },
      "outputs": [],
      "source": [
        "jobs_df['PUFC14_PROCC'] = jobs_df['PUFC14_PROCC'].astype('int')"
      ]
    },
    {
      "cell_type": "markdown",
      "metadata": {
        "id": "o-2kRKlTGuFu"
      },
      "source": [
        "Now we start the binning process that the datatype has been modified."
      ]
    },
    {
      "cell_type": "code",
      "execution_count": 37,
      "metadata": {
        "colab": {
          "base_uri": "https://localhost:8080/",
          "height": 429
        },
        "id": "CFsRkwZIGuFu",
        "outputId": "fd650069-0b4e-4568-d3af-381a1dc01404"
      },
      "outputs": [
        {
          "data": {
            "text/plain": [
              "PUFC14_PROCC\n",
              "Elementary Occupations                                21871\n",
              "Skilled Agricultural, Forestry and Fishery Workers    11991\n",
              "Professionals                                         10199\n",
              "Service and Sales Workers                              9553\n",
              "Managers                                               5325\n",
              "Craft and Related Trades Workers                       4312\n",
              "Clerical Support Workers                               3095\n",
              "Technicians and Associate Professionals                2773\n",
              "Plant and Machine Operators and Assemblers             2163\n",
              "Armed Forces Occupations                                 73\n",
              "Name: count, dtype: int64"
            ]
          },
          "execution_count": 37,
          "metadata": {},
          "output_type": "execute_result"
        }
      ],
      "source": [
        "jobs_df['PUFC14_PROCC'] = pd.cut(jobs_df['PUFC14_PROCC'], bins=PUFC14_PROCC_bins, labels=PUFC14_PROCC_labels, right=False)\n",
        "\n",
        "jobs_df['PUFC14_PROCC'].value_counts()"
      ]
    },
    {
      "cell_type": "code",
      "execution_count": 38,
      "metadata": {
        "colab": {
          "base_uri": "https://localhost:8080/"
        },
        "id": "EQcPEUTwGuFu",
        "outputId": "8bed4c23-2fba-4ec0-cf2e-cc838265b334"
      },
      "outputs": [
        {
          "name": "stdout",
          "output_type": "stream",
          "text": [
            "<class 'pandas.core.series.Series'>\n",
            "Index: 71355 entries, 0 to 180861\n",
            "Series name: PUFC14_PROCC\n",
            "Non-Null Count  Dtype   \n",
            "--------------  -----   \n",
            "71355 non-null  category\n",
            "dtypes: category(1)\n",
            "memory usage: 627.5 KB\n"
          ]
        }
      ],
      "source": [
        "jobs_df['PUFC14_PROCC'].info()"
      ]
    },
    {
      "cell_type": "markdown",
      "metadata": {
        "id": "NoVsvUqmGuFu"
      },
      "source": [
        "The datatype automatically gets converted into 'category' datatype, so no need to convert the datatype."
      ]
    },
    {
      "cell_type": "markdown",
      "metadata": {
        "id": "kjB4RVLiGuFu"
      },
      "source": [
        "### Kind of Industry variable\n",
        "\n",
        "The `PUFC16_PKB` variable dictates the major industry that the respondent works in.\n",
        "\n",
        "The `PUFC16_PKB` variable has 2 sets of bins, the first one encompassing the general industrty that the respondent works in:\n",
        "* 1-3 = Agricultural\n",
        "* 5-43 = Industrial\n",
        "* 45-99 = Services\n",
        "\n",
        "The other set of bins being the more specific industry that the respondent works in:\n",
        "* 1-2 = Agriculture and Forestry\n",
        "* 3 = Fishing\n",
        "* 5-9 = Mining and Quarying\n",
        "* 10-33 = Manufacturing\n",
        "* 35 = Electricity, Gas, Steam and Airconditioning Supply\n",
        "* 36-39 = Water Supply; Sewage, Waste Management and Remediation Activities\n",
        "* 41-43 = Construction\n",
        "* 45-47 = Whosale and Retail Trade; Repair of Motor Vehicles and Motorcycles\n",
        "* 49-53 = Transportation and Storage\n",
        "* 55-56 = Accommodation and Food Service Activities\n",
        "* 58-63 = Information and Communication\n",
        "* 64-66 = Financial and Insurance Activities\n",
        "* 68 = Real Estate Activities\n",
        "* 69-75 = Professional, Scientific and Technical Activities\n",
        "* 77-82 = Administrative and Support Service Activities\n",
        "* 84 = Public Administration and Defense; Compulsory Social Security\n",
        "* 85 = Education\n",
        "* 86-88 = Human Health and Social Work Activities\n",
        "* 90-93 = Arts, Entertainment and Recreation\n",
        "* 94-96 = Other Service Activities\n",
        "* 97-98 = Activities of Households as Employers\n",
        "* 99 = Activities of Extraterritorial Organizations and Bodies\n",
        "\n",
        "Given these bins, we can make a separate column that shows the general industry that the respondent works in, while keeping PUFC16_PKB to show their specific industry."
      ]
    },
    {
      "cell_type": "code",
      "execution_count": 39,
      "metadata": {
        "id": "sB3wsLwfGuFu"
      },
      "outputs": [],
      "source": [
        "PUFC16_PKB_GENERAL_bins = [0, 3, 43, 99]\n",
        "PUFC16_PKB_GENERAL_labels = [\n",
        "    'Agricultural',\n",
        "    'Industrial',\n",
        "    'Services']\n",
        "\n",
        "PUFC16_PKB_bins = [0, 2, 3, 9, 33, 35, 39, 43, 47, 53, 56, 63, 66, 68, 75, 82, 84, 85, 88, 93, 96, 98, 99]\n",
        "PUFC16_PKB_labels = [\n",
        "    'Agriculture and Forestry',\n",
        "    'Fishing',\n",
        "    'Mining and Quarying',\n",
        "    'Manufacturing',\n",
        "    'Electricity, Gas, Steam and Airconditioning Supply',\n",
        "    'Water Supply; Sewage, Waste Management and Remediation Activities',\n",
        "    'Construction',\n",
        "    'Whosale and Retail Trade; Repair of Motor Vehicles and Motorcycles',\n",
        "    'Transportation and Storage',\n",
        "    'Accommodation and Food Service Activities',\n",
        "    'Information and Communication',\n",
        "    'Financial and Insurance Activities',\n",
        "    'Real Estate Activities',\n",
        "    'Professional, Scientific and Technical Activities',\n",
        "    'Administrative and Support Service Activities',\n",
        "    'Public Administration and Defense; Compulsory Social Security',\n",
        "    'Education',\n",
        "    'Human Health and Social Work Activities',\n",
        "    'Arts, Entertainment and Recreation',\n",
        "    'Other Service Activities',\n",
        "    'Activities of Households as Employers',\n",
        "    'Activities of Extraterritorial Organizations and Bodies'\n",
        "]"
      ]
    },
    {
      "cell_type": "markdown",
      "metadata": {
        "id": "SSi4oSKHGuFu"
      },
      "source": [
        "We have to first convert the datatype into the integer datatype in order to bin the responses properly."
      ]
    },
    {
      "cell_type": "code",
      "execution_count": 40,
      "metadata": {
        "id": "g2twUN3BGuFu"
      },
      "outputs": [],
      "source": [
        "jobs_df['PUFC16_PKB'] = jobs_df['PUFC16_PKB'].astype('int')"
      ]
    },
    {
      "cell_type": "markdown",
      "metadata": {
        "id": "VQ19pp6KGuFu"
      },
      "source": [
        "Now we start the binning process that the datatype has been modified."
      ]
    },
    {
      "cell_type": "code",
      "execution_count": 41,
      "metadata": {
        "colab": {
          "base_uri": "https://localhost:8080/",
          "height": 210
        },
        "id": "XBzwBsVcGuFu",
        "outputId": "30997cfa-d0d1-43a1-b8b5-75e7639b5f50"
      },
      "outputs": [
        {
          "data": {
            "text/plain": [
              "PUFC16_PKB_GENERAL\n",
              "Services        39618\n",
              "Agricultural    17853\n",
              "Industrial      13874\n",
              "Name: count, dtype: int64"
            ]
          },
          "execution_count": 41,
          "metadata": {},
          "output_type": "execute_result"
        }
      ],
      "source": [
        "jobs_df['PUFC16_PKB_GENERAL'] = pd.cut(jobs_df['PUFC16_PKB'], bins=PUFC16_PKB_GENERAL_bins, labels=PUFC16_PKB_GENERAL_labels, right=False)\n",
        "jobs_df['PUFC16_PKB_GENERAL'].value_counts()"
      ]
    },
    {
      "cell_type": "code",
      "execution_count": 42,
      "metadata": {
        "colab": {
          "base_uri": "https://localhost:8080/",
          "height": 805
        },
        "id": "bUHv1776GuFv",
        "outputId": "c55a870d-c4e8-4c52-ce9a-67e2c08dca27"
      },
      "outputs": [
        {
          "data": {
            "text/plain": [
              "PUFC16_PKB\n",
              "Agriculture and Forestry                                              17411\n",
              "Transportation and Storage                                            17014\n",
              "Construction                                                           5282\n",
              "Manufacturing                                                          4955\n",
              "Education                                                              4300\n",
              "Activities of Households as Employers                                  4235\n",
              "Mining and Quarying                                                    3269\n",
              "Human Health and Social Work Activities                                3117\n",
              "Information and Communication                                          2961\n",
              "Whosale and Retail Trade; Repair of Motor Vehicles and Motorcycles     2568\n",
              "Administrative and Support Service Activities                          1156\n",
              "Public Administration and Defense; Compulsory Social Security          1004\n",
              "Financial and Insurance Activities                                      914\n",
              "Other Service Activities                                                680\n",
              "Professional, Scientific and Technical Activities                       638\n",
              "Accommodation and Food Service Activities                               603\n",
              "Fishing                                                                 442\n",
              "Arts, Entertainment and Recreation                                      399\n",
              "Water Supply; Sewage, Waste Management and Remediation Activities       267\n",
              "Electricity, Gas, Steam and Airconditioning Supply                      101\n",
              "Real Estate Activities                                                   28\n",
              "Activities of Extraterritorial Organizations and Bodies                   1\n",
              "Name: count, dtype: int64"
            ]
          },
          "execution_count": 42,
          "metadata": {},
          "output_type": "execute_result"
        }
      ],
      "source": [
        "jobs_df['PUFC16_PKB'] = pd.cut(jobs_df['PUFC16_PKB'], bins=PUFC16_PKB_bins, labels=PUFC16_PKB_labels, right=False)\n",
        "jobs_df['PUFC16_PKB'].value_counts()"
      ]
    },
    {
      "cell_type": "code",
      "execution_count": 43,
      "metadata": {
        "colab": {
          "base_uri": "https://localhost:8080/",
          "height": 677
        },
        "id": "rXugyzcIGuFv",
        "outputId": "8090332b-3678-4666-de9e-28fb264d1bb3"
      },
      "outputs": [
        {
          "data": {
            "text/html": [
              "<div>\n",
              "<style scoped>\n",
              "    .dataframe tbody tr th:only-of-type {\n",
              "        vertical-align: middle;\n",
              "    }\n",
              "\n",
              "    .dataframe tbody tr th {\n",
              "        vertical-align: top;\n",
              "    }\n",
              "\n",
              "    .dataframe thead th {\n",
              "        text-align: right;\n",
              "    }\n",
              "</style>\n",
              "<table border=\"1\" class=\"dataframe\">\n",
              "  <thead>\n",
              "    <tr style=\"text-align: right;\">\n",
              "      <th></th>\n",
              "      <th>PUFC16_PKB_GENERAL</th>\n",
              "      <th>PUFC16_PKB</th>\n",
              "    </tr>\n",
              "  </thead>\n",
              "  <tbody>\n",
              "    <tr>\n",
              "      <th>0</th>\n",
              "      <td>Agricultural</td>\n",
              "      <td>Agriculture and Forestry</td>\n",
              "    </tr>\n",
              "    <tr>\n",
              "      <th>1</th>\n",
              "      <td>Agricultural</td>\n",
              "      <td>Agriculture and Forestry</td>\n",
              "    </tr>\n",
              "    <tr>\n",
              "      <th>2</th>\n",
              "      <td>Agricultural</td>\n",
              "      <td>Agriculture and Forestry</td>\n",
              "    </tr>\n",
              "    <tr>\n",
              "      <th>3</th>\n",
              "      <td>Agricultural</td>\n",
              "      <td>Agriculture and Forestry</td>\n",
              "    </tr>\n",
              "    <tr>\n",
              "      <th>4</th>\n",
              "      <td>Services</td>\n",
              "      <td>Activities of Households as Employers</td>\n",
              "    </tr>\n",
              "    <tr>\n",
              "      <th>5</th>\n",
              "      <td>Services</td>\n",
              "      <td>Transportation and Storage</td>\n",
              "    </tr>\n",
              "    <tr>\n",
              "      <th>7</th>\n",
              "      <td>Agricultural</td>\n",
              "      <td>Agriculture and Forestry</td>\n",
              "    </tr>\n",
              "    <tr>\n",
              "      <th>8</th>\n",
              "      <td>Services</td>\n",
              "      <td>Education</td>\n",
              "    </tr>\n",
              "    <tr>\n",
              "      <th>11</th>\n",
              "      <td>Services</td>\n",
              "      <td>Transportation and Storage</td>\n",
              "    </tr>\n",
              "    <tr>\n",
              "      <th>14</th>\n",
              "      <td>Services</td>\n",
              "      <td>Administrative and Support Service Activities</td>\n",
              "    </tr>\n",
              "    <tr>\n",
              "      <th>15</th>\n",
              "      <td>Industrial</td>\n",
              "      <td>Construction</td>\n",
              "    </tr>\n",
              "    <tr>\n",
              "      <th>16</th>\n",
              "      <td>Services</td>\n",
              "      <td>Activities of Households as Employers</td>\n",
              "    </tr>\n",
              "    <tr>\n",
              "      <th>17</th>\n",
              "      <td>Services</td>\n",
              "      <td>Education</td>\n",
              "    </tr>\n",
              "    <tr>\n",
              "      <th>18</th>\n",
              "      <td>Industrial</td>\n",
              "      <td>Construction</td>\n",
              "    </tr>\n",
              "    <tr>\n",
              "      <th>20</th>\n",
              "      <td>Services</td>\n",
              "      <td>Whosale and Retail Trade; Repair of Motor Vehi...</td>\n",
              "    </tr>\n",
              "    <tr>\n",
              "      <th>24</th>\n",
              "      <td>Agricultural</td>\n",
              "      <td>Agriculture and Forestry</td>\n",
              "    </tr>\n",
              "    <tr>\n",
              "      <th>25</th>\n",
              "      <td>Services</td>\n",
              "      <td>Education</td>\n",
              "    </tr>\n",
              "    <tr>\n",
              "      <th>27</th>\n",
              "      <td>Services</td>\n",
              "      <td>Transportation and Storage</td>\n",
              "    </tr>\n",
              "    <tr>\n",
              "      <th>28</th>\n",
              "      <td>Services</td>\n",
              "      <td>Activities of Households as Employers</td>\n",
              "    </tr>\n",
              "    <tr>\n",
              "      <th>29</th>\n",
              "      <td>Agricultural</td>\n",
              "      <td>Agriculture and Forestry</td>\n",
              "    </tr>\n",
              "  </tbody>\n",
              "</table>\n",
              "</div>"
            ],
            "text/plain": [
              "   PUFC16_PKB_GENERAL                                         PUFC16_PKB\n",
              "0        Agricultural                           Agriculture and Forestry\n",
              "1        Agricultural                           Agriculture and Forestry\n",
              "2        Agricultural                           Agriculture and Forestry\n",
              "3        Agricultural                           Agriculture and Forestry\n",
              "4            Services              Activities of Households as Employers\n",
              "5            Services                         Transportation and Storage\n",
              "7        Agricultural                           Agriculture and Forestry\n",
              "8            Services                                          Education\n",
              "11           Services                         Transportation and Storage\n",
              "14           Services      Administrative and Support Service Activities\n",
              "15         Industrial                                       Construction\n",
              "16           Services              Activities of Households as Employers\n",
              "17           Services                                          Education\n",
              "18         Industrial                                       Construction\n",
              "20           Services  Whosale and Retail Trade; Repair of Motor Vehi...\n",
              "24       Agricultural                           Agriculture and Forestry\n",
              "25           Services                                          Education\n",
              "27           Services                         Transportation and Storage\n",
              "28           Services              Activities of Households as Employers\n",
              "29       Agricultural                           Agriculture and Forestry"
            ]
          },
          "execution_count": 43,
          "metadata": {},
          "output_type": "execute_result"
        }
      ],
      "source": [
        "jobs_df[['PUFC16_PKB_GENERAL', 'PUFC16_PKB']].head(20)"
      ]
    },
    {
      "cell_type": "markdown",
      "metadata": {
        "id": "d4TWI_0tGuFv"
      },
      "source": [
        "### Region variable\n",
        "\n",
        "The last categorical variable, `PUFREG`, which represents the region where the respondent originates from.\n",
        "\n",
        "The valueset goes as follows:\n",
        "* 13 = National Capital Region\n",
        "* 14 = Cordillera Administrative Region\n",
        "* 1 = Region I - Ilocos Region\n",
        "* 2 = Region II - Cagayan Valley\n",
        "* 3 = Region III - Central Luzon\n",
        "* 4 = Region IVA - CALABARZON\n",
        "* 17 = Region IVB - MIMAROPA\n",
        "* 5 = Region V - Bicol\n",
        "* 6 = Region VI - Western Visayas\n",
        "* 7 = Region VII - Central Visayas\n",
        "* 8 = Region VIII - Eastern Visayas\n",
        "* 9 = Region IX - Zamboanga Peninsula\n",
        "* 10 = Region X - Northern Mindanao\n",
        "* 11 = Region XI - Davao\n",
        "* 12 = Region XII - SOCCSKSARGEN\n",
        "* 16 = Region XIII - Caraga\n",
        "* 15 = Autonomous Region in Muslim Mindanao\n",
        "\n",
        "We can represent these regions better by displaying their name instead of their corresponding number. We can process this easier by using mapping."
      ]
    },
    {
      "cell_type": "code",
      "execution_count": 44,
      "metadata": {
        "colab": {
          "base_uri": "https://localhost:8080/",
          "height": 649
        },
        "id": "9ikue1HWLBoQ",
        "outputId": "f36d8598-4fc7-46b9-c710-ecddf0cb90a8"
      },
      "outputs": [
        {
          "data": {
            "text/plain": [
              "PUFREG\n",
              "13    10417\n",
              "3      5451\n",
              "6      4815\n",
              "8      4796\n",
              "7      4512\n",
              "10     4487\n",
              "14     4424\n",
              "5      3928\n",
              "16     3682\n",
              "11     3675\n",
              "17     3540\n",
              "12     3479\n",
              "4      3392\n",
              "9      2747\n",
              "15     2732\n",
              "1      2666\n",
              "2      2612\n",
              "Name: count, dtype: int64"
            ]
          },
          "execution_count": 44,
          "metadata": {},
          "output_type": "execute_result"
        }
      ],
      "source": [
        "jobs_df['PUFREG'].value_counts()"
      ]
    },
    {
      "cell_type": "code",
      "execution_count": 45,
      "metadata": {
        "id": "5qef2lirGuFv"
      },
      "outputs": [],
      "source": [
        "PUFREG_mapping = {\n",
        "    13: 'National Capital Region',\n",
        "    14: 'Cordillera Administrative Region',\n",
        "    1: 'Region I - Ilocos Region',\n",
        "    2: 'Region II - Cagayan Valley',\n",
        "    3: 'Region III - Central Luzon',\n",
        "    4: 'Region IVA - CALABARZON',\n",
        "    17: 'Region IVB - MIMAROPA',\n",
        "    5: 'Region V - Bicol',\n",
        "    6: 'Region VI - Western Visayas',\n",
        "    7: 'Region VII - Central Visayas',\n",
        "    8: 'Region VIII - Eastern Visayas',\n",
        "    9: 'Region IX - Zamboanga Peninsula',\n",
        "    10: 'Region X - Northern Mindanao',\n",
        "    11: 'Region XI - Davao',\n",
        "    12: 'Region XII - SOCCSKSARGEN',\n",
        "    16: 'Region XIII - Caraga',\n",
        "    15: 'Autonomous Region in Muslim Mindanao'\n",
        "}"
      ]
    },
    {
      "cell_type": "code",
      "execution_count": 46,
      "metadata": {
        "colab": {
          "base_uri": "https://localhost:8080/",
          "height": 649
        },
        "id": "pahiMrr_GuFv",
        "outputId": "d4fac883-b50e-488a-f631-1854e77e7e14"
      },
      "outputs": [
        {
          "data": {
            "text/plain": [
              "PUFREG\n",
              "National Capital Region                 10417\n",
              "Region III - Central Luzon               5451\n",
              "Region VI - Western Visayas              4815\n",
              "Region VIII - Eastern Visayas            4796\n",
              "Region VII - Central Visayas             4512\n",
              "Region X - Northern Mindanao             4487\n",
              "Cordillera Administrative Region         4424\n",
              "Region V - Bicol                         3928\n",
              "Region XIII - Caraga                     3682\n",
              "Region XI - Davao                        3675\n",
              "Region IVB - MIMAROPA                    3540\n",
              "Region XII - SOCCSKSARGEN                3479\n",
              "Region IVA - CALABARZON                  3392\n",
              "Region IX - Zamboanga Peninsula          2747\n",
              "Autonomous Region in Muslim Mindanao     2732\n",
              "Region I - Ilocos Region                 2666\n",
              "Region II - Cagayan Valley               2612\n",
              "Name: count, dtype: int64"
            ]
          },
          "execution_count": 46,
          "metadata": {},
          "output_type": "execute_result"
        }
      ],
      "source": [
        "jobs_df['PUFREG'] = jobs_df['PUFREG'].map(PUFREG_mapping)\n",
        "jobs_df['PUFREG'].value_counts()"
      ]
    },
    {
      "cell_type": "code",
      "execution_count": 47,
      "metadata": {
        "colab": {
          "base_uri": "https://localhost:8080/"
        },
        "id": "zeUKUPXMGuFv",
        "outputId": "f25c448e-45bd-42f3-fd78-c6e48ae0dd2c"
      },
      "outputs": [
        {
          "name": "stdout",
          "output_type": "stream",
          "text": [
            "<class 'pandas.core.series.Series'>\n",
            "Index: 71355 entries, 0 to 180861\n",
            "Series name: PUFREG\n",
            "Non-Null Count  Dtype \n",
            "--------------  ----- \n",
            "71355 non-null  object\n",
            "dtypes: object(1)\n",
            "memory usage: 1.1+ MB\n"
          ]
        }
      ],
      "source": [
        "jobs_df['PUFREG'].info()"
      ]
    },
    {
      "cell_type": "markdown",
      "metadata": {
        "id": "1LcWyPHKGuFv"
      },
      "source": [
        "As we can see, the datatype is still left as 'object', we want to convert that to a category to be more appropriate."
      ]
    },
    {
      "cell_type": "code",
      "execution_count": 48,
      "metadata": {
        "colab": {
          "base_uri": "https://localhost:8080/"
        },
        "id": "tCv_lfM7GuFv",
        "outputId": "2d604537-d3c1-4d4a-9ded-cbe9ce6b0247"
      },
      "outputs": [
        {
          "name": "stdout",
          "output_type": "stream",
          "text": [
            "<class 'pandas.core.series.Series'>\n",
            "Index: 71355 entries, 0 to 180861\n",
            "Series name: PUFREG\n",
            "Non-Null Count  Dtype   \n",
            "--------------  -----   \n",
            "71355 non-null  category\n",
            "dtypes: category(1)\n",
            "memory usage: 627.8 KB\n"
          ]
        }
      ],
      "source": [
        "jobs_df['PUFREG'] = jobs_df['PUFREG'].astype('category')\n",
        "jobs_df['PUFREG'].info()"
      ]
    },
    {
      "cell_type": "markdown",
      "metadata": {
        "id": "ywZa5qAkGuFv"
      },
      "source": [
        "## Numerical Variable Preprocessing\n",
        "\n",
        "After finishing the required preprocessing for all categorical variables, we move on to the preprocessing for numerical variables."
      ]
    },
    {
      "cell_type": "markdown",
      "metadata": {
        "id": "BHRR21o9GuFx"
      },
      "source": [
        "### Basic Pay variable"
      ]
    },
    {
      "cell_type": "code",
      "execution_count": 49,
      "metadata": {
        "colab": {
          "base_uri": "https://localhost:8080/"
        },
        "id": "0532SQLWGuFx",
        "outputId": "4b0cf71a-b562-4481-e329-4ecfac82962a",
        "scrolled": false
      },
      "outputs": [
        {
          "data": {
            "text/plain": [
              "array(['     ', '00250', '00115', ..., '00728', '01573', '00922'],\n",
              "      shape=(1152,), dtype=object)"
            ]
          },
          "execution_count": 49,
          "metadata": {},
          "output_type": "execute_result"
        }
      ],
      "source": [
        "jobs_df['PUFC25_PBASIC'].unique()"
      ]
    },
    {
      "cell_type": "code",
      "execution_count": 50,
      "metadata": {
        "colab": {
          "base_uri": "https://localhost:8080/"
        },
        "id": "Ac68-9sDGuFx",
        "outputId": "a309a4a4-f958-4f3e-9213-c10303709794"
      },
      "outputs": [
        {
          "data": {
            "text/plain": [
              "np.int64(34767)"
            ]
          },
          "execution_count": 50,
          "metadata": {},
          "output_type": "execute_result"
        }
      ],
      "source": [
        "# Turning the white space value into NaN\n",
        "jobs_df['PUFC25_PBASIC'] = jobs_df['PUFC25_PBASIC'].replace(r'^\\s*$', np.nan, regex=True)\n",
        "\n",
        "jobs_df['PUFC25_PBASIC'].isnull().sum()"
      ]
    },
    {
      "cell_type": "markdown",
      "metadata": {
        "id": "2B20dZ3uYsmh"
      },
      "source": [
        "In order to deal with the `NaN` values, we will set the value to 0 and convert the data type into integer to make it easier to work with later on.\n",
        "\n",
        "We will also convert the data type to `int` to make it easier to work with."
      ]
    },
    {
      "cell_type": "code",
      "execution_count": 51,
      "metadata": {
        "colab": {
          "base_uri": "https://localhost:8080/"
        },
        "id": "3o7taT-7GuFx",
        "outputId": "635a3446-0263-4492-c225-5cf622ebe5b9"
      },
      "outputs": [
        {
          "name": "stderr",
          "output_type": "stream",
          "text": [
            "C:\\Users\\Marcus\\AppData\\Local\\Temp\\ipykernel_9636\\3495477199.py:2: FutureWarning: A value is trying to be set on a copy of a DataFrame or Series through chained assignment using an inplace method.\n",
            "The behavior will change in pandas 3.0. This inplace method will never work because the intermediate object on which we are setting values always behaves as a copy.\n",
            "\n",
            "For example, when doing 'df[col].method(value, inplace=True)', try using 'df.method({col: value}, inplace=True)' or df[col] = df[col].method(value) instead, to perform the operation inplace on the original object.\n",
            "\n",
            "\n",
            "  jobs_df['PUFC25_PBASIC'].fillna(0, inplace=True)\n"
          ]
        },
        {
          "data": {
            "text/plain": [
              "array([   0,  250,  115, ...,  728, 1573,  922], shape=(1152,))"
            ]
          },
          "execution_count": 51,
          "metadata": {},
          "output_type": "execute_result"
        }
      ],
      "source": [
        "# Setting the null value to 0\n",
        "jobs_df['PUFC25_PBASIC'].fillna(0, inplace=True)\n",
        "\n",
        "# Setting the dtype to int\n",
        "jobs_df['PUFC25_PBASIC'] = jobs_df['PUFC25_PBASIC'].astype(int)\n",
        "\n",
        "jobs_df['PUFC25_PBASIC'].unique()"
      ]
    },
    {
      "cell_type": "markdown",
      "metadata": {
        "id": "5q2k8po5j36e"
      },
      "source": [
        "Since `0` represent data that we want to disregard, we will tackle the rest of Basic Pay per Day without the `0` values.\n",
        "\n",
        "We will also visualize our data so we can see the distribution of our data."
      ]
    },
    {
      "cell_type": "code",
      "execution_count": 52,
      "metadata": {
        "colab": {
          "base_uri": "https://localhost:8080/",
          "height": 545
        },
        "id": "Xzgmm_UYGuFx",
        "outputId": "8e894376-96c8-412e-f5b0-4d6cfa3337ca"
      },
      "outputs": [
        {
          "data": {
            "image/png": "[encoded data removed]",
            "text/plain": [
              "<Figure size 800x600 with 1 Axes>"
            ]
          },
          "metadata": {},
          "output_type": "display_data"
        }
      ],
      "source": [
        "jobs_df = jobs_df[jobs_df['PUFC25_PBASIC'] != 0]\n",
        "\n",
        "plt.figure(figsize=(8, 6))\n",
        "jitter = np.random.normal(0, 0.1, size=len(jobs_df['PUFC25_PBASIC']))\n",
        "plt.plot(jobs_df['PUFC25_PBASIC'], jitter, 'go', markersize=2)\n",
        "plt.title('Basic Pay per Day')\n",
        "plt.show()"
      ]
    },
    {
      "cell_type": "markdown",
      "metadata": {
        "id": "CBDgiRt_FJCu"
      },
      "source": [
        "Since our data is skewed, we will apply log transformation in order to normalize our data."
      ]
    },
    {
      "cell_type": "code",
      "execution_count": 53,
      "metadata": {
        "colab": {
          "base_uri": "https://localhost:8080/",
          "height": 458
        },
        "id": "dg9raDxhGuFx",
        "outputId": "b26f0fd0-cf15-400e-fe51-734ab8ade21d",
        "scrolled": false
      },
      "outputs": [
        {
          "data": {
            "text/plain": [
              "2         5.521461\n",
              "4         4.744932\n",
              "5         5.298317\n",
              "14        5.814131\n",
              "15        5.857933\n",
              "            ...   \n",
              "180837    5.659482\n",
              "180844    5.438079\n",
              "180845    6.805723\n",
              "180847    5.768321\n",
              "180848    6.253829\n",
              "Name: PUFC25_PBASIC, Length: 36588, dtype: float64"
            ]
          },
          "execution_count": 53,
          "metadata": {},
          "output_type": "execute_result"
        }
      ],
      "source": [
        "jobs_df['PUFC25_PBASIC'] = np.log(jobs_df['PUFC25_PBASIC'])\n",
        "\n",
        "jobs_df['PUFC25_PBASIC']"
      ]
    },
    {
      "cell_type": "markdown",
      "metadata": {
        "id": "FcHAEEoUFfVF"
      },
      "source": [
        "We will visualize the data again to check for outliers."
      ]
    },
    {
      "cell_type": "code",
      "execution_count": 54,
      "metadata": {
        "colab": {
          "base_uri": "https://localhost:8080/",
          "height": 545
        },
        "id": "Ay14Hd8UGuFx",
        "outputId": "24355c40-e517-4638-8d6f-4194ae705d9a"
      },
      "outputs": [
        {
          "data": {
            "image/png": "[encoded data removed]",
            "text/plain": [
              "<Figure size 800x600 with 1 Axes>"
            ]
          },
          "metadata": {},
          "output_type": "display_data"
        }
      ],
      "source": [
        "plt.figure(figsize=(8, 6))\n",
        "jitter = np.random.normal(0, 0.1, size=len(jobs_df['PUFC25_PBASIC']))\n",
        "plt.plot(jobs_df['PUFC25_PBASIC'], jitter, 'go', markersize=2)\n",
        "plt.title('Basic Pay per Day')\n",
        "plt.show()"
      ]
    },
    {
      "cell_type": "markdown",
      "metadata": {
        "id": "nIL9XYrSFqde"
      },
      "source": [
        "Since we still have some outliers, we can use the interquartile range and adjust its threshold."
      ]
    },
    {
      "cell_type": "code",
      "execution_count": 55,
      "metadata": {
        "colab": {
          "base_uri": "https://localhost:8080/"
        },
        "id": "6vRxiOCKGuFx",
        "outputId": "5ce48b2c-cbc9-47bb-871c-752959f23719"
      },
      "outputs": [
        {
          "name": "stdout",
          "output_type": "stream",
          "text": [
            "Number of outliers: 0\n"
          ]
        }
      ],
      "source": [
        "# Computing for the IQR\n",
        "\n",
        "lbp_q1 = jobs_df['PUFC25_PBASIC'].quantile(0.25)\n",
        "lbp_q3 = jobs_df['PUFC25_PBASIC'].quantile(0.75)\n",
        "lbp_iqr = lbp_q3 - lbp_q1\n",
        "\n",
        "# Computing for the adjusted IQR thresholds\n",
        "\n",
        "lbp_lw = lbp_q1 - 2 * lbp_iqr\n",
        "lbp_uw = lbp_q3 + 2 * lbp_iqr\n",
        "\n",
        "# Removing the outliers from the DF\n",
        "jobs_df = jobs_df[(jobs_df['PUFC25_PBASIC'] >= lbp_lw) & (jobs_df['PUFC25_PBASIC'] <= lbp_uw)]\n",
        "\n",
        "outlier_count_after = jobs_df[(jobs_df['PUFC25_PBASIC'] < lbp_lw) | (jobs_df['PUFC25_PBASIC'] > lbp_uw)].shape[0]\n",
        "print(\"Number of outliers:\", outlier_count_after)"
      ]
    },
    {
      "cell_type": "markdown",
      "metadata": {
        "id": "b6QCTNxbGuFv"
      },
      "source": [
        "### Age variable\n",
        "\n",
        "`PUFC05_AGE` represents the age of the respondent as of their last birthday.\n",
        "\n",
        "We first need to assess what range we are dealing with for the age."
      ]
    },
    {
      "cell_type": "code",
      "execution_count": 56,
      "metadata": {
        "colab": {
          "base_uri": "https://localhost:8080/"
        },
        "id": "QJyOV9XoGuFw",
        "outputId": "ee275ce5-9004-42a7-97cc-07a261fd893b"
      },
      "outputs": [
        {
          "data": {
            "text/plain": [
              "array([19, 41, 20, 23, 71, 54, 27, 46, 38, 35, 51, 22, 44, 40, 26, 45, 52,\n",
              "       55, 30, 62, 33, 29, 24, 21, 34, 25, 37, 43, 17, 60, 28, 42, 50, 58,\n",
              "       57, 36, 18, 70, 48, 47, 61, 31, 32, 49, 39, 68, 53, 16, 56, 65, 63,\n",
              "       59, 69, 87, 64, 75, 76, 15, 66, 67, 72, 85, 74, 83, 73, 77, 79, 78,\n",
              "       80, 91, 81, 99, 82])"
            ]
          },
          "execution_count": 56,
          "metadata": {},
          "output_type": "execute_result"
        }
      ],
      "source": [
        "jobs_df['PUFC05_AGE'].unique()"
      ]
    },
    {
      "cell_type": "markdown",
      "metadata": {
        "id": "J-mrjbVukCwT"
      },
      "source": [
        "We can see that some of the unique variables go above your typical working age so we need to check if there are outliers within our data."
      ]
    },
    {
      "cell_type": "code",
      "execution_count": 57,
      "metadata": {
        "colab": {
          "base_uri": "https://localhost:8080/"
        },
        "id": "v6kSjly5_OHp",
        "outputId": "3c18e94a-86b5-48d3-ea76-5397cfcea64a"
      },
      "outputs": [],
      "source": [
        "jobs_df['PUFC05_AGE'] = jobs_df['PUFC05_AGE'].astype(float)"
      ]
    },
    {
      "cell_type": "code",
      "execution_count": 58,
      "metadata": {
        "colab": {
          "base_uri": "https://localhost:8080/",
          "height": 699
        },
        "id": "xT3xtRYwGuFw",
        "outputId": "34deb9e5-d44d-4bfe-c88b-2b6f924e5ffa"
      },
      "outputs": [
        {
          "data": {
            "image/png": "[encoded data removed]",
            "text/plain": [
              "<Figure size 1000x800 with 1 Axes>"
            ]
          },
          "metadata": {},
          "output_type": "display_data"
        }
      ],
      "source": [
        "# Initial Boxplot for the Age Distribution\n",
        "\n",
        "plt.figure(figsize=(10, 8))\n",
        "plt.boxplot(x=jobs_df['PUFC05_AGE'])\n",
        "plt.title('Age Distribution')\n",
        "plt.show()"
      ]
    },
    {
      "cell_type": "markdown",
      "metadata": {
        "id": "ajFEVGczkQvr"
      },
      "source": [
        "Using the boxplot, we can easily spot the outliers in our data represented by the circles.\n",
        "\n",
        "Since the outliers seem to be fairly manageable, we can do mean imputation to normalize the data."
      ]
    },
    {
      "cell_type": "code",
      "execution_count": 59,
      "metadata": {
        "colab": {
          "base_uri": "https://localhost:8080/"
        },
        "id": "vuWINskcGuFw",
        "outputId": "4d85be1a-2622-4bbc-d1bb-9d5d3cade426"
      },
      "outputs": [
        {
          "data": {
            "text/plain": [
              "8"
            ]
          },
          "execution_count": 59,
          "metadata": {},
          "output_type": "execute_result"
        }
      ],
      "source": [
        "# Computing for the IQR\n",
        "\n",
        "age_q1 = jobs_df['PUFC05_AGE'].quantile(0.25)\n",
        "age_q3 = jobs_df['PUFC05_AGE'].quantile(0.75)\n",
        "age_iqr = age_q3 - age_q1\n",
        "\n",
        "# Getting the outliers\n",
        "\n",
        "age_lw = age_q1 - 2 * age_iqr\n",
        "age_uw = age_q3 + 2 * age_iqr\n",
        "age_outliers = jobs_df[(jobs_df['PUFC05_AGE'] < age_lw) | (jobs_df['PUFC05_AGE'] > age_uw)]\n",
        "age_outliers['PUFC05_AGE'].shape[0]"
      ]
    },
    {
      "cell_type": "markdown",
      "metadata": {
        "id": "7sjsyKPd_mU5"
      },
      "source": [
        "Let's get the mean of the ages without the outliers"
      ]
    },
    {
      "cell_type": "code",
      "execution_count": 60,
      "metadata": {
        "colab": {
          "base_uri": "https://localhost:8080/"
        },
        "id": "_gTiH36e_7GB",
        "outputId": "1057bb4b-8829-4ecb-e295-4e40edc90450"
      },
      "outputs": [
        {
          "data": {
            "text/plain": [
              "np.float64(35.33282069590531)"
            ]
          },
          "execution_count": 60,
          "metadata": {},
          "output_type": "execute_result"
        }
      ],
      "source": [
        "mean_val = jobs_df[(jobs_df['PUFC05_AGE'] >= age_lw) & (jobs_df['PUFC05_AGE'] <= age_uw)]['PUFC05_AGE'].mean()\n",
        "mean_val"
      ]
    },
    {
      "cell_type": "markdown",
      "metadata": {
        "id": "QOszuZYoABoI"
      },
      "source": [
        "After getting the mean, we will use it to set the values of the outliers for the mean imputation."
      ]
    },
    {
      "cell_type": "code",
      "execution_count": 61,
      "metadata": {
        "colab": {
          "base_uri": "https://localhost:8080/"
        },
        "id": "EiPof6EYARiw",
        "outputId": "2b752173-df42-461c-869c-1f3e52650946"
      },
      "outputs": [
        {
          "name": "stdout",
          "output_type": "stream",
          "text": [
            "Number of outliers after imputation: 0\n"
          ]
        }
      ],
      "source": [
        "jobs_df.loc[(jobs_df['PUFC05_AGE'] < age_lw) | (jobs_df['PUFC05_AGE'] > age_uw), 'PUFC05_AGE'] = mean_val\n",
        "outlier_count_after = jobs_df[(jobs_df['PUFC05_AGE'] < age_lw) | (jobs_df['PUFC05_AGE'] > age_uw)].shape[0]\n",
        "print(\"Number of outliers after imputation:\", outlier_count_after)"
      ]
    },
    {
      "cell_type": "markdown",
      "metadata": {
        "id": "Jf_8ifzgGuFw"
      },
      "source": [
        "### Work Hours per Day variable\n",
        "\n",
        "`PUFC18_PNWHRS` represent the different normal working hours per day ranging from 1 to 16."
      ]
    },
    {
      "cell_type": "code",
      "execution_count": 62,
      "metadata": {
        "colab": {
          "base_uri": "https://localhost:8080/"
        },
        "id": "6gMUKYM1GuFw",
        "outputId": "00ad111e-8061-4e8d-838f-44e03f9f4cdc"
      },
      "outputs": [
        {
          "data": {
            "text/plain": [
              "array(['08', '12', '04', '10', '09', '06', '03', '05', '07', '01', '02',\n",
              "       '15', '11', '14', '16', '13'], dtype=object)"
            ]
          },
          "execution_count": 62,
          "metadata": {},
          "output_type": "execute_result"
        }
      ],
      "source": [
        "jobs_df['PUFC18_PNWHRS'].unique()"
      ]
    },
    {
      "cell_type": "markdown",
      "metadata": {
        "id": "jeiokhPrlW3D"
      },
      "source": [
        "We can convert this data into an integer type in order to easily work with the data later on."
      ]
    },
    {
      "cell_type": "code",
      "execution_count": 63,
      "metadata": {
        "colab": {
          "base_uri": "https://localhost:8080/"
        },
        "id": "ckalHtw6VnAy",
        "outputId": "9194105f-901d-42c2-bef0-dfc8d2ee60c2"
      },
      "outputs": [
        {
          "data": {
            "text/plain": [
              "array([ 8, 12,  4, 10,  9,  6,  3,  5,  7,  1,  2, 15, 11, 14, 16, 13])"
            ]
          },
          "execution_count": 63,
          "metadata": {},
          "output_type": "execute_result"
        }
      ],
      "source": [
        "jobs_df['PUFC18_PNWHRS'] = jobs_df['PUFC18_PNWHRS'].astype(int)\n",
        "jobs_df['PUFC18_PNWHRS'].unique()"
      ]
    },
    {
      "cell_type": "markdown",
      "metadata": {
        "id": "tXqh2fj0GuFw"
      },
      "source": [
        "### Total Work Hours variable\n",
        "\n",
        "`PUFC19_PHOURS` represent the total work hours in the past week, including the primary and secondary occupation (if any).\n",
        "\n",
        "The value set includes numbers ranging from 0 to 112, for the work hours wherein 0 represents the non-workers in the survey and 999 for not reported."
      ]
    },
    {
      "cell_type": "code",
      "execution_count": 64,
      "metadata": {
        "colab": {
          "base_uri": "https://localhost:8080/"
        },
        "id": "n2xCx2KgGuFw",
        "outputId": "46c785d6-2857-46cb-886e-e924051e84f0"
      },
      "outputs": [
        {
          "data": {
            "text/plain": [
              "array(['024', '072', '048', '060', '016', '040', '070', '045', '032',\n",
              "       '054', '042', '006', '028', '008', '030', '056', '036', '020',\n",
              "       '015', '009', '021', '084', '000', '050', '018', '012', '014',\n",
              "       '004', '035', '044', '090', '077', '049', '025', '052', '064',\n",
              "       '059', '057', '010', '027', '063', '066', '003', '112', '096',\n",
              "       '078', '091', '098', '022', '055', '007', '002', '058', '005',\n",
              "       '075', '033', '105', '062', '031', '011', '034', '026', '094',\n",
              "       '065', '001', '039', '041', '092', '046', '038', '051', '080',\n",
              "       '074', '068', '061', '019', '088', '069', '073', '082', '013',\n",
              "       '081', '053', '043', '047', '067', '037', '108'], dtype=object)"
            ]
          },
          "execution_count": 64,
          "metadata": {},
          "output_type": "execute_result"
        }
      ],
      "source": [
        "jobs_df['PUFC19_PHOURS'].unique()"
      ]
    },
    {
      "cell_type": "markdown",
      "metadata": {
        "id": "QOcuOZfwmxGx"
      },
      "source": [
        "The data does not include 0 and 999 anymore as we have been able to filter the data previously to only accommodate the working respondents.\n",
        "\n",
        "However, similar to our previous variable, we can also convert the data type into integer so it will be easier to work with it later on."
      ]
    },
    {
      "cell_type": "code",
      "execution_count": 65,
      "metadata": {
        "colab": {
          "base_uri": "https://localhost:8080/"
        },
        "id": "55SG4DH-GuFw",
        "outputId": "3c5cdc9d-aac4-45d8-b17f-ddc1a323853e"
      },
      "outputs": [
        {
          "data": {
            "text/plain": [
              "array([ 24,  72,  48,  60,  16,  40,  70,  45,  32,  54,  42,   6,  28,\n",
              "         8,  30,  56,  36,  20,  15,   9,  21,  84,   0,  50,  18,  12,\n",
              "        14,   4,  35,  44,  90,  77,  49,  25,  52,  64,  59,  57,  10,\n",
              "        27,  63,  66,   3, 112,  96,  78,  91,  98,  22,  55,   7,   2,\n",
              "        58,   5,  75,  33, 105,  62,  31,  11,  34,  26,  94,  65,   1,\n",
              "        39,  41,  92,  46,  38,  51,  80,  74,  68,  61,  19,  88,  69,\n",
              "        73,  82,  13,  81,  53,  43,  47,  67,  37, 108])"
            ]
          },
          "execution_count": 65,
          "metadata": {},
          "output_type": "execute_result"
        }
      ],
      "source": [
        "jobs_df['PUFC19_PHOURS'] = jobs_df['PUFC19_PHOURS'].astype(int)\n",
        "jobs_df['PUFC19_PHOURS'].unique()"
      ]
    }
  ],
  "metadata": {
    "colab": {
      "provenance": [],
      "toc_visible": true
    },
    "kernelspec": {
      "display_name": "Python 3",
      "language": "python",
      "name": "python3"
    },
    "language_info": {
      "codemirror_mode": {
        "name": "ipython",
        "version": 3
      },
      "file_extension": ".py",
      "mimetype": "text/x-python",
      "name": "python",
      "nbconvert_exporter": "python",
      "pygments_lexer": "ipython3",
      "version": "3.13.1"
    }
  },
  "nbformat": 4,
  "nbformat_minor": 0
}
