{
  "cells": [
    {
      "cell_type": "markdown",
      "metadata": {},
      "source": [
        "# **STINTSY Project**\n",
        "\n",
        "***GROUP 5 - STINTSY S17***\n",
        "| Member Name  | Member Github Username |\n",
        "| ------------- | ------------- |\n",
        "| Apetreor, Marcus  | Marcus-Apetreor  |\n",
        "| Clavano, Angelica (Jack)  | clavzno  |\n",
        "| Homssi, Yazan | Shinoruba  |"
      ]
    },
    {
      "cell_type": "markdown",
      "metadata": {
        "id": "gwPVVLmVGuFk"
      },
      "source": [
        "# **Section 1: Introduction to the Problem/task and Dataset**\n",
        "\n",
        "For this project, we were assigned two real-world datasets. We selected the **Labor Force Survey (LFS)** from the Philippine Statistics Authority (PSA). The dataset contains a nationwide survey conducted in April 2016. It **aimed to estimate employment and unemployment levels and view the trends** in the country as whole and for each of the 17 administrative regions, which can then be used to provide a framework for labor market policies and plans. These kinds of data are important for economic analysis, policy formation, and planning at the regional and national level of country. The survey **collected data on demographic characteristics** (`household membership`, `relationship to head of the household`, `sex`, `age`, `marital status`, `education`, etc.) **and economic characteristics** (`employment status`, `industry group`, `class of worker`, `previous job`, `hours worked`, etc.)\n",
        "\n",
        "Our group’s task for this project is a **classification task**, where we have to build model/s that will **predict the job variable** (specifically, `PUFC14_PROCC`) given the features above. The job variable is a categorical variable that represents the current job of the respondent."
      ]
    },
    {
      "cell_type": "markdown",
      "metadata": {},
      "source": [
        "# **Section 2: Description of the Dataset**"
      ]
    },
    {
      "cell_type": "markdown",
      "metadata": {},
      "source": [
        "#### **Dataset Overview & Collection Process**\n",
        "\n",
        "The dataset used in this project is the **Labor Force Survey (LFS) April 2016**, provided by the **Philippine Statistics Authority (PSA)**. It contains **180,862 observations** and **50 variables**, covering a wide range of **demographic, educational, employment, and job search-related information.**\n",
        "\n",
        "The dataset was collected through a **nationwide household survey** and is used to analyze employment trends, workforce participation, and economic activity in the country. The data was collected from April 8, 2016 to April 30, 2016, and used the **2013 Master Sample Design** for household-based surveys. A master sample consists of randomly assigned and selected geographic areas with non-overlapping boundaries, known as primary sampling units (PSUs). PSUs contain 100-400 households. The mode of data collection is through face-to-face interviews.\n",
        "\n",
        "The primary focus of this project is to predict **primary occupation** (`PUFC14_PROCC`) using various **demographic and employment-related features.** We want to predict this variable as it would be helpful in workforce planning for future endeavors. Knowing this kind of information would allow business owners or higher authorities to identify and allocate appropriate funds for the needs of the workforce, including development of training programs, educational initiatives, seminars, etc.\n",
        "\n",
        "The dataset is available for public use through **PSADA (Philippine Statistics Authority Data Archive):**\n",
        "- Download link: https://psada.psa.gov.ph/catalog/67/get-microdata\n",
        "  - Dataset file: `LFS PUF April 2016.CSV`\n",
        "  - Dictionary file: `lfs_april_2016_metadata(dictionary).xlsx` \n",
        "- Study Description: https://psada.psa.gov.ph/catalog/67/study-description\n",
        "- Data Description: https://psada.psa.gov.ph/catalog/67/data-dictionary/F1?file_name=lfs_april2016&vcode=Uk464"
      ]
    },
    {
      "cell_type": "markdown",
      "metadata": {},
      "source": [
        "#### **Dataset Structure**\n",
        "\n",
        "The dataset is structured as a single file in the widely-used CSV (Comma-Separated Values) format. Each row represents an individual respondent, while each column captures specific demographic, employment, or job search characteristics.\n",
        "\n",
        "The dataset comprises of:\n",
        "- `180,862` total observations;\n",
        "- `50` total number of variables; and\n",
        "- `PUFC14_PROCC` being the target variable"
      ]
    },
    {
      "cell_type": "markdown",
      "metadata": {},
      "source": [
        "#### **Dataset Features**\n",
        "To facilitate analysis, variables are grouped into **five main categories**:\n",
        "\n",
        "**1. Demographic + Regional Variables**\n",
        "| **Variable** | **Description** | **Type** |\n",
        "|-------------|---------------|--------|\n",
        "| `PUFHHSIZE` | Number of household members | Numerical |\n",
        "| `PUFC04_SEX` | Sex of the person | Binary Categorical |\n",
        "| `PUFC05_AGE` | Age of the person | Numerical |\n",
        "| `PUFC06_MSTAT` | Marital status | Categorical |\n",
        "\n",
        "**2. Education Variables**\n",
        "| **Variable** | **Description** | **Type** |\n",
        "|-------------|---------------|--------|\n",
        "| `PUFC08_CURSCH` | Currently attending school | Binary Categorical |\n",
        "| `PUFC09_GRADTECH` | Graduate of a technical/vocational course | Binary Categorical |\n",
        "| `PUFC07_GRADE` | Highest grade completed | Categorical |\n",
        "\n",
        "**3. Employment Variables**\n",
        "| **Variable** | **Description** | **Type** |\n",
        "|-------------|---------------|--------|\n",
        "| `PUFC11_WORK` | Worked in the past week | Binary Categorical |\n",
        "| `PUFC12_JOB` | Had a job/business in the past week | Binary Categorical |\n",
        "| **`PUFC14_PROCC`** | **Primary occupation (Target Variable)** | Categorical |\n",
        "| `PUFC16_PKB` | Kind of business or industry | Categorical |\n",
        "| `PUFC17_NATEM` | Nature of employment | Categorical |\n",
        "| `PUFC18_PNWHRS` | Normal working hours per day | Numerical |\n",
        "| `PUFC19_PHOURS` | Total hours worked in the past week | Numerical |\n",
        "| `PUFC20_PWMORE` | Wants more hours of work | Binary Categorical |\n",
        "| `PUFC21_PLADDW` | Looked for additional work | Binary Categorical |\n",
        "| `PUFC22_PFWRK` | First time doing any work | Binary Categorical |\n",
        "| `PUFC23_PCLASS` | Class of worker for primary occupation | Categorical |\n",
        "| `PUFC24_PBASIS` | Basis of payment for primary occupation | Categorical |\n",
        "| `PUFC25_PBASIC` | Basic pay per day | Numerical |\n",
        "| `PUFC26_OJOB` | Had another job/business | Binary Categorical |\n",
        "| `PUFC27_NJOBS` | Number of jobs in the past week | Numerical |\n",
        "| `PUFC28_THOURS` | Total hours worked for all jobs | Numerical |\n",
        "| `PUFNEWEMPSTAT` | New Employment Criteria | Categorical |\n",
        "\n",
        "**4. Job Search Variables**\n",
        "| **Variable** | **Description** | **Type** |\n",
        "|-------------|---------------|--------|\n",
        "| `PUFC30_LOOKW` | Looked for work or tried to establish a business | Binary Categorical |\n",
        "| `PUFC31_FLWRK` | First time looking for work | Binary Categorical |\n",
        "| `PUFC32_JOBSM` | Job search method | Categorical |\n",
        "| `PUFC33_WEEKS` | Weeks spent looking for work | Numerical |\n",
        "| `PUFC34_WYNOT` | Reason for not looking for work | Categorical |\n",
        "| `PUFC35_LTLOOKW` | Last time looked for work | Numerical |\n",
        "| `PUFC36_AVAIL` | Available for work | Binary Categorical |\n",
        "| `PUFC37_WILLING` | Willing to take up work | Binary Categorical |\n",
        "| `PUFC38_PREVJOB` | Worked at any time before | Binary Categorical |\n",
        "| `PUFC40_POCC` | Last occupation | Categorical |\n",
        "| `PUFC41_WQTR` | Worked or had a job during the past quarter | Binary Categorical |\n",
        "| `PUFC43_QKB` | Kind of business for the past quarter | Categorical |\n",
        "\n",
        "**5. Excluded Miscellaneous Variables**\n",
        "The following variables were removed as they were **either redundant, IDs, or not useful for prediction**:\n",
        "\n",
        "| **Variable** | **Description** |\n",
        "|-------------|---------------|\n",
        "| `PUFSVYMO` | Survey month (Date) |\n",
        "| `PUFSVYYR` | Survey year (Date) |\n",
        "| `PUFPSU` | PSU number (ID) |\n",
        "| `PUFRPL` | Replicate (ID) |\n",
        "| `PUFPWGTFIN` | Final weight based on projection (ID) |\n",
        "| `PUFHHNUM` | Household unique sequential number (ID) |\n",
        "| `PUFREG` | Region (ID) |\n",
        "| `PUFPRV` | Province code (ID) |\n",
        "| `PUFPRRCD` | Province recode (ID) |\n",
        "\n",
        "We will be cross referencing the responses with a valueset provided alongside the dataset which was uploaded onto google sheets for easier viewing: https://docs.google.com/spreadsheets/d/1y1n2LIWIda9aI5Cur8I5_HXIJUDbuXewTbNlI1y1uEU/edit?usp=sharing"
      ]
    },
    {
      "cell_type": "markdown",
      "metadata": {},
      "source": [
        "# **Section 3: List of requirements**"
      ]
    },
    {
      "cell_type": "markdown",
      "metadata": {},
      "source": [
        "## Pre-requisites\n",
        "<span style=\"background-color:green\">*// To Do (Jacky Boy)*</style>\n",
        "### Creating the requirements.txt\n",
        "- `pip install pipreqs`\n",
        "- `pipreqs /path/to/project`\n",
        "\n",
        "<span style=\"background-color:green\">*// To Do (Jacky Boy)*</style>\n",
        "\n",
        "### Installing requirements.txt\n",
        "- In the terminal, please type `pip install -r requirements.txt` to install the necessary libraries.\n",
        "- The dataset and other necessary files are available in the `data` folder.\n",
        "- Project instructions, etc. are in the `Project Specifications` folder"
      ]
    },
    {
      "cell_type": "markdown",
      "metadata": {},
      "source": [
        "### Loading the Dataset"
      ]
    },
    {
      "cell_type": "code",
      "execution_count": 256,
      "metadata": {},
      "outputs": [],
      "source": [
        "import numpy as np\n",
        "import pandas as pd\n",
        "import matplotlib.pyplot as plt\n",
        "from scipy.stats import norm\n",
        "from scipy.stats import ttest_ind"
      ]
    },
    {
      "cell_type": "markdown",
      "metadata": {
        "id": "viwKlkFdGuFo"
      },
      "source": [
        "# **Section 4: Data Preprocessing and Cleaning**"
      ]
    },
    {
      "cell_type": "code",
      "execution_count": 257,
      "metadata": {},
      "outputs": [
        {
          "data": {
            "text/html": [
              "<div>\n",
              "<style scoped>\n",
              "    .dataframe tbody tr th:only-of-type {\n",
              "        vertical-align: middle;\n",
              "    }\n",
              "\n",
              "    .dataframe tbody tr th {\n",
              "        vertical-align: top;\n",
              "    }\n",
              "\n",
              "    .dataframe thead th {\n",
              "        text-align: right;\n",
              "    }\n",
              "</style>\n",
              "<table border=\"1\" class=\"dataframe\">\n",
              "  <thead>\n",
              "    <tr style=\"text-align: right;\">\n",
              "      <th></th>\n",
              "      <th>PUFREG</th>\n",
              "      <th>PUFPRV</th>\n",
              "      <th>PUFPRRCD</th>\n",
              "      <th>PUFHHNUM</th>\n",
              "      <th>PUFURB2K10</th>\n",
              "      <th>PUFPWGTFIN</th>\n",
              "      <th>PUFSVYMO</th>\n",
              "      <th>PUFSVYYR</th>\n",
              "      <th>PUFPSU</th>\n",
              "      <th>PUFRPL</th>\n",
              "      <th>...</th>\n",
              "      <th>PUFC33_WEEKS</th>\n",
              "      <th>PUFC34_WYNOT</th>\n",
              "      <th>PUFC35_LTLOOKW</th>\n",
              "      <th>PUFC36_AVAIL</th>\n",
              "      <th>PUFC37_WILLING</th>\n",
              "      <th>PUFC38_PREVJOB</th>\n",
              "      <th>PUFC40_POCC</th>\n",
              "      <th>PUFC41_WQTR</th>\n",
              "      <th>PUFC43_QKB</th>\n",
              "      <th>PUFNEWEMPSTAT</th>\n",
              "    </tr>\n",
              "  </thead>\n",
              "  <tbody>\n",
              "    <tr>\n",
              "      <th>0</th>\n",
              "      <td>1</td>\n",
              "      <td>28</td>\n",
              "      <td>2800</td>\n",
              "      <td>1</td>\n",
              "      <td>2</td>\n",
              "      <td>405.2219</td>\n",
              "      <td>4</td>\n",
              "      <td>2016</td>\n",
              "      <td>217</td>\n",
              "      <td>1</td>\n",
              "      <td>...</td>\n",
              "      <td></td>\n",
              "      <td></td>\n",
              "      <td></td>\n",
              "      <td></td>\n",
              "      <td></td>\n",
              "      <td></td>\n",
              "      <td></td>\n",
              "      <td>1</td>\n",
              "      <td>01</td>\n",
              "      <td>1</td>\n",
              "    </tr>\n",
              "    <tr>\n",
              "      <th>1</th>\n",
              "      <td>1</td>\n",
              "      <td>28</td>\n",
              "      <td>2800</td>\n",
              "      <td>1</td>\n",
              "      <td>2</td>\n",
              "      <td>388.8280</td>\n",
              "      <td>4</td>\n",
              "      <td>2016</td>\n",
              "      <td>217</td>\n",
              "      <td>1</td>\n",
              "      <td>...</td>\n",
              "      <td></td>\n",
              "      <td></td>\n",
              "      <td></td>\n",
              "      <td></td>\n",
              "      <td></td>\n",
              "      <td></td>\n",
              "      <td></td>\n",
              "      <td>1</td>\n",
              "      <td>01</td>\n",
              "      <td>1</td>\n",
              "    </tr>\n",
              "    <tr>\n",
              "      <th>2</th>\n",
              "      <td>1</td>\n",
              "      <td>28</td>\n",
              "      <td>2800</td>\n",
              "      <td>1</td>\n",
              "      <td>2</td>\n",
              "      <td>406.1194</td>\n",
              "      <td>4</td>\n",
              "      <td>2016</td>\n",
              "      <td>217</td>\n",
              "      <td>1</td>\n",
              "      <td>...</td>\n",
              "      <td></td>\n",
              "      <td></td>\n",
              "      <td></td>\n",
              "      <td></td>\n",
              "      <td></td>\n",
              "      <td></td>\n",
              "      <td></td>\n",
              "      <td>1</td>\n",
              "      <td>01</td>\n",
              "      <td>1</td>\n",
              "    </tr>\n",
              "    <tr>\n",
              "      <th>3</th>\n",
              "      <td>1</td>\n",
              "      <td>28</td>\n",
              "      <td>2800</td>\n",
              "      <td>2</td>\n",
              "      <td>2</td>\n",
              "      <td>405.2219</td>\n",
              "      <td>4</td>\n",
              "      <td>2016</td>\n",
              "      <td>217</td>\n",
              "      <td>1</td>\n",
              "      <td>...</td>\n",
              "      <td></td>\n",
              "      <td></td>\n",
              "      <td></td>\n",
              "      <td></td>\n",
              "      <td></td>\n",
              "      <td></td>\n",
              "      <td></td>\n",
              "      <td>1</td>\n",
              "      <td>01</td>\n",
              "      <td>1</td>\n",
              "    </tr>\n",
              "    <tr>\n",
              "      <th>4</th>\n",
              "      <td>1</td>\n",
              "      <td>28</td>\n",
              "      <td>2800</td>\n",
              "      <td>2</td>\n",
              "      <td>2</td>\n",
              "      <td>384.3556</td>\n",
              "      <td>4</td>\n",
              "      <td>2016</td>\n",
              "      <td>217</td>\n",
              "      <td>1</td>\n",
              "      <td>...</td>\n",
              "      <td></td>\n",
              "      <td></td>\n",
              "      <td></td>\n",
              "      <td></td>\n",
              "      <td></td>\n",
              "      <td></td>\n",
              "      <td></td>\n",
              "      <td>1</td>\n",
              "      <td>96</td>\n",
              "      <td>1</td>\n",
              "    </tr>\n",
              "  </tbody>\n",
              "</table>\n",
              "<p>5 rows × 50 columns</p>\n",
              "</div>"
            ],
            "text/plain": [
              "   PUFREG  PUFPRV  PUFPRRCD  PUFHHNUM  PUFURB2K10  PUFPWGTFIN  PUFSVYMO  \\\n",
              "0       1      28      2800         1           2    405.2219         4   \n",
              "1       1      28      2800         1           2    388.8280         4   \n",
              "2       1      28      2800         1           2    406.1194         4   \n",
              "3       1      28      2800         2           2    405.2219         4   \n",
              "4       1      28      2800         2           2    384.3556         4   \n",
              "\n",
              "   PUFSVYYR  PUFPSU  PUFRPL  ...  PUFC33_WEEKS  PUFC34_WYNOT  PUFC35_LTLOOKW  \\\n",
              "0      2016     217       1  ...                                               \n",
              "1      2016     217       1  ...                                               \n",
              "2      2016     217       1  ...                                               \n",
              "3      2016     217       1  ...                                               \n",
              "4      2016     217       1  ...                                               \n",
              "\n",
              "   PUFC36_AVAIL  PUFC37_WILLING PUFC38_PREVJOB PUFC40_POCC PUFC41_WQTR  \\\n",
              "0                                                                    1   \n",
              "1                                                                    1   \n",
              "2                                                                    1   \n",
              "3                                                                    1   \n",
              "4                                                                    1   \n",
              "\n",
              "  PUFC43_QKB PUFNEWEMPSTAT  \n",
              "0         01             1  \n",
              "1         01             1  \n",
              "2         01             1  \n",
              "3         01             1  \n",
              "4         96             1  \n",
              "\n",
              "[5 rows x 50 columns]"
            ]
          },
          "execution_count": 257,
          "metadata": {},
          "output_type": "execute_result"
        }
      ],
      "source": [
        "lfs_df = pd.read_csv('./data/LFS PUF April 2016.csv')\n",
        "lfs_df.head()"
      ]
    },
    {
      "cell_type": "code",
      "execution_count": 258,
      "metadata": {},
      "outputs": [
        {
          "name": "stdout",
          "output_type": "stream",
          "text": [
            "<class 'pandas.core.frame.DataFrame'>\n",
            "RangeIndex: 180862 entries, 0 to 180861\n",
            "Data columns (total 50 columns):\n",
            " #   Column           Non-Null Count   Dtype  \n",
            "---  ------           --------------   -----  \n",
            " 0   PUFREG           180862 non-null  int64  \n",
            " 1   PUFPRV           180862 non-null  int64  \n",
            " 2   PUFPRRCD         180862 non-null  int64  \n",
            " 3   PUFHHNUM         180862 non-null  int64  \n",
            " 4   PUFURB2K10       180862 non-null  int64  \n",
            " 5   PUFPWGTFIN       180862 non-null  float64\n",
            " 6   PUFSVYMO         180862 non-null  int64  \n",
            " 7   PUFSVYYR         180862 non-null  int64  \n",
            " 8   PUFPSU           180862 non-null  int64  \n",
            " 9   PUFRPL           180862 non-null  int64  \n",
            " 10  PUFHHSIZE        180862 non-null  int64  \n",
            " 11  PUFC01_LNO       180862 non-null  int64  \n",
            " 12  PUFC03_REL       180862 non-null  int64  \n",
            " 13  PUFC04_SEX       180862 non-null  int64  \n",
            " 14  PUFC05_AGE       180862 non-null  int64  \n",
            " 15  PUFC06_MSTAT     180862 non-null  object \n",
            " 16  PUFC07_GRADE     180862 non-null  object \n",
            " 17  PUFC08_CURSCH    180862 non-null  object \n",
            " 18  PUFC09_GRADTECH  180862 non-null  object \n",
            " 19  PUFC10_CONWR     180862 non-null  object \n",
            " 20  PUFC11_WORK      180862 non-null  object \n",
            " 21  PUFC12_JOB       180862 non-null  object \n",
            " 22  PUFC14_PROCC     180862 non-null  object \n",
            " 23  PUFC16_PKB       180862 non-null  object \n",
            " 24  PUFC17_NATEM     180862 non-null  object \n",
            " 25  PUFC18_PNWHRS    180862 non-null  object \n",
            " 26  PUFC19_PHOURS    180862 non-null  object \n",
            " 27  PUFC20_PWMORE    180862 non-null  object \n",
            " 28  PUFC21_PLADDW    180862 non-null  object \n",
            " 29  PUFC22_PFWRK     180862 non-null  object \n",
            " 30  PUFC23_PCLASS    180862 non-null  object \n",
            " 31  PUFC24_PBASIS    180862 non-null  object \n",
            " 32  PUFC25_PBASIC    180862 non-null  object \n",
            " 33  PUFC26_OJOB      180862 non-null  object \n",
            " 34  PUFC27_NJOBS     180862 non-null  object \n",
            " 35  PUFC28_THOURS    180862 non-null  object \n",
            " 36  PUFC29_WWM48H    180862 non-null  object \n",
            " 37  PUFC30_LOOKW     180862 non-null  object \n",
            " 38  PUFC31_FLWRK     180862 non-null  object \n",
            " 39  PUFC32_JOBSM     180862 non-null  object \n",
            " 40  PUFC33_WEEKS     180862 non-null  object \n",
            " 41  PUFC34_WYNOT     180862 non-null  object \n",
            " 42  PUFC35_LTLOOKW   180862 non-null  object \n",
            " 43  PUFC36_AVAIL     180862 non-null  object \n",
            " 44  PUFC37_WILLING   180862 non-null  object \n",
            " 45  PUFC38_PREVJOB   180862 non-null  object \n",
            " 46  PUFC40_POCC      180862 non-null  object \n",
            " 47  PUFC41_WQTR      180862 non-null  object \n",
            " 48  PUFC43_QKB       180862 non-null  object \n",
            " 49  PUFNEWEMPSTAT    180862 non-null  object \n",
            "dtypes: float64(1), int64(14), object(35)\n",
            "memory usage: 69.0+ MB\n",
            "\n",
            "Number of entries/instances: 180862\n",
            "Number of columns: 50\n"
          ]
        }
      ],
      "source": [
        "lfs_df.info()\n",
        "\n",
        "print(\"\\nNumber of entries/instances:\",len(lfs_df)) # shows how many entries/instances\n",
        "print(\"Number of columns:\",len(lfs_df.columns))     # shows how many columns"
      ]
    },
    {
      "cell_type": "markdown",
      "metadata": {},
      "source": [
        "To start with the data cleaning, we first need to exclude the variables we will not be working with. We will save the **filtered dataset** as jobs_df.\n",
        "\n",
        "<span style=\"background-color:green\">*//explain why we removed*</style>"
      ]
    },
    {
      "cell_type": "code",
      "execution_count": 259,
      "metadata": {},
      "outputs": [
        {
          "name": "stdout",
          "output_type": "stream",
          "text": [
            "<class 'pandas.core.frame.DataFrame'>\n",
            "RangeIndex: 180862 entries, 0 to 180861\n",
            "Data columns (total 42 columns):\n",
            " #   Column           Non-Null Count   Dtype \n",
            "---  ------           --------------   ----- \n",
            " 0   PUFREG           180862 non-null  int64 \n",
            " 1   PUFURB2K10       180862 non-null  int64 \n",
            " 2   PUFHHSIZE        180862 non-null  int64 \n",
            " 3   PUFC01_LNO       180862 non-null  int64 \n",
            " 4   PUFC03_REL       180862 non-null  int64 \n",
            " 5   PUFC04_SEX       180862 non-null  int64 \n",
            " 6   PUFC05_AGE       180862 non-null  int64 \n",
            " 7   PUFC06_MSTAT     180862 non-null  object\n",
            " 8   PUFC07_GRADE     180862 non-null  object\n",
            " 9   PUFC08_CURSCH    180862 non-null  object\n",
            " 10  PUFC09_GRADTECH  180862 non-null  object\n",
            " 11  PUFC10_CONWR     180862 non-null  object\n",
            " 12  PUFC11_WORK      180862 non-null  object\n",
            " 13  PUFC12_JOB       180862 non-null  object\n",
            " 14  PUFC14_PROCC     180862 non-null  object\n",
            " 15  PUFC16_PKB       180862 non-null  object\n",
            " 16  PUFC17_NATEM     180862 non-null  object\n",
            " 17  PUFC18_PNWHRS    180862 non-null  object\n",
            " 18  PUFC19_PHOURS    180862 non-null  object\n",
            " 19  PUFC20_PWMORE    180862 non-null  object\n",
            " 20  PUFC21_PLADDW    180862 non-null  object\n",
            " 21  PUFC22_PFWRK     180862 non-null  object\n",
            " 22  PUFC23_PCLASS    180862 non-null  object\n",
            " 23  PUFC24_PBASIS    180862 non-null  object\n",
            " 24  PUFC25_PBASIC    180862 non-null  object\n",
            " 25  PUFC26_OJOB      180862 non-null  object\n",
            " 26  PUFC27_NJOBS     180862 non-null  object\n",
            " 27  PUFC28_THOURS    180862 non-null  object\n",
            " 28  PUFC29_WWM48H    180862 non-null  object\n",
            " 29  PUFC30_LOOKW     180862 non-null  object\n",
            " 30  PUFC31_FLWRK     180862 non-null  object\n",
            " 31  PUFC32_JOBSM     180862 non-null  object\n",
            " 32  PUFC33_WEEKS     180862 non-null  object\n",
            " 33  PUFC34_WYNOT     180862 non-null  object\n",
            " 34  PUFC35_LTLOOKW   180862 non-null  object\n",
            " 35  PUFC36_AVAIL     180862 non-null  object\n",
            " 36  PUFC37_WILLING   180862 non-null  object\n",
            " 37  PUFC38_PREVJOB   180862 non-null  object\n",
            " 38  PUFC40_POCC      180862 non-null  object\n",
            " 39  PUFC41_WQTR      180862 non-null  object\n",
            " 40  PUFC43_QKB       180862 non-null  object\n",
            " 41  PUFNEWEMPSTAT    180862 non-null  object\n",
            "dtypes: int64(7), object(35)\n",
            "memory usage: 58.0+ MB\n"
          ]
        }
      ],
      "source": [
        "exclude_vars = ['PUFSVYMO', 'PUFSVYYR', 'PUFPSU', 'PUFRPL', 'PUFPWGTFIN', 'PUFPRV', 'PUFPRRCD', 'PUFHHNUM']\n",
        "jobs_df = lfs_df.drop(columns=exclude_vars).copy()\n",
        "jobs_df.info()"
      ]
    },
    {
      "cell_type": "markdown",
      "metadata": {
        "id": "YfA0qZxuGuFo"
      },
      "source": [
        "First, we check for duplicate data or NaN values in the original dataframe before grouping the selected variables together."
      ]
    },
    {
      "cell_type": "code",
      "execution_count": 260,
      "metadata": {
        "colab": {
          "base_uri": "https://localhost:8080/"
        },
        "id": "yEggJikiGuFo",
        "outputId": "3a56cbdc-e57d-4f15-94bd-a3433abc02cd"
      },
      "outputs": [
        {
          "data": {
            "text/plain": [
              "np.int64(24768)"
            ]
          },
          "execution_count": 260,
          "metadata": {},
          "output_type": "execute_result"
        }
      ],
      "source": [
        "duplicate_count = jobs_df.duplicated().sum()\n",
        "duplicate_count"
      ]
    },
    {
      "cell_type": "code",
      "execution_count": 261,
      "metadata": {
        "colab": {
          "base_uri": "https://localhost:8080/",
          "height": 1000
        },
        "id": "SKQwIDbiGuFo",
        "outputId": "5e53b228-bde0-4344-8be2-aaeea9146293"
      },
      "outputs": [
        {
          "data": {
            "text/plain": [
              "PUFREG             0\n",
              "PUFURB2K10         0\n",
              "PUFHHSIZE          0\n",
              "PUFC01_LNO         0\n",
              "PUFC03_REL         0\n",
              "PUFC04_SEX         0\n",
              "PUFC05_AGE         0\n",
              "PUFC06_MSTAT       0\n",
              "PUFC07_GRADE       0\n",
              "PUFC08_CURSCH      0\n",
              "PUFC09_GRADTECH    0\n",
              "PUFC10_CONWR       0\n",
              "PUFC11_WORK        0\n",
              "PUFC12_JOB         0\n",
              "PUFC14_PROCC       0\n",
              "PUFC16_PKB         0\n",
              "PUFC17_NATEM       0\n",
              "PUFC18_PNWHRS      0\n",
              "PUFC19_PHOURS      0\n",
              "PUFC20_PWMORE      0\n",
              "PUFC21_PLADDW      0\n",
              "PUFC22_PFWRK       0\n",
              "PUFC23_PCLASS      0\n",
              "PUFC24_PBASIS      0\n",
              "PUFC25_PBASIC      0\n",
              "PUFC26_OJOB        0\n",
              "PUFC27_NJOBS       0\n",
              "PUFC28_THOURS      0\n",
              "PUFC29_WWM48H      0\n",
              "PUFC30_LOOKW       0\n",
              "PUFC31_FLWRK       0\n",
              "PUFC32_JOBSM       0\n",
              "PUFC33_WEEKS       0\n",
              "PUFC34_WYNOT       0\n",
              "PUFC35_LTLOOKW     0\n",
              "PUFC36_AVAIL       0\n",
              "PUFC37_WILLING     0\n",
              "PUFC38_PREVJOB     0\n",
              "PUFC40_POCC        0\n",
              "PUFC41_WQTR        0\n",
              "PUFC43_QKB         0\n",
              "PUFNEWEMPSTAT      0\n",
              "dtype: int64"
            ]
          },
          "execution_count": 261,
          "metadata": {},
          "output_type": "execute_result"
        }
      ],
      "source": [
        "null_count = jobs_df.isnull().sum()\n",
        "null_count"
      ]
    },
    {
      "cell_type": "markdown",
      "metadata": {
        "id": "J7-psnAYGuFo"
      },
      "source": [
        "There seems to be no duplicates or null values. We can proceed with the cleaning of the individual variables."
      ]
    },
    {
      "cell_type": "code",
      "execution_count": 262,
      "metadata": {
        "colab": {
          "base_uri": "https://localhost:8080/",
          "height": 677
        },
        "id": "ZDhxEmMoGuFo",
        "outputId": "c04670ad-e648-422b-b32d-7f8f6e074957"
      },
      "outputs": [
        {
          "data": {
            "text/html": [
              "<div>\n",
              "<style scoped>\n",
              "    .dataframe tbody tr th:only-of-type {\n",
              "        vertical-align: middle;\n",
              "    }\n",
              "\n",
              "    .dataframe tbody tr th {\n",
              "        vertical-align: top;\n",
              "    }\n",
              "\n",
              "    .dataframe thead th {\n",
              "        text-align: right;\n",
              "    }\n",
              "</style>\n",
              "<table border=\"1\" class=\"dataframe\">\n",
              "  <thead>\n",
              "    <tr style=\"text-align: right;\">\n",
              "      <th></th>\n",
              "      <th>PUFREG</th>\n",
              "      <th>PUFURB2K10</th>\n",
              "      <th>PUFHHSIZE</th>\n",
              "      <th>PUFC01_LNO</th>\n",
              "      <th>PUFC03_REL</th>\n",
              "      <th>PUFC04_SEX</th>\n",
              "      <th>PUFC05_AGE</th>\n",
              "      <th>PUFC06_MSTAT</th>\n",
              "      <th>PUFC07_GRADE</th>\n",
              "      <th>PUFC08_CURSCH</th>\n",
              "      <th>...</th>\n",
              "      <th>PUFC33_WEEKS</th>\n",
              "      <th>PUFC34_WYNOT</th>\n",
              "      <th>PUFC35_LTLOOKW</th>\n",
              "      <th>PUFC36_AVAIL</th>\n",
              "      <th>PUFC37_WILLING</th>\n",
              "      <th>PUFC38_PREVJOB</th>\n",
              "      <th>PUFC40_POCC</th>\n",
              "      <th>PUFC41_WQTR</th>\n",
              "      <th>PUFC43_QKB</th>\n",
              "      <th>PUFNEWEMPSTAT</th>\n",
              "    </tr>\n",
              "  </thead>\n",
              "  <tbody>\n",
              "    <tr>\n",
              "      <th>0</th>\n",
              "      <td>1</td>\n",
              "      <td>2</td>\n",
              "      <td>3</td>\n",
              "      <td>1</td>\n",
              "      <td>1</td>\n",
              "      <td>1</td>\n",
              "      <td>49</td>\n",
              "      <td>2</td>\n",
              "      <td>350</td>\n",
              "      <td></td>\n",
              "      <td>...</td>\n",
              "      <td></td>\n",
              "      <td></td>\n",
              "      <td></td>\n",
              "      <td></td>\n",
              "      <td></td>\n",
              "      <td></td>\n",
              "      <td></td>\n",
              "      <td>1</td>\n",
              "      <td>01</td>\n",
              "      <td>1</td>\n",
              "    </tr>\n",
              "    <tr>\n",
              "      <th>1</th>\n",
              "      <td>1</td>\n",
              "      <td>2</td>\n",
              "      <td>3</td>\n",
              "      <td>2</td>\n",
              "      <td>2</td>\n",
              "      <td>2</td>\n",
              "      <td>61</td>\n",
              "      <td>2</td>\n",
              "      <td>350</td>\n",
              "      <td></td>\n",
              "      <td>...</td>\n",
              "      <td></td>\n",
              "      <td></td>\n",
              "      <td></td>\n",
              "      <td></td>\n",
              "      <td></td>\n",
              "      <td></td>\n",
              "      <td></td>\n",
              "      <td>1</td>\n",
              "      <td>01</td>\n",
              "      <td>1</td>\n",
              "    </tr>\n",
              "    <tr>\n",
              "      <th>2</th>\n",
              "      <td>1</td>\n",
              "      <td>2</td>\n",
              "      <td>3</td>\n",
              "      <td>3</td>\n",
              "      <td>3</td>\n",
              "      <td>1</td>\n",
              "      <td>19</td>\n",
              "      <td>1</td>\n",
              "      <td>350</td>\n",
              "      <td>2</td>\n",
              "      <td>...</td>\n",
              "      <td></td>\n",
              "      <td></td>\n",
              "      <td></td>\n",
              "      <td></td>\n",
              "      <td></td>\n",
              "      <td></td>\n",
              "      <td></td>\n",
              "      <td>1</td>\n",
              "      <td>01</td>\n",
              "      <td>1</td>\n",
              "    </tr>\n",
              "    <tr>\n",
              "      <th>3</th>\n",
              "      <td>1</td>\n",
              "      <td>2</td>\n",
              "      <td>4</td>\n",
              "      <td>1</td>\n",
              "      <td>1</td>\n",
              "      <td>1</td>\n",
              "      <td>48</td>\n",
              "      <td>2</td>\n",
              "      <td>320</td>\n",
              "      <td></td>\n",
              "      <td>...</td>\n",
              "      <td></td>\n",
              "      <td></td>\n",
              "      <td></td>\n",
              "      <td></td>\n",
              "      <td></td>\n",
              "      <td></td>\n",
              "      <td></td>\n",
              "      <td>1</td>\n",
              "      <td>01</td>\n",
              "      <td>1</td>\n",
              "    </tr>\n",
              "    <tr>\n",
              "      <th>4</th>\n",
              "      <td>1</td>\n",
              "      <td>2</td>\n",
              "      <td>4</td>\n",
              "      <td>2</td>\n",
              "      <td>2</td>\n",
              "      <td>2</td>\n",
              "      <td>41</td>\n",
              "      <td>2</td>\n",
              "      <td>350</td>\n",
              "      <td></td>\n",
              "      <td>...</td>\n",
              "      <td></td>\n",
              "      <td></td>\n",
              "      <td></td>\n",
              "      <td></td>\n",
              "      <td></td>\n",
              "      <td></td>\n",
              "      <td></td>\n",
              "      <td>1</td>\n",
              "      <td>96</td>\n",
              "      <td>1</td>\n",
              "    </tr>\n",
              "    <tr>\n",
              "      <th>5</th>\n",
              "      <td>1</td>\n",
              "      <td>2</td>\n",
              "      <td>4</td>\n",
              "      <td>3</td>\n",
              "      <td>3</td>\n",
              "      <td>1</td>\n",
              "      <td>20</td>\n",
              "      <td>1</td>\n",
              "      <td>350</td>\n",
              "      <td>2</td>\n",
              "      <td>...</td>\n",
              "      <td></td>\n",
              "      <td></td>\n",
              "      <td></td>\n",
              "      <td></td>\n",
              "      <td></td>\n",
              "      <td></td>\n",
              "      <td></td>\n",
              "      <td>1</td>\n",
              "      <td>01</td>\n",
              "      <td>1</td>\n",
              "    </tr>\n",
              "    <tr>\n",
              "      <th>6</th>\n",
              "      <td>1</td>\n",
              "      <td>2</td>\n",
              "      <td>4</td>\n",
              "      <td>4</td>\n",
              "      <td>3</td>\n",
              "      <td>2</td>\n",
              "      <td>15</td>\n",
              "      <td>1</td>\n",
              "      <td>320</td>\n",
              "      <td>1</td>\n",
              "      <td>...</td>\n",
              "      <td></td>\n",
              "      <td>8</td>\n",
              "      <td></td>\n",
              "      <td></td>\n",
              "      <td></td>\n",
              "      <td>2</td>\n",
              "      <td></td>\n",
              "      <td></td>\n",
              "      <td></td>\n",
              "      <td>3</td>\n",
              "    </tr>\n",
              "    <tr>\n",
              "      <th>7</th>\n",
              "      <td>1</td>\n",
              "      <td>2</td>\n",
              "      <td>4</td>\n",
              "      <td>1</td>\n",
              "      <td>1</td>\n",
              "      <td>1</td>\n",
              "      <td>59</td>\n",
              "      <td>2</td>\n",
              "      <td>350</td>\n",
              "      <td></td>\n",
              "      <td>...</td>\n",
              "      <td></td>\n",
              "      <td></td>\n",
              "      <td></td>\n",
              "      <td></td>\n",
              "      <td></td>\n",
              "      <td></td>\n",
              "      <td></td>\n",
              "      <td>1</td>\n",
              "      <td>01</td>\n",
              "      <td>1</td>\n",
              "    </tr>\n",
              "    <tr>\n",
              "      <th>8</th>\n",
              "      <td>1</td>\n",
              "      <td>2</td>\n",
              "      <td>4</td>\n",
              "      <td>2</td>\n",
              "      <td>2</td>\n",
              "      <td>2</td>\n",
              "      <td>61</td>\n",
              "      <td>2</td>\n",
              "      <td>350</td>\n",
              "      <td></td>\n",
              "      <td>...</td>\n",
              "      <td></td>\n",
              "      <td></td>\n",
              "      <td></td>\n",
              "      <td></td>\n",
              "      <td></td>\n",
              "      <td></td>\n",
              "      <td></td>\n",
              "      <td>1</td>\n",
              "      <td>84</td>\n",
              "      <td>1</td>\n",
              "    </tr>\n",
              "    <tr>\n",
              "      <th>9</th>\n",
              "      <td>1</td>\n",
              "      <td>2</td>\n",
              "      <td>4</td>\n",
              "      <td>3</td>\n",
              "      <td>6</td>\n",
              "      <td>2</td>\n",
              "      <td>11</td>\n",
              "      <td>1</td>\n",
              "      <td>250</td>\n",
              "      <td>1</td>\n",
              "      <td>...</td>\n",
              "      <td></td>\n",
              "      <td></td>\n",
              "      <td></td>\n",
              "      <td></td>\n",
              "      <td></td>\n",
              "      <td></td>\n",
              "      <td></td>\n",
              "      <td></td>\n",
              "      <td></td>\n",
              "      <td></td>\n",
              "    </tr>\n",
              "    <tr>\n",
              "      <th>10</th>\n",
              "      <td>1</td>\n",
              "      <td>2</td>\n",
              "      <td>4</td>\n",
              "      <td>4</td>\n",
              "      <td>6</td>\n",
              "      <td>2</td>\n",
              "      <td>2</td>\n",
              "      <td></td>\n",
              "      <td></td>\n",
              "      <td></td>\n",
              "      <td>...</td>\n",
              "      <td></td>\n",
              "      <td></td>\n",
              "      <td></td>\n",
              "      <td></td>\n",
              "      <td></td>\n",
              "      <td></td>\n",
              "      <td></td>\n",
              "      <td></td>\n",
              "      <td></td>\n",
              "      <td></td>\n",
              "    </tr>\n",
              "    <tr>\n",
              "      <th>11</th>\n",
              "      <td>1</td>\n",
              "      <td>2</td>\n",
              "      <td>4</td>\n",
              "      <td>1</td>\n",
              "      <td>1</td>\n",
              "      <td>1</td>\n",
              "      <td>51</td>\n",
              "      <td>2</td>\n",
              "      <td>350</td>\n",
              "      <td></td>\n",
              "      <td>...</td>\n",
              "      <td></td>\n",
              "      <td></td>\n",
              "      <td></td>\n",
              "      <td></td>\n",
              "      <td></td>\n",
              "      <td></td>\n",
              "      <td></td>\n",
              "      <td>1</td>\n",
              "      <td>49</td>\n",
              "      <td>1</td>\n",
              "    </tr>\n",
              "    <tr>\n",
              "      <th>12</th>\n",
              "      <td>1</td>\n",
              "      <td>2</td>\n",
              "      <td>4</td>\n",
              "      <td>2</td>\n",
              "      <td>2</td>\n",
              "      <td>2</td>\n",
              "      <td>51</td>\n",
              "      <td>2</td>\n",
              "      <td>622</td>\n",
              "      <td></td>\n",
              "      <td>...</td>\n",
              "      <td></td>\n",
              "      <td>7</td>\n",
              "      <td></td>\n",
              "      <td></td>\n",
              "      <td></td>\n",
              "      <td>1</td>\n",
              "      <td>52</td>\n",
              "      <td>2</td>\n",
              "      <td></td>\n",
              "      <td>3</td>\n",
              "    </tr>\n",
              "    <tr>\n",
              "      <th>13</th>\n",
              "      <td>1</td>\n",
              "      <td>2</td>\n",
              "      <td>4</td>\n",
              "      <td>3</td>\n",
              "      <td>3</td>\n",
              "      <td>1</td>\n",
              "      <td>26</td>\n",
              "      <td>1</td>\n",
              "      <td>672</td>\n",
              "      <td></td>\n",
              "      <td>...</td>\n",
              "      <td></td>\n",
              "      <td>2</td>\n",
              "      <td>3</td>\n",
              "      <td>1</td>\n",
              "      <td>1</td>\n",
              "      <td>2</td>\n",
              "      <td></td>\n",
              "      <td></td>\n",
              "      <td></td>\n",
              "      <td>2</td>\n",
              "    </tr>\n",
              "    <tr>\n",
              "      <th>14</th>\n",
              "      <td>1</td>\n",
              "      <td>2</td>\n",
              "      <td>4</td>\n",
              "      <td>4</td>\n",
              "      <td>3</td>\n",
              "      <td>1</td>\n",
              "      <td>23</td>\n",
              "      <td>1</td>\n",
              "      <td>350</td>\n",
              "      <td>2</td>\n",
              "      <td>...</td>\n",
              "      <td></td>\n",
              "      <td></td>\n",
              "      <td></td>\n",
              "      <td></td>\n",
              "      <td></td>\n",
              "      <td></td>\n",
              "      <td></td>\n",
              "      <td>1</td>\n",
              "      <td>80</td>\n",
              "      <td>1</td>\n",
              "    </tr>\n",
              "    <tr>\n",
              "      <th>15</th>\n",
              "      <td>1</td>\n",
              "      <td>2</td>\n",
              "      <td>3</td>\n",
              "      <td>1</td>\n",
              "      <td>1</td>\n",
              "      <td>1</td>\n",
              "      <td>71</td>\n",
              "      <td>2</td>\n",
              "      <td>240</td>\n",
              "      <td></td>\n",
              "      <td>...</td>\n",
              "      <td></td>\n",
              "      <td></td>\n",
              "      <td></td>\n",
              "      <td></td>\n",
              "      <td></td>\n",
              "      <td></td>\n",
              "      <td></td>\n",
              "      <td>1</td>\n",
              "      <td>41</td>\n",
              "      <td>1</td>\n",
              "    </tr>\n",
              "    <tr>\n",
              "      <th>16</th>\n",
              "      <td>1</td>\n",
              "      <td>2</td>\n",
              "      <td>3</td>\n",
              "      <td>2</td>\n",
              "      <td>2</td>\n",
              "      <td>2</td>\n",
              "      <td>54</td>\n",
              "      <td>2</td>\n",
              "      <td>220</td>\n",
              "      <td></td>\n",
              "      <td>...</td>\n",
              "      <td></td>\n",
              "      <td></td>\n",
              "      <td></td>\n",
              "      <td></td>\n",
              "      <td></td>\n",
              "      <td></td>\n",
              "      <td></td>\n",
              "      <td>1</td>\n",
              "      <td>96</td>\n",
              "      <td>1</td>\n",
              "    </tr>\n",
              "    <tr>\n",
              "      <th>17</th>\n",
              "      <td>1</td>\n",
              "      <td>2</td>\n",
              "      <td>3</td>\n",
              "      <td>3</td>\n",
              "      <td>3</td>\n",
              "      <td>1</td>\n",
              "      <td>27</td>\n",
              "      <td>1</td>\n",
              "      <td>614</td>\n",
              "      <td></td>\n",
              "      <td>...</td>\n",
              "      <td></td>\n",
              "      <td></td>\n",
              "      <td></td>\n",
              "      <td></td>\n",
              "      <td></td>\n",
              "      <td></td>\n",
              "      <td></td>\n",
              "      <td>1</td>\n",
              "      <td>84</td>\n",
              "      <td>1</td>\n",
              "    </tr>\n",
              "    <tr>\n",
              "      <th>18</th>\n",
              "      <td>1</td>\n",
              "      <td>2</td>\n",
              "      <td>5</td>\n",
              "      <td>1</td>\n",
              "      <td>1</td>\n",
              "      <td>1</td>\n",
              "      <td>46</td>\n",
              "      <td>2</td>\n",
              "      <td>330</td>\n",
              "      <td></td>\n",
              "      <td>...</td>\n",
              "      <td></td>\n",
              "      <td></td>\n",
              "      <td></td>\n",
              "      <td></td>\n",
              "      <td></td>\n",
              "      <td></td>\n",
              "      <td></td>\n",
              "      <td>1</td>\n",
              "      <td>41</td>\n",
              "      <td>1</td>\n",
              "    </tr>\n",
              "    <tr>\n",
              "      <th>19</th>\n",
              "      <td>1</td>\n",
              "      <td>2</td>\n",
              "      <td>5</td>\n",
              "      <td>2</td>\n",
              "      <td>2</td>\n",
              "      <td>2</td>\n",
              "      <td>46</td>\n",
              "      <td>2</td>\n",
              "      <td>350</td>\n",
              "      <td></td>\n",
              "      <td>...</td>\n",
              "      <td></td>\n",
              "      <td>7</td>\n",
              "      <td></td>\n",
              "      <td></td>\n",
              "      <td></td>\n",
              "      <td>2</td>\n",
              "      <td></td>\n",
              "      <td></td>\n",
              "      <td></td>\n",
              "      <td>3</td>\n",
              "    </tr>\n",
              "  </tbody>\n",
              "</table>\n",
              "<p>20 rows × 42 columns</p>\n",
              "</div>"
            ],
            "text/plain": [
              "    PUFREG  PUFURB2K10  PUFHHSIZE  PUFC01_LNO  PUFC03_REL  PUFC04_SEX  \\\n",
              "0        1           2          3           1           1           1   \n",
              "1        1           2          3           2           2           2   \n",
              "2        1           2          3           3           3           1   \n",
              "3        1           2          4           1           1           1   \n",
              "4        1           2          4           2           2           2   \n",
              "5        1           2          4           3           3           1   \n",
              "6        1           2          4           4           3           2   \n",
              "7        1           2          4           1           1           1   \n",
              "8        1           2          4           2           2           2   \n",
              "9        1           2          4           3           6           2   \n",
              "10       1           2          4           4           6           2   \n",
              "11       1           2          4           1           1           1   \n",
              "12       1           2          4           2           2           2   \n",
              "13       1           2          4           3           3           1   \n",
              "14       1           2          4           4           3           1   \n",
              "15       1           2          3           1           1           1   \n",
              "16       1           2          3           2           2           2   \n",
              "17       1           2          3           3           3           1   \n",
              "18       1           2          5           1           1           1   \n",
              "19       1           2          5           2           2           2   \n",
              "\n",
              "    PUFC05_AGE PUFC06_MSTAT PUFC07_GRADE PUFC08_CURSCH  ... PUFC33_WEEKS  \\\n",
              "0           49            2          350                ...                \n",
              "1           61            2          350                ...                \n",
              "2           19            1          350             2  ...                \n",
              "3           48            2          320                ...                \n",
              "4           41            2          350                ...                \n",
              "5           20            1          350             2  ...                \n",
              "6           15            1          320             1  ...                \n",
              "7           59            2          350                ...                \n",
              "8           61            2          350                ...                \n",
              "9           11            1          250             1  ...                \n",
              "10           2                                          ...                \n",
              "11          51            2          350                ...                \n",
              "12          51            2          622                ...                \n",
              "13          26            1          672                ...                \n",
              "14          23            1          350             2  ...                \n",
              "15          71            2          240                ...                \n",
              "16          54            2          220                ...                \n",
              "17          27            1          614                ...                \n",
              "18          46            2          330                ...                \n",
              "19          46            2          350                ...                \n",
              "\n",
              "   PUFC34_WYNOT PUFC35_LTLOOKW PUFC36_AVAIL PUFC37_WILLING PUFC38_PREVJOB  \\\n",
              "0                                                                           \n",
              "1                                                                           \n",
              "2                                                                           \n",
              "3                                                                           \n",
              "4                                                                           \n",
              "5                                                                           \n",
              "6             8                                                         2   \n",
              "7                                                                           \n",
              "8                                                                           \n",
              "9                                                                           \n",
              "10                                                                          \n",
              "11                                                                          \n",
              "12            7                                                         1   \n",
              "13            2              3            1              1              2   \n",
              "14                                                                          \n",
              "15                                                                          \n",
              "16                                                                          \n",
              "17                                                                          \n",
              "18                                                                          \n",
              "19            7                                                         2   \n",
              "\n",
              "   PUFC40_POCC PUFC41_WQTR PUFC43_QKB PUFNEWEMPSTAT  \n",
              "0                        1         01             1  \n",
              "1                        1         01             1  \n",
              "2                        1         01             1  \n",
              "3                        1         01             1  \n",
              "4                        1         96             1  \n",
              "5                        1         01             1  \n",
              "6                                                 3  \n",
              "7                        1         01             1  \n",
              "8                        1         84             1  \n",
              "9                                                    \n",
              "10                                                   \n",
              "11                       1         49             1  \n",
              "12          52           2                        3  \n",
              "13                                                2  \n",
              "14                       1         80             1  \n",
              "15                       1         41             1  \n",
              "16                       1         96             1  \n",
              "17                       1         84             1  \n",
              "18                       1         41             1  \n",
              "19                                                3  \n",
              "\n",
              "[20 rows x 42 columns]"
            ]
          },
          "execution_count": 262,
          "metadata": {},
          "output_type": "execute_result"
        }
      ],
      "source": [
        "jobs_df.head(20)"
      ]
    },
    {
      "cell_type": "markdown",
      "metadata": {
        "id": "zNSNjOCdGuFo"
      },
      "source": [
        "There still seems to be blank values, though, after consulting the valueset, they are the corresponding value to \"not-applicable\" (N/A) answers, which we will change to be more readable in the preprocessing phase."
      ]
    },
    {
      "cell_type": "markdown",
      "metadata": {
        "id": "bPgGRo5vGuFo"
      },
      "source": [
        "## **Binary Categorical Variable Preprocessing**\n",
        "\n",
        "We can start our data cleaning process with binary categorical variables."
      ]
    },
    {
      "cell_type": "markdown",
      "metadata": {
        "id": "GDLV-JSOGuFp"
      },
      "source": [
        "Given these responses and cross referencing these responses with the valueset provided along with the dataset, we are able to first understand what each of these responses mean.\n",
        "\n",
        "* `PUC08_CURSCH` responses represent whether the respondent is currently attending school or not.\n",
        "* `PUFC11_WORK` responses represent whether the respondent has worked in the past week.\n",
        "* `PUFC12_JOB` responses represent whether the respondent had a job in the past week.\n",
        "* `PUFC20_PWMORE` responses represent whether the respondent wants more work hours.\n",
        "* `PUFC21_PLADDW` responses represent whether the respondent has looked for additional work.\n",
        "* `PUFC22_PFWRK` responses represent whether its is the respondent's first time doing any work.\n",
        "* `PUFC26_OJOB`  responses represents whether the respondent currently has another job aside from their primary occupation.\n",
        "* `PUFC30_LOOKW` responses represent whether the respondent has attempted to look for a work/establish a business within the past week. \n",
        "* `PUFC31_FLWRK` responses represent whether it is the respondent's first time searching for work.\n",
        "* `PUFC36_AVAIL` responses represent whether the respondent is available for work. **NOTE**: has no blank option that says \"not applicable\"\n",
        "* `PUFC37_WILLING` responses represent whether the respondent is willing to take up work. \n",
        "* `PUFC38_PREVJOB` responses represent whether the respondent has worked at any time before. **NOTE**: has no blank option that says \"not applicable\"\n",
        "* `PUFC41_WQTR` responses represent whether the respondent has worked or had a job during the past quarter.\n",
        "\n",
        "For all the binary categorical variables, Valueset Excel File dictates that:\n",
        "* 1 = `Yes`\n",
        "* 2 = `No`\n",
        "* blank = `Not Applicable`\n",
        "\n",
        "From this, we can treat all variables with binary categorical outputs the same.\n",
        "\n",
        "Given these representations, we are then able to convert and combine them into 2 distinct responses by combining No(2), and N/A(blank) into No(0), and leaving Yes as Yes(1)."
      ]
    },
    {
      "cell_type": "code",
      "execution_count": 263,
      "metadata": {},
      "outputs": [],
      "source": [
        "binary_categorical = [\n",
        "    \"PUFC08_CURSCH\", \n",
        "    \"PUFC26_OJOB\", \n",
        "    \"PUFC09_GRADTECH\",\n",
        "    \"PUFC11_WORK\",\n",
        "    \"PUFC12_JOB\",\n",
        "    \"PUFC20_PWMORE\",\n",
        "    \"PUFC21_PLADDW\",\n",
        "    \"PUFC22_PFWRK\",\n",
        "    \"PUFC30_LOOKW\", \n",
        "    \"PUFC31_FLWRK\",\n",
        "    \"PUFC36_AVAIL\", \n",
        "    \"PUFC37_WILLING\", \n",
        "    \"PUFC38_PREVJOB\", \n",
        "    \"PUFC41_WQTR\"\n",
        "]"
      ]
    },
    {
      "cell_type": "markdown",
      "metadata": {},
      "source": [
        "Printing the unique values prior to combining No(2) and N/A(blank) into No(0) for each of the binary categorical variables, we can see that the unique values are as follows:"
      ]
    },
    {
      "cell_type": "code",
      "execution_count": 264,
      "metadata": {},
      "outputs": [
        {
          "name": "stdout",
          "output_type": "stream",
          "text": [
            "Variable: PUFC08_CURSCH\n",
            "Unique values: [' ' '2' '1']\n",
            "<class 'pandas.core.series.Series'>\n",
            "RangeIndex: 180862 entries, 0 to 180861\n",
            "Series name: PUFC08_CURSCH\n",
            "Non-Null Count   Dtype \n",
            "--------------   ----- \n",
            "180862 non-null  object\n",
            "dtypes: object(1)\n",
            "memory usage: 1.4+ MB\n",
            "Info: None\n",
            "\n",
            "Variable: PUFC26_OJOB\n",
            "Unique values: ['1' '2' ' ']\n",
            "<class 'pandas.core.series.Series'>\n",
            "RangeIndex: 180862 entries, 0 to 180861\n",
            "Series name: PUFC26_OJOB\n",
            "Non-Null Count   Dtype \n",
            "--------------   ----- \n",
            "180862 non-null  object\n",
            "dtypes: object(1)\n",
            "memory usage: 1.4+ MB\n",
            "Info: None\n",
            "\n",
            "Variable: PUFC09_GRADTECH\n",
            "Unique values: ['2' ' ' '1']\n",
            "<class 'pandas.core.series.Series'>\n",
            "RangeIndex: 180862 entries, 0 to 180861\n",
            "Series name: PUFC09_GRADTECH\n",
            "Non-Null Count   Dtype \n",
            "--------------   ----- \n",
            "180862 non-null  object\n",
            "dtypes: object(1)\n",
            "memory usage: 1.4+ MB\n",
            "Info: None\n",
            "\n",
            "Variable: PUFC11_WORK\n",
            "Unique values: ['1' '2' ' ']\n",
            "<class 'pandas.core.series.Series'>\n",
            "RangeIndex: 180862 entries, 0 to 180861\n",
            "Series name: PUFC11_WORK\n",
            "Non-Null Count   Dtype \n",
            "--------------   ----- \n",
            "180862 non-null  object\n",
            "dtypes: object(1)\n",
            "memory usage: 1.4+ MB\n",
            "Info: None\n",
            "\n",
            "Variable: PUFC12_JOB\n",
            "Unique values: [' ' '2' '1']\n",
            "<class 'pandas.core.series.Series'>\n",
            "RangeIndex: 180862 entries, 0 to 180861\n",
            "Series name: PUFC12_JOB\n",
            "Non-Null Count   Dtype \n",
            "--------------   ----- \n",
            "180862 non-null  object\n",
            "dtypes: object(1)\n",
            "memory usage: 1.4+ MB\n",
            "Info: None\n",
            "\n",
            "Variable: PUFC20_PWMORE\n",
            "Unique values: ['1' '2' ' ']\n",
            "<class 'pandas.core.series.Series'>\n",
            "RangeIndex: 180862 entries, 0 to 180861\n",
            "Series name: PUFC20_PWMORE\n",
            "Non-Null Count   Dtype \n",
            "--------------   ----- \n",
            "180862 non-null  object\n",
            "dtypes: object(1)\n",
            "memory usage: 1.4+ MB\n",
            "Info: None\n",
            "\n",
            "Variable: PUFC21_PLADDW\n",
            "Unique values: ['1' '2' ' ']\n",
            "<class 'pandas.core.series.Series'>\n",
            "RangeIndex: 180862 entries, 0 to 180861\n",
            "Series name: PUFC21_PLADDW\n",
            "Non-Null Count   Dtype \n",
            "--------------   ----- \n",
            "180862 non-null  object\n",
            "dtypes: object(1)\n",
            "memory usage: 1.4+ MB\n",
            "Info: None\n",
            "\n",
            "Variable: PUFC22_PFWRK\n",
            "Unique values: ['2' ' ' '1']\n",
            "<class 'pandas.core.series.Series'>\n",
            "RangeIndex: 180862 entries, 0 to 180861\n",
            "Series name: PUFC22_PFWRK\n",
            "Non-Null Count   Dtype \n",
            "--------------   ----- \n",
            "180862 non-null  object\n",
            "dtypes: object(1)\n",
            "memory usage: 1.4+ MB\n",
            "Info: None\n",
            "\n",
            "Variable: PUFC30_LOOKW\n",
            "Unique values: [' ' '2' '1']\n",
            "<class 'pandas.core.series.Series'>\n",
            "RangeIndex: 180862 entries, 0 to 180861\n",
            "Series name: PUFC30_LOOKW\n",
            "Non-Null Count   Dtype \n",
            "--------------   ----- \n",
            "180862 non-null  object\n",
            "dtypes: object(1)\n",
            "memory usage: 1.4+ MB\n",
            "Info: None\n",
            "\n",
            "Variable: PUFC31_FLWRK\n",
            "Unique values: [' ' '2' '1']\n",
            "<class 'pandas.core.series.Series'>\n",
            "RangeIndex: 180862 entries, 0 to 180861\n",
            "Series name: PUFC31_FLWRK\n",
            "Non-Null Count   Dtype \n",
            "--------------   ----- \n",
            "180862 non-null  object\n",
            "dtypes: object(1)\n",
            "memory usage: 1.4+ MB\n",
            "Info: None\n",
            "\n",
            "Variable: PUFC36_AVAIL\n",
            "Unique values: [' ' '1' '2']\n",
            "<class 'pandas.core.series.Series'>\n",
            "RangeIndex: 180862 entries, 0 to 180861\n",
            "Series name: PUFC36_AVAIL\n",
            "Non-Null Count   Dtype \n",
            "--------------   ----- \n",
            "180862 non-null  object\n",
            "dtypes: object(1)\n",
            "memory usage: 1.4+ MB\n",
            "Info: None\n",
            "\n",
            "Variable: PUFC37_WILLING\n",
            "Unique values: [' ' '1' '2']\n",
            "<class 'pandas.core.series.Series'>\n",
            "RangeIndex: 180862 entries, 0 to 180861\n",
            "Series name: PUFC37_WILLING\n",
            "Non-Null Count   Dtype \n",
            "--------------   ----- \n",
            "180862 non-null  object\n",
            "dtypes: object(1)\n",
            "memory usage: 1.4+ MB\n",
            "Info: None\n",
            "\n",
            "Variable: PUFC38_PREVJOB\n",
            "Unique values: [' ' '2' '1']\n",
            "<class 'pandas.core.series.Series'>\n",
            "RangeIndex: 180862 entries, 0 to 180861\n",
            "Series name: PUFC38_PREVJOB\n",
            "Non-Null Count   Dtype \n",
            "--------------   ----- \n",
            "180862 non-null  object\n",
            "dtypes: object(1)\n",
            "memory usage: 1.4+ MB\n",
            "Info: None\n",
            "\n",
            "Variable: PUFC41_WQTR\n",
            "Unique values: ['1' ' ' '2']\n",
            "<class 'pandas.core.series.Series'>\n",
            "RangeIndex: 180862 entries, 0 to 180861\n",
            "Series name: PUFC41_WQTR\n",
            "Non-Null Count   Dtype \n",
            "--------------   ----- \n",
            "180862 non-null  object\n",
            "dtypes: object(1)\n",
            "memory usage: 1.4+ MB\n",
            "Info: None\n",
            "\n"
          ]
        }
      ],
      "source": [
        "for i in binary_categorical:\n",
        "    if i in jobs_df.columns:\n",
        "        print(f\"Variable: {i}\")\n",
        "        print(f\"Unique values: {jobs_df[i].unique()}\") # could also use valuecounts()\n",
        "        print(f\"Info: {jobs_df[i].info()}\") # to check dtype\n",
        "        print()"
      ]
    },
    {
      "cell_type": "markdown",
      "metadata": {},
      "source": [
        "Here, we're converting the object data type to string datatype for the binary categorical variables. Then replace the values with the corresponding mapping (i.e. 1-yes, etc.)."
      ]
    },
    {
      "cell_type": "code",
      "execution_count": 265,
      "metadata": {},
      "outputs": [],
      "source": [
        "for column in binary_categorical:\n",
        "    if column in jobs_df.columns:\n",
        "        jobs_df[column] = jobs_df[column].astype('str')\n",
        "        jobs_df[column] = jobs_df[column].replace({\n",
        "            '1': 'yes',\n",
        "            '2': 'no',\n",
        "            ' ': 'no'  # treat whitespace as \"no\"\n",
        "        })"
      ]
    },
    {
      "cell_type": "markdown",
      "metadata": {},
      "source": [
        "We display the counts of each response for each binary categorical variable to ensure that the conversion was successful."
      ]
    },
    {
      "cell_type": "code",
      "execution_count": 266,
      "metadata": {
        "colab": {
          "base_uri": "https://localhost:8080/",
          "height": 424
        },
        "id": "BTySxWKnGuFp",
        "outputId": "499d90c1-fedf-490f-9bce-10a30c73014a"
      },
      "outputs": [
        {
          "name": "stdout",
          "output_type": "stream",
          "text": [
            "Variable: PUFC08_CURSCH\n",
            "Unique values: ['no' 'yes']\n",
            "\n",
            "Variable: PUFC26_OJOB\n",
            "Unique values: ['yes' 'no']\n",
            "\n",
            "Variable: PUFC09_GRADTECH\n",
            "Unique values: ['no' 'yes']\n",
            "\n",
            "Variable: PUFC11_WORK\n",
            "Unique values: ['yes' 'no']\n",
            "\n",
            "Variable: PUFC12_JOB\n",
            "Unique values: ['no' 'yes']\n",
            "\n",
            "Variable: PUFC20_PWMORE\n",
            "Unique values: ['yes' 'no']\n",
            "\n",
            "Variable: PUFC21_PLADDW\n",
            "Unique values: ['yes' 'no']\n",
            "\n",
            "Variable: PUFC22_PFWRK\n",
            "Unique values: ['no' 'yes']\n",
            "\n",
            "Variable: PUFC30_LOOKW\n",
            "Unique values: ['no' 'yes']\n",
            "\n",
            "Variable: PUFC31_FLWRK\n",
            "Unique values: ['no' 'yes']\n",
            "\n",
            "Variable: PUFC36_AVAIL\n",
            "Unique values: ['no' 'yes']\n",
            "\n",
            "Variable: PUFC37_WILLING\n",
            "Unique values: ['no' 'yes']\n",
            "\n",
            "Variable: PUFC38_PREVJOB\n",
            "Unique values: ['no' 'yes']\n",
            "\n",
            "Variable: PUFC41_WQTR\n",
            "Unique values: ['yes' 'no']\n",
            "\n"
          ]
        }
      ],
      "source": [
        "for i in binary_categorical:\n",
        "    if i in jobs_df.columns:\n",
        "        print(f\"Variable: {i}\")\n",
        "        print(f\"Unique values: {jobs_df[i].unique()}\") # could also use valuecounts()\n",
        "        print()"
      ]
    },
    {
      "cell_type": "markdown",
      "metadata": {
        "id": "ZNJc2FhEGuFp"
      },
      "source": [
        "## **Categorical Variable Preprocessing**\n",
        "\n",
        "Now that we've converted the binary category variables into their respective datatypes and responses, we move on to the other categorical variables."
      ]
    },
    {
      "cell_type": "markdown",
      "metadata": {},
      "source": [
        "### Nature of Employment variable\n",
        "\n",
        "Moving on to the variable `PUFC17_NATEM`, which represents the nature of employment of each respondent,\n",
        "* 1 = Permanent Job\n",
        "* 2 = Short-term\n",
        "* 3 = Different employer\n",
        "* blank = Not applicable/no employment\n",
        "\n",
        "Since our aim will be to focus on the respondents who are employed, we drop all respondents who are not employed."
      ]
    },
    {
      "cell_type": "code",
      "execution_count": 267,
      "metadata": {},
      "outputs": [
        {
          "data": {
            "text/html": [
              "<div>\n",
              "<style scoped>\n",
              "    .dataframe tbody tr th:only-of-type {\n",
              "        vertical-align: middle;\n",
              "    }\n",
              "\n",
              "    .dataframe tbody tr th {\n",
              "        vertical-align: top;\n",
              "    }\n",
              "\n",
              "    .dataframe thead th {\n",
              "        text-align: right;\n",
              "    }\n",
              "</style>\n",
              "<table border=\"1\" class=\"dataframe\">\n",
              "  <thead>\n",
              "    <tr style=\"text-align: right;\">\n",
              "      <th></th>\n",
              "      <th>PUFREG</th>\n",
              "      <th>PUFURB2K10</th>\n",
              "      <th>PUFHHSIZE</th>\n",
              "      <th>PUFC01_LNO</th>\n",
              "      <th>PUFC03_REL</th>\n",
              "      <th>PUFC04_SEX</th>\n",
              "      <th>PUFC05_AGE</th>\n",
              "      <th>PUFC06_MSTAT</th>\n",
              "      <th>PUFC07_GRADE</th>\n",
              "      <th>PUFC08_CURSCH</th>\n",
              "      <th>...</th>\n",
              "      <th>PUFC33_WEEKS</th>\n",
              "      <th>PUFC34_WYNOT</th>\n",
              "      <th>PUFC35_LTLOOKW</th>\n",
              "      <th>PUFC36_AVAIL</th>\n",
              "      <th>PUFC37_WILLING</th>\n",
              "      <th>PUFC38_PREVJOB</th>\n",
              "      <th>PUFC40_POCC</th>\n",
              "      <th>PUFC41_WQTR</th>\n",
              "      <th>PUFC43_QKB</th>\n",
              "      <th>PUFNEWEMPSTAT</th>\n",
              "    </tr>\n",
              "  </thead>\n",
              "  <tbody>\n",
              "    <tr>\n",
              "      <th>0</th>\n",
              "      <td>1</td>\n",
              "      <td>2</td>\n",
              "      <td>3</td>\n",
              "      <td>1</td>\n",
              "      <td>1</td>\n",
              "      <td>1</td>\n",
              "      <td>49</td>\n",
              "      <td>2</td>\n",
              "      <td>350</td>\n",
              "      <td>no</td>\n",
              "      <td>...</td>\n",
              "      <td></td>\n",
              "      <td></td>\n",
              "      <td></td>\n",
              "      <td>no</td>\n",
              "      <td>no</td>\n",
              "      <td>no</td>\n",
              "      <td></td>\n",
              "      <td>yes</td>\n",
              "      <td>01</td>\n",
              "      <td>1</td>\n",
              "    </tr>\n",
              "    <tr>\n",
              "      <th>1</th>\n",
              "      <td>1</td>\n",
              "      <td>2</td>\n",
              "      <td>3</td>\n",
              "      <td>2</td>\n",
              "      <td>2</td>\n",
              "      <td>2</td>\n",
              "      <td>61</td>\n",
              "      <td>2</td>\n",
              "      <td>350</td>\n",
              "      <td>no</td>\n",
              "      <td>...</td>\n",
              "      <td></td>\n",
              "      <td></td>\n",
              "      <td></td>\n",
              "      <td>no</td>\n",
              "      <td>no</td>\n",
              "      <td>no</td>\n",
              "      <td></td>\n",
              "      <td>yes</td>\n",
              "      <td>01</td>\n",
              "      <td>1</td>\n",
              "    </tr>\n",
              "    <tr>\n",
              "      <th>2</th>\n",
              "      <td>1</td>\n",
              "      <td>2</td>\n",
              "      <td>3</td>\n",
              "      <td>3</td>\n",
              "      <td>3</td>\n",
              "      <td>1</td>\n",
              "      <td>19</td>\n",
              "      <td>1</td>\n",
              "      <td>350</td>\n",
              "      <td>no</td>\n",
              "      <td>...</td>\n",
              "      <td></td>\n",
              "      <td></td>\n",
              "      <td></td>\n",
              "      <td>no</td>\n",
              "      <td>no</td>\n",
              "      <td>no</td>\n",
              "      <td></td>\n",
              "      <td>yes</td>\n",
              "      <td>01</td>\n",
              "      <td>1</td>\n",
              "    </tr>\n",
              "    <tr>\n",
              "      <th>3</th>\n",
              "      <td>1</td>\n",
              "      <td>2</td>\n",
              "      <td>4</td>\n",
              "      <td>1</td>\n",
              "      <td>1</td>\n",
              "      <td>1</td>\n",
              "      <td>48</td>\n",
              "      <td>2</td>\n",
              "      <td>320</td>\n",
              "      <td>no</td>\n",
              "      <td>...</td>\n",
              "      <td></td>\n",
              "      <td></td>\n",
              "      <td></td>\n",
              "      <td>no</td>\n",
              "      <td>no</td>\n",
              "      <td>no</td>\n",
              "      <td></td>\n",
              "      <td>yes</td>\n",
              "      <td>01</td>\n",
              "      <td>1</td>\n",
              "    </tr>\n",
              "    <tr>\n",
              "      <th>4</th>\n",
              "      <td>1</td>\n",
              "      <td>2</td>\n",
              "      <td>4</td>\n",
              "      <td>2</td>\n",
              "      <td>2</td>\n",
              "      <td>2</td>\n",
              "      <td>41</td>\n",
              "      <td>2</td>\n",
              "      <td>350</td>\n",
              "      <td>no</td>\n",
              "      <td>...</td>\n",
              "      <td></td>\n",
              "      <td></td>\n",
              "      <td></td>\n",
              "      <td>no</td>\n",
              "      <td>no</td>\n",
              "      <td>no</td>\n",
              "      <td></td>\n",
              "      <td>yes</td>\n",
              "      <td>96</td>\n",
              "      <td>1</td>\n",
              "    </tr>\n",
              "    <tr>\n",
              "      <th>5</th>\n",
              "      <td>1</td>\n",
              "      <td>2</td>\n",
              "      <td>4</td>\n",
              "      <td>3</td>\n",
              "      <td>3</td>\n",
              "      <td>1</td>\n",
              "      <td>20</td>\n",
              "      <td>1</td>\n",
              "      <td>350</td>\n",
              "      <td>no</td>\n",
              "      <td>...</td>\n",
              "      <td></td>\n",
              "      <td></td>\n",
              "      <td></td>\n",
              "      <td>no</td>\n",
              "      <td>no</td>\n",
              "      <td>no</td>\n",
              "      <td></td>\n",
              "      <td>yes</td>\n",
              "      <td>01</td>\n",
              "      <td>1</td>\n",
              "    </tr>\n",
              "    <tr>\n",
              "      <th>7</th>\n",
              "      <td>1</td>\n",
              "      <td>2</td>\n",
              "      <td>4</td>\n",
              "      <td>1</td>\n",
              "      <td>1</td>\n",
              "      <td>1</td>\n",
              "      <td>59</td>\n",
              "      <td>2</td>\n",
              "      <td>350</td>\n",
              "      <td>no</td>\n",
              "      <td>...</td>\n",
              "      <td></td>\n",
              "      <td></td>\n",
              "      <td></td>\n",
              "      <td>no</td>\n",
              "      <td>no</td>\n",
              "      <td>no</td>\n",
              "      <td></td>\n",
              "      <td>yes</td>\n",
              "      <td>01</td>\n",
              "      <td>1</td>\n",
              "    </tr>\n",
              "    <tr>\n",
              "      <th>8</th>\n",
              "      <td>1</td>\n",
              "      <td>2</td>\n",
              "      <td>4</td>\n",
              "      <td>2</td>\n",
              "      <td>2</td>\n",
              "      <td>2</td>\n",
              "      <td>61</td>\n",
              "      <td>2</td>\n",
              "      <td>350</td>\n",
              "      <td>no</td>\n",
              "      <td>...</td>\n",
              "      <td></td>\n",
              "      <td></td>\n",
              "      <td></td>\n",
              "      <td>no</td>\n",
              "      <td>no</td>\n",
              "      <td>no</td>\n",
              "      <td></td>\n",
              "      <td>yes</td>\n",
              "      <td>84</td>\n",
              "      <td>1</td>\n",
              "    </tr>\n",
              "    <tr>\n",
              "      <th>11</th>\n",
              "      <td>1</td>\n",
              "      <td>2</td>\n",
              "      <td>4</td>\n",
              "      <td>1</td>\n",
              "      <td>1</td>\n",
              "      <td>1</td>\n",
              "      <td>51</td>\n",
              "      <td>2</td>\n",
              "      <td>350</td>\n",
              "      <td>no</td>\n",
              "      <td>...</td>\n",
              "      <td></td>\n",
              "      <td></td>\n",
              "      <td></td>\n",
              "      <td>no</td>\n",
              "      <td>no</td>\n",
              "      <td>no</td>\n",
              "      <td></td>\n",
              "      <td>yes</td>\n",
              "      <td>49</td>\n",
              "      <td>1</td>\n",
              "    </tr>\n",
              "    <tr>\n",
              "      <th>14</th>\n",
              "      <td>1</td>\n",
              "      <td>2</td>\n",
              "      <td>4</td>\n",
              "      <td>4</td>\n",
              "      <td>3</td>\n",
              "      <td>1</td>\n",
              "      <td>23</td>\n",
              "      <td>1</td>\n",
              "      <td>350</td>\n",
              "      <td>no</td>\n",
              "      <td>...</td>\n",
              "      <td></td>\n",
              "      <td></td>\n",
              "      <td></td>\n",
              "      <td>no</td>\n",
              "      <td>no</td>\n",
              "      <td>no</td>\n",
              "      <td></td>\n",
              "      <td>yes</td>\n",
              "      <td>80</td>\n",
              "      <td>1</td>\n",
              "    </tr>\n",
              "    <tr>\n",
              "      <th>15</th>\n",
              "      <td>1</td>\n",
              "      <td>2</td>\n",
              "      <td>3</td>\n",
              "      <td>1</td>\n",
              "      <td>1</td>\n",
              "      <td>1</td>\n",
              "      <td>71</td>\n",
              "      <td>2</td>\n",
              "      <td>240</td>\n",
              "      <td>no</td>\n",
              "      <td>...</td>\n",
              "      <td></td>\n",
              "      <td></td>\n",
              "      <td></td>\n",
              "      <td>no</td>\n",
              "      <td>no</td>\n",
              "      <td>no</td>\n",
              "      <td></td>\n",
              "      <td>yes</td>\n",
              "      <td>41</td>\n",
              "      <td>1</td>\n",
              "    </tr>\n",
              "    <tr>\n",
              "      <th>16</th>\n",
              "      <td>1</td>\n",
              "      <td>2</td>\n",
              "      <td>3</td>\n",
              "      <td>2</td>\n",
              "      <td>2</td>\n",
              "      <td>2</td>\n",
              "      <td>54</td>\n",
              "      <td>2</td>\n",
              "      <td>220</td>\n",
              "      <td>no</td>\n",
              "      <td>...</td>\n",
              "      <td></td>\n",
              "      <td></td>\n",
              "      <td></td>\n",
              "      <td>no</td>\n",
              "      <td>no</td>\n",
              "      <td>no</td>\n",
              "      <td></td>\n",
              "      <td>yes</td>\n",
              "      <td>96</td>\n",
              "      <td>1</td>\n",
              "    </tr>\n",
              "    <tr>\n",
              "      <th>17</th>\n",
              "      <td>1</td>\n",
              "      <td>2</td>\n",
              "      <td>3</td>\n",
              "      <td>3</td>\n",
              "      <td>3</td>\n",
              "      <td>1</td>\n",
              "      <td>27</td>\n",
              "      <td>1</td>\n",
              "      <td>614</td>\n",
              "      <td>no</td>\n",
              "      <td>...</td>\n",
              "      <td></td>\n",
              "      <td></td>\n",
              "      <td></td>\n",
              "      <td>no</td>\n",
              "      <td>no</td>\n",
              "      <td>no</td>\n",
              "      <td></td>\n",
              "      <td>yes</td>\n",
              "      <td>84</td>\n",
              "      <td>1</td>\n",
              "    </tr>\n",
              "    <tr>\n",
              "      <th>18</th>\n",
              "      <td>1</td>\n",
              "      <td>2</td>\n",
              "      <td>5</td>\n",
              "      <td>1</td>\n",
              "      <td>1</td>\n",
              "      <td>1</td>\n",
              "      <td>46</td>\n",
              "      <td>2</td>\n",
              "      <td>330</td>\n",
              "      <td>no</td>\n",
              "      <td>...</td>\n",
              "      <td></td>\n",
              "      <td></td>\n",
              "      <td></td>\n",
              "      <td>no</td>\n",
              "      <td>no</td>\n",
              "      <td>no</td>\n",
              "      <td></td>\n",
              "      <td>yes</td>\n",
              "      <td>41</td>\n",
              "      <td>1</td>\n",
              "    </tr>\n",
              "    <tr>\n",
              "      <th>20</th>\n",
              "      <td>1</td>\n",
              "      <td>2</td>\n",
              "      <td>5</td>\n",
              "      <td>3</td>\n",
              "      <td>3</td>\n",
              "      <td>1</td>\n",
              "      <td>23</td>\n",
              "      <td>1</td>\n",
              "      <td>350</td>\n",
              "      <td>no</td>\n",
              "      <td>...</td>\n",
              "      <td></td>\n",
              "      <td></td>\n",
              "      <td></td>\n",
              "      <td>no</td>\n",
              "      <td>no</td>\n",
              "      <td>no</td>\n",
              "      <td></td>\n",
              "      <td>yes</td>\n",
              "      <td>43</td>\n",
              "      <td>1</td>\n",
              "    </tr>\n",
              "    <tr>\n",
              "      <th>24</th>\n",
              "      <td>1</td>\n",
              "      <td>2</td>\n",
              "      <td>1</td>\n",
              "      <td>1</td>\n",
              "      <td>1</td>\n",
              "      <td>2</td>\n",
              "      <td>43</td>\n",
              "      <td>1</td>\n",
              "      <td>320</td>\n",
              "      <td>no</td>\n",
              "      <td>...</td>\n",
              "      <td></td>\n",
              "      <td></td>\n",
              "      <td></td>\n",
              "      <td>no</td>\n",
              "      <td>no</td>\n",
              "      <td>no</td>\n",
              "      <td></td>\n",
              "      <td>yes</td>\n",
              "      <td>01</td>\n",
              "      <td>1</td>\n",
              "    </tr>\n",
              "    <tr>\n",
              "      <th>25</th>\n",
              "      <td>1</td>\n",
              "      <td>2</td>\n",
              "      <td>4</td>\n",
              "      <td>1</td>\n",
              "      <td>1</td>\n",
              "      <td>2</td>\n",
              "      <td>38</td>\n",
              "      <td>1</td>\n",
              "      <td>632</td>\n",
              "      <td>no</td>\n",
              "      <td>...</td>\n",
              "      <td></td>\n",
              "      <td></td>\n",
              "      <td></td>\n",
              "      <td>no</td>\n",
              "      <td>no</td>\n",
              "      <td>no</td>\n",
              "      <td></td>\n",
              "      <td>yes</td>\n",
              "      <td>84</td>\n",
              "      <td>1</td>\n",
              "    </tr>\n",
              "    <tr>\n",
              "      <th>27</th>\n",
              "      <td>1</td>\n",
              "      <td>2</td>\n",
              "      <td>4</td>\n",
              "      <td>3</td>\n",
              "      <td>8</td>\n",
              "      <td>1</td>\n",
              "      <td>35</td>\n",
              "      <td>1</td>\n",
              "      <td>350</td>\n",
              "      <td>no</td>\n",
              "      <td>...</td>\n",
              "      <td></td>\n",
              "      <td></td>\n",
              "      <td></td>\n",
              "      <td>no</td>\n",
              "      <td>no</td>\n",
              "      <td>no</td>\n",
              "      <td></td>\n",
              "      <td>yes</td>\n",
              "      <td>49</td>\n",
              "      <td>1</td>\n",
              "    </tr>\n",
              "    <tr>\n",
              "      <th>28</th>\n",
              "      <td>1</td>\n",
              "      <td>2</td>\n",
              "      <td>4</td>\n",
              "      <td>4</td>\n",
              "      <td>10</td>\n",
              "      <td>2</td>\n",
              "      <td>19</td>\n",
              "      <td>1</td>\n",
              "      <td>350</td>\n",
              "      <td>no</td>\n",
              "      <td>...</td>\n",
              "      <td></td>\n",
              "      <td></td>\n",
              "      <td></td>\n",
              "      <td>no</td>\n",
              "      <td>no</td>\n",
              "      <td>no</td>\n",
              "      <td></td>\n",
              "      <td>yes</td>\n",
              "      <td>96</td>\n",
              "      <td>1</td>\n",
              "    </tr>\n",
              "    <tr>\n",
              "      <th>29</th>\n",
              "      <td>1</td>\n",
              "      <td>2</td>\n",
              "      <td>6</td>\n",
              "      <td>1</td>\n",
              "      <td>1</td>\n",
              "      <td>1</td>\n",
              "      <td>72</td>\n",
              "      <td>2</td>\n",
              "      <td>280</td>\n",
              "      <td>no</td>\n",
              "      <td>...</td>\n",
              "      <td></td>\n",
              "      <td></td>\n",
              "      <td></td>\n",
              "      <td>no</td>\n",
              "      <td>no</td>\n",
              "      <td>no</td>\n",
              "      <td></td>\n",
              "      <td>yes</td>\n",
              "      <td>01</td>\n",
              "      <td>1</td>\n",
              "    </tr>\n",
              "  </tbody>\n",
              "</table>\n",
              "<p>20 rows × 42 columns</p>\n",
              "</div>"
            ],
            "text/plain": [
              "    PUFREG  PUFURB2K10  PUFHHSIZE  PUFC01_LNO  PUFC03_REL  PUFC04_SEX  \\\n",
              "0        1           2          3           1           1           1   \n",
              "1        1           2          3           2           2           2   \n",
              "2        1           2          3           3           3           1   \n",
              "3        1           2          4           1           1           1   \n",
              "4        1           2          4           2           2           2   \n",
              "5        1           2          4           3           3           1   \n",
              "7        1           2          4           1           1           1   \n",
              "8        1           2          4           2           2           2   \n",
              "11       1           2          4           1           1           1   \n",
              "14       1           2          4           4           3           1   \n",
              "15       1           2          3           1           1           1   \n",
              "16       1           2          3           2           2           2   \n",
              "17       1           2          3           3           3           1   \n",
              "18       1           2          5           1           1           1   \n",
              "20       1           2          5           3           3           1   \n",
              "24       1           2          1           1           1           2   \n",
              "25       1           2          4           1           1           2   \n",
              "27       1           2          4           3           8           1   \n",
              "28       1           2          4           4          10           2   \n",
              "29       1           2          6           1           1           1   \n",
              "\n",
              "    PUFC05_AGE PUFC06_MSTAT PUFC07_GRADE PUFC08_CURSCH  ... PUFC33_WEEKS  \\\n",
              "0           49            2          350            no  ...                \n",
              "1           61            2          350            no  ...                \n",
              "2           19            1          350            no  ...                \n",
              "3           48            2          320            no  ...                \n",
              "4           41            2          350            no  ...                \n",
              "5           20            1          350            no  ...                \n",
              "7           59            2          350            no  ...                \n",
              "8           61            2          350            no  ...                \n",
              "11          51            2          350            no  ...                \n",
              "14          23            1          350            no  ...                \n",
              "15          71            2          240            no  ...                \n",
              "16          54            2          220            no  ...                \n",
              "17          27            1          614            no  ...                \n",
              "18          46            2          330            no  ...                \n",
              "20          23            1          350            no  ...                \n",
              "24          43            1          320            no  ...                \n",
              "25          38            1          632            no  ...                \n",
              "27          35            1          350            no  ...                \n",
              "28          19            1          350            no  ...                \n",
              "29          72            2          280            no  ...                \n",
              "\n",
              "   PUFC34_WYNOT PUFC35_LTLOOKW PUFC36_AVAIL PUFC37_WILLING PUFC38_PREVJOB  \\\n",
              "0                                        no             no             no   \n",
              "1                                        no             no             no   \n",
              "2                                        no             no             no   \n",
              "3                                        no             no             no   \n",
              "4                                        no             no             no   \n",
              "5                                        no             no             no   \n",
              "7                                        no             no             no   \n",
              "8                                        no             no             no   \n",
              "11                                       no             no             no   \n",
              "14                                       no             no             no   \n",
              "15                                       no             no             no   \n",
              "16                                       no             no             no   \n",
              "17                                       no             no             no   \n",
              "18                                       no             no             no   \n",
              "20                                       no             no             no   \n",
              "24                                       no             no             no   \n",
              "25                                       no             no             no   \n",
              "27                                       no             no             no   \n",
              "28                                       no             no             no   \n",
              "29                                       no             no             no   \n",
              "\n",
              "   PUFC40_POCC PUFC41_WQTR PUFC43_QKB PUFNEWEMPSTAT  \n",
              "0                      yes         01             1  \n",
              "1                      yes         01             1  \n",
              "2                      yes         01             1  \n",
              "3                      yes         01             1  \n",
              "4                      yes         96             1  \n",
              "5                      yes         01             1  \n",
              "7                      yes         01             1  \n",
              "8                      yes         84             1  \n",
              "11                     yes         49             1  \n",
              "14                     yes         80             1  \n",
              "15                     yes         41             1  \n",
              "16                     yes         96             1  \n",
              "17                     yes         84             1  \n",
              "18                     yes         41             1  \n",
              "20                     yes         43             1  \n",
              "24                     yes         01             1  \n",
              "25                     yes         84             1  \n",
              "27                     yes         49             1  \n",
              "28                     yes         96             1  \n",
              "29                     yes         01             1  \n",
              "\n",
              "[20 rows x 42 columns]"
            ]
          },
          "execution_count": 267,
          "metadata": {},
          "output_type": "execute_result"
        }
      ],
      "source": [
        "jobs_df = jobs_df[jobs_df['PUFC17_NATEM'] != ' ']\n",
        "jobs_df.head(20)"
      ]
    },
    {
      "cell_type": "markdown",
      "metadata": {},
      "source": [
        "### Primary Occupation variable\n",
        "\n",
        "`PUFC14_PROCC` represents the primary occupation of the respondents.\n",
        "\n",
        "According to the valueset, the responses are grouped into different bins:\n",
        "* 11-14 = managers\n",
        "* 21-26 = professionals\n",
        "* 31-36 = technicians and associate professionals\n",
        "* 41-44 = clerical support workers\n",
        "* 51-54 = service and sales workers\n",
        "* 61-63 = skilled agricultural, forestry and fishery workers\n",
        "* 71-75 = craft and related trades workers\n",
        "* 81-83 = plant and machine operators and assemblers\n",
        "* 91-96 = elementary occupations\n",
        "* 1-3 = armed forces occupations"
      ]
    },
    {
      "cell_type": "code",
      "execution_count": 268,
      "metadata": {},
      "outputs": [
        {
          "data": {
            "text/plain": [
              "PUFC14_PROCC\n",
              "92    9565\n",
              "61    8499\n",
              "14    6820\n",
              "52    5546\n",
              "93    5239\n",
              "13    3968\n",
              "91    3026\n",
              "83    2823\n",
              "51    2778\n",
              "71    2524\n",
              "62    1963\n",
              "23    1862\n",
              "42    1572\n",
              "54    1529\n",
              "75    1160\n",
              "33     963\n",
              "72     907\n",
              "41     871\n",
              "96     851\n",
              "11     751\n",
              "53     696\n",
              "81     683\n",
              "43     652\n",
              "22     563\n",
              "44     533\n",
              "31     520\n",
              "12     506\n",
              "74     499\n",
              "34     422\n",
              "24     412\n",
              "32     405\n",
              "21     368\n",
              "73     356\n",
              "82     320\n",
              "26     292\n",
              "94     220\n",
              "25     174\n",
              "35     171\n",
              "95     147\n",
              "03     100\n",
              "01      40\n",
              "02      33\n",
              "63      26\n",
              "Name: count, dtype: int64"
            ]
          },
          "execution_count": 268,
          "metadata": {},
          "output_type": "execute_result"
        }
      ],
      "source": [
        "jobs_df['PUFC14_PROCC'].value_counts()"
      ]
    },
    {
      "cell_type": "markdown",
      "metadata": {},
      "source": [
        "We can group the different responses into categorical bins and represent their numbers as the title of their occupation."
      ]
    },
    {
      "cell_type": "code",
      "execution_count": 269,
      "metadata": {},
      "outputs": [],
      "source": [
        "PUFC14_PROCC_bins = [0, 3, 14, 26, 36, 44, 54, 63, 75, 83, 97]\n",
        "PUFC14_PROCC_labels = [\n",
        "    'Armed Forces Occupations',\n",
        "    'Managers',\n",
        "    'Professionals',\n",
        "    'Technicians and Associate Professionals',\n",
        "    'Clerical Support Workers',\n",
        "    'Service and Sales Workers',\n",
        "    'Skilled Agricultural, Forestry and Fishery Workers',\n",
        "    'Craft and Related Trades Workers',\n",
        "    'Plant and Machine Operators and Assemblers',\n",
        "    'Elementary Occupations',\n",
        "]"
      ]
    },
    {
      "cell_type": "markdown",
      "metadata": {},
      "source": [
        "To start the binning process, we first have to convert the variable to an integer as it is currently an object."
      ]
    },
    {
      "cell_type": "code",
      "execution_count": 270,
      "metadata": {},
      "outputs": [],
      "source": [
        "jobs_df['PUFC14_PROCC'] = jobs_df['PUFC14_PROCC'].astype('int')"
      ]
    },
    {
      "cell_type": "markdown",
      "metadata": {},
      "source": [
        "Now we start the binning process that the datatype has been modified."
      ]
    },
    {
      "cell_type": "code",
      "execution_count": 271,
      "metadata": {},
      "outputs": [
        {
          "data": {
            "text/plain": [
              "PUFC14_PROCC\n",
              "Elementary Occupations                                21871\n",
              "Skilled Agricultural, Forestry and Fishery Workers    11991\n",
              "Professionals                                         10199\n",
              "Service and Sales Workers                              9553\n",
              "Managers                                               5325\n",
              "Craft and Related Trades Workers                       4312\n",
              "Clerical Support Workers                               3095\n",
              "Technicians and Associate Professionals                2773\n",
              "Plant and Machine Operators and Assemblers             2163\n",
              "Armed Forces Occupations                                 73\n",
              "Name: count, dtype: int64"
            ]
          },
          "execution_count": 271,
          "metadata": {},
          "output_type": "execute_result"
        }
      ],
      "source": [
        "jobs_df['PUFC14_PROCC'] = pd.cut(jobs_df['PUFC14_PROCC'], bins=PUFC14_PROCC_bins, labels=PUFC14_PROCC_labels, right=False)\n",
        "\n",
        "jobs_df['PUFC14_PROCC'].value_counts()"
      ]
    },
    {
      "cell_type": "code",
      "execution_count": 272,
      "metadata": {},
      "outputs": [
        {
          "name": "stdout",
          "output_type": "stream",
          "text": [
            "<class 'pandas.core.series.Series'>\n",
            "Index: 71355 entries, 0 to 180861\n",
            "Series name: PUFC14_PROCC\n",
            "Non-Null Count  Dtype   \n",
            "--------------  -----   \n",
            "71355 non-null  category\n",
            "dtypes: category(1)\n",
            "memory usage: 627.5 KB\n"
          ]
        }
      ],
      "source": [
        "jobs_df['PUFC14_PROCC'].info()"
      ]
    },
    {
      "cell_type": "markdown",
      "metadata": {},
      "source": [
        "The datatype automatically gets converted into 'category' datatype, so no need to convert the datatype."
      ]
    },
    {
      "cell_type": "markdown",
      "metadata": {},
      "source": [
        "### Highest Grade Completed variable"
      ]
    },
    {
      "cell_type": "code",
      "execution_count": 273,
      "metadata": {},
      "outputs": [
        {
          "data": {
            "text/plain": [
              "array(['350', '320', '240', '220', '614', '330', '632', '280', '900',\n",
              "       '672', '589', '830', '634', '230', '820', '810', '686', '552',\n",
              "       '840', '000', '681', '534', '250', '310', '648', '581', '572',\n",
              "       '210', '652', '662', '601', '658', '642', '562', '548', '685',\n",
              "       '631', '621', '410', '622', '010', '584', '420', '340', '684',\n",
              "       '260', '664', '676', '521', '638', '646', '689', '644', '532',\n",
              "       '531', '554', '514', '558', '501', '586', '654', '522', '542',\n",
              "       '576', '585', '564'], dtype=object)"
            ]
          },
          "execution_count": 273,
          "metadata": {},
          "output_type": "execute_result"
        }
      ],
      "source": [
        "jobs_df['PUFC07_GRADE'].unique()"
      ]
    },
    {
      "cell_type": "markdown",
      "metadata": {},
      "source": [
        "Highest Grade Completed:\n",
        "* 0 = No Grade Completed\n",
        "* 10 = Preschool\n",
        "* 210 = Grade 1\n",
        "* 220 = Grade 2\n",
        "* 230 = Grade 3\n",
        "* 240 = Grade 4\n",
        "* 250 = Grade 5\n",
        "* 260 = Grade 6\n",
        "* 280 = Elementary Graduate\n",
        "* 310 = First Year High School/Grade 7\n",
        "* 320 = Second Year High School\n",
        "* 330 = Third Year High School\n",
        "* 340 = Fourth Year High School\n",
        "* 350 = High School Graduate\n",
        "* 410 = First Year Post Secondary\n",
        "* 420 = Second Year Post Secondary\n",
        "* 810 = First Year College\n",
        "* 820 = Second Year College\n",
        "* 830 = Third Year College\n",
        "* 840 = Fourth Year College\n",
        "* 900 = Post Baccalaureate\n",
        "* 501 = Basic Programs\n",
        "* 508 = Literacy and Numeracy Programs\n",
        "* 509 = Personal Development Programs\n",
        "* 514 = Teacher Training and Education Sciences Programs\n",
        "* 521 = Arts Programs\n",
        "* 522 = Humanities Programs\n",
        "* 531 = Social and Behavioral Science Programs\n",
        "* 532 = Journalism and Information Programs\n",
        "* 534 = Business and Administration Programs\n",
        "* 542 = Life Sciences Programs\n",
        "* 544 = Physical Sciences Programs\n",
        "* 548 = Computing/Information Technology Programs\n",
        "* 552 = Engineering and Engineering trades Programs\n",
        "* 554 = Manufacturing and Processing Programs\n",
        "* 558 = Architecture and Building Programs\n",
        "* 562 = Agriculture, Forestry, and Fishery Programs\n",
        "* 564 = Veterinary Programs\n",
        "* 572 = Health Programs\n",
        "* 576 = Social Services Programs\n",
        "* 581 = Personal Services Programs\n",
        "* 584 = Transport Services Programs\n",
        "* 585 = Environmental Protection Programs\n",
        "* 586 = Security Services Programs\n",
        "* 589 = Other Programs in Education at the Third Level, First Stage, of the Type that Leads to an Award not Equivalent to a First University or Baccalaureate Degree\n",
        "* 601 = Basic Programs\n",
        "* 614 = Teacher Training and Education Sciences Programs\n",
        "* 621 = Arts Programs\n",
        "* 622 = Humanities Programs\n",
        "* 631 = Social and Behavioral Science Programs\n",
        "* 632 = Journalism and Information Programs\n",
        "* 634 = Business and Administration Programs\n",
        "* 638 = Law Programs\n",
        "* 642 = Life Sciences Programs\n",
        "* 644 = Physical Sciences Programs\n",
        "* 646 = Mathematics and Statistics Programs\n",
        "* 648 = Computing/Information Technology Programs\n",
        "* 652 = Engineering and Engineering Trades Programs\n",
        "* 654 = Manufacturing and Processing Programs\n",
        "* 658 = Architecture and Building Programs\n",
        "* 662 = Agriculture, Forestry, and Fishery Programs\n",
        "* 664 = Veterinary Programs\n",
        "* 672 = Health Programs\n",
        "* 676 = Social Services Programs\n",
        "* 681 = Personal Services Programs\n",
        "* 684 = Transport Services Programs\n",
        "* 685 = Environmental Protection Programs\n",
        "* 686 = Security Services Programs\n",
        "* 689 = Other Programs of Education at the Third Level, First Stage, of the Type that Leads to a Baccalaureate or First University/Professional Degree"
      ]
    },
    {
      "cell_type": "markdown",
      "metadata": {},
      "source": [
        "We first have to check for whitespace counts before proceeding."
      ]
    },
    {
      "cell_type": "code",
      "execution_count": 274,
      "metadata": {},
      "outputs": [
        {
          "data": {
            "text/plain": [
              "np.int64(0)"
            ]
          },
          "execution_count": 274,
          "metadata": {},
          "output_type": "execute_result"
        }
      ],
      "source": [
        "whitespace_count = (jobs_df['PUFC07_GRADE'].astype(str).str.strip() == '').sum()\n",
        "whitespace_count"
      ]
    },
    {
      "cell_type": "markdown",
      "metadata": {},
      "source": [
        "Now that we know there are whitespaces, and the valueset does not say anything about non-applicable values for this variable, we can implement mode-impute."
      ]
    },
    {
      "cell_type": "code",
      "execution_count": 275,
      "metadata": {},
      "outputs": [],
      "source": [
        "jobs_df['PUFC07_GRADE'] = jobs_df['PUFC07_GRADE'].astype(str).str.strip().replace('', np.nan)\n",
        "mode_value = jobs_df['PUFC07_GRADE'].mode()[0]\n",
        "jobs_df['PUFC07_GRADE'] = jobs_df['PUFC07_GRADE'].fillna(mode_value)"
      ]
    },
    {
      "cell_type": "markdown",
      "metadata": {},
      "source": [
        "Now that we have dealt with the whitespace values, we are able to convert the datatype to int to be able to convert the output into the corresponding mappings easier."
      ]
    },
    {
      "cell_type": "code",
      "execution_count": 276,
      "metadata": {},
      "outputs": [
        {
          "data": {
            "text/plain": [
              "array([350, 320, 240, 220, 614, 330, 632, 280, 900, 672, 589, 830, 634,\n",
              "       230, 820, 810, 686, 552, 840,   0, 681, 534, 250, 310, 648, 581,\n",
              "       572, 210, 652, 662, 601, 658, 642, 562, 548, 685, 631, 621, 410,\n",
              "       622,  10, 584, 420, 340, 684, 260, 664, 676, 521, 638, 646, 689,\n",
              "       644, 532, 531, 554, 514, 558, 501, 586, 654, 522, 542, 576, 585,\n",
              "       564])"
            ]
          },
          "execution_count": 276,
          "metadata": {},
          "output_type": "execute_result"
        }
      ],
      "source": [
        "jobs_df['PUFC07_GRADE'] = jobs_df['PUFC07_GRADE'].astype('int')\n",
        "jobs_df['PUFC07_GRADE'].unique()"
      ]
    },
    {
      "cell_type": "markdown",
      "metadata": {},
      "source": [
        "We can then group the corresponding numbers into their own categorical values using mapping for easier readability."
      ]
    },
    {
      "cell_type": "code",
      "execution_count": 277,
      "metadata": {},
      "outputs": [],
      "source": [
        "PUFC07_GRADE_mapping = {\n",
        "    0: 'No Grade Completed',\n",
        "    10: 'Preschool',\n",
        "    210: 'Grade 1',\n",
        "    220: 'Grade 2',\n",
        "    230: 'Grade 3',\n",
        "    240: 'Grade 4',\n",
        "    250: 'Grade 5',\n",
        "    260: 'Grade 6',\n",
        "    280: 'Elementary Graduate',\n",
        "    310: 'First Year High School/Grade 7',\n",
        "    320: 'Second Year High School',\n",
        "    330: 'Third Year High School',\n",
        "    340: 'Fourth Year High School',\n",
        "    350: 'High School Graduate',\n",
        "    410: 'First Year Post Secondary',\n",
        "    420: 'Second Year Post Secondary',\n",
        "    810: 'First Year College',\n",
        "    820: 'Second Year College',\n",
        "    830: 'Third Year College',\n",
        "    840: 'Fourth Year College',\n",
        "    900: 'Post Baccalaureate',\n",
        "    501: 'Basic Programs',\n",
        "    508: 'Literacy and Numeracy Programs',\n",
        "    509: 'Personal Development Programs',\n",
        "    514: 'Teacher Training and Education Sciences Programs',\n",
        "    521: 'Arts Programs',\n",
        "    522: 'Humanities Programs',\n",
        "    531: 'Social and Behavioral Science Programs',\n",
        "    532: 'Journalism and Information Programs',\n",
        "    534: 'Business and Administration Programs',\n",
        "    542: 'Life Sciences Programs',\n",
        "    544: 'Physical Sciences Programs',\n",
        "    548: 'Computing/Information Technology Programs',\n",
        "    552: 'Engineering and Engineering trades Programs',\n",
        "    554: 'Manufacturing and Processing Programs',\n",
        "    558: 'Architecture and Building Programs',\n",
        "    562: 'Agriculture, Forestry, and Fishery Programs',\n",
        "    564: 'Veterinary Programs',\n",
        "    572: 'Health Programs',\n",
        "    576: 'Social Services Programs',\n",
        "    581: 'Personal Services Programs',\n",
        "    584: 'Transport Services Programs',\n",
        "    585: 'Environmental Protection Programs',\n",
        "    586: 'Security Services Programs',\n",
        "    589: 'Other Programs in Education at the Third Level, First Stage, of the Type that Leads to an Award not Equivalent to a First University or Baccalaureate Degree',\n",
        "    601: 'Basic Programs',\n",
        "    614: 'Teacher Training and Education Sciences Programs',\n",
        "    621: 'Arts Programs',\n",
        "    622: 'Humanities Programs',\n",
        "    631: 'Social and Behavioral Science Programs',\n",
        "    632: 'Journalism and Information Programs',\n",
        "    634: 'Business and Administration Programs',\n",
        "    638: 'Law Programs',\n",
        "    642: 'Life Sciences Programs',\n",
        "    644: 'Physical Sciences Programs',\n",
        "    646: 'Mathematics and Statistics Programs',\n",
        "    648: 'Computing/Information Technology Programs',\n",
        "    652: 'Engineering and Engineering Trades Programs',\n",
        "    654: 'Manufacturing and Processing Programs',\n",
        "    658: 'Architecture and Building Programs',\n",
        "    662: 'Agriculture, Forestry, and Fishery Programs',\n",
        "    664: 'Veterinary Programs',\n",
        "    672: 'Health Programs',\n",
        "    676: 'Social Services Programs',\n",
        "    681: 'Personal Services Programs',\n",
        "    684: 'Transport Services Programs',\n",
        "    685: 'Environmental Protection Programs',\n",
        "    686: 'Security Services Programs',\n",
        "    689: 'Other Programs of Education at the Third Level, First Stage, of the Type that Leads to a Baccalaureate or First University/Professional Degree'\n",
        "}"
      ]
    },
    {
      "cell_type": "markdown",
      "metadata": {},
      "source": [
        "Now that we have created the mapping, we can assign each value to each number."
      ]
    },
    {
      "cell_type": "code",
      "execution_count": 278,
      "metadata": {},
      "outputs": [
        {
          "data": {
            "text/plain": [
              "0                                 High School Graduate\n",
              "1                                 High School Graduate\n",
              "2                                 High School Graduate\n",
              "3                              Second Year High School\n",
              "4                                 High School Graduate\n",
              "5                                 High School Graduate\n",
              "7                                 High School Graduate\n",
              "8                                 High School Graduate\n",
              "11                                High School Graduate\n",
              "14                                High School Graduate\n",
              "15                                             Grade 4\n",
              "16                                             Grade 2\n",
              "17    Teacher Training and Education Sciences Programs\n",
              "18                              Third Year High School\n",
              "20                                High School Graduate\n",
              "24                             Second Year High School\n",
              "25                 Journalism and Information Programs\n",
              "27                                High School Graduate\n",
              "28                                High School Graduate\n",
              "29                                 Elementary Graduate\n",
              "Name: PUFC07_GRADE, dtype: string"
            ]
          },
          "execution_count": 278,
          "metadata": {},
          "output_type": "execute_result"
        }
      ],
      "source": [
        "jobs_df['PUFC07_GRADE'] = jobs_df['PUFC07_GRADE'].map(PUFC07_GRADE_mapping)\n",
        "jobs_df['PUFC07_GRADE'] = jobs_df['PUFC07_GRADE'].astype('string')\n",
        "jobs_df['PUFC07_GRADE'].head(20)"
      ]
    },
    {
      "cell_type": "markdown",
      "metadata": {},
      "source": [
        "### Marital Status variable"
      ]
    },
    {
      "cell_type": "code",
      "execution_count": 279,
      "metadata": {},
      "outputs": [
        {
          "data": {
            "text/plain": [
              "array(['2', '1', '4', '3', '5', '6'], dtype=object)"
            ]
          },
          "execution_count": 279,
          "metadata": {},
          "output_type": "execute_result"
        }
      ],
      "source": [
        "jobs_df['PUFC06_MSTAT'].unique()"
      ]
    },
    {
      "cell_type": "markdown",
      "metadata": {},
      "source": [
        "We first check for whitespace."
      ]
    },
    {
      "cell_type": "code",
      "execution_count": 280,
      "metadata": {},
      "outputs": [
        {
          "data": {
            "text/plain": [
              "np.int64(0)"
            ]
          },
          "execution_count": 280,
          "metadata": {},
          "output_type": "execute_result"
        }
      ],
      "source": [
        "whitespace_count = (jobs_df['PUFC06_MSTAT'].astype(str).str.strip() == '').sum()\n",
        "whitespace_count"
      ]
    },
    {
      "cell_type": "markdown",
      "metadata": {},
      "source": [
        "Seeings as there are no whitespaces left, we can directly go to data representation.\n",
        "* 1 = Single\n",
        "* 2 = Married\n",
        "* 3 = Widowed\n",
        "* 4 = Divorce/Separate\n",
        "* 5 = Annuled\n",
        "* 6 = Unknown"
      ]
    },
    {
      "cell_type": "markdown",
      "metadata": {},
      "source": [
        "Seeing as it is currently of \"object\" datatype, we have to first convert the integers to the int datatype."
      ]
    },
    {
      "cell_type": "code",
      "execution_count": 281,
      "metadata": {},
      "outputs": [],
      "source": [
        "jobs_df['PUFC06_MSTAT'] = jobs_df['PUFC06_MSTAT'].astype('int')"
      ]
    },
    {
      "cell_type": "markdown",
      "metadata": {},
      "source": [
        "We can create a mapping for this:"
      ]
    },
    {
      "cell_type": "code",
      "execution_count": 282,
      "metadata": {},
      "outputs": [],
      "source": [
        "PUFC06_MSTAT_mapping = {\n",
        "    1: 'Single',\n",
        "    2: 'Married',\n",
        "    3: 'Widowed',\n",
        "    4: 'Divorced/Separate',\n",
        "    5: 'Annuled',\n",
        "    6: 'Unknown'\n",
        "}"
      ]
    },
    {
      "cell_type": "markdown",
      "metadata": {},
      "source": [
        "Now we can assign each integer to their assigned mapping."
      ]
    },
    {
      "cell_type": "code",
      "execution_count": 283,
      "metadata": {},
      "outputs": [
        {
          "data": {
            "text/plain": [
              "0     Married\n",
              "1     Married\n",
              "2      Single\n",
              "3     Married\n",
              "4     Married\n",
              "5      Single\n",
              "7     Married\n",
              "8     Married\n",
              "11    Married\n",
              "14     Single\n",
              "15    Married\n",
              "16    Married\n",
              "17     Single\n",
              "18    Married\n",
              "20     Single\n",
              "24     Single\n",
              "25     Single\n",
              "27     Single\n",
              "28     Single\n",
              "29    Married\n",
              "Name: PUFC06_MSTAT, dtype: string"
            ]
          },
          "execution_count": 283,
          "metadata": {},
          "output_type": "execute_result"
        }
      ],
      "source": [
        "jobs_df['PUFC06_MSTAT'] = jobs_df['PUFC06_MSTAT'].map(PUFC06_MSTAT_mapping)\n",
        "jobs_df['PUFC06_MSTAT'] = jobs_df['PUFC06_MSTAT'].astype('string')\n",
        "jobs_df['PUFC06_MSTAT'].head(20)"
      ]
    },
    {
      "cell_type": "markdown",
      "metadata": {
        "id": "DW7he8AWGuFp"
      },
      "source": [
        "### Sex variable\n",
        "\n",
        "Starting off with `PUFC04_SEX` which is the sex of the respondent, according to the valueset,\n",
        "* 1 = Male\n",
        "* 2 = Female\n",
        "\n",
        "Therefore we may opt to change the numbers into characters M and F for easier readability."
      ]
    },
    {
      "cell_type": "code",
      "execution_count": 284,
      "metadata": {
        "colab": {
          "base_uri": "https://localhost:8080/",
          "height": 178
        },
        "id": "AlCyT3RiGuFq",
        "outputId": "f650b25f-e947-4eb5-f6de-b22d1fb73575"
      },
      "outputs": [
        {
          "data": {
            "text/plain": [
              "PUFC04_SEX\n",
              "1    43925\n",
              "2    27430\n",
              "Name: count, dtype: int64"
            ]
          },
          "execution_count": 284,
          "metadata": {},
          "output_type": "execute_result"
        }
      ],
      "source": [
        "jobs_df['PUFC04_SEX'].value_counts()"
      ]
    },
    {
      "cell_type": "markdown",
      "metadata": {
        "id": "e8qvhlX5GuFq"
      },
      "source": [
        "We change the datatype to the 'category' from object first."
      ]
    },
    {
      "cell_type": "code",
      "execution_count": 285,
      "metadata": {
        "id": "ZZgVPf8gGuFt"
      },
      "outputs": [],
      "source": [
        "jobs_df['PUFC04_SEX'] = jobs_df['PUFC04_SEX'].astype('string')"
      ]
    },
    {
      "cell_type": "code",
      "execution_count": 286,
      "metadata": {
        "colab": {
          "base_uri": "https://localhost:8080/",
          "height": 235
        },
        "id": "L74OgOayGuFt",
        "outputId": "2907c659-d30e-412b-9e34-14591493b8ca"
      },
      "outputs": [
        {
          "data": {
            "text/plain": [
              "PUFC04_SEX\n",
              "1    43925\n",
              "2    27430\n",
              "Name: count, dtype: Int64"
            ]
          },
          "execution_count": 286,
          "metadata": {},
          "output_type": "execute_result"
        }
      ],
      "source": [
        "jobs_df['PUFC04_SEX'] = jobs_df['PUFC04_SEX'].replace({2: 'F', 1: 'M'})\n",
        "jobs_df['PUFC04_SEX'].value_counts()"
      ]
    },
    {
      "cell_type": "code",
      "execution_count": 287,
      "metadata": {
        "colab": {
          "base_uri": "https://localhost:8080/"
        },
        "id": "tXztlNRJGuFt",
        "outputId": "b10962f3-9c7a-402c-8981-ae141d4e4e04"
      },
      "outputs": [
        {
          "data": {
            "text/plain": [
              "np.int64(71355)"
            ]
          },
          "execution_count": 287,
          "metadata": {},
          "output_type": "execute_result"
        }
      ],
      "source": [
        "(jobs_df['PUFC17_NATEM'] != ' ').sum()"
      ]
    },
    {
      "cell_type": "markdown",
      "metadata": {
        "id": "5sOfS-ThGuFt"
      },
      "source": [
        "This will narrow down our dataframe to 71355 respondents."
      ]
    },
    {
      "cell_type": "markdown",
      "metadata": {
        "id": "kjB4RVLiGuFu"
      },
      "source": [
        "### Kind of Industry variable\n",
        "\n",
        "The `PUFC16_PKB` variable dictates the major industry that the respondent works in.\n",
        "\n",
        "The `PUFC16_PKB` variable has 2 sets of bins, the first one encompassing the general industrty that the respondent works in:\n",
        "* 1-3 = Agricultural\n",
        "* 5-43 = Industrial\n",
        "* 45-99 = Services\n",
        "\n",
        "The other set of bins being the more specific industry that the respondent works in:\n",
        "* 1-2 = Agriculture and Forestry\n",
        "* 3 = Fishing\n",
        "* 5-9 = Mining and Quarying\n",
        "* 10-33 = Manufacturing\n",
        "* 35 = Electricity, Gas, Steam and Airconditioning Supply\n",
        "* 36-39 = Water Supply; Sewage, Waste Management and Remediation Activities\n",
        "* 41-43 = Construction\n",
        "* 45-47 = Whosale and Retail Trade; Repair of Motor Vehicles and Motorcycles\n",
        "* 49-53 = Transportation and Storage\n",
        "* 55-56 = Accommodation and Food Service Activities\n",
        "* 58-63 = Information and Communication\n",
        "* 64-66 = Financial and Insurance Activities\n",
        "* 68 = Real Estate Activities\n",
        "* 69-75 = Professional, Scientific and Technical Activities\n",
        "* 77-82 = Administrative and Support Service Activities\n",
        "* 84 = Public Administration and Defense; Compulsory Social Security\n",
        "* 85 = Education\n",
        "* 86-88 = Human Health and Social Work Activities\n",
        "* 90-93 = Arts, Entertainment and Recreation\n",
        "* 94-96 = Other Service Activities\n",
        "* 97-98 = Activities of Households as Employers\n",
        "* 99 = Activities of Extraterritorial Organizations and Bodies\n",
        "\n",
        "Given these bins, we can make a separate column that shows the general industry that the respondent works in, while keeping PUFC16_PKB to show their specific industry."
      ]
    },
    {
      "cell_type": "code",
      "execution_count": 288,
      "metadata": {
        "id": "sB3wsLwfGuFu"
      },
      "outputs": [],
      "source": [
        "PUFC16_PKB_GENERAL_bins = [0, 3, 43, 99]\n",
        "PUFC16_PKB_GENERAL_labels = [\n",
        "    'Agricultural',\n",
        "    'Industrial',\n",
        "    'Services']\n",
        "\n",
        "PUFC16_PKB_bins = [0, 2, 3, 9, 33, 35, 39, 43, 47, 53, 56, 63, 66, 68, 75, 82, 84, 85, 88, 93, 96, 98, 99]\n",
        "PUFC16_PKB_labels = [\n",
        "    'Agriculture and Forestry',\n",
        "    'Fishing',\n",
        "    'Mining and Quarying',\n",
        "    'Manufacturing',\n",
        "    'Electricity, Gas, Steam and Airconditioning Supply',\n",
        "    'Water Supply; Sewage, Waste Management and Remediation Activities',\n",
        "    'Construction',\n",
        "    'Whosale and Retail Trade; Repair of Motor Vehicles and Motorcycles',\n",
        "    'Transportation and Storage',\n",
        "    'Accommodation and Food Service Activities',\n",
        "    'Information and Communication',\n",
        "    'Financial and Insurance Activities',\n",
        "    'Real Estate Activities',\n",
        "    'Professional, Scientific and Technical Activities',\n",
        "    'Administrative and Support Service Activities',\n",
        "    'Public Administration and Defense; Compulsory Social Security',\n",
        "    'Education',\n",
        "    'Human Health and Social Work Activities',\n",
        "    'Arts, Entertainment and Recreation',\n",
        "    'Other Service Activities',\n",
        "    'Activities of Households as Employers',\n",
        "    'Activities of Extraterritorial Organizations and Bodies'\n",
        "]"
      ]
    },
    {
      "cell_type": "markdown",
      "metadata": {
        "id": "SSi4oSKHGuFu"
      },
      "source": [
        "We have to first convert the datatype into the integer datatype in order to bin the responses properly."
      ]
    },
    {
      "cell_type": "code",
      "execution_count": 289,
      "metadata": {
        "id": "g2twUN3BGuFu"
      },
      "outputs": [],
      "source": [
        "jobs_df['PUFC16_PKB'] = jobs_df['PUFC16_PKB'].astype('int')"
      ]
    },
    {
      "cell_type": "markdown",
      "metadata": {
        "id": "VQ19pp6KGuFu"
      },
      "source": [
        "Now we start the binning process that the datatype has been modified."
      ]
    },
    {
      "cell_type": "code",
      "execution_count": 290,
      "metadata": {
        "colab": {
          "base_uri": "https://localhost:8080/",
          "height": 210
        },
        "id": "XBzwBsVcGuFu",
        "outputId": "30997cfa-d0d1-43a1-b8b5-75e7639b5f50"
      },
      "outputs": [
        {
          "data": {
            "text/plain": [
              "PUFC16_PKB_GENERAL\n",
              "Services        39618\n",
              "Agricultural    17853\n",
              "Industrial      13874\n",
              "Name: count, dtype: int64"
            ]
          },
          "execution_count": 290,
          "metadata": {},
          "output_type": "execute_result"
        }
      ],
      "source": [
        "jobs_df['PUFC16_PKB_GENERAL'] = pd.cut(jobs_df['PUFC16_PKB'], bins=PUFC16_PKB_GENERAL_bins, labels=PUFC16_PKB_GENERAL_labels, right=False)\n",
        "jobs_df['PUFC16_PKB_GENERAL'].value_counts()"
      ]
    },
    {
      "cell_type": "code",
      "execution_count": 291,
      "metadata": {
        "colab": {
          "base_uri": "https://localhost:8080/",
          "height": 805
        },
        "id": "bUHv1776GuFv",
        "outputId": "c55a870d-c4e8-4c52-ce9a-67e2c08dca27"
      },
      "outputs": [
        {
          "data": {
            "text/plain": [
              "PUFC16_PKB\n",
              "Agriculture and Forestry                                              17411\n",
              "Transportation and Storage                                            17014\n",
              "Construction                                                           5282\n",
              "Manufacturing                                                          4955\n",
              "Education                                                              4300\n",
              "Activities of Households as Employers                                  4235\n",
              "Mining and Quarying                                                    3269\n",
              "Human Health and Social Work Activities                                3117\n",
              "Information and Communication                                          2961\n",
              "Whosale and Retail Trade; Repair of Motor Vehicles and Motorcycles     2568\n",
              "Administrative and Support Service Activities                          1156\n",
              "Public Administration and Defense; Compulsory Social Security          1004\n",
              "Financial and Insurance Activities                                      914\n",
              "Other Service Activities                                                680\n",
              "Professional, Scientific and Technical Activities                       638\n",
              "Accommodation and Food Service Activities                               603\n",
              "Fishing                                                                 442\n",
              "Arts, Entertainment and Recreation                                      399\n",
              "Water Supply; Sewage, Waste Management and Remediation Activities       267\n",
              "Electricity, Gas, Steam and Airconditioning Supply                      101\n",
              "Real Estate Activities                                                   28\n",
              "Activities of Extraterritorial Organizations and Bodies                   1\n",
              "Name: count, dtype: int64"
            ]
          },
          "execution_count": 291,
          "metadata": {},
          "output_type": "execute_result"
        }
      ],
      "source": [
        "jobs_df['PUFC16_PKB'] = pd.cut(jobs_df['PUFC16_PKB'], bins=PUFC16_PKB_bins, labels=PUFC16_PKB_labels, right=False)\n",
        "jobs_df['PUFC16_PKB'].value_counts()"
      ]
    },
    {
      "cell_type": "code",
      "execution_count": 292,
      "metadata": {
        "colab": {
          "base_uri": "https://localhost:8080/",
          "height": 677
        },
        "id": "rXugyzcIGuFv",
        "outputId": "8090332b-3678-4666-de9e-28fb264d1bb3"
      },
      "outputs": [
        {
          "data": {
            "text/html": [
              "<div>\n",
              "<style scoped>\n",
              "    .dataframe tbody tr th:only-of-type {\n",
              "        vertical-align: middle;\n",
              "    }\n",
              "\n",
              "    .dataframe tbody tr th {\n",
              "        vertical-align: top;\n",
              "    }\n",
              "\n",
              "    .dataframe thead th {\n",
              "        text-align: right;\n",
              "    }\n",
              "</style>\n",
              "<table border=\"1\" class=\"dataframe\">\n",
              "  <thead>\n",
              "    <tr style=\"text-align: right;\">\n",
              "      <th></th>\n",
              "      <th>PUFC16_PKB_GENERAL</th>\n",
              "      <th>PUFC16_PKB</th>\n",
              "    </tr>\n",
              "  </thead>\n",
              "  <tbody>\n",
              "    <tr>\n",
              "      <th>0</th>\n",
              "      <td>Agricultural</td>\n",
              "      <td>Agriculture and Forestry</td>\n",
              "    </tr>\n",
              "    <tr>\n",
              "      <th>1</th>\n",
              "      <td>Agricultural</td>\n",
              "      <td>Agriculture and Forestry</td>\n",
              "    </tr>\n",
              "    <tr>\n",
              "      <th>2</th>\n",
              "      <td>Agricultural</td>\n",
              "      <td>Agriculture and Forestry</td>\n",
              "    </tr>\n",
              "    <tr>\n",
              "      <th>3</th>\n",
              "      <td>Agricultural</td>\n",
              "      <td>Agriculture and Forestry</td>\n",
              "    </tr>\n",
              "    <tr>\n",
              "      <th>4</th>\n",
              "      <td>Services</td>\n",
              "      <td>Activities of Households as Employers</td>\n",
              "    </tr>\n",
              "    <tr>\n",
              "      <th>5</th>\n",
              "      <td>Services</td>\n",
              "      <td>Transportation and Storage</td>\n",
              "    </tr>\n",
              "    <tr>\n",
              "      <th>7</th>\n",
              "      <td>Agricultural</td>\n",
              "      <td>Agriculture and Forestry</td>\n",
              "    </tr>\n",
              "    <tr>\n",
              "      <th>8</th>\n",
              "      <td>Services</td>\n",
              "      <td>Education</td>\n",
              "    </tr>\n",
              "    <tr>\n",
              "      <th>11</th>\n",
              "      <td>Services</td>\n",
              "      <td>Transportation and Storage</td>\n",
              "    </tr>\n",
              "    <tr>\n",
              "      <th>14</th>\n",
              "      <td>Services</td>\n",
              "      <td>Administrative and Support Service Activities</td>\n",
              "    </tr>\n",
              "    <tr>\n",
              "      <th>15</th>\n",
              "      <td>Industrial</td>\n",
              "      <td>Construction</td>\n",
              "    </tr>\n",
              "    <tr>\n",
              "      <th>16</th>\n",
              "      <td>Services</td>\n",
              "      <td>Activities of Households as Employers</td>\n",
              "    </tr>\n",
              "    <tr>\n",
              "      <th>17</th>\n",
              "      <td>Services</td>\n",
              "      <td>Education</td>\n",
              "    </tr>\n",
              "    <tr>\n",
              "      <th>18</th>\n",
              "      <td>Industrial</td>\n",
              "      <td>Construction</td>\n",
              "    </tr>\n",
              "    <tr>\n",
              "      <th>20</th>\n",
              "      <td>Services</td>\n",
              "      <td>Whosale and Retail Trade; Repair of Motor Vehi...</td>\n",
              "    </tr>\n",
              "    <tr>\n",
              "      <th>24</th>\n",
              "      <td>Agricultural</td>\n",
              "      <td>Agriculture and Forestry</td>\n",
              "    </tr>\n",
              "    <tr>\n",
              "      <th>25</th>\n",
              "      <td>Services</td>\n",
              "      <td>Education</td>\n",
              "    </tr>\n",
              "    <tr>\n",
              "      <th>27</th>\n",
              "      <td>Services</td>\n",
              "      <td>Transportation and Storage</td>\n",
              "    </tr>\n",
              "    <tr>\n",
              "      <th>28</th>\n",
              "      <td>Services</td>\n",
              "      <td>Activities of Households as Employers</td>\n",
              "    </tr>\n",
              "    <tr>\n",
              "      <th>29</th>\n",
              "      <td>Agricultural</td>\n",
              "      <td>Agriculture and Forestry</td>\n",
              "    </tr>\n",
              "  </tbody>\n",
              "</table>\n",
              "</div>"
            ],
            "text/plain": [
              "   PUFC16_PKB_GENERAL                                         PUFC16_PKB\n",
              "0        Agricultural                           Agriculture and Forestry\n",
              "1        Agricultural                           Agriculture and Forestry\n",
              "2        Agricultural                           Agriculture and Forestry\n",
              "3        Agricultural                           Agriculture and Forestry\n",
              "4            Services              Activities of Households as Employers\n",
              "5            Services                         Transportation and Storage\n",
              "7        Agricultural                           Agriculture and Forestry\n",
              "8            Services                                          Education\n",
              "11           Services                         Transportation and Storage\n",
              "14           Services      Administrative and Support Service Activities\n",
              "15         Industrial                                       Construction\n",
              "16           Services              Activities of Households as Employers\n",
              "17           Services                                          Education\n",
              "18         Industrial                                       Construction\n",
              "20           Services  Whosale and Retail Trade; Repair of Motor Vehi...\n",
              "24       Agricultural                           Agriculture and Forestry\n",
              "25           Services                                          Education\n",
              "27           Services                         Transportation and Storage\n",
              "28           Services              Activities of Households as Employers\n",
              "29       Agricultural                           Agriculture and Forestry"
            ]
          },
          "execution_count": 292,
          "metadata": {},
          "output_type": "execute_result"
        }
      ],
      "source": [
        "jobs_df[['PUFC16_PKB_GENERAL', 'PUFC16_PKB']].head(20)"
      ]
    },
    {
      "cell_type": "markdown",
      "metadata": {
        "id": "d4TWI_0tGuFv"
      },
      "source": [
        "### Region variable\n",
        "\n",
        "The last categorical variable, `PUFREG`, which represents the region where the respondent originates from.\n",
        "\n",
        "The valueset goes as follows:\n",
        "* 13 = National Capital Region\n",
        "* 14 = Cordillera Administrative Region\n",
        "* 1 = Region I - Ilocos Region\n",
        "* 2 = Region II - Cagayan Valley\n",
        "* 3 = Region III - Central Luzon\n",
        "* 4 = Region IVA - CALABARZON\n",
        "* 17 = Region IVB - MIMAROPA\n",
        "* 5 = Region V - Bicol\n",
        "* 6 = Region VI - Western Visayas\n",
        "* 7 = Region VII - Central Visayas\n",
        "* 8 = Region VIII - Eastern Visayas\n",
        "* 9 = Region IX - Zamboanga Peninsula\n",
        "* 10 = Region X - Northern Mindanao\n",
        "* 11 = Region XI - Davao\n",
        "* 12 = Region XII - SOCCSKSARGEN\n",
        "* 16 = Region XIII - Caraga\n",
        "* 15 = Autonomous Region in Muslim Mindanao\n",
        "\n",
        "We can represent these regions better by displaying their name instead of their corresponding number. We can process this easier by using mapping."
      ]
    },
    {
      "cell_type": "code",
      "execution_count": 293,
      "metadata": {
        "colab": {
          "base_uri": "https://localhost:8080/",
          "height": 649
        },
        "id": "9ikue1HWLBoQ",
        "outputId": "f36d8598-4fc7-46b9-c710-ecddf0cb90a8"
      },
      "outputs": [
        {
          "data": {
            "text/plain": [
              "PUFREG\n",
              "13    10417\n",
              "3      5451\n",
              "6      4815\n",
              "8      4796\n",
              "7      4512\n",
              "10     4487\n",
              "14     4424\n",
              "5      3928\n",
              "16     3682\n",
              "11     3675\n",
              "17     3540\n",
              "12     3479\n",
              "4      3392\n",
              "9      2747\n",
              "15     2732\n",
              "1      2666\n",
              "2      2612\n",
              "Name: count, dtype: int64"
            ]
          },
          "execution_count": 293,
          "metadata": {},
          "output_type": "execute_result"
        }
      ],
      "source": [
        "jobs_df['PUFREG'].value_counts()"
      ]
    },
    {
      "cell_type": "code",
      "execution_count": 294,
      "metadata": {
        "id": "5qef2lirGuFv"
      },
      "outputs": [],
      "source": [
        "PUFREG_mapping = {\n",
        "    13: 'National Capital Region',\n",
        "    14: 'Cordillera Administrative Region',\n",
        "    1: 'Region I - Ilocos Region',\n",
        "    2: 'Region II - Cagayan Valley',\n",
        "    3: 'Region III - Central Luzon',\n",
        "    4: 'Region IVA - CALABARZON',\n",
        "    17: 'Region IVB - MIMAROPA',\n",
        "    5: 'Region V - Bicol',\n",
        "    6: 'Region VI - Western Visayas',\n",
        "    7: 'Region VII - Central Visayas',\n",
        "    8: 'Region VIII - Eastern Visayas',\n",
        "    9: 'Region IX - Zamboanga Peninsula',\n",
        "    10: 'Region X - Northern Mindanao',\n",
        "    11: 'Region XI - Davao',\n",
        "    12: 'Region XII - SOCCSKSARGEN',\n",
        "    16: 'Region XIII - Caraga',\n",
        "    15: 'Autonomous Region in Muslim Mindanao'\n",
        "}"
      ]
    },
    {
      "cell_type": "code",
      "execution_count": 295,
      "metadata": {
        "colab": {
          "base_uri": "https://localhost:8080/",
          "height": 649
        },
        "id": "pahiMrr_GuFv",
        "outputId": "d4fac883-b50e-488a-f631-1854e77e7e14"
      },
      "outputs": [
        {
          "data": {
            "text/plain": [
              "PUFREG\n",
              "National Capital Region                 10417\n",
              "Region III - Central Luzon               5451\n",
              "Region VI - Western Visayas              4815\n",
              "Region VIII - Eastern Visayas            4796\n",
              "Region VII - Central Visayas             4512\n",
              "Region X - Northern Mindanao             4487\n",
              "Cordillera Administrative Region         4424\n",
              "Region V - Bicol                         3928\n",
              "Region XIII - Caraga                     3682\n",
              "Region XI - Davao                        3675\n",
              "Region IVB - MIMAROPA                    3540\n",
              "Region XII - SOCCSKSARGEN                3479\n",
              "Region IVA - CALABARZON                  3392\n",
              "Region IX - Zamboanga Peninsula          2747\n",
              "Autonomous Region in Muslim Mindanao     2732\n",
              "Region I - Ilocos Region                 2666\n",
              "Region II - Cagayan Valley               2612\n",
              "Name: count, dtype: int64"
            ]
          },
          "execution_count": 295,
          "metadata": {},
          "output_type": "execute_result"
        }
      ],
      "source": [
        "jobs_df['PUFREG'] = jobs_df['PUFREG'].map(PUFREG_mapping)\n",
        "jobs_df['PUFREG'].value_counts()"
      ]
    },
    {
      "cell_type": "code",
      "execution_count": 296,
      "metadata": {
        "colab": {
          "base_uri": "https://localhost:8080/"
        },
        "id": "zeUKUPXMGuFv",
        "outputId": "f25c448e-45bd-42f3-fd78-c6e48ae0dd2c"
      },
      "outputs": [
        {
          "name": "stdout",
          "output_type": "stream",
          "text": [
            "<class 'pandas.core.series.Series'>\n",
            "Index: 71355 entries, 0 to 180861\n",
            "Series name: PUFREG\n",
            "Non-Null Count  Dtype \n",
            "--------------  ----- \n",
            "71355 non-null  object\n",
            "dtypes: object(1)\n",
            "memory usage: 1.1+ MB\n"
          ]
        }
      ],
      "source": [
        "jobs_df['PUFREG'].info()"
      ]
    },
    {
      "cell_type": "markdown",
      "metadata": {
        "id": "1LcWyPHKGuFv"
      },
      "source": [
        "As we can see, the datatype is still left as 'object', we want to convert that to a category to be more appropriate."
      ]
    },
    {
      "cell_type": "code",
      "execution_count": 297,
      "metadata": {
        "colab": {
          "base_uri": "https://localhost:8080/"
        },
        "id": "tCv_lfM7GuFv",
        "outputId": "2d604537-d3c1-4d4a-9ded-cbe9ce6b0247"
      },
      "outputs": [
        {
          "name": "stdout",
          "output_type": "stream",
          "text": [
            "<class 'pandas.core.series.Series'>\n",
            "Index: 71355 entries, 0 to 180861\n",
            "Series name: PUFREG\n",
            "Non-Null Count  Dtype   \n",
            "--------------  -----   \n",
            "71355 non-null  category\n",
            "dtypes: category(1)\n",
            "memory usage: 627.8 KB\n"
          ]
        }
      ],
      "source": [
        "jobs_df['PUFREG'] = jobs_df['PUFREG'].astype('category')\n",
        "jobs_df['PUFREG'].info()"
      ]
    },
    {
      "cell_type": "markdown",
      "metadata": {
        "id": "ywZa5qAkGuFv"
      },
      "source": [
        "## **Numerical Variable Preprocessing**\n",
        "\n",
        "After finishing the required preprocessing for all categorical variables, we move on to the preprocessing for numerical variables."
      ]
    },
    {
      "cell_type": "markdown",
      "metadata": {},
      "source": [
        "### Number of Household Members variable"
      ]
    },
    {
      "cell_type": "code",
      "execution_count": 298,
      "metadata": {},
      "outputs": [
        {
          "data": {
            "text/plain": [
              "array([ 3,  4,  5,  1,  6,  8,  7, 12,  2, 14,  9, 10, 11, 13, 18, 16, 15,\n",
              "       23, 17, 19])"
            ]
          },
          "execution_count": 298,
          "metadata": {},
          "output_type": "execute_result"
        }
      ],
      "source": [
        "jobs_df['PUFHHSIZE'].unique()"
      ]
    },
    {
      "cell_type": "markdown",
      "metadata": {},
      "source": [
        "We will also convert the data type to `int` to make it easier to work with."
      ]
    },
    {
      "cell_type": "code",
      "execution_count": 299,
      "metadata": {},
      "outputs": [],
      "source": [
        "jobs_df['PUFHHSIZE'] = jobs_df['PUFHHSIZE'].astype('int')"
      ]
    },
    {
      "cell_type": "markdown",
      "metadata": {},
      "source": [
        "We can check for whitespace values or NaN values to see if there are any."
      ]
    },
    {
      "cell_type": "code",
      "execution_count": 300,
      "metadata": {},
      "outputs": [
        {
          "data": {
            "text/plain": [
              "np.int64(0)"
            ]
          },
          "execution_count": 300,
          "metadata": {},
          "output_type": "execute_result"
        }
      ],
      "source": [
        "# Turning the white space value into NaN\n",
        "jobs_df['PUFHHSIZE'] = jobs_df['PUFHHSIZE'].replace(r'^\\s*$', np.nan, regex=True)\n",
        "\n",
        "jobs_df['PUFHHSIZE'].isnull().sum()"
      ]
    },
    {
      "cell_type": "markdown",
      "metadata": {},
      "source": [
        "We can proceed to checking the distribution of the variable."
      ]
    },
    {
      "cell_type": "code",
      "execution_count": 301,
      "metadata": {},
      "outputs": [
        {
          "data": {
            "image/png": "[encoded data removed]",
            "text/plain": [
              "<Figure size 1000x800 with 1 Axes>"
            ]
          },
          "metadata": {},
          "output_type": "display_data"
        }
      ],
      "source": [
        "plt.figure(figsize=(10, 8))\n",
        "plt.boxplot(x=jobs_df['PUFHHSIZE'])\n",
        "plt.title('Number of Household Members Distribution')\n",
        "plt.show()"
      ]
    },
    {
      "cell_type": "markdown",
      "metadata": {
        "id": "BHRR21o9GuFx"
      },
      "source": [
        "### Basic Pay variable"
      ]
    },
    {
      "cell_type": "code",
      "execution_count": 302,
      "metadata": {
        "colab": {
          "base_uri": "https://localhost:8080/"
        },
        "id": "0532SQLWGuFx",
        "outputId": "4b0cf71a-b562-4481-e329-4ecfac82962a",
        "scrolled": false
      },
      "outputs": [
        {
          "data": {
            "text/plain": [
              "array(['     ', '00250', '00115', ..., '00728', '01573', '00922'],\n",
              "      shape=(1152,), dtype=object)"
            ]
          },
          "execution_count": 302,
          "metadata": {},
          "output_type": "execute_result"
        }
      ],
      "source": [
        "jobs_df['PUFC25_PBASIC'].unique()"
      ]
    },
    {
      "cell_type": "code",
      "execution_count": 303,
      "metadata": {
        "colab": {
          "base_uri": "https://localhost:8080/"
        },
        "id": "Ac68-9sDGuFx",
        "outputId": "a309a4a4-f958-4f3e-9213-c10303709794"
      },
      "outputs": [
        {
          "data": {
            "text/plain": [
              "np.int64(34767)"
            ]
          },
          "execution_count": 303,
          "metadata": {},
          "output_type": "execute_result"
        }
      ],
      "source": [
        "# Turning the white space value into NaN\n",
        "jobs_df['PUFC25_PBASIC'] = jobs_df['PUFC25_PBASIC'].replace(r'^\\s*$', np.nan, regex=True)\n",
        "\n",
        "jobs_df['PUFC25_PBASIC'].isnull().sum()"
      ]
    },
    {
      "cell_type": "markdown",
      "metadata": {
        "id": "2B20dZ3uYsmh"
      },
      "source": [
        "In order to deal with the `NaN` values, we will set the value to 0 and convert the data type into integer to make it easier to work with later on.\n",
        "\n",
        "We will also convert the data type to `int` to make it easier to work with."
      ]
    },
    {
      "cell_type": "code",
      "execution_count": 304,
      "metadata": {
        "colab": {
          "base_uri": "https://localhost:8080/"
        },
        "id": "3o7taT-7GuFx",
        "outputId": "635a3446-0263-4492-c225-5cf622ebe5b9"
      },
      "outputs": [
        {
          "name": "stderr",
          "output_type": "stream",
          "text": [
            "C:\\Users\\gicac\\AppData\\Local\\Temp\\ipykernel_7404\\3495477199.py:2: FutureWarning: A value is trying to be set on a copy of a DataFrame or Series through chained assignment using an inplace method.\n",
            "The behavior will change in pandas 3.0. This inplace method will never work because the intermediate object on which we are setting values always behaves as a copy.\n",
            "\n",
            "For example, when doing 'df[col].method(value, inplace=True)', try using 'df.method({col: value}, inplace=True)' or df[col] = df[col].method(value) instead, to perform the operation inplace on the original object.\n",
            "\n",
            "\n",
            "  jobs_df['PUFC25_PBASIC'].fillna(0, inplace=True)\n"
          ]
        },
        {
          "data": {
            "text/plain": [
              "array([   0,  250,  115, ...,  728, 1573,  922], shape=(1152,))"
            ]
          },
          "execution_count": 304,
          "metadata": {},
          "output_type": "execute_result"
        }
      ],
      "source": [
        "# Setting the null value to 0\n",
        "jobs_df['PUFC25_PBASIC'].fillna(0, inplace=True)\n",
        "\n",
        "# Setting the dtype to int\n",
        "jobs_df['PUFC25_PBASIC'] = jobs_df['PUFC25_PBASIC'].astype(int)\n",
        "\n",
        "jobs_df['PUFC25_PBASIC'].unique()"
      ]
    },
    {
      "cell_type": "markdown",
      "metadata": {
        "id": "5q2k8po5j36e"
      },
      "source": [
        "Since `0` represent data that we want to disregard, we will tackle the rest of Basic Pay per Day without the `0` values.\n",
        "\n",
        "We will also visualize our data so we can see the distribution of our data."
      ]
    },
    {
      "cell_type": "code",
      "execution_count": 305,
      "metadata": {
        "colab": {
          "base_uri": "https://localhost:8080/",
          "height": 545
        },
        "id": "Xzgmm_UYGuFx",
        "outputId": "8e894376-96c8-412e-f5b0-4d6cfa3337ca"
      },
      "outputs": [
        {
          "data": {
            "image/png": "[encoded data removed]",
            "text/plain": [
              "<Figure size 800x600 with 1 Axes>"
            ]
          },
          "metadata": {},
          "output_type": "display_data"
        }
      ],
      "source": [
        "jobs_df = jobs_df[jobs_df['PUFC25_PBASIC'] != 0]\n",
        "\n",
        "plt.figure(figsize=(8, 6))\n",
        "jitter = np.random.normal(0, 0.1, size=len(jobs_df['PUFC25_PBASIC']))\n",
        "plt.plot(jobs_df['PUFC25_PBASIC'], jitter, 'go', markersize=2)\n",
        "plt.title('Basic Pay per Day')\n",
        "plt.show()"
      ]
    },
    {
      "cell_type": "markdown",
      "metadata": {
        "id": "CBDgiRt_FJCu"
      },
      "source": [
        "Since our data is skewed, we will apply log transformation in order to normalize our data."
      ]
    },
    {
      "cell_type": "code",
      "execution_count": 306,
      "metadata": {
        "colab": {
          "base_uri": "https://localhost:8080/",
          "height": 458
        },
        "id": "dg9raDxhGuFx",
        "outputId": "b26f0fd0-cf15-400e-fe51-734ab8ade21d",
        "scrolled": false
      },
      "outputs": [
        {
          "data": {
            "text/plain": [
              "2         5.521461\n",
              "4         4.744932\n",
              "5         5.298317\n",
              "14        5.814131\n",
              "15        5.857933\n",
              "            ...   \n",
              "180837    5.659482\n",
              "180844    5.438079\n",
              "180845    6.805723\n",
              "180847    5.768321\n",
              "180848    6.253829\n",
              "Name: PUFC25_PBASIC, Length: 36588, dtype: float64"
            ]
          },
          "execution_count": 306,
          "metadata": {},
          "output_type": "execute_result"
        }
      ],
      "source": [
        "jobs_df['PUFC25_PBASIC'] = np.log(jobs_df['PUFC25_PBASIC'])\n",
        "\n",
        "jobs_df['PUFC25_PBASIC']"
      ]
    },
    {
      "cell_type": "markdown",
      "metadata": {
        "id": "FcHAEEoUFfVF"
      },
      "source": [
        "We will visualize the data again to check for outliers."
      ]
    },
    {
      "cell_type": "code",
      "execution_count": 307,
      "metadata": {
        "colab": {
          "base_uri": "https://localhost:8080/",
          "height": 545
        },
        "id": "Ay14Hd8UGuFx",
        "outputId": "24355c40-e517-4638-8d6f-4194ae705d9a"
      },
      "outputs": [
        {
          "data": {
            "image/png": "[encoded data removed]",
            "text/plain": [
              "<Figure size 800x600 with 1 Axes>"
            ]
          },
          "metadata": {},
          "output_type": "display_data"
        }
      ],
      "source": [
        "plt.figure(figsize=(8, 6))\n",
        "jitter = np.random.normal(0, 0.1, size=len(jobs_df['PUFC25_PBASIC']))\n",
        "plt.plot(jobs_df['PUFC25_PBASIC'], jitter, 'go', markersize=2)\n",
        "plt.title('Basic Pay per Day')\n",
        "plt.show()"
      ]
    },
    {
      "cell_type": "markdown",
      "metadata": {
        "id": "nIL9XYrSFqde"
      },
      "source": [
        "Since we still have some outliers, we can use the interquartile range and adjust its threshold."
      ]
    },
    {
      "cell_type": "code",
      "execution_count": 308,
      "metadata": {
        "colab": {
          "base_uri": "https://localhost:8080/"
        },
        "id": "6vRxiOCKGuFx",
        "outputId": "5ce48b2c-cbc9-47bb-871c-752959f23719"
      },
      "outputs": [
        {
          "name": "stdout",
          "output_type": "stream",
          "text": [
            "Number of outliers: 0\n"
          ]
        }
      ],
      "source": [
        "# Computing for the IQR\n",
        "\n",
        "lbp_q1 = jobs_df['PUFC25_PBASIC'].quantile(0.25)\n",
        "lbp_q3 = jobs_df['PUFC25_PBASIC'].quantile(0.75)\n",
        "lbp_iqr = lbp_q3 - lbp_q1\n",
        "\n",
        "# Computing for the adjusted IQR thresholds\n",
        "\n",
        "lbp_lw = lbp_q1 - 2 * lbp_iqr\n",
        "lbp_uw = lbp_q3 + 2 * lbp_iqr\n",
        "\n",
        "# Removing the outliers from the DF\n",
        "jobs_df = jobs_df[(jobs_df['PUFC25_PBASIC'] >= lbp_lw) & (jobs_df['PUFC25_PBASIC'] <= lbp_uw)]\n",
        "\n",
        "outlier_count_after = jobs_df[(jobs_df['PUFC25_PBASIC'] < lbp_lw) | (jobs_df['PUFC25_PBASIC'] > lbp_uw)].shape[0]\n",
        "print(\"Number of outliers:\", outlier_count_after)"
      ]
    },
    {
      "cell_type": "markdown",
      "metadata": {
        "id": "b6QCTNxbGuFv"
      },
      "source": [
        "### Age variable\n",
        "\n",
        "`PUFC05_AGE` represents the age of the respondent as of their last birthday.\n",
        "\n",
        "We first need to assess what range we are dealing with for the age."
      ]
    },
    {
      "cell_type": "code",
      "execution_count": 309,
      "metadata": {
        "colab": {
          "base_uri": "https://localhost:8080/"
        },
        "id": "QJyOV9XoGuFw",
        "outputId": "ee275ce5-9004-42a7-97cc-07a261fd893b"
      },
      "outputs": [
        {
          "data": {
            "text/plain": [
              "array([19, 41, 20, 23, 71, 54, 27, 46, 38, 35, 51, 22, 44, 40, 26, 45, 52,\n",
              "       55, 30, 62, 33, 29, 24, 21, 34, 25, 37, 43, 17, 60, 28, 42, 50, 58,\n",
              "       57, 36, 18, 70, 48, 47, 61, 31, 32, 49, 39, 68, 53, 16, 56, 65, 63,\n",
              "       59, 69, 87, 64, 75, 76, 15, 66, 67, 72, 85, 74, 83, 73, 77, 79, 78,\n",
              "       80, 91, 81, 99, 82])"
            ]
          },
          "execution_count": 309,
          "metadata": {},
          "output_type": "execute_result"
        }
      ],
      "source": [
        "jobs_df['PUFC05_AGE'].unique()"
      ]
    },
    {
      "cell_type": "markdown",
      "metadata": {
        "id": "J-mrjbVukCwT"
      },
      "source": [
        "We can see that some of the unique variables go above your typical working age so we need to check if there are outliers within our data."
      ]
    },
    {
      "cell_type": "code",
      "execution_count": 310,
      "metadata": {
        "colab": {
          "base_uri": "https://localhost:8080/"
        },
        "id": "v6kSjly5_OHp",
        "outputId": "3c18e94a-86b5-48d3-ea76-5397cfcea64a"
      },
      "outputs": [],
      "source": [
        "jobs_df['PUFC05_AGE'] = jobs_df['PUFC05_AGE'].astype(float)"
      ]
    },
    {
      "cell_type": "code",
      "execution_count": 311,
      "metadata": {
        "colab": {
          "base_uri": "https://localhost:8080/",
          "height": 699
        },
        "id": "xT3xtRYwGuFw",
        "outputId": "34deb9e5-d44d-4bfe-c88b-2b6f924e5ffa"
      },
      "outputs": [
        {
          "data": {
            "image/png": "[encoded data removed]",
            "text/plain": [
              "<Figure size 1000x800 with 1 Axes>"
            ]
          },
          "metadata": {},
          "output_type": "display_data"
        }
      ],
      "source": [
        "# Initial Boxplot for the Age Distribution\n",
        "\n",
        "plt.figure(figsize=(10, 8))\n",
        "plt.boxplot(x=jobs_df['PUFC05_AGE'])\n",
        "plt.title('Age Distribution')\n",
        "plt.show()"
      ]
    },
    {
      "cell_type": "markdown",
      "metadata": {
        "id": "ajFEVGczkQvr"
      },
      "source": [
        "Using the boxplot, we can easily spot the outliers in our data represented by the circles.\n",
        "\n",
        "Since the outliers seem to be fairly manageable, we can do mean imputation to normalize the data."
      ]
    },
    {
      "cell_type": "code",
      "execution_count": 312,
      "metadata": {
        "colab": {
          "base_uri": "https://localhost:8080/"
        },
        "id": "vuWINskcGuFw",
        "outputId": "4d85be1a-2622-4bbc-d1bb-9d5d3cade426"
      },
      "outputs": [
        {
          "data": {
            "text/plain": [
              "8"
            ]
          },
          "execution_count": 312,
          "metadata": {},
          "output_type": "execute_result"
        }
      ],
      "source": [
        "# Computing for the IQR\n",
        "\n",
        "age_q1 = jobs_df['PUFC05_AGE'].quantile(0.25)\n",
        "age_q3 = jobs_df['PUFC05_AGE'].quantile(0.75)\n",
        "age_iqr = age_q3 - age_q1\n",
        "\n",
        "# Getting the outliers\n",
        "\n",
        "age_lw = age_q1 - 2 * age_iqr\n",
        "age_uw = age_q3 + 2 * age_iqr\n",
        "age_outliers = jobs_df[(jobs_df['PUFC05_AGE'] < age_lw) | (jobs_df['PUFC05_AGE'] > age_uw)]\n",
        "age_outliers['PUFC05_AGE'].shape[0]"
      ]
    },
    {
      "cell_type": "markdown",
      "metadata": {
        "id": "7sjsyKPd_mU5"
      },
      "source": [
        "Let's get the mean of the ages without the outliers"
      ]
    },
    {
      "cell_type": "code",
      "execution_count": 313,
      "metadata": {
        "colab": {
          "base_uri": "https://localhost:8080/"
        },
        "id": "_gTiH36e_7GB",
        "outputId": "1057bb4b-8829-4ecb-e295-4e40edc90450"
      },
      "outputs": [
        {
          "data": {
            "text/plain": [
              "np.float64(35.33282069590531)"
            ]
          },
          "execution_count": 313,
          "metadata": {},
          "output_type": "execute_result"
        }
      ],
      "source": [
        "mean_val = jobs_df[(jobs_df['PUFC05_AGE'] >= age_lw) & (jobs_df['PUFC05_AGE'] <= age_uw)]['PUFC05_AGE'].mean()\n",
        "mean_val"
      ]
    },
    {
      "cell_type": "markdown",
      "metadata": {
        "id": "QOszuZYoABoI"
      },
      "source": [
        "After getting the mean, we will use it to set the values of the outliers for the mean imputation."
      ]
    },
    {
      "cell_type": "code",
      "execution_count": 314,
      "metadata": {
        "colab": {
          "base_uri": "https://localhost:8080/"
        },
        "id": "EiPof6EYARiw",
        "outputId": "2b752173-df42-461c-869c-1f3e52650946"
      },
      "outputs": [
        {
          "name": "stdout",
          "output_type": "stream",
          "text": [
            "Number of outliers after imputation: 0\n"
          ]
        }
      ],
      "source": [
        "jobs_df.loc[(jobs_df['PUFC05_AGE'] < age_lw) | (jobs_df['PUFC05_AGE'] > age_uw), 'PUFC05_AGE'] = mean_val\n",
        "outlier_count_after = jobs_df[(jobs_df['PUFC05_AGE'] < age_lw) | (jobs_df['PUFC05_AGE'] > age_uw)].shape[0]\n",
        "print(\"Number of outliers after imputation:\", outlier_count_after)"
      ]
    },
    {
      "cell_type": "markdown",
      "metadata": {
        "id": "Jf_8ifzgGuFw"
      },
      "source": [
        "### Work Hours per Day variable\n",
        "\n",
        "`PUFC18_PNWHRS` represent the different normal working hours per day ranging from 1 to 16."
      ]
    },
    {
      "cell_type": "code",
      "execution_count": 315,
      "metadata": {
        "colab": {
          "base_uri": "https://localhost:8080/"
        },
        "id": "6gMUKYM1GuFw",
        "outputId": "00ad111e-8061-4e8d-838f-44e03f9f4cdc"
      },
      "outputs": [
        {
          "data": {
            "text/plain": [
              "array(['08', '12', '04', '10', '09', '06', '03', '05', '07', '01', '02',\n",
              "       '15', '11', '14', '16', '13'], dtype=object)"
            ]
          },
          "execution_count": 315,
          "metadata": {},
          "output_type": "execute_result"
        }
      ],
      "source": [
        "jobs_df['PUFC18_PNWHRS'].unique()"
      ]
    },
    {
      "cell_type": "markdown",
      "metadata": {
        "id": "jeiokhPrlW3D"
      },
      "source": [
        "We can convert this data into an integer type in order to easily work with the data later on."
      ]
    },
    {
      "cell_type": "code",
      "execution_count": 316,
      "metadata": {
        "colab": {
          "base_uri": "https://localhost:8080/"
        },
        "id": "ckalHtw6VnAy",
        "outputId": "9194105f-901d-42c2-bef0-dfc8d2ee60c2"
      },
      "outputs": [
        {
          "data": {
            "text/plain": [
              "array([ 8, 12,  4, 10,  9,  6,  3,  5,  7,  1,  2, 15, 11, 14, 16, 13])"
            ]
          },
          "execution_count": 316,
          "metadata": {},
          "output_type": "execute_result"
        }
      ],
      "source": [
        "jobs_df['PUFC18_PNWHRS'] = jobs_df['PUFC18_PNWHRS'].astype(int)\n",
        "jobs_df['PUFC18_PNWHRS'].unique()"
      ]
    },
    {
      "cell_type": "markdown",
      "metadata": {
        "id": "tXqh2fj0GuFw"
      },
      "source": [
        "### Total Work Hours variable\n",
        "\n",
        "`PUFC19_PHOURS` represent the total work hours in the past week, including the primary and secondary occupation (if any).\n",
        "\n",
        "The value set includes numbers ranging from 0 to 112, for the work hours wherein 0 represents the non-workers in the survey and 999 for not reported."
      ]
    },
    {
      "cell_type": "code",
      "execution_count": 317,
      "metadata": {
        "colab": {
          "base_uri": "https://localhost:8080/"
        },
        "id": "n2xCx2KgGuFw",
        "outputId": "46c785d6-2857-46cb-886e-e924051e84f0"
      },
      "outputs": [
        {
          "data": {
            "text/plain": [
              "array(['024', '072', '048', '060', '016', '040', '070', '045', '032',\n",
              "       '054', '042', '006', '028', '008', '030', '056', '036', '020',\n",
              "       '015', '009', '021', '084', '000', '050', '018', '012', '014',\n",
              "       '004', '035', '044', '090', '077', '049', '025', '052', '064',\n",
              "       '059', '057', '010', '027', '063', '066', '003', '112', '096',\n",
              "       '078', '091', '098', '022', '055', '007', '002', '058', '005',\n",
              "       '075', '033', '105', '062', '031', '011', '034', '026', '094',\n",
              "       '065', '001', '039', '041', '092', '046', '038', '051', '080',\n",
              "       '074', '068', '061', '019', '088', '069', '073', '082', '013',\n",
              "       '081', '053', '043', '047', '067', '037', '108'], dtype=object)"
            ]
          },
          "execution_count": 317,
          "metadata": {},
          "output_type": "execute_result"
        }
      ],
      "source": [
        "jobs_df['PUFC19_PHOURS'].unique()"
      ]
    },
    {
      "cell_type": "markdown",
      "metadata": {
        "id": "QOcuOZfwmxGx"
      },
      "source": [
        "The data does not include 0 and 999 anymore as we have been able to filter the data previously to only accommodate the working respondents.\n",
        "\n",
        "However, similar to our previous variable, we can also convert the data type into integer so it will be easier to work with it later on."
      ]
    },
    {
      "cell_type": "code",
      "execution_count": null,
      "metadata": {
        "colab": {
          "base_uri": "https://localhost:8080/"
        },
        "id": "55SG4DH-GuFw",
        "outputId": "3c5cdc9d-aac4-45d8-b17f-ddc1a323853e"
      },
      "outputs": [
        {
          "data": {
            "text/plain": [
              "array([ 24,  72,  48,  60,  16,  40,  70,  45,  32,  54,  42,   6,  28,\n",
              "         8,  30,  56,  36,  20,  15,   9,  21,  84,   0,  50,  18,  12,\n",
              "        14,   4,  35,  44,  90,  77,  49,  25,  52,  64,  59,  57,  10,\n",
              "        27,  63,  66,   3, 112,  96,  78,  91,  98,  22,  55,   7,   2,\n",
              "        58,   5,  75,  33, 105,  62,  31,  11,  34,  26,  94,  65,   1,\n",
              "        39,  41,  92,  46,  38,  51,  80,  74,  68,  61,  19,  88,  69,\n",
              "        73,  82,  13,  81,  53,  43,  47,  67,  37, 108])"
            ]
          },
          "execution_count": 318,
          "metadata": {},
          "output_type": "execute_result"
        }
      ],
      "source": [
        "jobs_df['PUFC19_PHOURS'] = jobs_df['PUFC19_PHOURS'].astype(int)\n",
        "jobs_df['PUFC19_PHOURS'].unique()"
      ]
    }
  ],
  "metadata": {
    "colab": {
      "provenance": [],
      "toc_visible": true
    },
    "kernelspec": {
      "display_name": "Python 3",
      "language": "python",
      "name": "python3"
    },
    "language_info": {
      "codemirror_mode": {
        "name": "ipython",
        "version": 3
      },
      "file_extension": ".py",
      "mimetype": "text/x-python",
      "name": "python",
      "nbconvert_exporter": "python",
      "pygments_lexer": "ipython3",
      "version": "3.13.1"
    }
  },
  "nbformat": 4,
  "nbformat_minor": 0
}
