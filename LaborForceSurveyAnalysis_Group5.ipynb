{
  "cells": [
    {
      "cell_type": "markdown",
      "metadata": {
        "id": "view-in-github",
        "colab_type": "text"
      },
      "source": [
        "<a href=\"https://colab.research.google.com/github/clavzno/STINTSY/blob/main/LaborForceSurveyAnalysis_Group5.ipynb\" target=\"_parent\"><img src=\"https://colab.research.google.com/assets/colab-badge.svg\" alt=\"Open In Colab\"/></a>"
      ]
    },
    {
      "cell_type": "markdown",
      "metadata": {
        "id": "COwHN_tqVeOF"
      },
      "source": [
        "# Jupyter Notebook - Labor Force Survey 2016\n",
        "*Made by STINTSY S17 | Group #5*\n",
        "\n",
        "---\n",
        "\n",
        "# Dataset Overview\n",
        "- The **Labor Force Survey 2016** dataset was collected by the **Philippine Statistics Authority (PSA)**, it provides detailed information about employment, labor force participation, and job-related activities in the Philippines. The dataset includes attributes such as employment status, occupation, hours worked, job search activities, and demographic information such as age, sex, and education level.\n",
        "\n",
        "### Data Collection Process\n",
        "- *// To-do*\n",
        "\n",
        "#### Implications of Data Collection\n",
        "- *// To-do*\n",
        "\n",
        "### Dataset Structure\n",
        "- **Rows**: Each row represents an individual respondent in the survey.\n",
        "- **Columns**: Each column represents a specific attribute or feature of the respondent, such as age, sex, employment status, hours worked, etc.\n",
        "- **Number of Instances**: The dataset contains **180863 rows** (excluding the header row).\n",
        "- **Number of Features**: The dataset contains **50 columns**.\n",
        "\n",
        "### Features in the Dataset\n",
        "Below is a description of all 50 features in the dataset:\n",
        "1. **PUFREG**: Region\n",
        "2. **PUFPXV**: Province code\n",
        "3. **PUFPRRCD**: Province recode\n",
        "4. **PUFFIHNUM**: Household unique sequential number\n",
        "5. **PUFURB2K10**: Urban/Rural classification\n",
        "6. **PUFPWGTFIN**: Final weight based on projection\n",
        "7. **PUFSVYMO**: Survey month\n",
        "8. **PUFSVYYR**: Survey year\n",
        "9. **PUFPSU**: PSU number\n",
        "10. **PUFRPL**: Replicate\n",
        "11. **PUFFHISIZE**: Number of household members\n",
        "12. **PUFCO1_LNO**: Line number for household members\n",
        "13. **PUFCO3_REL**: Relationship to household head\n",
        "14. **PUFCO4_SEX**: Sex of the respondent\n",
        "15. **PUFCO5_AGE**: Age of the respondent\n",
        "16. **PUFCO6_MSTAT**: Marital status\n",
        "17. **PUFC07_GRADE**: Highest grade completed\n",
        "18. **PUFC08_CURSCH**: Currently attending school\n",
        "19. **PUFC09_GRADTECH**: Graduate of technical/vocational course\n",
        "20. **PUFC10_CONWR**: Category of OFW\n",
        "21. **PUFC11_WORK**: Worked during the past week\n",
        "22. **PUFC12_JOB**: Had a job or business during the past week\n",
        "23. **PUFC14_PROCC**: Primary occupation\n",
        "24. **PUFC16_PKB**: Kind of business/industry\n",
        "25. **PUFC17_NATEM**: Nature of employment\n",
        "26. **PUFC18_PNWHRS**: Normal working hours per day\n",
        "27. **PUFC19_PHOURS**: Total hours worked during the past week\n",
        "28. **PUFC20_PWMORE**: Wanted more hours of work\n",
        "29. **PUFC21_PLADDW**: Looked for additional work\n",
        "30. **PUFC22_PFWRK**: First time to do any work\n",
        "31. **PUFC23_PCLASS**: Class of worker\n",
        "32. **PUFC24_PBASIS**: Basis of payment\n",
        "33. **PUFC25_PBASIC**: Basic pay per day\n",
        "34. **PUFC26_OJOB**: Had other job or business\n",
        "35. **PUFC27_NJOBS**: Number of jobs\n",
        "36. **PUFC28_THOURS**: Total hours worked for all jobs\n",
        "37. **PUFC29_WWM48H**: Reason for not working more than 48 hours\n",
        "38. **PUFC30_LOOKW**: Looked for work or tried to establish a business\n",
        "39. **PUFC31_FLWRK**: First time looking for work\n",
        "40. **PUFC32_JOBSM**: Job search method\n",
        "41. **PUFC33_WEEKS**: Weeks spent looking for work\n",
        "42. **PUFC34_WYNOT**: Reason for not looking for work\n",
        "43. **PUFC35_LTLOOKW**: Last time looked for work\n",
        "44. **PUFC36_AVAIL**: Availability for work\n",
        "45. **PUFC37_WILLING**: Willingness to take up work\n",
        "46. **PUFC38_PREVJOB**: Worked at any time before\n",
        "47. **PUFC40_POCC**: Last occupation\n",
        "48. **PUFC41_WQTR**: Worked during the past quarter\n",
        "49. **PUFC43_QKB**: Kind of business for the past quarter\n",
        "50. **PUFNEWEMPSTAT**: New employment criteria\n",
        "\n",
        "---"
      ]
    },
    {
      "cell_type": "code",
      "execution_count": 6,
      "metadata": {
        "id": "7ItbqyTBJY_f",
        "outputId": "0a29abf3-d50d-4dca-8245-43aee581ae8d",
        "colab": {
          "base_uri": "https://localhost:8080/"
        }
      },
      "outputs": [
        {
          "output_type": "stream",
          "name": "stdout",
          "text": [
            "   PUFREG  PUFPRV  PUFPRRCD  PUFHHNUM  PUFURB2K10  PUFPWGTFIN  PUFSVYMO  \\\n",
            "0       1      28      2800         1           2    405.2219         4   \n",
            "1       1      28      2800         1           2    388.8280         4   \n",
            "2       1      28      2800         1           2    406.1194         4   \n",
            "3       1      28      2800         2           2    405.2219         4   \n",
            "4       1      28      2800         2           2    384.3556         4   \n",
            "\n",
            "   PUFSVYYR  PUFPSU  PUFRPL  ...  PUFC33_WEEKS  PUFC34_WYNOT  PUFC35_LTLOOKW  \\\n",
            "0      2016     217       1  ...                                               \n",
            "1      2016     217       1  ...                                               \n",
            "2      2016     217       1  ...                                               \n",
            "3      2016     217       1  ...                                               \n",
            "4      2016     217       1  ...                                               \n",
            "\n",
            "   PUFC36_AVAIL  PUFC37_WILLING PUFC38_PREVJOB PUFC40_POCC PUFC41_WQTR  \\\n",
            "0                                                                    1   \n",
            "1                                                                    1   \n",
            "2                                                                    1   \n",
            "3                                                                    1   \n",
            "4                                                                    1   \n",
            "\n",
            "  PUFC43_QKB PUFNEWEMPSTAT  \n",
            "0         01             1  \n",
            "1         01             1  \n",
            "2         01             1  \n",
            "3         01             1  \n",
            "4         96             1  \n",
            "\n",
            "[5 rows x 50 columns]\n"
          ]
        }
      ],
      "source": [
        "import pandas as pd\n",
        "file_path = \"https://raw.githubusercontent.com/clavzno/STINTSY/refs/heads/main/data/LFS%20PUF%20April%202016.CSV?token=GHSAT0AAAAAAC5BCOLN7OEPRILIFT6TJALWZ7BPJIA\"\n",
        "df = pd.read_csv(file_path)\n",
        "print(df.head())"
      ]
    }
  ],
  "metadata": {
    "colab": {
      "provenance": [],
      "include_colab_link": true
    },
    "kernelspec": {
      "display_name": "Python 3",
      "name": "python3"
    },
    "language_info": {
      "codemirror_mode": {
        "name": "ipython",
        "version": 3
      },
      "file_extension": ".py",
      "mimetype": "text/x-python",
      "name": "python",
      "nbconvert_exporter": "python",
      "pygments_lexer": "ipython3",
      "version": "3.13.1"
    }
  },
  "nbformat": 4,
  "nbformat_minor": 0
}