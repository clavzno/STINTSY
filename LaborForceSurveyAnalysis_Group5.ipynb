{
  "cells": [
    {
      "cell_type": "markdown",
      "metadata": {},
      "source": [
        "# Jupyter Notebook - Labor Force Survey 2016\n",
        "*Made by STINTSY S17 | Group #5*\n",
        "\n",
        "---\n",
        "\n",
        "# Dataset Overview\n",
        "- The **Labor Force Survey 2016** dataset was collected by the **Philippine Statistics Authority (PSA)**, it provides detailed information about employment, labor force participation, and job-related activities in the Philippines. The dataset includes attributes such as employment status, occupation, hours worked, job search activities, and demographic information such as age, sex, and education level.\n",
        "\n",
        "### Data Collection Process\n",
        "- *// To-do*\n",
        "\n",
        "#### Implications of Data Collection\n",
        "- *// To-do*\n",
        "\n",
        "### Dataset Structure\n",
        "- **Rows**: Each row represents an individual respondent in the survey.\n",
        "- **Columns**: Each column represents a specific attribute or feature of the respondent, such as age, sex, employment status, hours worked, etc.\n",
        "- **Number of Instances**: The dataset contains **180863 rows** (excluding the header row).\n",
        "- **Number of Features**: The dataset contains **50 columns**.\n",
        "\n",
        "### Features in the Dataset\n",
        "Below is a description of all 50 features in the dataset:\n",
        "**Demographic Variables**:\n",
        "* `PUFREG`: Region (categorical)\n",
        "* `PUFHHSIZE`: Number of household members (numerical)\n",
        "* `PUFC04_SEX`: Sex of the person (binary categorical)\n",
        "* `PUFC05_AGE`: Age of the person (numerical)\n",
        "* `PUFC06_MSTAT`: Marital status of the person (categorical)\n",
        "* `PUFC07_GRADE`: Highest grade completed (numerical)\n",
        "\n",
        "**Education Variables**:\n",
        "* `PUFC08_CURSCH`: Currently attending school (binary categorical)\n",
        "* `PUFC09_GRADTECH`: Graduate of a technical/vocational course (binary categorical)\n",
        "\n",
        "**Employment Variables**:\n",
        "* `PUFC11_WORK`: Worked in the past week (binary categorical)\n",
        "* `PUFC12_JOB`: Had a job/business in the past week (binary categorical)\n",
        "* `PUFC14_PROCC`: Primary occupation (categorical)\n",
        "* `PUFC16_PKB`: Kind of business or industry (categorical)\n",
        "* `PUFC17_NATEM`: Nature of employment (categorical)\n",
        "* `PUFC18_PNWHRS`: Normal working hours per day (numerical)\n",
        "* `PUFC19_PHOURS`: Total hours worked in the past week (numerical)\n",
        "* `PUFC20_PWMORE`: Want more hours of work (binary categorical)\n",
        "* `PUFC21_PLADDW`: Looked for additional work (binary categorical)\n",
        "* `PUFC22_PFWRK`: First time doing any work (binary categorical)\n",
        "* `PUFC23_PCLASS`: Class of worker for primary occupation (categorical)\n",
        "* `PUFC24_PBASIS`: Basis of payment for primary occupation (categorical)\n",
        "* `PUFC25_PBASIC`: Basic pay per day (numerical)\n",
        "* `PUFC26_OJOB`: Had another job/business (binary categorical)\n",
        "* `PUFC27_NJOBS`: Number of jobs in the past week (numerical)\n",
        "* `PUFC28_THOURS`: Total hours worked for all jobs (numerical)\n",
        "* `PUFNEWEMPSTAT`: New Employment Criteria (categorical)\n",
        "\n",
        "**Job Search Variables**:\n",
        "* `PUFC30_LOOKW`: Looked for work or tried to establish a business (binary categorical)\n",
        "* `PUFC31_FLWRK`: First time looking for work (binary categorical)\n",
        "* `PUFC32_JOBSM`: Job search method (categorical)\n",
        "* `PUFC33_WEEKS`: Weeks spent looking for work (numerical)\n",
        "* `UFC34_WYNOT`: Reason for not looking for work (categorical)\n",
        "* `PUFC35_LTLOOKW`: Last time looked for work (numerical)\n",
        "* `PUFC36_AVAIL`: Available for work (binary categorical)\n",
        "* `PUFC37_WILLING`: Willing to take up work (binary categorical)\n",
        "* `PUFC38_PREVJOB`: Worked at any time before (binary categorical)\n",
        "* `PUFC40_POCC`: Last occupation (categorical)\n",
        "* `PUFC41_WQTR`: Worked or had a job during the past quarter (binary categorical)\n",
        "* `PUFC43_QKB`: Kind of business for the past quarter (categorical)\n",
        "\n",
        "**Date Variables**:\n",
        "* `PUFSVYMO`: Survey month (numerical)\n",
        "* `PUFSVYYR`: Survey year (numerical)\n",
        "* `PUFPSU`: PSU number (numerical)\n",
        "* `PUFRPL`: Replicate (numerical)\n",
        "* `PUFPWGTFIN`: Final weight based on projection (numerical)\n",
        "\n",
        "Source: https://psada.psa.gov.ph/catalog/67/data-dictionary/F1?file_name=lfs_april2016\n",
        "\n",
        "---"
      ]
    },
    {
      "cell_type": "markdown",
      "metadata": {
        "colab_type": "text",
        "id": "view-in-github"
      },
      "source": [
        "<a href=\"https://colab.research.google.com/github/clavzno/STINTSY/blob/main/LaborForceSurveyAnalysis_Group5.ipynb\" target=\"_parent\"><img src=\"https://colab.research.google.com/assets/colab-badge.svg\" alt=\"Open In Colab\"/></a>"
      ]
    },
    {
      "cell_type": "code",
      "execution_count": 170,
      "metadata": {
        "colab": {
          "base_uri": "https://localhost:8080/"
        },
        "id": "7ItbqyTBJY_f",
        "outputId": "19c4c927-ad4e-424c-dd9f-bc50e5695144"
      },
      "outputs": [],
      "source": [
        "import pandas as pd\n",
        "import matplotlib.pyplot as plt\n",
        "file_path = \"https://raw.githubusercontent.com/clavzno/STINTSY/refs/heads/main/data/LFS%20PUF%20April%202016.CSV?token=GHSAT0AAAAAAC5BCOLN7OEPRILIFT6TJALWZ7BPJIA\"\n",
        "lfs_df = pd.read_csv(file_path)\n",
        "print(lfs_df.head())"
      ]
    },
    {
      "cell_type": "markdown",
      "metadata": {
        "id": "viwKlkFdGuFo"
      },
      "source": [
        "# Section 4: **Data Cleaning**"
      ]
    },
    {
      "cell_type": "markdown",
      "metadata": {
        "id": "YfA0qZxuGuFo"
      },
      "source": [
        "We can first separate our variables onto different categories depending on which type of data they can be classified as:\n",
        "\n",
        "* **Numerical**\n",
        "* **Categorical**\n",
        "* **Binary Categorical**\n",
        "\n",
        "As they all have similar methods of data cleaning. This will be for easier documentation.\n",
        "\n",
        "First, we check for duplicate data or NaN values in the original dataframe before grouping the selected variables together."
      ]
    },
    {
      "cell_type": "code",
      "execution_count": null,
      "metadata": {
        "colab": {
          "base_uri": "https://localhost:8080/"
        },
        "id": "yEggJikiGuFo",
        "outputId": "f7890357-149c-4c5d-9cd2-b083719ddd45"
      },
      "outputs": [],
      "source": [
        "duplicate_count=lfs_df.duplicated().sum()\n",
        "duplicate_count"
      ]
    },
    {
      "cell_type": "markdown",
      "metadata": {
        "id": "77jPGEBkmTwJ"
      },
      "source": [
        "The following variables will not be used:\n",
        "* `PUFSVYMO`: Survey month (numerical)\n",
        "* `PUFSVYYR`: Survey year (numerical)\n",
        "* `PUFPSU`: PSU number (numerical)\n",
        "* `PUFRPL`: Replicate (numerical)\n",
        "* `PUFPWGTFIN`: Final weight based on projection (numerical)\n",
        "* `PUFPRV`: Province code (categorical)\n",
        "* `PUFPRRCD`: Province recode (categorical)\n",
        "\n",
        "As they are obsolete, and represented by other variables."
      ]
    },
    {
      "cell_type": "markdown",
      "metadata": {},
      "source": [
        "# Jupyter Notebook - Labor Force Survey 2016\n",
        "*Made by STINTSY S17 | Group #5*\n",
        "\n",
        "---\n",
        "\n",
        "# Dataset Overview\n",
        "- The **Labor Force Survey 2016** dataset was collected by the **Philippine Statistics Authority (PSA)**, it provides detailed information about employment, labor force participation, and job-related activities in the Philippines. The dataset includes attributes such as employment status, occupation, hours worked, job search activities, and demographic information such as age, sex, and education level.\n",
        "\n",
        "### Data Collection Process\n",
        "- *// To-do*\n",
        "\n",
        "#### Implications of Data Collection\n",
        "- *// To-do*\n",
        "\n",
        "### Dataset Structure\n",
        "- **Rows**: Each row represents an individual respondent in the survey.\n",
        "- **Columns**: Each column represents a specific attribute or feature of the respondent, such as age, sex, employment status, hours worked, etc.\n",
        "- **Number of Instances**: The dataset contains **180863 rows** (excluding the header row).\n",
        "- **Number of Features**: The dataset contains **50 columns**.\n",
        "\n",
        "### Features in the Dataset\n",
        "Below is a description of all 50 features in the dataset:\n",
        "**Demographic Variables**:\n",
        "* `PUFREG`: Region (categorical)\n",
        "* `PUFPRV`: Province code (categorical)\n",
        "* `PUFPRRCD`: Province recode (categorical)\n",
        "* `PUFHHSIZE`: Number of household members (numerical)\n",
        "* `PUFC04_SEX`: Sex of the person (binary categorical)\n",
        "* `PUFC05_AGE`: Age of the person (numerical)\n",
        "* `PUFC06_MSTAT`: Marital status of the person (categorical)\n",
        "* `PUFC07_GRADE`: Highest grade completed (numerical)\n",
        "\n",
        "**Education Variables**:\n",
        "* `PUFC08_CURSCH`: Currently attending school (binary categorical)\n",
        "* `PUFC09_GRADTECH`: Graduate of a technical/vocational course (binary categorical)\n",
        "\n",
        "**Employment Variables**:\n",
        "* `PUFC11_WORK`: Worked in the past week (binary categorical)\n",
        "* `PUFC12_JOB`: Had a job/business in the past week (binary categorical)\n",
        "* `PUFC14_PROCC`: Primary occupation (categorical)\n",
        "* `PUFC16_PKB`: Kind of business or industry (categorical)\n",
        "* `PUFC17_NATEM`: Nature of employment (categorical)\n",
        "* `PUFC18_PNWHRS`: Normal working hours per day (numerical)\n",
        "* `PUFC19_PHOURS`: Total hours worked in the past week (numerical)\n",
        "* `PUFC20_PWMORE`: Want more hours of work (binary categorical)\n",
        "* `PUFC21_PLADDW`: Looked for additional work (binary categorical)\n",
        "* `PUFC22_PFWRK`: First time doing any work (binary categorical)\n",
        "* `PUFC23_PCLASS`: Class of worker for primary occupation (categorical)\n",
        "* `PUFC24_PBASIS`: Basis of payment for primary occupation (categorical)\n",
        "* `PUFC25_PBASIC`: Basic pay per day (numerical)\n",
        "* `PUFC26_OJOB`: Had another job/business (binary categorical)\n",
        "* `PUFC27_NJOBS`: Number of jobs in the past week (numerical)\n",
        "* `PUFC28_THOURS`: Total hours worked for all jobs (numerical)\n",
        "* `PUFNEWEMPSTAT`: New Employment Criteria (categorical)\n",
        "\n",
        "**Job Search Variables**:\n",
        "* `PUFC30_LOOKW`: Looked for work or tried to establish a business (binary categorical)\n",
        "* `PUFC31_FLWRK`: First time looking for work (binary categorical)\n",
        "* `PUFC32_JOBSM`: Job search method (categorical)\n",
        "* `PUFC33_WEEKS`: Weeks spent looking for work (numerical)\n",
        "* `UFC34_WYNOT`: Reason for not looking for work (categorical)\n",
        "* `PUFC35_LTLOOKW`: Last time looked for work (numerical)\n",
        "* `PUFC36_AVAIL`: Available for work (binary categorical)\n",
        "* `PUFC37_WILLING`: Willing to take up work (binary categorical)\n",
        "* `PUFC38_PREVJOB`: Worked at any time before (binary categorical)\n",
        "* `PUFC40_POCC`: Last occupation (categorical)\n",
        "* `PUFC41_WQTR`: Worked or had a job during the past quarter (binary categorical)\n",
        "* `PUFC43_QKB`: Kind of business for the past quarter (categorical)\n",
        "\n",
        "**Date Variables**:\n",
        "* `PUFSVYMO`: Survey month (numerical)\n",
        "* `PUFSVYYR`: Survey year (numerical)\n",
        "* `PUFPSU`: PSU number (numerical)\n",
        "* `PUFRPL`: Replicate (numerical)\n",
        "* `PUFPWGTFIN`: Final weight based on projection (numerical)\n",
        "\n",
        "Source: https://psada.psa.gov.ph/catalog/67/data-dictionary/F1?file_name=lfs_april2016\n",
        "\n",
        "---"
      ]
    },
    {
      "cell_type": "code",
      "execution_count": 172,
      "metadata": {
        "colab": {
          "base_uri": "https://localhost:8080/",
          "height": 1000
        },
        "id": "SKQwIDbiGuFo",
        "outputId": "63370471-f175-4c3a-9d69-2d56cd6522f1"
      },
      "outputs": [
        {
          "data": {
            "text/plain": [
              "PUFREG             0\n",
              "PUFPRV             0\n",
              "PUFPRRCD           0\n",
              "PUFHHNUM           0\n",
              "PUFURB2K10         0\n",
              "PUFPWGTFIN         0\n",
              "PUFSVYMO           0\n",
              "PUFSVYYR           0\n",
              "PUFPSU             0\n",
              "PUFRPL             0\n",
              "PUFHHSIZE          0\n",
              "PUFC01_LNO         0\n",
              "PUFC03_REL         0\n",
              "PUFC04_SEX         0\n",
              "PUFC05_AGE         0\n",
              "PUFC06_MSTAT       0\n",
              "PUFC07_GRADE       0\n",
              "PUFC08_CURSCH      0\n",
              "PUFC09_GRADTECH    0\n",
              "PUFC10_CONWR       0\n",
              "PUFC11_WORK        0\n",
              "PUFC12_JOB         0\n",
              "PUFC14_PROCC       0\n",
              "PUFC16_PKB         0\n",
              "PUFC17_NATEM       0\n",
              "PUFC18_PNWHRS      0\n",
              "PUFC19_PHOURS      0\n",
              "PUFC20_PWMORE      0\n",
              "PUFC21_PLADDW      0\n",
              "PUFC22_PFWRK       0\n",
              "PUFC23_PCLASS      0\n",
              "PUFC24_PBASIS      0\n",
              "PUFC25_PBASIC      0\n",
              "PUFC26_OJOB        0\n",
              "PUFC27_NJOBS       0\n",
              "PUFC28_THOURS      0\n",
              "PUFC29_WWM48H      0\n",
              "PUFC30_LOOKW       0\n",
              "PUFC31_FLWRK       0\n",
              "PUFC32_JOBSM       0\n",
              "PUFC33_WEEKS       0\n",
              "PUFC34_WYNOT       0\n",
              "PUFC35_LTLOOKW     0\n",
              "PUFC36_AVAIL       0\n",
              "PUFC37_WILLING     0\n",
              "PUFC38_PREVJOB     0\n",
              "PUFC40_POCC        0\n",
              "PUFC41_WQTR        0\n",
              "PUFC43_QKB         0\n",
              "PUFNEWEMPSTAT      0\n",
              "dtype: int64"
            ]
          },
          "execution_count": 172,
          "metadata": {},
          "output_type": "execute_result"
        }
      ],
      "source": [
        "null_count = lfs_df.isnull().sum()\n",
        "null_count"
      ]
    },
    {
      "cell_type": "code",
      "execution_count": 173,
      "metadata": {
        "colab": {
          "base_uri": "https://localhost:8080/"
        },
        "id": "75RSD9BXGuFo",
        "outputId": "25a35a6c-efb8-4c65-952f-b7348b536441"
      },
      "outputs": [
        {
          "name": "stdout",
          "output_type": "stream",
          "text": [
            "<class 'pandas.core.frame.DataFrame'>\n",
            "RangeIndex: 180862 entries, 0 to 180861\n",
            "Data columns (total 11 columns):\n",
            " #   Column         Non-Null Count   Dtype \n",
            "---  ------         --------------   ----- \n",
            " 0   PUFREG         180862 non-null  int64 \n",
            " 1   PUFC04_SEX     180862 non-null  int64 \n",
            " 2   PUFC05_AGE     180862 non-null  int64 \n",
            " 3   PUFC16_PKB     180862 non-null  object\n",
            " 4   PUFC17_NATEM   180862 non-null  object\n",
            " 5   PUFC08_CURSCH  180862 non-null  object\n",
            " 6   PUFC18_PNWHRS  180862 non-null  object\n",
            " 7   PUFC19_PHOURS  180862 non-null  object\n",
            " 8   PUFC14_PROCC   180862 non-null  object\n",
            " 9   PUFC26_OJOB    180862 non-null  object\n",
            " 10  PUFC25_PBASIC  180862 non-null  object\n",
            "dtypes: int64(3), object(8)\n",
            "memory usage: 15.2+ MB\n"
          ]
        }
      ],
      "source": [
        "selected_vars = ['PUFREG', 'PUFC04_SEX', 'PUFC05_AGE', 'PUFC16_PKB', 'PUFC17_NATEM', 'PUFC08_CURSCH', 'PUFC18_PNWHRS',\n",
        "                 'PUFC19_PHOURS', 'PUFC14_PROCC', 'PUFC26_OJOB', 'PUFC25_PBASIC']\n",
        "jobs_df = lfs_df[selected_vars].copy()\n",
        "jobs_df.info()"
      ]
    },
    {
      "cell_type": "code",
      "execution_count": 174,
      "metadata": {
        "id": "2FkaZg6rGuFo"
      },
      "outputs": [],
      "source": [
        "numericalvar_df = jobs_df[['PUFC05_AGE', 'PUFC18_PNWHRS', 'PUFC19_PHOURS', 'PUFC25_PBASIC']]\n",
        "categoricalvar_df = jobs_df[['PUFREG', 'PUFC16_PKB', 'PUFC14_PROCC', 'PUFC17_NATEM', 'PUFC04_SEX']]\n",
        "binaryvar_df = jobs_df[['PUFC08_CURSCH', 'PUFC26_OJOB']]"
      ]
    },
    {
      "cell_type": "code",
      "execution_count": 175,
      "metadata": {
        "colab": {
          "base_uri": "https://localhost:8080/",
          "height": 677
        },
        "id": "ZDhxEmMoGuFo",
        "outputId": "83401225-cb4b-4773-b4bb-92322b0fa908"
      },
      "outputs": [
        {
          "data": {
            "text/html": [
              "<div>\n",
              "<style scoped>\n",
              "    .dataframe tbody tr th:only-of-type {\n",
              "        vertical-align: middle;\n",
              "    }\n",
              "\n",
              "    .dataframe tbody tr th {\n",
              "        vertical-align: top;\n",
              "    }\n",
              "\n",
              "    .dataframe thead th {\n",
              "        text-align: right;\n",
              "    }\n",
              "</style>\n",
              "<table border=\"1\" class=\"dataframe\">\n",
              "  <thead>\n",
              "    <tr style=\"text-align: right;\">\n",
              "      <th></th>\n",
              "      <th>PUFREG</th>\n",
              "      <th>PUFC04_SEX</th>\n",
              "      <th>PUFC05_AGE</th>\n",
              "      <th>PUFC16_PKB</th>\n",
              "      <th>PUFC17_NATEM</th>\n",
              "      <th>PUFC08_CURSCH</th>\n",
              "      <th>PUFC18_PNWHRS</th>\n",
              "      <th>PUFC19_PHOURS</th>\n",
              "      <th>PUFC14_PROCC</th>\n",
              "      <th>PUFC26_OJOB</th>\n",
              "      <th>PUFC25_PBASIC</th>\n",
              "    </tr>\n",
              "  </thead>\n",
              "  <tbody>\n",
              "    <tr>\n",
              "      <th>0</th>\n",
              "      <td>1</td>\n",
              "      <td>1</td>\n",
              "      <td>49</td>\n",
              "      <td>01</td>\n",
              "      <td>1</td>\n",
              "      <td></td>\n",
              "      <td>08</td>\n",
              "      <td>024</td>\n",
              "      <td>61</td>\n",
              "      <td>1</td>\n",
              "      <td></td>\n",
              "    </tr>\n",
              "    <tr>\n",
              "      <th>1</th>\n",
              "      <td>1</td>\n",
              "      <td>2</td>\n",
              "      <td>61</td>\n",
              "      <td>01</td>\n",
              "      <td>2</td>\n",
              "      <td></td>\n",
              "      <td>04</td>\n",
              "      <td>008</td>\n",
              "      <td>92</td>\n",
              "      <td>2</td>\n",
              "      <td></td>\n",
              "    </tr>\n",
              "    <tr>\n",
              "      <th>2</th>\n",
              "      <td>1</td>\n",
              "      <td>1</td>\n",
              "      <td>19</td>\n",
              "      <td>01</td>\n",
              "      <td>2</td>\n",
              "      <td>2</td>\n",
              "      <td>08</td>\n",
              "      <td>024</td>\n",
              "      <td>92</td>\n",
              "      <td>1</td>\n",
              "      <td>00250</td>\n",
              "    </tr>\n",
              "    <tr>\n",
              "      <th>3</th>\n",
              "      <td>1</td>\n",
              "      <td>1</td>\n",
              "      <td>48</td>\n",
              "      <td>01</td>\n",
              "      <td>1</td>\n",
              "      <td></td>\n",
              "      <td>04</td>\n",
              "      <td>020</td>\n",
              "      <td>61</td>\n",
              "      <td>1</td>\n",
              "      <td></td>\n",
              "    </tr>\n",
              "    <tr>\n",
              "      <th>4</th>\n",
              "      <td>1</td>\n",
              "      <td>2</td>\n",
              "      <td>41</td>\n",
              "      <td>96</td>\n",
              "      <td>1</td>\n",
              "      <td></td>\n",
              "      <td>12</td>\n",
              "      <td>072</td>\n",
              "      <td>91</td>\n",
              "      <td>2</td>\n",
              "      <td>00115</td>\n",
              "    </tr>\n",
              "    <tr>\n",
              "      <th>5</th>\n",
              "      <td>1</td>\n",
              "      <td>1</td>\n",
              "      <td>20</td>\n",
              "      <td>47</td>\n",
              "      <td>2</td>\n",
              "      <td>2</td>\n",
              "      <td>08</td>\n",
              "      <td>048</td>\n",
              "      <td>52</td>\n",
              "      <td>2</td>\n",
              "      <td>00200</td>\n",
              "    </tr>\n",
              "    <tr>\n",
              "      <th>6</th>\n",
              "      <td>1</td>\n",
              "      <td>2</td>\n",
              "      <td>15</td>\n",
              "      <td></td>\n",
              "      <td></td>\n",
              "      <td>1</td>\n",
              "      <td></td>\n",
              "      <td></td>\n",
              "      <td></td>\n",
              "      <td></td>\n",
              "      <td></td>\n",
              "    </tr>\n",
              "    <tr>\n",
              "      <th>7</th>\n",
              "      <td>1</td>\n",
              "      <td>1</td>\n",
              "      <td>59</td>\n",
              "      <td>01</td>\n",
              "      <td>1</td>\n",
              "      <td></td>\n",
              "      <td>04</td>\n",
              "      <td>020</td>\n",
              "      <td>61</td>\n",
              "      <td>1</td>\n",
              "      <td></td>\n",
              "    </tr>\n",
              "    <tr>\n",
              "      <th>8</th>\n",
              "      <td>1</td>\n",
              "      <td>2</td>\n",
              "      <td>61</td>\n",
              "      <td>84</td>\n",
              "      <td>1</td>\n",
              "      <td></td>\n",
              "      <td>08</td>\n",
              "      <td>010</td>\n",
              "      <td>53</td>\n",
              "      <td>2</td>\n",
              "      <td></td>\n",
              "    </tr>\n",
              "    <tr>\n",
              "      <th>9</th>\n",
              "      <td>1</td>\n",
              "      <td>2</td>\n",
              "      <td>11</td>\n",
              "      <td></td>\n",
              "      <td></td>\n",
              "      <td>1</td>\n",
              "      <td></td>\n",
              "      <td></td>\n",
              "      <td></td>\n",
              "      <td></td>\n",
              "      <td></td>\n",
              "    </tr>\n",
              "    <tr>\n",
              "      <th>10</th>\n",
              "      <td>1</td>\n",
              "      <td>2</td>\n",
              "      <td>2</td>\n",
              "      <td></td>\n",
              "      <td></td>\n",
              "      <td></td>\n",
              "      <td></td>\n",
              "      <td></td>\n",
              "      <td></td>\n",
              "      <td></td>\n",
              "      <td></td>\n",
              "    </tr>\n",
              "    <tr>\n",
              "      <th>11</th>\n",
              "      <td>1</td>\n",
              "      <td>1</td>\n",
              "      <td>51</td>\n",
              "      <td>49</td>\n",
              "      <td>1</td>\n",
              "      <td></td>\n",
              "      <td>04</td>\n",
              "      <td>020</td>\n",
              "      <td>13</td>\n",
              "      <td>2</td>\n",
              "      <td></td>\n",
              "    </tr>\n",
              "    <tr>\n",
              "      <th>12</th>\n",
              "      <td>1</td>\n",
              "      <td>2</td>\n",
              "      <td>51</td>\n",
              "      <td></td>\n",
              "      <td></td>\n",
              "      <td></td>\n",
              "      <td></td>\n",
              "      <td></td>\n",
              "      <td></td>\n",
              "      <td></td>\n",
              "      <td></td>\n",
              "    </tr>\n",
              "    <tr>\n",
              "      <th>13</th>\n",
              "      <td>1</td>\n",
              "      <td>1</td>\n",
              "      <td>26</td>\n",
              "      <td></td>\n",
              "      <td></td>\n",
              "      <td></td>\n",
              "      <td></td>\n",
              "      <td></td>\n",
              "      <td></td>\n",
              "      <td></td>\n",
              "      <td></td>\n",
              "    </tr>\n",
              "    <tr>\n",
              "      <th>14</th>\n",
              "      <td>1</td>\n",
              "      <td>1</td>\n",
              "      <td>23</td>\n",
              "      <td>80</td>\n",
              "      <td>2</td>\n",
              "      <td>2</td>\n",
              "      <td>12</td>\n",
              "      <td>060</td>\n",
              "      <td>54</td>\n",
              "      <td>2</td>\n",
              "      <td>00335</td>\n",
              "    </tr>\n",
              "    <tr>\n",
              "      <th>15</th>\n",
              "      <td>1</td>\n",
              "      <td>1</td>\n",
              "      <td>71</td>\n",
              "      <td>41</td>\n",
              "      <td>2</td>\n",
              "      <td></td>\n",
              "      <td>08</td>\n",
              "      <td>048</td>\n",
              "      <td>93</td>\n",
              "      <td>2</td>\n",
              "      <td>00350</td>\n",
              "    </tr>\n",
              "    <tr>\n",
              "      <th>16</th>\n",
              "      <td>1</td>\n",
              "      <td>2</td>\n",
              "      <td>54</td>\n",
              "      <td>96</td>\n",
              "      <td>3</td>\n",
              "      <td></td>\n",
              "      <td>04</td>\n",
              "      <td>016</td>\n",
              "      <td>91</td>\n",
              "      <td>1</td>\n",
              "      <td>00200</td>\n",
              "    </tr>\n",
              "    <tr>\n",
              "      <th>17</th>\n",
              "      <td>1</td>\n",
              "      <td>1</td>\n",
              "      <td>27</td>\n",
              "      <td>84</td>\n",
              "      <td>1</td>\n",
              "      <td></td>\n",
              "      <td>08</td>\n",
              "      <td>040</td>\n",
              "      <td>12</td>\n",
              "      <td>2</td>\n",
              "      <td>00909</td>\n",
              "    </tr>\n",
              "    <tr>\n",
              "      <th>18</th>\n",
              "      <td>1</td>\n",
              "      <td>1</td>\n",
              "      <td>46</td>\n",
              "      <td>41</td>\n",
              "      <td>3</td>\n",
              "      <td></td>\n",
              "      <td>08</td>\n",
              "      <td>048</td>\n",
              "      <td>71</td>\n",
              "      <td>1</td>\n",
              "      <td>00400</td>\n",
              "    </tr>\n",
              "    <tr>\n",
              "      <th>19</th>\n",
              "      <td>1</td>\n",
              "      <td>2</td>\n",
              "      <td>46</td>\n",
              "      <td></td>\n",
              "      <td></td>\n",
              "      <td></td>\n",
              "      <td></td>\n",
              "      <td></td>\n",
              "      <td></td>\n",
              "      <td></td>\n",
              "      <td></td>\n",
              "    </tr>\n",
              "  </tbody>\n",
              "</table>\n",
              "</div>"
            ],
            "text/plain": [
              "    PUFREG  PUFC04_SEX  PUFC05_AGE PUFC16_PKB PUFC17_NATEM PUFC08_CURSCH  \\\n",
              "0        1           1          49         01            1                 \n",
              "1        1           2          61         01            2                 \n",
              "2        1           1          19         01            2             2   \n",
              "3        1           1          48         01            1                 \n",
              "4        1           2          41         96            1                 \n",
              "5        1           1          20         47            2             2   \n",
              "6        1           2          15                                     1   \n",
              "7        1           1          59         01            1                 \n",
              "8        1           2          61         84            1                 \n",
              "9        1           2          11                                     1   \n",
              "10       1           2           2                                         \n",
              "11       1           1          51         49            1                 \n",
              "12       1           2          51                                         \n",
              "13       1           1          26                                         \n",
              "14       1           1          23         80            2             2   \n",
              "15       1           1          71         41            2                 \n",
              "16       1           2          54         96            3                 \n",
              "17       1           1          27         84            1                 \n",
              "18       1           1          46         41            3                 \n",
              "19       1           2          46                                         \n",
              "\n",
              "   PUFC18_PNWHRS PUFC19_PHOURS PUFC14_PROCC PUFC26_OJOB PUFC25_PBASIC  \n",
              "0             08           024           61           1                \n",
              "1             04           008           92           2                \n",
              "2             08           024           92           1         00250  \n",
              "3             04           020           61           1                \n",
              "4             12           072           91           2         00115  \n",
              "5             08           048           52           2         00200  \n",
              "6                                                                      \n",
              "7             04           020           61           1                \n",
              "8             08           010           53           2                \n",
              "9                                                                      \n",
              "10                                                                     \n",
              "11            04           020           13           2                \n",
              "12                                                                     \n",
              "13                                                                     \n",
              "14            12           060           54           2         00335  \n",
              "15            08           048           93           2         00350  \n",
              "16            04           016           91           1         00200  \n",
              "17            08           040           12           2         00909  \n",
              "18            08           048           71           1         00400  \n",
              "19                                                                     "
            ]
          },
          "execution_count": 175,
          "metadata": {},
          "output_type": "execute_result"
        }
      ],
      "source": [
        "jobs_df.head(20)"
      ]
    },
    {
      "cell_type": "markdown",
      "metadata": {
        "id": "zNSNjOCdGuFo"
      },
      "source": [
        "There still seems to be blank values, though, after consulting the valueset, they are the corresponding value to \"not-applicable\" answers, which we will change to be more readable in the preprocessing phase."
      ]
    },
    {
      "cell_type": "markdown",
      "metadata": {
        "id": "bPgGRo5vGuFo"
      },
      "source": [
        "## Binary Categorical Variable Preprocessing\n",
        "\n",
        "We can start our data cleaning process with binary categorical variables."
      ]
    },
    {
      "cell_type": "code",
      "execution_count": 176,
      "metadata": {
        "colab": {
          "base_uri": "https://localhost:8080/",
          "height": 677
        },
        "id": "6th237fUGuFo",
        "outputId": "b0a17c9e-5ada-4cf2-e463-07139eb55c39"
      },
      "outputs": [
        {
          "data": {
            "text/html": [
              "<div>\n",
              "<style scoped>\n",
              "    .dataframe tbody tr th:only-of-type {\n",
              "        vertical-align: middle;\n",
              "    }\n",
              "\n",
              "    .dataframe tbody tr th {\n",
              "        vertical-align: top;\n",
              "    }\n",
              "\n",
              "    .dataframe thead th {\n",
              "        text-align: right;\n",
              "    }\n",
              "</style>\n",
              "<table border=\"1\" class=\"dataframe\">\n",
              "  <thead>\n",
              "    <tr style=\"text-align: right;\">\n",
              "      <th></th>\n",
              "      <th>PUFC08_CURSCH</th>\n",
              "      <th>PUFC26_OJOB</th>\n",
              "    </tr>\n",
              "  </thead>\n",
              "  <tbody>\n",
              "    <tr>\n",
              "      <th>0</th>\n",
              "      <td></td>\n",
              "      <td>1</td>\n",
              "    </tr>\n",
              "    <tr>\n",
              "      <th>1</th>\n",
              "      <td></td>\n",
              "      <td>2</td>\n",
              "    </tr>\n",
              "    <tr>\n",
              "      <th>2</th>\n",
              "      <td>2</td>\n",
              "      <td>1</td>\n",
              "    </tr>\n",
              "    <tr>\n",
              "      <th>3</th>\n",
              "      <td></td>\n",
              "      <td>1</td>\n",
              "    </tr>\n",
              "    <tr>\n",
              "      <th>4</th>\n",
              "      <td></td>\n",
              "      <td>2</td>\n",
              "    </tr>\n",
              "    <tr>\n",
              "      <th>5</th>\n",
              "      <td>2</td>\n",
              "      <td>2</td>\n",
              "    </tr>\n",
              "    <tr>\n",
              "      <th>6</th>\n",
              "      <td>1</td>\n",
              "      <td></td>\n",
              "    </tr>\n",
              "    <tr>\n",
              "      <th>7</th>\n",
              "      <td></td>\n",
              "      <td>1</td>\n",
              "    </tr>\n",
              "    <tr>\n",
              "      <th>8</th>\n",
              "      <td></td>\n",
              "      <td>2</td>\n",
              "    </tr>\n",
              "    <tr>\n",
              "      <th>9</th>\n",
              "      <td>1</td>\n",
              "      <td></td>\n",
              "    </tr>\n",
              "    <tr>\n",
              "      <th>10</th>\n",
              "      <td></td>\n",
              "      <td></td>\n",
              "    </tr>\n",
              "    <tr>\n",
              "      <th>11</th>\n",
              "      <td></td>\n",
              "      <td>2</td>\n",
              "    </tr>\n",
              "    <tr>\n",
              "      <th>12</th>\n",
              "      <td></td>\n",
              "      <td></td>\n",
              "    </tr>\n",
              "    <tr>\n",
              "      <th>13</th>\n",
              "      <td></td>\n",
              "      <td></td>\n",
              "    </tr>\n",
              "    <tr>\n",
              "      <th>14</th>\n",
              "      <td>2</td>\n",
              "      <td>2</td>\n",
              "    </tr>\n",
              "    <tr>\n",
              "      <th>15</th>\n",
              "      <td></td>\n",
              "      <td>2</td>\n",
              "    </tr>\n",
              "    <tr>\n",
              "      <th>16</th>\n",
              "      <td></td>\n",
              "      <td>1</td>\n",
              "    </tr>\n",
              "    <tr>\n",
              "      <th>17</th>\n",
              "      <td></td>\n",
              "      <td>2</td>\n",
              "    </tr>\n",
              "    <tr>\n",
              "      <th>18</th>\n",
              "      <td></td>\n",
              "      <td>1</td>\n",
              "    </tr>\n",
              "    <tr>\n",
              "      <th>19</th>\n",
              "      <td></td>\n",
              "      <td></td>\n",
              "    </tr>\n",
              "  </tbody>\n",
              "</table>\n",
              "</div>"
            ],
            "text/plain": [
              "   PUFC08_CURSCH PUFC26_OJOB\n",
              "0                          1\n",
              "1                          2\n",
              "2              2           1\n",
              "3                          1\n",
              "4                          2\n",
              "5              2           2\n",
              "6              1            \n",
              "7                          1\n",
              "8                          2\n",
              "9              1            \n",
              "10                          \n",
              "11                         2\n",
              "12                          \n",
              "13                          \n",
              "14             2           2\n",
              "15                         2\n",
              "16                         1\n",
              "17                         2\n",
              "18                         1\n",
              "19                          "
            ]
          },
          "execution_count": 176,
          "metadata": {},
          "output_type": "execute_result"
        }
      ],
      "source": [
        "binaryvar_df.head(20)"
      ]
    },
    {
      "cell_type": "markdown",
      "metadata": {
        "id": "mfUJo118GRxm"
      },
      "source": [
        "As we can see, there are some rows with blank responses, and according to the valueset, this is interpreted as \"not applicable\"."
      ]
    },
    {
      "cell_type": "code",
      "execution_count": 177,
      "metadata": {
        "colab": {
          "base_uri": "https://localhost:8080/",
          "height": 424
        },
        "id": "BTySxWKnGuFp",
        "outputId": "4154bd7e-eb42-44f4-ece9-264d4257b4e0"
      },
      "outputs": [
        {
          "data": {
            "text/html": [
              "<div>\n",
              "<style scoped>\n",
              "    .dataframe tbody tr th:only-of-type {\n",
              "        vertical-align: middle;\n",
              "    }\n",
              "\n",
              "    .dataframe tbody tr th {\n",
              "        vertical-align: top;\n",
              "    }\n",
              "\n",
              "    .dataframe thead th {\n",
              "        text-align: right;\n",
              "    }\n",
              "</style>\n",
              "<table border=\"1\" class=\"dataframe\">\n",
              "  <thead>\n",
              "    <tr style=\"text-align: right;\">\n",
              "      <th></th>\n",
              "      <th>PUFC08_CURSCH</th>\n",
              "      <th>PUFC26_OJOB</th>\n",
              "    </tr>\n",
              "  </thead>\n",
              "  <tbody>\n",
              "    <tr>\n",
              "      <th>0</th>\n",
              "      <td></td>\n",
              "      <td>1</td>\n",
              "    </tr>\n",
              "    <tr>\n",
              "      <th>1</th>\n",
              "      <td></td>\n",
              "      <td>2</td>\n",
              "    </tr>\n",
              "    <tr>\n",
              "      <th>2</th>\n",
              "      <td>2</td>\n",
              "      <td>1</td>\n",
              "    </tr>\n",
              "    <tr>\n",
              "      <th>3</th>\n",
              "      <td></td>\n",
              "      <td>1</td>\n",
              "    </tr>\n",
              "    <tr>\n",
              "      <th>4</th>\n",
              "      <td></td>\n",
              "      <td>2</td>\n",
              "    </tr>\n",
              "    <tr>\n",
              "      <th>...</th>\n",
              "      <td>...</td>\n",
              "      <td>...</td>\n",
              "    </tr>\n",
              "    <tr>\n",
              "      <th>180857</th>\n",
              "      <td></td>\n",
              "      <td>2</td>\n",
              "    </tr>\n",
              "    <tr>\n",
              "      <th>180858</th>\n",
              "      <td></td>\n",
              "      <td></td>\n",
              "    </tr>\n",
              "    <tr>\n",
              "      <th>180859</th>\n",
              "      <td></td>\n",
              "      <td></td>\n",
              "    </tr>\n",
              "    <tr>\n",
              "      <th>180860</th>\n",
              "      <td></td>\n",
              "      <td></td>\n",
              "    </tr>\n",
              "    <tr>\n",
              "      <th>180861</th>\n",
              "      <td>2</td>\n",
              "      <td>2</td>\n",
              "    </tr>\n",
              "  </tbody>\n",
              "</table>\n",
              "<p>180862 rows × 2 columns</p>\n",
              "</div>"
            ],
            "text/plain": [
              "       PUFC08_CURSCH PUFC26_OJOB\n",
              "0                              1\n",
              "1                              2\n",
              "2                  2           1\n",
              "3                              1\n",
              "4                              2\n",
              "...              ...         ...\n",
              "180857                         2\n",
              "180858                          \n",
              "180859                          \n",
              "180860                          \n",
              "180861             2           2\n",
              "\n",
              "[180862 rows x 2 columns]"
            ]
          },
          "execution_count": 177,
          "metadata": {},
          "output_type": "execute_result"
        }
      ],
      "source": [
        "jobs_df[['PUFC08_CURSCH', 'PUFC26_OJOB']]"
      ]
    },
    {
      "cell_type": "markdown",
      "metadata": {
        "id": "H4e_DHP2GuFp"
      },
      "source": [
        "Given that these variables have binary responses, it would be more appropriate to change them into boolean datatypes for a more appropriate data representation.\n",
        "\n",
        "To transform them into a boolean datatype, we have to first see the value counts of each specific variable in order to limit the responses into either 1 or 0."
      ]
    },
    {
      "cell_type": "code",
      "execution_count": 178,
      "metadata": {
        "colab": {
          "base_uri": "https://localhost:8080/",
          "height": 210
        },
        "id": "4wIG10IqGuFp",
        "outputId": "d95b24c6-ae7c-4887-8194-03f76ff64dd2"
      },
      "outputs": [
        {
          "data": {
            "text/plain": [
              "PUFC08_CURSCH\n",
              "     107137\n",
              "1     51643\n",
              "2     22082\n",
              "Name: count, dtype: int64"
            ]
          },
          "execution_count": 178,
          "metadata": {},
          "output_type": "execute_result"
        }
      ],
      "source": [
        "jobs_df['PUFC08_CURSCH'].value_counts()"
      ]
    },
    {
      "cell_type": "code",
      "execution_count": 179,
      "metadata": {
        "colab": {
          "base_uri": "https://localhost:8080/",
          "height": 210
        },
        "id": "JeB4vtX6GuFp",
        "outputId": "b5b6d8c3-1933-4cc7-e84a-92cb5bb3a164"
      },
      "outputs": [
        {
          "data": {
            "text/plain": [
              "PUFC26_OJOB\n",
              "     109507\n",
              "2     65417\n",
              "1      5938\n",
              "Name: count, dtype: int64"
            ]
          },
          "execution_count": 179,
          "metadata": {},
          "output_type": "execute_result"
        }
      ],
      "source": [
        "jobs_df['PUFC26_OJOB'].value_counts()"
      ]
    },
    {
      "cell_type": "markdown",
      "metadata": {
        "id": "GDLV-JSOGuFp"
      },
      "source": [
        "### Attending School variable & Secondary Job variable\n",
        "\n",
        "Given these responses and cross referencing these responses with the valueset provided along with the dataset, we are able to first understand what each of these responses mean.\n",
        "\n",
        "* `PUC08_CURSCH` responses represent whether the respondent is currently attending school or not.\n",
        "* `PUFC26_OJOB`  responses represents whether the respondent currently has another job aside from their primary occupation.\n",
        "\n",
        "Valuset dictates that:\n",
        "* 1 = Yes\n",
        "* 2 = No\n",
        "* blank = Not Applicable\n",
        "\n",
        "Given these representations, we are then able to convert and combine them into 2 distinct responses by combining No(2), and Not Applicable(blank) into False(0), and leaving Yes as True(1).\n",
        "\n",
        "We first do this by combining the responses first, then changing the datatype later."
      ]
    },
    {
      "cell_type": "code",
      "execution_count": 180,
      "metadata": {
        "id": "YgsMmzVEGuFp"
      },
      "outputs": [],
      "source": [
        "jobs_df['PUFC08_CURSCH'] = jobs_df['PUFC08_CURSCH'].replace({'2': 0, ' ': 0})\n",
        "jobs_df['PUFC26_OJOB'] = jobs_df['PUFC26_OJOB'].replace({'2': 0, ' ': 0})"
      ]
    },
    {
      "cell_type": "code",
      "execution_count": 181,
      "metadata": {
        "colab": {
          "base_uri": "https://localhost:8080/",
          "height": 178
        },
        "id": "TiqFhkItGuFp",
        "outputId": "44ca6ed3-8e03-4c30-ed5a-54ce2dfdfe4a"
      },
      "outputs": [
        {
          "data": {
            "text/plain": [
              "PUFC08_CURSCH\n",
              "0    129219\n",
              "1     51643\n",
              "Name: count, dtype: int64"
            ]
          },
          "execution_count": 181,
          "metadata": {},
          "output_type": "execute_result"
        }
      ],
      "source": [
        "jobs_df['PUFC08_CURSCH'].value_counts()"
      ]
    },
    {
      "cell_type": "code",
      "execution_count": 182,
      "metadata": {
        "colab": {
          "base_uri": "https://localhost:8080/",
          "height": 178
        },
        "id": "cU9zgtFuGuFp",
        "outputId": "349fe903-dafc-401c-edba-26e049d903b1"
      },
      "outputs": [
        {
          "data": {
            "text/plain": [
              "PUFC26_OJOB\n",
              "0    174924\n",
              "1      5938\n",
              "Name: count, dtype: int64"
            ]
          },
          "execution_count": 182,
          "metadata": {},
          "output_type": "execute_result"
        }
      ],
      "source": [
        "jobs_df['PUFC26_OJOB'].value_counts()"
      ]
    },
    {
      "cell_type": "code",
      "execution_count": 183,
      "metadata": {
        "id": "pL4ETBlqGuFp"
      },
      "outputs": [],
      "source": [
        "jobs_df['PUFC08_CURSCH'] = jobs_df['PUFC08_CURSCH'].astype(bool)\n",
        "jobs_df['PUFC26_OJOB'] = jobs_df['PUFC26_OJOB'].astype(bool)"
      ]
    },
    {
      "cell_type": "code",
      "execution_count": 184,
      "metadata": {
        "colab": {
          "base_uri": "https://localhost:8080/",
          "height": 178
        },
        "id": "MrWUHT4vGuFp",
        "outputId": "56f560ba-4aa3-4029-bef2-4d419fff8c0c"
      },
      "outputs": [
        {
          "data": {
            "text/plain": [
              "PUFC08_CURSCH\n",
              "False    129219\n",
              "True      51643\n",
              "Name: count, dtype: int64"
            ]
          },
          "execution_count": 184,
          "metadata": {},
          "output_type": "execute_result"
        }
      ],
      "source": [
        "jobs_df['PUFC08_CURSCH'].value_counts()"
      ]
    },
    {
      "cell_type": "code",
      "execution_count": 185,
      "metadata": {
        "colab": {
          "base_uri": "https://localhost:8080/",
          "height": 178
        },
        "id": "tqtHdcicGuFp",
        "outputId": "704e2c2d-6445-42a3-a9a4-71dda883fe9c"
      },
      "outputs": [
        {
          "data": {
            "text/plain": [
              "PUFC26_OJOB\n",
              "False    174924\n",
              "True       5938\n",
              "Name: count, dtype: int64"
            ]
          },
          "execution_count": 185,
          "metadata": {},
          "output_type": "execute_result"
        }
      ],
      "source": [
        "jobs_df['PUFC26_OJOB'].value_counts()"
      ]
    },
    {
      "cell_type": "code",
      "execution_count": 186,
      "metadata": {
        "colab": {
          "base_uri": "https://localhost:8080/"
        },
        "id": "-ANEDgTkGuFp",
        "outputId": "bce36a7e-22f8-4d88-c6b0-8d75b24ccc26"
      },
      "outputs": [
        {
          "name": "stdout",
          "output_type": "stream",
          "text": [
            "<class 'pandas.core.frame.DataFrame'>\n",
            "RangeIndex: 180862 entries, 0 to 180861\n",
            "Data columns (total 2 columns):\n",
            " #   Column         Non-Null Count   Dtype\n",
            "---  ------         --------------   -----\n",
            " 0   PUFC08_CURSCH  180862 non-null  bool \n",
            " 1   PUFC26_OJOB    180862 non-null  bool \n",
            "dtypes: bool(2)\n",
            "memory usage: 353.4 KB\n"
          ]
        }
      ],
      "source": [
        "jobs_df[['PUFC08_CURSCH', 'PUFC26_OJOB']].info()"
      ]
    },
    {
      "cell_type": "markdown",
      "metadata": {
        "id": "ZNJc2FhEGuFp"
      },
      "source": [
        "## Categorical Variable Preprocessing\n",
        "\n",
        "Now that we've converted the binary category variables into their respective datatypes and responses, we move on to the other categorical variables."
      ]
    },
    {
      "cell_type": "code",
      "execution_count": 187,
      "metadata": {
        "colab": {
          "base_uri": "https://localhost:8080/",
          "height": 677
        },
        "id": "bCnGzTrUGuFp",
        "outputId": "4aeec4d9-6923-480d-970c-af269577f723"
      },
      "outputs": [
        {
          "data": {
            "text/html": [
              "<div>\n",
              "<style scoped>\n",
              "    .dataframe tbody tr th:only-of-type {\n",
              "        vertical-align: middle;\n",
              "    }\n",
              "\n",
              "    .dataframe tbody tr th {\n",
              "        vertical-align: top;\n",
              "    }\n",
              "\n",
              "    .dataframe thead th {\n",
              "        text-align: right;\n",
              "    }\n",
              "</style>\n",
              "<table border=\"1\" class=\"dataframe\">\n",
              "  <thead>\n",
              "    <tr style=\"text-align: right;\">\n",
              "      <th></th>\n",
              "      <th>PUFREG</th>\n",
              "      <th>PUFC16_PKB</th>\n",
              "      <th>PUFC14_PROCC</th>\n",
              "      <th>PUFC17_NATEM</th>\n",
              "      <th>PUFC04_SEX</th>\n",
              "    </tr>\n",
              "  </thead>\n",
              "  <tbody>\n",
              "    <tr>\n",
              "      <th>0</th>\n",
              "      <td>1</td>\n",
              "      <td>01</td>\n",
              "      <td>61</td>\n",
              "      <td>1</td>\n",
              "      <td>1</td>\n",
              "    </tr>\n",
              "    <tr>\n",
              "      <th>1</th>\n",
              "      <td>1</td>\n",
              "      <td>01</td>\n",
              "      <td>92</td>\n",
              "      <td>2</td>\n",
              "      <td>2</td>\n",
              "    </tr>\n",
              "    <tr>\n",
              "      <th>2</th>\n",
              "      <td>1</td>\n",
              "      <td>01</td>\n",
              "      <td>92</td>\n",
              "      <td>2</td>\n",
              "      <td>1</td>\n",
              "    </tr>\n",
              "    <tr>\n",
              "      <th>3</th>\n",
              "      <td>1</td>\n",
              "      <td>01</td>\n",
              "      <td>61</td>\n",
              "      <td>1</td>\n",
              "      <td>1</td>\n",
              "    </tr>\n",
              "    <tr>\n",
              "      <th>4</th>\n",
              "      <td>1</td>\n",
              "      <td>96</td>\n",
              "      <td>91</td>\n",
              "      <td>1</td>\n",
              "      <td>2</td>\n",
              "    </tr>\n",
              "    <tr>\n",
              "      <th>5</th>\n",
              "      <td>1</td>\n",
              "      <td>47</td>\n",
              "      <td>52</td>\n",
              "      <td>2</td>\n",
              "      <td>1</td>\n",
              "    </tr>\n",
              "    <tr>\n",
              "      <th>6</th>\n",
              "      <td>1</td>\n",
              "      <td></td>\n",
              "      <td></td>\n",
              "      <td></td>\n",
              "      <td>2</td>\n",
              "    </tr>\n",
              "    <tr>\n",
              "      <th>7</th>\n",
              "      <td>1</td>\n",
              "      <td>01</td>\n",
              "      <td>61</td>\n",
              "      <td>1</td>\n",
              "      <td>1</td>\n",
              "    </tr>\n",
              "    <tr>\n",
              "      <th>8</th>\n",
              "      <td>1</td>\n",
              "      <td>84</td>\n",
              "      <td>53</td>\n",
              "      <td>1</td>\n",
              "      <td>2</td>\n",
              "    </tr>\n",
              "    <tr>\n",
              "      <th>9</th>\n",
              "      <td>1</td>\n",
              "      <td></td>\n",
              "      <td></td>\n",
              "      <td></td>\n",
              "      <td>2</td>\n",
              "    </tr>\n",
              "    <tr>\n",
              "      <th>10</th>\n",
              "      <td>1</td>\n",
              "      <td></td>\n",
              "      <td></td>\n",
              "      <td></td>\n",
              "      <td>2</td>\n",
              "    </tr>\n",
              "    <tr>\n",
              "      <th>11</th>\n",
              "      <td>1</td>\n",
              "      <td>49</td>\n",
              "      <td>13</td>\n",
              "      <td>1</td>\n",
              "      <td>1</td>\n",
              "    </tr>\n",
              "    <tr>\n",
              "      <th>12</th>\n",
              "      <td>1</td>\n",
              "      <td></td>\n",
              "      <td></td>\n",
              "      <td></td>\n",
              "      <td>2</td>\n",
              "    </tr>\n",
              "    <tr>\n",
              "      <th>13</th>\n",
              "      <td>1</td>\n",
              "      <td></td>\n",
              "      <td></td>\n",
              "      <td></td>\n",
              "      <td>1</td>\n",
              "    </tr>\n",
              "    <tr>\n",
              "      <th>14</th>\n",
              "      <td>1</td>\n",
              "      <td>80</td>\n",
              "      <td>54</td>\n",
              "      <td>2</td>\n",
              "      <td>1</td>\n",
              "    </tr>\n",
              "    <tr>\n",
              "      <th>15</th>\n",
              "      <td>1</td>\n",
              "      <td>41</td>\n",
              "      <td>93</td>\n",
              "      <td>2</td>\n",
              "      <td>1</td>\n",
              "    </tr>\n",
              "    <tr>\n",
              "      <th>16</th>\n",
              "      <td>1</td>\n",
              "      <td>96</td>\n",
              "      <td>91</td>\n",
              "      <td>3</td>\n",
              "      <td>2</td>\n",
              "    </tr>\n",
              "    <tr>\n",
              "      <th>17</th>\n",
              "      <td>1</td>\n",
              "      <td>84</td>\n",
              "      <td>12</td>\n",
              "      <td>1</td>\n",
              "      <td>1</td>\n",
              "    </tr>\n",
              "    <tr>\n",
              "      <th>18</th>\n",
              "      <td>1</td>\n",
              "      <td>41</td>\n",
              "      <td>71</td>\n",
              "      <td>3</td>\n",
              "      <td>1</td>\n",
              "    </tr>\n",
              "    <tr>\n",
              "      <th>19</th>\n",
              "      <td>1</td>\n",
              "      <td></td>\n",
              "      <td></td>\n",
              "      <td></td>\n",
              "      <td>2</td>\n",
              "    </tr>\n",
              "  </tbody>\n",
              "</table>\n",
              "</div>"
            ],
            "text/plain": [
              "    PUFREG PUFC16_PKB PUFC14_PROCC PUFC17_NATEM  PUFC04_SEX\n",
              "0        1         01           61            1           1\n",
              "1        1         01           92            2           2\n",
              "2        1         01           92            2           1\n",
              "3        1         01           61            1           1\n",
              "4        1         96           91            1           2\n",
              "5        1         47           52            2           1\n",
              "6        1                                                2\n",
              "7        1         01           61            1           1\n",
              "8        1         84           53            1           2\n",
              "9        1                                                2\n",
              "10       1                                                2\n",
              "11       1         49           13            1           1\n",
              "12       1                                                2\n",
              "13       1                                                1\n",
              "14       1         80           54            2           1\n",
              "15       1         41           93            2           1\n",
              "16       1         96           91            3           2\n",
              "17       1         84           12            1           1\n",
              "18       1         41           71            3           1\n",
              "19       1                                                2"
            ]
          },
          "execution_count": 187,
          "metadata": {},
          "output_type": "execute_result"
        }
      ],
      "source": [
        "categoricalvar_df.head(20)"
      ]
    },
    {
      "cell_type": "markdown",
      "metadata": {
        "id": "DW7he8AWGuFp"
      },
      "source": [
        "### Sex variable\n",
        "\n",
        "Starting off with `PUFC04_SEX` which is the sex of the respondent, according to the valueset,\n",
        "* 1 = Male\n",
        "* 2 = Female\n",
        "\n",
        "Therefore we may opt to change the numbers into characters M and F for easier readability."
      ]
    },
    {
      "cell_type": "code",
      "execution_count": 188,
      "metadata": {
        "colab": {
          "base_uri": "https://localhost:8080/"
        },
        "id": "OVopZ3vEGuFp",
        "outputId": "0f1b6cb6-1f95-481c-d669-3f81bcbaa79c"
      },
      "outputs": [
        {
          "name": "stdout",
          "output_type": "stream",
          "text": [
            "<class 'pandas.core.frame.DataFrame'>\n",
            "RangeIndex: 180862 entries, 0 to 180861\n",
            "Data columns (total 5 columns):\n",
            " #   Column        Non-Null Count   Dtype \n",
            "---  ------        --------------   ----- \n",
            " 0   PUFREG        180862 non-null  int64 \n",
            " 1   PUFC16_PKB    180862 non-null  object\n",
            " 2   PUFC14_PROCC  180862 non-null  object\n",
            " 3   PUFC17_NATEM  180862 non-null  object\n",
            " 4   PUFC04_SEX    180862 non-null  int64 \n",
            "dtypes: int64(2), object(3)\n",
            "memory usage: 6.9+ MB\n"
          ]
        }
      ],
      "source": [
        "jobs_df[['PUFREG', 'PUFC16_PKB', 'PUFC14_PROCC', 'PUFC17_NATEM', 'PUFC04_SEX']].info()"
      ]
    },
    {
      "cell_type": "code",
      "execution_count": 189,
      "metadata": {
        "colab": {
          "base_uri": "https://localhost:8080/",
          "height": 178
        },
        "id": "AlCyT3RiGuFq",
        "outputId": "d8ccce13-a52c-4304-d094-be7d9000dd72"
      },
      "outputs": [
        {
          "data": {
            "text/plain": [
              "PUFC04_SEX\n",
              "1    91539\n",
              "2    89323\n",
              "Name: count, dtype: int64"
            ]
          },
          "execution_count": 189,
          "metadata": {},
          "output_type": "execute_result"
        }
      ],
      "source": [
        "jobs_df['PUFC04_SEX'].value_counts()"
      ]
    },
    {
      "cell_type": "markdown",
      "metadata": {
        "id": "e8qvhlX5GuFq"
      },
      "source": [
        "We change the datatype to the 'category' from object first."
      ]
    },
    {
      "cell_type": "code",
      "execution_count": 190,
      "metadata": {
        "id": "ZZgVPf8gGuFt"
      },
      "outputs": [],
      "source": [
        "jobs_df['PUFC04_SEX'] = jobs_df['PUFC04_SEX'].astype('category')"
      ]
    },
    {
      "cell_type": "code",
      "execution_count": 191,
      "metadata": {
        "colab": {
          "base_uri": "https://localhost:8080/",
          "height": 233
        },
        "id": "L74OgOayGuFt",
        "outputId": "0f5966c8-7a9a-4f17-932a-3fa3313184be"
      },
      "outputs": [
        {
          "name": "stderr",
          "output_type": "stream",
          "text": [
            "C:\\Users\\gicac\\AppData\\Local\\Temp\\ipykernel_12532\\1489607154.py:1: FutureWarning: The behavior of Series.replace (and DataFrame.replace) with CategoricalDtype is deprecated. In a future version, replace will only be used for cases that preserve the categories. To change the categories, use ser.cat.rename_categories instead.\n",
            "  jobs_df['PUFC04_SEX'] = jobs_df['PUFC04_SEX'].replace({2: 'F', 1: 'M'})\n"
          ]
        },
        {
          "data": {
            "text/plain": [
              "PUFC04_SEX\n",
              "M    91539\n",
              "F    89323\n",
              "Name: count, dtype: int64"
            ]
          },
          "execution_count": 191,
          "metadata": {},
          "output_type": "execute_result"
        }
      ],
      "source": [
        "jobs_df['PUFC04_SEX'] = jobs_df['PUFC04_SEX'].replace({2: 'F', 1: 'M'})\n",
        "jobs_df['PUFC04_SEX'].value_counts()"
      ]
    },
    {
      "cell_type": "markdown",
      "metadata": {
        "id": "2m-VMw7gGuFt"
      },
      "source": [
        "### Nature of Employment variable\n",
        "\n",
        "Moving on to the variable `PUFC17_NATEM`, which represents the nature of employment of each respondent,\n",
        "* 1 = Permanent Job\n",
        "* 2 = Short-term\n",
        "* 3 = Different employer\n",
        "* blank = Not applicable/no employment\n",
        "\n",
        "Since our aim will be to focus on the respondents who are employed, we drop all respondents who are not employed."
      ]
    },
    {
      "cell_type": "code",
      "execution_count": 192,
      "metadata": {
        "colab": {
          "base_uri": "https://localhost:8080/"
        },
        "id": "tXztlNRJGuFt",
        "outputId": "5d7c288d-9679-4537-c976-0e33d3b64b34"
      },
      "outputs": [
        {
          "data": {
            "text/plain": [
              "np.int64(71355)"
            ]
          },
          "execution_count": 192,
          "metadata": {},
          "output_type": "execute_result"
        }
      ],
      "source": [
        "(jobs_df['PUFC17_NATEM'] != ' ').sum()"
      ]
    },
    {
      "cell_type": "markdown",
      "metadata": {
        "id": "5sOfS-ThGuFt"
      },
      "source": [
        "This will narrow down our dataframe to 71355 respondents."
      ]
    },
    {
      "cell_type": "code",
      "execution_count": 193,
      "metadata": {
        "colab": {
          "base_uri": "https://localhost:8080/",
          "height": 677
        },
        "id": "GNyb837oGuFt",
        "outputId": "f229e061-bd54-4a16-96b4-dac8466dff12"
      },
      "outputs": [
        {
          "data": {
            "text/html": [
              "<div>\n",
              "<style scoped>\n",
              "    .dataframe tbody tr th:only-of-type {\n",
              "        vertical-align: middle;\n",
              "    }\n",
              "\n",
              "    .dataframe tbody tr th {\n",
              "        vertical-align: top;\n",
              "    }\n",
              "\n",
              "    .dataframe thead th {\n",
              "        text-align: right;\n",
              "    }\n",
              "</style>\n",
              "<table border=\"1\" class=\"dataframe\">\n",
              "  <thead>\n",
              "    <tr style=\"text-align: right;\">\n",
              "      <th></th>\n",
              "      <th>PUFREG</th>\n",
              "      <th>PUFC04_SEX</th>\n",
              "      <th>PUFC05_AGE</th>\n",
              "      <th>PUFC16_PKB</th>\n",
              "      <th>PUFC17_NATEM</th>\n",
              "      <th>PUFC08_CURSCH</th>\n",
              "      <th>PUFC18_PNWHRS</th>\n",
              "      <th>PUFC19_PHOURS</th>\n",
              "      <th>PUFC14_PROCC</th>\n",
              "      <th>PUFC26_OJOB</th>\n",
              "      <th>PUFC25_PBASIC</th>\n",
              "    </tr>\n",
              "  </thead>\n",
              "  <tbody>\n",
              "    <tr>\n",
              "      <th>0</th>\n",
              "      <td>1</td>\n",
              "      <td>M</td>\n",
              "      <td>49</td>\n",
              "      <td>01</td>\n",
              "      <td>1</td>\n",
              "      <td>False</td>\n",
              "      <td>08</td>\n",
              "      <td>024</td>\n",
              "      <td>61</td>\n",
              "      <td>True</td>\n",
              "      <td></td>\n",
              "    </tr>\n",
              "    <tr>\n",
              "      <th>1</th>\n",
              "      <td>1</td>\n",
              "      <td>F</td>\n",
              "      <td>61</td>\n",
              "      <td>01</td>\n",
              "      <td>2</td>\n",
              "      <td>False</td>\n",
              "      <td>04</td>\n",
              "      <td>008</td>\n",
              "      <td>92</td>\n",
              "      <td>False</td>\n",
              "      <td></td>\n",
              "    </tr>\n",
              "    <tr>\n",
              "      <th>2</th>\n",
              "      <td>1</td>\n",
              "      <td>M</td>\n",
              "      <td>19</td>\n",
              "      <td>01</td>\n",
              "      <td>2</td>\n",
              "      <td>False</td>\n",
              "      <td>08</td>\n",
              "      <td>024</td>\n",
              "      <td>92</td>\n",
              "      <td>True</td>\n",
              "      <td>00250</td>\n",
              "    </tr>\n",
              "    <tr>\n",
              "      <th>3</th>\n",
              "      <td>1</td>\n",
              "      <td>M</td>\n",
              "      <td>48</td>\n",
              "      <td>01</td>\n",
              "      <td>1</td>\n",
              "      <td>False</td>\n",
              "      <td>04</td>\n",
              "      <td>020</td>\n",
              "      <td>61</td>\n",
              "      <td>True</td>\n",
              "      <td></td>\n",
              "    </tr>\n",
              "    <tr>\n",
              "      <th>4</th>\n",
              "      <td>1</td>\n",
              "      <td>F</td>\n",
              "      <td>41</td>\n",
              "      <td>96</td>\n",
              "      <td>1</td>\n",
              "      <td>False</td>\n",
              "      <td>12</td>\n",
              "      <td>072</td>\n",
              "      <td>91</td>\n",
              "      <td>False</td>\n",
              "      <td>00115</td>\n",
              "    </tr>\n",
              "    <tr>\n",
              "      <th>5</th>\n",
              "      <td>1</td>\n",
              "      <td>M</td>\n",
              "      <td>20</td>\n",
              "      <td>47</td>\n",
              "      <td>2</td>\n",
              "      <td>False</td>\n",
              "      <td>08</td>\n",
              "      <td>048</td>\n",
              "      <td>52</td>\n",
              "      <td>False</td>\n",
              "      <td>00200</td>\n",
              "    </tr>\n",
              "    <tr>\n",
              "      <th>7</th>\n",
              "      <td>1</td>\n",
              "      <td>M</td>\n",
              "      <td>59</td>\n",
              "      <td>01</td>\n",
              "      <td>1</td>\n",
              "      <td>False</td>\n",
              "      <td>04</td>\n",
              "      <td>020</td>\n",
              "      <td>61</td>\n",
              "      <td>True</td>\n",
              "      <td></td>\n",
              "    </tr>\n",
              "    <tr>\n",
              "      <th>8</th>\n",
              "      <td>1</td>\n",
              "      <td>F</td>\n",
              "      <td>61</td>\n",
              "      <td>84</td>\n",
              "      <td>1</td>\n",
              "      <td>False</td>\n",
              "      <td>08</td>\n",
              "      <td>010</td>\n",
              "      <td>53</td>\n",
              "      <td>False</td>\n",
              "      <td></td>\n",
              "    </tr>\n",
              "    <tr>\n",
              "      <th>11</th>\n",
              "      <td>1</td>\n",
              "      <td>M</td>\n",
              "      <td>51</td>\n",
              "      <td>49</td>\n",
              "      <td>1</td>\n",
              "      <td>False</td>\n",
              "      <td>04</td>\n",
              "      <td>020</td>\n",
              "      <td>13</td>\n",
              "      <td>False</td>\n",
              "      <td></td>\n",
              "    </tr>\n",
              "    <tr>\n",
              "      <th>14</th>\n",
              "      <td>1</td>\n",
              "      <td>M</td>\n",
              "      <td>23</td>\n",
              "      <td>80</td>\n",
              "      <td>2</td>\n",
              "      <td>False</td>\n",
              "      <td>12</td>\n",
              "      <td>060</td>\n",
              "      <td>54</td>\n",
              "      <td>False</td>\n",
              "      <td>00335</td>\n",
              "    </tr>\n",
              "    <tr>\n",
              "      <th>15</th>\n",
              "      <td>1</td>\n",
              "      <td>M</td>\n",
              "      <td>71</td>\n",
              "      <td>41</td>\n",
              "      <td>2</td>\n",
              "      <td>False</td>\n",
              "      <td>08</td>\n",
              "      <td>048</td>\n",
              "      <td>93</td>\n",
              "      <td>False</td>\n",
              "      <td>00350</td>\n",
              "    </tr>\n",
              "    <tr>\n",
              "      <th>16</th>\n",
              "      <td>1</td>\n",
              "      <td>F</td>\n",
              "      <td>54</td>\n",
              "      <td>96</td>\n",
              "      <td>3</td>\n",
              "      <td>False</td>\n",
              "      <td>04</td>\n",
              "      <td>016</td>\n",
              "      <td>91</td>\n",
              "      <td>True</td>\n",
              "      <td>00200</td>\n",
              "    </tr>\n",
              "    <tr>\n",
              "      <th>17</th>\n",
              "      <td>1</td>\n",
              "      <td>M</td>\n",
              "      <td>27</td>\n",
              "      <td>84</td>\n",
              "      <td>1</td>\n",
              "      <td>False</td>\n",
              "      <td>08</td>\n",
              "      <td>040</td>\n",
              "      <td>12</td>\n",
              "      <td>False</td>\n",
              "      <td>00909</td>\n",
              "    </tr>\n",
              "    <tr>\n",
              "      <th>18</th>\n",
              "      <td>1</td>\n",
              "      <td>M</td>\n",
              "      <td>46</td>\n",
              "      <td>41</td>\n",
              "      <td>3</td>\n",
              "      <td>False</td>\n",
              "      <td>08</td>\n",
              "      <td>048</td>\n",
              "      <td>71</td>\n",
              "      <td>True</td>\n",
              "      <td>00400</td>\n",
              "    </tr>\n",
              "    <tr>\n",
              "      <th>20</th>\n",
              "      <td>1</td>\n",
              "      <td>M</td>\n",
              "      <td>23</td>\n",
              "      <td>43</td>\n",
              "      <td>3</td>\n",
              "      <td>False</td>\n",
              "      <td>08</td>\n",
              "      <td>048</td>\n",
              "      <td>71</td>\n",
              "      <td>False</td>\n",
              "      <td>00320</td>\n",
              "    </tr>\n",
              "    <tr>\n",
              "      <th>24</th>\n",
              "      <td>1</td>\n",
              "      <td>F</td>\n",
              "      <td>43</td>\n",
              "      <td>01</td>\n",
              "      <td>1</td>\n",
              "      <td>False</td>\n",
              "      <td>04</td>\n",
              "      <td>024</td>\n",
              "      <td>61</td>\n",
              "      <td>True</td>\n",
              "      <td></td>\n",
              "    </tr>\n",
              "    <tr>\n",
              "      <th>25</th>\n",
              "      <td>1</td>\n",
              "      <td>F</td>\n",
              "      <td>38</td>\n",
              "      <td>84</td>\n",
              "      <td>1</td>\n",
              "      <td>False</td>\n",
              "      <td>08</td>\n",
              "      <td>040</td>\n",
              "      <td>11</td>\n",
              "      <td>True</td>\n",
              "      <td>01029</td>\n",
              "    </tr>\n",
              "    <tr>\n",
              "      <th>27</th>\n",
              "      <td>1</td>\n",
              "      <td>M</td>\n",
              "      <td>35</td>\n",
              "      <td>49</td>\n",
              "      <td>1</td>\n",
              "      <td>False</td>\n",
              "      <td>04</td>\n",
              "      <td>024</td>\n",
              "      <td>83</td>\n",
              "      <td>True</td>\n",
              "      <td>00153</td>\n",
              "    </tr>\n",
              "    <tr>\n",
              "      <th>28</th>\n",
              "      <td>1</td>\n",
              "      <td>F</td>\n",
              "      <td>19</td>\n",
              "      <td>96</td>\n",
              "      <td>1</td>\n",
              "      <td>False</td>\n",
              "      <td>10</td>\n",
              "      <td>070</td>\n",
              "      <td>91</td>\n",
              "      <td>False</td>\n",
              "      <td>00115</td>\n",
              "    </tr>\n",
              "    <tr>\n",
              "      <th>29</th>\n",
              "      <td>1</td>\n",
              "      <td>M</td>\n",
              "      <td>72</td>\n",
              "      <td>01</td>\n",
              "      <td>1</td>\n",
              "      <td>False</td>\n",
              "      <td>02</td>\n",
              "      <td>004</td>\n",
              "      <td>61</td>\n",
              "      <td>False</td>\n",
              "      <td></td>\n",
              "    </tr>\n",
              "  </tbody>\n",
              "</table>\n",
              "</div>"
            ],
            "text/plain": [
              "    PUFREG PUFC04_SEX  PUFC05_AGE PUFC16_PKB PUFC17_NATEM  PUFC08_CURSCH  \\\n",
              "0        1          M          49         01            1          False   \n",
              "1        1          F          61         01            2          False   \n",
              "2        1          M          19         01            2          False   \n",
              "3        1          M          48         01            1          False   \n",
              "4        1          F          41         96            1          False   \n",
              "5        1          M          20         47            2          False   \n",
              "7        1          M          59         01            1          False   \n",
              "8        1          F          61         84            1          False   \n",
              "11       1          M          51         49            1          False   \n",
              "14       1          M          23         80            2          False   \n",
              "15       1          M          71         41            2          False   \n",
              "16       1          F          54         96            3          False   \n",
              "17       1          M          27         84            1          False   \n",
              "18       1          M          46         41            3          False   \n",
              "20       1          M          23         43            3          False   \n",
              "24       1          F          43         01            1          False   \n",
              "25       1          F          38         84            1          False   \n",
              "27       1          M          35         49            1          False   \n",
              "28       1          F          19         96            1          False   \n",
              "29       1          M          72         01            1          False   \n",
              "\n",
              "   PUFC18_PNWHRS PUFC19_PHOURS PUFC14_PROCC  PUFC26_OJOB PUFC25_PBASIC  \n",
              "0             08           024           61         True                \n",
              "1             04           008           92        False                \n",
              "2             08           024           92         True         00250  \n",
              "3             04           020           61         True                \n",
              "4             12           072           91        False         00115  \n",
              "5             08           048           52        False         00200  \n",
              "7             04           020           61         True                \n",
              "8             08           010           53        False                \n",
              "11            04           020           13        False                \n",
              "14            12           060           54        False         00335  \n",
              "15            08           048           93        False         00350  \n",
              "16            04           016           91         True         00200  \n",
              "17            08           040           12        False         00909  \n",
              "18            08           048           71         True         00400  \n",
              "20            08           048           71        False         00320  \n",
              "24            04           024           61         True                \n",
              "25            08           040           11         True         01029  \n",
              "27            04           024           83         True         00153  \n",
              "28            10           070           91        False         00115  \n",
              "29            02           004           61        False                "
            ]
          },
          "execution_count": 193,
          "metadata": {},
          "output_type": "execute_result"
        }
      ],
      "source": [
        "jobs_df = jobs_df[jobs_df['PUFC17_NATEM'] != ' ']\n",
        "jobs_df.head(20)"
      ]
    },
    {
      "cell_type": "markdown",
      "metadata": {
        "id": "FB57PHHqGuFt"
      },
      "source": [
        "### Primary Occupation variable\n",
        "\n",
        "`PUFC14_PROCC` represents the primary occupation of the respondents.\n",
        "\n",
        "According to the valueset, the responses are grouped into different bins:\n",
        "* 11-14 = managers\n",
        "* 21-26 = professionals\n",
        "* 31-36 = technicians and associate professionals\n",
        "* 41-44 = clerical support workers\n",
        "* 51-54 = service and sales workers\n",
        "* 61-63 = skilled agricultural, forestry and fishery workers\n",
        "* 71-75 = craft and related trades workers\n",
        "* 81-83 = plant and machine operators and assemblers\n",
        "* 91-96 = elementary occupations\n",
        "* 1-3 = armed forces occupations"
      ]
    },
    {
      "cell_type": "code",
      "execution_count": 194,
      "metadata": {
        "colab": {
          "base_uri": "https://localhost:8080/",
          "height": 1000
        },
        "id": "C_EeLwfQGuFu",
        "outputId": "4d0a0247-198f-4c54-d29a-9b1c57a15ccf"
      },
      "outputs": [
        {
          "data": {
            "text/plain": [
              "PUFC14_PROCC\n",
              "92    9565\n",
              "61    8499\n",
              "14    6820\n",
              "52    5546\n",
              "93    5239\n",
              "13    3968\n",
              "91    3026\n",
              "83    2823\n",
              "51    2778\n",
              "71    2524\n",
              "62    1963\n",
              "23    1862\n",
              "42    1572\n",
              "54    1529\n",
              "75    1160\n",
              "33     963\n",
              "72     907\n",
              "41     871\n",
              "96     851\n",
              "11     751\n",
              "53     696\n",
              "81     683\n",
              "43     652\n",
              "22     563\n",
              "44     533\n",
              "31     520\n",
              "12     506\n",
              "74     499\n",
              "34     422\n",
              "24     412\n",
              "32     405\n",
              "21     368\n",
              "73     356\n",
              "82     320\n",
              "26     292\n",
              "94     220\n",
              "25     174\n",
              "35     171\n",
              "95     147\n",
              "03     100\n",
              "01      40\n",
              "02      33\n",
              "63      26\n",
              "Name: count, dtype: int64"
            ]
          },
          "execution_count": 194,
          "metadata": {},
          "output_type": "execute_result"
        }
      ],
      "source": [
        "jobs_df['PUFC14_PROCC'].value_counts()"
      ]
    },
    {
      "cell_type": "markdown",
      "metadata": {
        "id": "3ZJeOTdUGuFu"
      },
      "source": [
        "We can group the different responses into categorical bins and represent their numbers as the title of their occupation."
      ]
    },
    {
      "cell_type": "code",
      "execution_count": 195,
      "metadata": {
        "id": "Q4tBlXa-GuFu"
      },
      "outputs": [],
      "source": [
        "PUFC14_PROCC_bins = [0, 3, 14, 26, 36, 44, 54, 63, 75, 83, 97]\n",
        "PUFC14_PROCC_labels = [\n",
        "    'Armed Forces Occupations',\n",
        "    'Managers',\n",
        "    'Professionals',\n",
        "    'Technicians and Associate Professionals',\n",
        "    'Clerical Support Workers',\n",
        "    'Service and Sales Workers',\n",
        "    'Skilled Agricultural, Forestry and Fishery Workers',\n",
        "    'Craft and Related Trades Workers',\n",
        "    'Plant and Machine Operators and Assemblers',\n",
        "    'Elementary Occupations',\n",
        "]"
      ]
    },
    {
      "cell_type": "markdown",
      "metadata": {
        "id": "TUeMVCQPGuFu"
      },
      "source": [
        "To start the binning process, we first have to convert the variable to an integer as it is currently an object."
      ]
    },
    {
      "cell_type": "code",
      "execution_count": 196,
      "metadata": {
        "id": "VMn05H6aGuFu"
      },
      "outputs": [],
      "source": [
        "jobs_df['PUFC14_PROCC'] = jobs_df['PUFC14_PROCC'].astype('int')"
      ]
    },
    {
      "cell_type": "markdown",
      "metadata": {
        "id": "o-2kRKlTGuFu"
      },
      "source": [
        "Now we start the binning process that the datatype has been modified."
      ]
    },
    {
      "cell_type": "code",
      "execution_count": 197,
      "metadata": {
        "colab": {
          "base_uri": "https://localhost:8080/",
          "height": 429
        },
        "id": "CFsRkwZIGuFu",
        "outputId": "9edffcf7-9386-4043-8ba1-88cf2266a796"
      },
      "outputs": [
        {
          "data": {
            "text/plain": [
              "PUFC14_PROCC\n",
              "Elementary Occupations                                21871\n",
              "Skilled Agricultural, Forestry and Fishery Workers    11991\n",
              "Professionals                                         10199\n",
              "Service and Sales Workers                              9553\n",
              "Managers                                               5325\n",
              "Craft and Related Trades Workers                       4312\n",
              "Clerical Support Workers                               3095\n",
              "Technicians and Associate Professionals                2773\n",
              "Plant and Machine Operators and Assemblers             2163\n",
              "Armed Forces Occupations                                 73\n",
              "Name: count, dtype: int64"
            ]
          },
          "execution_count": 197,
          "metadata": {},
          "output_type": "execute_result"
        }
      ],
      "source": [
        "jobs_df['PUFC14_PROCC'] = pd.cut(jobs_df['PUFC14_PROCC'], bins=PUFC14_PROCC_bins, labels=PUFC14_PROCC_labels, right=False)\n",
        "\n",
        "jobs_df['PUFC14_PROCC'].value_counts()"
      ]
    },
    {
      "cell_type": "code",
      "execution_count": 198,
      "metadata": {
        "colab": {
          "base_uri": "https://localhost:8080/"
        },
        "id": "EQcPEUTwGuFu",
        "outputId": "4ce18bd0-0acd-4a4a-e3f8-ca27f7b7a7a5"
      },
      "outputs": [
        {
          "name": "stdout",
          "output_type": "stream",
          "text": [
            "<class 'pandas.core.series.Series'>\n",
            "Index: 71355 entries, 0 to 180861\n",
            "Series name: PUFC14_PROCC\n",
            "Non-Null Count  Dtype   \n",
            "--------------  -----   \n",
            "71355 non-null  category\n",
            "dtypes: category(1)\n",
            "memory usage: 627.5 KB\n"
          ]
        }
      ],
      "source": [
        "jobs_df['PUFC14_PROCC'].info()"
      ]
    },
    {
      "cell_type": "markdown",
      "metadata": {
        "id": "NoVsvUqmGuFu"
      },
      "source": [
        "The datatype automatically gets converted into 'category' datatype, so no need to convert the datatype."
      ]
    },
    {
      "cell_type": "markdown",
      "metadata": {
        "id": "kjB4RVLiGuFu"
      },
      "source": [
        "### Kind of Industry variable\n",
        "\n",
        "The `PUFC16_PKB` variable dictates the major industry that the respondent works in.\n",
        "\n",
        "The `PUFC16_PKB` variable has 2 sets of bins, the first one encompassing the general industrty that the respondent works in:\n",
        "* 1-3 = Agricultural\n",
        "* 5-43 = Industrial\n",
        "* 45-99 = Services\n",
        "\n",
        "The other set of bins being the more specific industry that the respondent works in:\n",
        "* 1-2 = Agriculture and Forestry\n",
        "* 3 = Fishing\n",
        "* 5-9 = Mining and Quarying\n",
        "* 10-33 = Manufacturing\n",
        "* 35 = Electricity, Gas, Steam and Airconditioning Supply\n",
        "* 36-39 = Water Supply; Sewage, Waste Management and Remediation Activities\n",
        "* 41-43 = Construction\n",
        "* 45-47 = Whosale and Retail Trade; Repair of Motor Vehicles and Motorcycles\n",
        "* 49-53 = Transportation and Storage\n",
        "* 55-56 = Accommodation and Food Service Activities\n",
        "* 58-63 = Information and Communication\n",
        "* 64-66 = Financial and Insurance Activities\n",
        "* 68 = Real Estate Activities\n",
        "* 69-75 = Professional, Scientific and Technical Activities\n",
        "* 77-82 = Administrative and Support Service Activities\n",
        "* 84 = Public Administration and Defense; Compulsory Social Security\n",
        "* 85 = Education\n",
        "* 86-88 = Human Health and Social Work Activities\n",
        "* 90-93 = Arts, Entertainment and Recreation\n",
        "* 94-96 = Other Service Activities\n",
        "* 97-98 = Activities of Households as Employers\n",
        "* 99 = Activities of Extraterritorial Organizations and Bodies\n",
        "\n",
        "Given these bins, we can make a separate column that shows the general industry that the respondent works in, while keeping PUFC16_PKB to show their specific industry."
      ]
    },
    {
      "cell_type": "code",
      "execution_count": 199,
      "metadata": {
        "id": "sB3wsLwfGuFu"
      },
      "outputs": [],
      "source": [
        "PUFC16_PKB_GENERAL_bins = [0, 3, 43, 99]\n",
        "PUFC16_PKB_GENERAL_labels = [\n",
        "    'Agricultural',\n",
        "    'Industrial',\n",
        "    'Services']\n",
        "\n",
        "PUFC16_PKB_bins = [0, 2, 3, 9, 33, 35, 39, 43, 47, 53, 56, 63, 66, 68, 75, 82, 84, 85, 88, 93, 96, 98, 99]\n",
        "PUFC16_PKB_labels = [\n",
        "    'Agriculture and Forestry',\n",
        "    'Fishing',\n",
        "    'Mining and Quarying',\n",
        "    'Manufacturing',\n",
        "    'Electricity, Gas, Steam and Airconditioning Supply',\n",
        "    'Water Supply; Sewage, Waste Management and Remediation Activities',\n",
        "    'Construction',\n",
        "    'Whosale and Retail Trade; Repair of Motor Vehicles and Motorcycles',\n",
        "    'Transportation and Storage',\n",
        "    'Accommodation and Food Service Activities',\n",
        "    'Information and Communication',\n",
        "    'Financial and Insurance Activities',\n",
        "    'Real Estate Activities',\n",
        "    'Professional, Scientific and Technical Activities',\n",
        "    'Administrative and Support Service Activities',\n",
        "    'Public Administration and Defense; Compulsory Social Security',\n",
        "    'Education',\n",
        "    'Human Health and Social Work Activities',\n",
        "    'Arts, Entertainment and Recreation',\n",
        "    'Other Service Activities',\n",
        "    'Activities of Households as Employers',\n",
        "    'Activities of Extraterritorial Organizations and Bodies'\n",
        "]"
      ]
    },
    {
      "cell_type": "markdown",
      "metadata": {
        "id": "SSi4oSKHGuFu"
      },
      "source": [
        "We have to first convert the datatype into the integer datatype in order to bin the responses properly."
      ]
    },
    {
      "cell_type": "code",
      "execution_count": 200,
      "metadata": {
        "id": "g2twUN3BGuFu"
      },
      "outputs": [],
      "source": [
        "jobs_df['PUFC16_PKB'] = jobs_df['PUFC16_PKB'].astype('int')"
      ]
    },
    {
      "cell_type": "markdown",
      "metadata": {
        "id": "VQ19pp6KGuFu"
      },
      "source": [
        "Now we start the binning process that the datatype has been modified."
      ]
    },
    {
      "cell_type": "code",
      "execution_count": 201,
      "metadata": {
        "colab": {
          "base_uri": "https://localhost:8080/",
          "height": 210
        },
        "id": "XBzwBsVcGuFu",
        "outputId": "126109ea-39ea-458f-f2ae-c14debce31fd"
      },
      "outputs": [
        {
          "data": {
            "text/plain": [
              "PUFC16_PKB_GENERAL\n",
              "Services        39618\n",
              "Agricultural    17853\n",
              "Industrial      13874\n",
              "Name: count, dtype: int64"
            ]
          },
          "execution_count": 201,
          "metadata": {},
          "output_type": "execute_result"
        }
      ],
      "source": [
        "jobs_df['PUFC16_PKB_GENERAL'] = pd.cut(jobs_df['PUFC16_PKB'], bins=PUFC16_PKB_GENERAL_bins, labels=PUFC16_PKB_GENERAL_labels, right=False)\n",
        "jobs_df['PUFC16_PKB_GENERAL'].value_counts()"
      ]
    },
    {
      "cell_type": "code",
      "execution_count": 202,
      "metadata": {
        "colab": {
          "base_uri": "https://localhost:8080/",
          "height": 805
        },
        "id": "bUHv1776GuFv",
        "outputId": "c0c21e98-5b92-4092-cc8a-3f933a17b44b"
      },
      "outputs": [
        {
          "data": {
            "text/plain": [
              "PUFC16_PKB\n",
              "Agriculture and Forestry                                              17411\n",
              "Transportation and Storage                                            17014\n",
              "Construction                                                           5282\n",
              "Manufacturing                                                          4955\n",
              "Education                                                              4300\n",
              "Activities of Households as Employers                                  4235\n",
              "Mining and Quarying                                                    3269\n",
              "Human Health and Social Work Activities                                3117\n",
              "Information and Communication                                          2961\n",
              "Whosale and Retail Trade; Repair of Motor Vehicles and Motorcycles     2568\n",
              "Administrative and Support Service Activities                          1156\n",
              "Public Administration and Defense; Compulsory Social Security          1004\n",
              "Financial and Insurance Activities                                      914\n",
              "Other Service Activities                                                680\n",
              "Professional, Scientific and Technical Activities                       638\n",
              "Accommodation and Food Service Activities                               603\n",
              "Fishing                                                                 442\n",
              "Arts, Entertainment and Recreation                                      399\n",
              "Water Supply; Sewage, Waste Management and Remediation Activities       267\n",
              "Electricity, Gas, Steam and Airconditioning Supply                      101\n",
              "Real Estate Activities                                                   28\n",
              "Activities of Extraterritorial Organizations and Bodies                   1\n",
              "Name: count, dtype: int64"
            ]
          },
          "execution_count": 202,
          "metadata": {},
          "output_type": "execute_result"
        }
      ],
      "source": [
        "jobs_df['PUFC16_PKB'] = pd.cut(jobs_df['PUFC16_PKB'], bins=PUFC16_PKB_bins, labels=PUFC16_PKB_labels, right=False)\n",
        "jobs_df['PUFC16_PKB'].value_counts()"
      ]
    },
    {
      "cell_type": "code",
      "execution_count": 203,
      "metadata": {
        "colab": {
          "base_uri": "https://localhost:8080/",
          "height": 677
        },
        "id": "rXugyzcIGuFv",
        "outputId": "7ecaec18-ce00-479b-8aa9-9439ecc0cde6"
      },
      "outputs": [
        {
          "data": {
            "text/html": [
              "<div>\n",
              "<style scoped>\n",
              "    .dataframe tbody tr th:only-of-type {\n",
              "        vertical-align: middle;\n",
              "    }\n",
              "\n",
              "    .dataframe tbody tr th {\n",
              "        vertical-align: top;\n",
              "    }\n",
              "\n",
              "    .dataframe thead th {\n",
              "        text-align: right;\n",
              "    }\n",
              "</style>\n",
              "<table border=\"1\" class=\"dataframe\">\n",
              "  <thead>\n",
              "    <tr style=\"text-align: right;\">\n",
              "      <th></th>\n",
              "      <th>PUFC16_PKB_GENERAL</th>\n",
              "      <th>PUFC16_PKB</th>\n",
              "    </tr>\n",
              "  </thead>\n",
              "  <tbody>\n",
              "    <tr>\n",
              "      <th>0</th>\n",
              "      <td>Agricultural</td>\n",
              "      <td>Agriculture and Forestry</td>\n",
              "    </tr>\n",
              "    <tr>\n",
              "      <th>1</th>\n",
              "      <td>Agricultural</td>\n",
              "      <td>Agriculture and Forestry</td>\n",
              "    </tr>\n",
              "    <tr>\n",
              "      <th>2</th>\n",
              "      <td>Agricultural</td>\n",
              "      <td>Agriculture and Forestry</td>\n",
              "    </tr>\n",
              "    <tr>\n",
              "      <th>3</th>\n",
              "      <td>Agricultural</td>\n",
              "      <td>Agriculture and Forestry</td>\n",
              "    </tr>\n",
              "    <tr>\n",
              "      <th>4</th>\n",
              "      <td>Services</td>\n",
              "      <td>Activities of Households as Employers</td>\n",
              "    </tr>\n",
              "    <tr>\n",
              "      <th>5</th>\n",
              "      <td>Services</td>\n",
              "      <td>Transportation and Storage</td>\n",
              "    </tr>\n",
              "    <tr>\n",
              "      <th>7</th>\n",
              "      <td>Agricultural</td>\n",
              "      <td>Agriculture and Forestry</td>\n",
              "    </tr>\n",
              "    <tr>\n",
              "      <th>8</th>\n",
              "      <td>Services</td>\n",
              "      <td>Education</td>\n",
              "    </tr>\n",
              "    <tr>\n",
              "      <th>11</th>\n",
              "      <td>Services</td>\n",
              "      <td>Transportation and Storage</td>\n",
              "    </tr>\n",
              "    <tr>\n",
              "      <th>14</th>\n",
              "      <td>Services</td>\n",
              "      <td>Administrative and Support Service Activities</td>\n",
              "    </tr>\n",
              "    <tr>\n",
              "      <th>15</th>\n",
              "      <td>Industrial</td>\n",
              "      <td>Construction</td>\n",
              "    </tr>\n",
              "    <tr>\n",
              "      <th>16</th>\n",
              "      <td>Services</td>\n",
              "      <td>Activities of Households as Employers</td>\n",
              "    </tr>\n",
              "    <tr>\n",
              "      <th>17</th>\n",
              "      <td>Services</td>\n",
              "      <td>Education</td>\n",
              "    </tr>\n",
              "    <tr>\n",
              "      <th>18</th>\n",
              "      <td>Industrial</td>\n",
              "      <td>Construction</td>\n",
              "    </tr>\n",
              "    <tr>\n",
              "      <th>20</th>\n",
              "      <td>Services</td>\n",
              "      <td>Whosale and Retail Trade; Repair of Motor Vehi...</td>\n",
              "    </tr>\n",
              "    <tr>\n",
              "      <th>24</th>\n",
              "      <td>Agricultural</td>\n",
              "      <td>Agriculture and Forestry</td>\n",
              "    </tr>\n",
              "    <tr>\n",
              "      <th>25</th>\n",
              "      <td>Services</td>\n",
              "      <td>Education</td>\n",
              "    </tr>\n",
              "    <tr>\n",
              "      <th>27</th>\n",
              "      <td>Services</td>\n",
              "      <td>Transportation and Storage</td>\n",
              "    </tr>\n",
              "    <tr>\n",
              "      <th>28</th>\n",
              "      <td>Services</td>\n",
              "      <td>Activities of Households as Employers</td>\n",
              "    </tr>\n",
              "    <tr>\n",
              "      <th>29</th>\n",
              "      <td>Agricultural</td>\n",
              "      <td>Agriculture and Forestry</td>\n",
              "    </tr>\n",
              "  </tbody>\n",
              "</table>\n",
              "</div>"
            ],
            "text/plain": [
              "   PUFC16_PKB_GENERAL                                         PUFC16_PKB\n",
              "0        Agricultural                           Agriculture and Forestry\n",
              "1        Agricultural                           Agriculture and Forestry\n",
              "2        Agricultural                           Agriculture and Forestry\n",
              "3        Agricultural                           Agriculture and Forestry\n",
              "4            Services              Activities of Households as Employers\n",
              "5            Services                         Transportation and Storage\n",
              "7        Agricultural                           Agriculture and Forestry\n",
              "8            Services                                          Education\n",
              "11           Services                         Transportation and Storage\n",
              "14           Services      Administrative and Support Service Activities\n",
              "15         Industrial                                       Construction\n",
              "16           Services              Activities of Households as Employers\n",
              "17           Services                                          Education\n",
              "18         Industrial                                       Construction\n",
              "20           Services  Whosale and Retail Trade; Repair of Motor Vehi...\n",
              "24       Agricultural                           Agriculture and Forestry\n",
              "25           Services                                          Education\n",
              "27           Services                         Transportation and Storage\n",
              "28           Services              Activities of Households as Employers\n",
              "29       Agricultural                           Agriculture and Forestry"
            ]
          },
          "execution_count": 203,
          "metadata": {},
          "output_type": "execute_result"
        }
      ],
      "source": [
        "jobs_df[['PUFC16_PKB_GENERAL', 'PUFC16_PKB']].head(20)"
      ]
    },
    {
      "cell_type": "markdown",
      "metadata": {
        "id": "d4TWI_0tGuFv"
      },
      "source": [
        "### Region variable\n",
        "\n",
        "The last categorical variable, `PUFREG`, which represents the region where the respondent originates from.\n",
        "\n",
        "The valueset goes as follows:\n",
        "* 13 = National Capital Region\n",
        "* 14 = Cordillera Administrative Region\n",
        "* 1 = Region I - Ilocos Region\n",
        "* 2 = Region II - Cagayan Valley\n",
        "* 3 = Region III - Central Luzon\n",
        "* 4 = Region IVA - CALABARZON\n",
        "* 17 = Region IVB - MIMAROPA\n",
        "* 5 = Region V - Bicol\n",
        "* 6 = Region VI - Western Visayas\n",
        "* 7 = Region VII - Central Visayas\n",
        "* 8 = Region VIII - Eastern Visayas\n",
        "* 9 = Region IX - Zamboanga Peninsula\n",
        "* 10 = Region X - Northern Mindanao\n",
        "* 11 = Region XI - Davao\n",
        "* 12 = Region XII - SOCCSKSARGEN\n",
        "* 16 = Region XIII - Caraga\n",
        "* 15 = Autonomous Region in Muslim Mindanao\n",
        "\n",
        "We can represent these regions better by displaying their name instead of their corresponding number. We can process this easier by using mapping."
      ]
    },
    {
      "cell_type": "code",
      "execution_count": 204,
      "metadata": {
        "colab": {
          "base_uri": "https://localhost:8080/",
          "height": 649
        },
        "id": "9ikue1HWLBoQ",
        "outputId": "354155bf-9a2d-43bd-c2c0-1f04a74c62ec"
      },
      "outputs": [
        {
          "data": {
            "text/plain": [
              "PUFREG\n",
              "13    10417\n",
              "3      5451\n",
              "6      4815\n",
              "8      4796\n",
              "7      4512\n",
              "10     4487\n",
              "14     4424\n",
              "5      3928\n",
              "16     3682\n",
              "11     3675\n",
              "17     3540\n",
              "12     3479\n",
              "4      3392\n",
              "9      2747\n",
              "15     2732\n",
              "1      2666\n",
              "2      2612\n",
              "Name: count, dtype: int64"
            ]
          },
          "execution_count": 204,
          "metadata": {},
          "output_type": "execute_result"
        }
      ],
      "source": [
        "jobs_df['PUFREG'].value_counts()"
      ]
    },
    {
      "cell_type": "code",
      "execution_count": 205,
      "metadata": {
        "id": "5qef2lirGuFv"
      },
      "outputs": [],
      "source": [
        "PUFREG_mapping = {\n",
        "    13: 'National Capital Region',\n",
        "    14: 'Cordillera Administrative Region',\n",
        "    1: 'Region I - Ilocos Region',\n",
        "    2: 'Region II - Cagayan Valley',\n",
        "    3: 'Region III - Central Luzon',\n",
        "    4: 'Region IVA - CALABARZON',\n",
        "    17: 'Region IVB - MIMAROPA',\n",
        "    5: 'Region V - Bicol',\n",
        "    6: 'Region VI - Western Visayas',\n",
        "    7: 'Region VII - Central Visayas',\n",
        "    8: 'Region VIII - Eastern Visayas',\n",
        "    9: 'Region IX - Zamboanga Peninsula',\n",
        "    10: 'Region X - Northern Mindanao',\n",
        "    11: 'Region XI - Davao',\n",
        "    12: 'Region XII - SOCCSKSARGEN',\n",
        "    16: 'Region XIII - Caraga',\n",
        "    15: 'Autonomous Region in Muslim Mindanao'\n",
        "}"
      ]
    },
    {
      "cell_type": "code",
      "execution_count": 206,
      "metadata": {
        "colab": {
          "base_uri": "https://localhost:8080/",
          "height": 649
        },
        "id": "pahiMrr_GuFv",
        "outputId": "b346aab9-c593-4c38-8552-fb51bec9e8bb"
      },
      "outputs": [
        {
          "data": {
            "text/plain": [
              "PUFREG\n",
              "National Capital Region                 10417\n",
              "Region III - Central Luzon               5451\n",
              "Region VI - Western Visayas              4815\n",
              "Region VIII - Eastern Visayas            4796\n",
              "Region VII - Central Visayas             4512\n",
              "Region X - Northern Mindanao             4487\n",
              "Cordillera Administrative Region         4424\n",
              "Region V - Bicol                         3928\n",
              "Region XIII - Caraga                     3682\n",
              "Region XI - Davao                        3675\n",
              "Region IVB - MIMAROPA                    3540\n",
              "Region XII - SOCCSKSARGEN                3479\n",
              "Region IVA - CALABARZON                  3392\n",
              "Region IX - Zamboanga Peninsula          2747\n",
              "Autonomous Region in Muslim Mindanao     2732\n",
              "Region I - Ilocos Region                 2666\n",
              "Region II - Cagayan Valley               2612\n",
              "Name: count, dtype: int64"
            ]
          },
          "execution_count": 206,
          "metadata": {},
          "output_type": "execute_result"
        }
      ],
      "source": [
        "jobs_df['PUFREG'] = jobs_df['PUFREG'].map(PUFREG_mapping)\n",
        "jobs_df['PUFREG'].value_counts()"
      ]
    },
    {
      "cell_type": "code",
      "execution_count": 207,
      "metadata": {
        "colab": {
          "base_uri": "https://localhost:8080/"
        },
        "id": "zeUKUPXMGuFv",
        "outputId": "988da66b-9c4a-43c9-cabe-e5fd1a8fffaf"
      },
      "outputs": [
        {
          "name": "stdout",
          "output_type": "stream",
          "text": [
            "<class 'pandas.core.series.Series'>\n",
            "Index: 71355 entries, 0 to 180861\n",
            "Series name: PUFREG\n",
            "Non-Null Count  Dtype \n",
            "--------------  ----- \n",
            "71355 non-null  object\n",
            "dtypes: object(1)\n",
            "memory usage: 1.1+ MB\n"
          ]
        }
      ],
      "source": [
        "jobs_df['PUFREG'].info()"
      ]
    },
    {
      "cell_type": "markdown",
      "metadata": {
        "id": "1LcWyPHKGuFv"
      },
      "source": [
        "As we can see, the datatype is still left as 'object', we want to convert that to a category to be more appropriate."
      ]
    },
    {
      "cell_type": "code",
      "execution_count": 208,
      "metadata": {
        "colab": {
          "base_uri": "https://localhost:8080/"
        },
        "id": "tCv_lfM7GuFv",
        "outputId": "9692e012-4ee8-44b7-d76d-2b97a996f009"
      },
      "outputs": [
        {
          "name": "stdout",
          "output_type": "stream",
          "text": [
            "<class 'pandas.core.series.Series'>\n",
            "Index: 71355 entries, 0 to 180861\n",
            "Series name: PUFREG\n",
            "Non-Null Count  Dtype   \n",
            "--------------  -----   \n",
            "71355 non-null  category\n",
            "dtypes: category(1)\n",
            "memory usage: 627.8 KB\n"
          ]
        }
      ],
      "source": [
        "jobs_df['PUFREG'] = jobs_df['PUFREG'].astype('category')\n",
        "jobs_df['PUFREG'].info()"
      ]
    },
    {
      "cell_type": "markdown",
      "metadata": {
        "id": "ywZa5qAkGuFv"
      },
      "source": [
        "## Numerical Variable Preprocessing\n",
        "\n",
        "After finishing the required preprocessing for all categorical variables, we move on to the preprocessing for numerical variables."
      ]
    },
    {
      "cell_type": "code",
      "execution_count": 209,
      "metadata": {
        "colab": {
          "base_uri": "https://localhost:8080/",
          "height": 677
        },
        "id": "4HbwV0FuZphA",
        "outputId": "1835df5e-ed8e-4873-80e4-3f9b7cadadaa"
      },
      "outputs": [
        {
          "data": {
            "text/html": [
              "<div>\n",
              "<style scoped>\n",
              "    .dataframe tbody tr th:only-of-type {\n",
              "        vertical-align: middle;\n",
              "    }\n",
              "\n",
              "    .dataframe tbody tr th {\n",
              "        vertical-align: top;\n",
              "    }\n",
              "\n",
              "    .dataframe thead th {\n",
              "        text-align: right;\n",
              "    }\n",
              "</style>\n",
              "<table border=\"1\" class=\"dataframe\">\n",
              "  <thead>\n",
              "    <tr style=\"text-align: right;\">\n",
              "      <th></th>\n",
              "      <th>PUFC05_AGE</th>\n",
              "      <th>PUFC18_PNWHRS</th>\n",
              "      <th>PUFC19_PHOURS</th>\n",
              "      <th>PUFC25_PBASIC</th>\n",
              "    </tr>\n",
              "  </thead>\n",
              "  <tbody>\n",
              "    <tr>\n",
              "      <th>0</th>\n",
              "      <td>49</td>\n",
              "      <td>08</td>\n",
              "      <td>024</td>\n",
              "      <td></td>\n",
              "    </tr>\n",
              "    <tr>\n",
              "      <th>1</th>\n",
              "      <td>61</td>\n",
              "      <td>04</td>\n",
              "      <td>008</td>\n",
              "      <td></td>\n",
              "    </tr>\n",
              "    <tr>\n",
              "      <th>2</th>\n",
              "      <td>19</td>\n",
              "      <td>08</td>\n",
              "      <td>024</td>\n",
              "      <td>00250</td>\n",
              "    </tr>\n",
              "    <tr>\n",
              "      <th>3</th>\n",
              "      <td>48</td>\n",
              "      <td>04</td>\n",
              "      <td>020</td>\n",
              "      <td></td>\n",
              "    </tr>\n",
              "    <tr>\n",
              "      <th>4</th>\n",
              "      <td>41</td>\n",
              "      <td>12</td>\n",
              "      <td>072</td>\n",
              "      <td>00115</td>\n",
              "    </tr>\n",
              "    <tr>\n",
              "      <th>5</th>\n",
              "      <td>20</td>\n",
              "      <td>08</td>\n",
              "      <td>048</td>\n",
              "      <td>00200</td>\n",
              "    </tr>\n",
              "    <tr>\n",
              "      <th>6</th>\n",
              "      <td>15</td>\n",
              "      <td></td>\n",
              "      <td></td>\n",
              "      <td></td>\n",
              "    </tr>\n",
              "    <tr>\n",
              "      <th>7</th>\n",
              "      <td>59</td>\n",
              "      <td>04</td>\n",
              "      <td>020</td>\n",
              "      <td></td>\n",
              "    </tr>\n",
              "    <tr>\n",
              "      <th>8</th>\n",
              "      <td>61</td>\n",
              "      <td>08</td>\n",
              "      <td>010</td>\n",
              "      <td></td>\n",
              "    </tr>\n",
              "    <tr>\n",
              "      <th>9</th>\n",
              "      <td>11</td>\n",
              "      <td></td>\n",
              "      <td></td>\n",
              "      <td></td>\n",
              "    </tr>\n",
              "    <tr>\n",
              "      <th>10</th>\n",
              "      <td>2</td>\n",
              "      <td></td>\n",
              "      <td></td>\n",
              "      <td></td>\n",
              "    </tr>\n",
              "    <tr>\n",
              "      <th>11</th>\n",
              "      <td>51</td>\n",
              "      <td>04</td>\n",
              "      <td>020</td>\n",
              "      <td></td>\n",
              "    </tr>\n",
              "    <tr>\n",
              "      <th>12</th>\n",
              "      <td>51</td>\n",
              "      <td></td>\n",
              "      <td></td>\n",
              "      <td></td>\n",
              "    </tr>\n",
              "    <tr>\n",
              "      <th>13</th>\n",
              "      <td>26</td>\n",
              "      <td></td>\n",
              "      <td></td>\n",
              "      <td></td>\n",
              "    </tr>\n",
              "    <tr>\n",
              "      <th>14</th>\n",
              "      <td>23</td>\n",
              "      <td>12</td>\n",
              "      <td>060</td>\n",
              "      <td>00335</td>\n",
              "    </tr>\n",
              "    <tr>\n",
              "      <th>15</th>\n",
              "      <td>71</td>\n",
              "      <td>08</td>\n",
              "      <td>048</td>\n",
              "      <td>00350</td>\n",
              "    </tr>\n",
              "    <tr>\n",
              "      <th>16</th>\n",
              "      <td>54</td>\n",
              "      <td>04</td>\n",
              "      <td>016</td>\n",
              "      <td>00200</td>\n",
              "    </tr>\n",
              "    <tr>\n",
              "      <th>17</th>\n",
              "      <td>27</td>\n",
              "      <td>08</td>\n",
              "      <td>040</td>\n",
              "      <td>00909</td>\n",
              "    </tr>\n",
              "    <tr>\n",
              "      <th>18</th>\n",
              "      <td>46</td>\n",
              "      <td>08</td>\n",
              "      <td>048</td>\n",
              "      <td>00400</td>\n",
              "    </tr>\n",
              "    <tr>\n",
              "      <th>19</th>\n",
              "      <td>46</td>\n",
              "      <td></td>\n",
              "      <td></td>\n",
              "      <td></td>\n",
              "    </tr>\n",
              "  </tbody>\n",
              "</table>\n",
              "</div>"
            ],
            "text/plain": [
              "    PUFC05_AGE PUFC18_PNWHRS PUFC19_PHOURS PUFC25_PBASIC\n",
              "0           49            08           024              \n",
              "1           61            04           008              \n",
              "2           19            08           024         00250\n",
              "3           48            04           020              \n",
              "4           41            12           072         00115\n",
              "5           20            08           048         00200\n",
              "6           15                                          \n",
              "7           59            04           020              \n",
              "8           61            08           010              \n",
              "9           11                                          \n",
              "10           2                                          \n",
              "11          51            04           020              \n",
              "12          51                                          \n",
              "13          26                                          \n",
              "14          23            12           060         00335\n",
              "15          71            08           048         00350\n",
              "16          54            04           016         00200\n",
              "17          27            08           040         00909\n",
              "18          46            08           048         00400\n",
              "19          46                                          "
            ]
          },
          "execution_count": 209,
          "metadata": {},
          "output_type": "execute_result"
        }
      ],
      "source": [
        "numericalvar_df.head(20)"
      ]
    },
    {
      "cell_type": "markdown",
      "metadata": {
        "id": "BHRR21o9GuFx"
      },
      "source": [
        "### Basic Pay variable"
      ]
    },
    {
      "cell_type": "code",
      "execution_count": 210,
      "metadata": {
        "colab": {
          "base_uri": "https://localhost:8080/"
        },
        "id": "0532SQLWGuFx",
        "outputId": "dbd148b5-6da8-47f7-8035-3ea7a0153060",
        "scrolled": false
      },
      "outputs": [
        {
          "data": {
            "text/plain": [
              "array(['     ', '00250', '00115', ..., '00728', '01573', '00922'],\n",
              "      shape=(1152,), dtype=object)"
            ]
          },
          "execution_count": 210,
          "metadata": {},
          "output_type": "execute_result"
        }
      ],
      "source": [
        "jobs_df['PUFC25_PBASIC'].unique()"
      ]
    },
    {
      "cell_type": "code",
      "execution_count": 211,
      "metadata": {
        "colab": {
          "base_uri": "https://localhost:8080/"
        },
        "id": "Ac68-9sDGuFx",
        "outputId": "5f9b37ef-da1e-4a02-eaca-90a255129edc"
      },
      "outputs": [
        {
          "ename": "NameError",
          "evalue": "name 'np' is not defined",
          "output_type": "error",
          "traceback": [
            "\u001b[1;31m---------------------------------------------------------------------------\u001b[0m",
            "\u001b[1;31mNameError\u001b[0m                                 Traceback (most recent call last)",
            "Cell \u001b[1;32mIn[211], line 2\u001b[0m\n\u001b[0;32m      1\u001b[0m \u001b[38;5;66;03m# Turning the white space value into NaN\u001b[39;00m\n\u001b[1;32m----> 2\u001b[0m jobs_df[\u001b[38;5;124m'\u001b[39m\u001b[38;5;124mPUFC25_PBASIC\u001b[39m\u001b[38;5;124m'\u001b[39m] \u001b[38;5;241m=\u001b[39m jobs_df[\u001b[38;5;124m'\u001b[39m\u001b[38;5;124mPUFC25_PBASIC\u001b[39m\u001b[38;5;124m'\u001b[39m]\u001b[38;5;241m.\u001b[39mreplace(\u001b[38;5;124mr\u001b[39m\u001b[38;5;124m'\u001b[39m\u001b[38;5;124m^\u001b[39m\u001b[38;5;124m\\\u001b[39m\u001b[38;5;124ms*$\u001b[39m\u001b[38;5;124m'\u001b[39m, \u001b[43mnp\u001b[49m\u001b[38;5;241m.\u001b[39mnan, regex\u001b[38;5;241m=\u001b[39m\u001b[38;5;28;01mTrue\u001b[39;00m)\n\u001b[0;32m      4\u001b[0m jobs_df[\u001b[38;5;124m'\u001b[39m\u001b[38;5;124mPUFC25_PBASIC\u001b[39m\u001b[38;5;124m'\u001b[39m]\u001b[38;5;241m.\u001b[39misnull()\u001b[38;5;241m.\u001b[39msum()\n",
            "\u001b[1;31mNameError\u001b[0m: name 'np' is not defined"
          ]
        }
      ],
      "source": [
        "# Turning the white space value into NaN\n",
        "jobs_df['PUFC25_PBASIC'] = jobs_df['PUFC25_PBASIC'].replace(r'^\\s*$', np.nan, regex=True)\n",
        "\n",
        "jobs_df['PUFC25_PBASIC'].isnull().sum()"
      ]
    },
    {
      "cell_type": "markdown",
      "metadata": {
        "id": "2B20dZ3uYsmh"
      },
      "source": [
        "In order to deal with the `NaN` values, we will set the value to 0 and convert the data type into integer to make it easier to work with later on.\n",
        "\n",
        "We will also convert the data type to `int` to make it easier to work with."
      ]
    },
    {
      "cell_type": "code",
      "execution_count": null,
      "metadata": {
        "colab": {
          "base_uri": "https://localhost:8080/"
        },
        "id": "3o7taT-7GuFx",
        "outputId": "cbee2b23-6bb0-40cd-d7ca-12f89e374f35"
      },
      "outputs": [
        {
          "name": "stderr",
          "output_type": "stream",
          "text": [
            "<ipython-input-117-38c11c89372c>:2: FutureWarning: A value is trying to be set on a copy of a DataFrame or Series through chained assignment using an inplace method.\n",
            "The behavior will change in pandas 3.0. This inplace method will never work because the intermediate object on which we are setting values always behaves as a copy.\n",
            "\n",
            "For example, when doing 'df[col].method(value, inplace=True)', try using 'df.method({col: value}, inplace=True)' or df[col] = df[col].method(value) instead, to perform the operation inplace on the original object.\n",
            "\n",
            "\n",
            "  jobs_df['PUFC25_PBASIC'].fillna(0, inplace=True)\n"
          ]
        },
        {
          "data": {
            "text/plain": [
              "array([   0,  250,  115, ...,  728, 1573,  922])"
            ]
          },
          "execution_count": 117,
          "metadata": {},
          "output_type": "execute_result"
        }
      ],
      "source": [
        "# Setting the null value to 0\n",
        "jobs_df['PUFC25_PBASIC'].fillna(0, inplace=True)\n",
        "\n",
        "# Setting the dtype to int\n",
        "jobs_df['PUFC25_PBASIC'] = jobs_df['PUFC25_PBASIC'].astype(int)\n",
        "\n",
        "jobs_df['PUFC25_PBASIC'].unique()"
      ]
    },
    {
      "cell_type": "markdown",
      "metadata": {
        "id": "5q2k8po5j36e"
      },
      "source": [
        "Since `0` represent data that we want to disregard, we will tackle the rest of Basic Pay per Day without the `0` values.\n",
        "\n",
        "We will also visualize our data so we can see the distribution of our data."
      ]
    },
    {
      "cell_type": "code",
      "execution_count": null,
      "metadata": {
        "colab": {
          "base_uri": "https://localhost:8080/",
          "height": 545
        },
        "id": "Xzgmm_UYGuFx",
        "outputId": "192dff5c-1a30-4eab-bd88-63479d35f476"
      },
      "outputs": [
        {
          "data": {
            "image/png": "[encoded data removed]",
            "text/plain": [
              "<Figure size 800x600 with 1 Axes>"
            ]
          },
          "metadata": {},
          "output_type": "display_data"
        }
      ],
      "source": [
        "jobs_df = jobs_df[jobs_df['PUFC25_PBASIC'] != 0]\n",
        "\n",
        "plt.figure(figsize=(8, 6))\n",
        "jitter = np.random.normal(0, 0.1, size=len(jobs_df['PUFC25_PBASIC']))\n",
        "plt.plot(jobs_df['PUFC25_PBASIC'], jitter, 'go', markersize=2)\n",
        "plt.title('Basic Pay per Day')\n",
        "plt.show()"
      ]
    },
    {
      "cell_type": "markdown",
      "metadata": {
        "id": "CBDgiRt_FJCu"
      },
      "source": [
        "Since our data is skewed, we will apply log transformation in order to normalize our data."
      ]
    },
    {
      "cell_type": "code",
      "execution_count": null,
      "metadata": {
        "colab": {
          "base_uri": "https://localhost:8080/",
          "height": 458
        },
        "id": "dg9raDxhGuFx",
        "outputId": "13929647-5ea1-4c3f-fef4-e320ff45ef1a",
        "scrolled": false
      },
      "outputs": [
        {
          "data": {
            "text/html": [
              "<div>\n",
              "<style scoped>\n",
              "    .dataframe tbody tr th:only-of-type {\n",
              "        vertical-align: middle;\n",
              "    }\n",
              "\n",
              "    .dataframe tbody tr th {\n",
              "        vertical-align: top;\n",
              "    }\n",
              "\n",
              "    .dataframe thead th {\n",
              "        text-align: right;\n",
              "    }\n",
              "</style>\n",
              "<table border=\"1\" class=\"dataframe\">\n",
              "  <thead>\n",
              "    <tr style=\"text-align: right;\">\n",
              "      <th></th>\n",
              "      <th>PUFC25_PBASIC</th>\n",
              "    </tr>\n",
              "  </thead>\n",
              "  <tbody>\n",
              "    <tr>\n",
              "      <th>2</th>\n",
              "      <td>5.521461</td>\n",
              "    </tr>\n",
              "    <tr>\n",
              "      <th>4</th>\n",
              "      <td>4.744932</td>\n",
              "    </tr>\n",
              "    <tr>\n",
              "      <th>5</th>\n",
              "      <td>5.298317</td>\n",
              "    </tr>\n",
              "    <tr>\n",
              "      <th>14</th>\n",
              "      <td>5.814131</td>\n",
              "    </tr>\n",
              "    <tr>\n",
              "      <th>15</th>\n",
              "      <td>5.857933</td>\n",
              "    </tr>\n",
              "    <tr>\n",
              "      <th>...</th>\n",
              "      <td>...</td>\n",
              "    </tr>\n",
              "    <tr>\n",
              "      <th>180837</th>\n",
              "      <td>5.659482</td>\n",
              "    </tr>\n",
              "    <tr>\n",
              "      <th>180844</th>\n",
              "      <td>5.438079</td>\n",
              "    </tr>\n",
              "    <tr>\n",
              "      <th>180845</th>\n",
              "      <td>6.805723</td>\n",
              "    </tr>\n",
              "    <tr>\n",
              "      <th>180847</th>\n",
              "      <td>5.768321</td>\n",
              "    </tr>\n",
              "    <tr>\n",
              "      <th>180848</th>\n",
              "      <td>6.253829</td>\n",
              "    </tr>\n",
              "  </tbody>\n",
              "</table>\n",
              "<p>36588 rows × 1 columns</p>\n",
              "</div><br><label><b>dtype:</b> float64</label>"
            ],
            "text/plain": [
              "2         5.521461\n",
              "4         4.744932\n",
              "5         5.298317\n",
              "14        5.814131\n",
              "15        5.857933\n",
              "            ...   \n",
              "180837    5.659482\n",
              "180844    5.438079\n",
              "180845    6.805723\n",
              "180847    5.768321\n",
              "180848    6.253829\n",
              "Name: PUFC25_PBASIC, Length: 36588, dtype: float64"
            ]
          },
          "execution_count": 119,
          "metadata": {},
          "output_type": "execute_result"
        }
      ],
      "source": [
        "jobs_df['PUFC25_PBASIC'] = np.log(jobs_df['PUFC25_PBASIC'])\n",
        "\n",
        "jobs_df['PUFC25_PBASIC']"
      ]
    },
    {
      "cell_type": "markdown",
      "metadata": {
        "id": "FcHAEEoUFfVF"
      },
      "source": [
        "We will visualize the data again to check for outliers."
      ]
    },
    {
      "cell_type": "code",
      "execution_count": null,
      "metadata": {
        "colab": {
          "base_uri": "https://localhost:8080/",
          "height": 545
        },
        "id": "Ay14Hd8UGuFx",
        "outputId": "772d00b2-714c-463a-a65b-c98e6711132b"
      },
      "outputs": [
        {
          "data": {
            "image/png": "[encoded data removed]",
            "text/plain": [
              "<Figure size 800x600 with 1 Axes>"
            ]
          },
          "metadata": {},
          "output_type": "display_data"
        }
      ],
      "source": [
        "plt.figure(figsize=(8, 6))\n",
        "jitter = np.random.normal(0, 0.1, size=len(jobs_df['PUFC25_PBASIC']))\n",
        "plt.plot(jobs_df['PUFC25_PBASIC'], jitter, 'go', markersize=2)\n",
        "plt.title('Basic Pay per Day')\n",
        "plt.show()"
      ]
    },
    {
      "cell_type": "markdown",
      "metadata": {
        "id": "nIL9XYrSFqde"
      },
      "source": [
        "Since we still have some outliers, we can use the interquartile range and adjust its threshold."
      ]
    },
    {
      "cell_type": "code",
      "execution_count": null,
      "metadata": {
        "colab": {
          "base_uri": "https://localhost:8080/"
        },
        "id": "6vRxiOCKGuFx",
        "outputId": "9363abc5-3e3c-493c-960e-164bcb90d65d"
      },
      "outputs": [
        {
          "name": "stdout",
          "output_type": "stream",
          "text": [
            "Number of outliers: 0\n"
          ]
        }
      ],
      "source": [
        "# Computing for the IQR\n",
        "\n",
        "lbp_q1 = jobs_df['PUFC25_PBASIC'].quantile(0.25)\n",
        "lbp_q3 = jobs_df['PUFC25_PBASIC'].quantile(0.75)\n",
        "lbp_iqr = lbp_q3 - lbp_q1\n",
        "\n",
        "# Computing for the adjusted IQR thresholds\n",
        "\n",
        "lbp_lw = lbp_q1 - 2 * lbp_iqr\n",
        "lbp_uw = lbp_q3 + 2 * lbp_iqr\n",
        "\n",
        "# Removing the outliers from the DF\n",
        "jobs_df = jobs_df[(jobs_df['PUFC25_PBASIC'] >= lbp_lw) & (jobs_df['PUFC25_PBASIC'] <= lbp_uw)]\n",
        "\n",
        "outlier_count_after = jobs_df[(jobs_df['PUFC25_PBASIC'] < lbp_lw) | (jobs_df['PUFC25_PBASIC'] > lbp_uw)].shape[0]\n",
        "print(\"Number of outliers:\", outlier_count_after)"
      ]
    },
    {
      "cell_type": "markdown",
      "metadata": {
        "id": "b6QCTNxbGuFv"
      },
      "source": [
        "### Age variable\n",
        "\n",
        "`PUFC05_AGE` represents the age of the respondent as of their last birthday.\n",
        "\n",
        "We first need to assess what range we are dealing with for the age."
      ]
    },
    {
      "cell_type": "code",
      "execution_count": null,
      "metadata": {
        "colab": {
          "base_uri": "https://localhost:8080/"
        },
        "id": "QJyOV9XoGuFw",
        "outputId": "c1d80efa-98dc-4b04-e4c2-c80dba278f32"
      },
      "outputs": [
        {
          "data": {
            "text/plain": [
              "array([19, 41, 20, 23, 71, 54, 27, 46, 38, 35, 51, 22, 44, 40, 26, 45, 52,\n",
              "       55, 30, 62, 33, 29, 24, 21, 34, 25, 37, 43, 17, 60, 28, 42, 50, 58,\n",
              "       57, 36, 18, 70, 48, 47, 61, 31, 32, 49, 39, 68, 53, 16, 56, 65, 63,\n",
              "       59, 69, 87, 64, 75, 76, 15, 66, 67, 72, 85, 74, 83, 73, 77, 79, 78,\n",
              "       80, 91, 81, 99, 82])"
            ]
          },
          "execution_count": 122,
          "metadata": {},
          "output_type": "execute_result"
        }
      ],
      "source": [
        "jobs_df['PUFC05_AGE'].unique()"
      ]
    },
    {
      "cell_type": "markdown",
      "metadata": {
        "id": "J-mrjbVukCwT"
      },
      "source": [
        "We can see that some of the unique variables go above your typical working age so we need to check if there are outliers within our data."
      ]
    },
    {
      "cell_type": "code",
      "execution_count": null,
      "metadata": {
        "colab": {
          "base_uri": "https://localhost:8080/"
        },
        "id": "v6kSjly5_OHp",
        "outputId": "eef83b8f-8c8f-46cf-ad66-bf005bb7cea6"
      },
      "outputs": [
        {
          "name": "stderr",
          "output_type": "stream",
          "text": [
            "<ipython-input-123-449df5409fc7>:1: SettingWithCopyWarning: \n",
            "A value is trying to be set on a copy of a slice from a DataFrame.\n",
            "Try using .loc[row_indexer,col_indexer] = value instead\n",
            "\n",
            "See the caveats in the documentation: https://pandas.pydata.org/pandas-docs/stable/user_guide/indexing.html#returning-a-view-versus-a-copy\n",
            "  jobs_df['PUFC05_AGE'] = jobs_df['PUFC05_AGE'].astype(float)\n"
          ]
        }
      ],
      "source": [
        "jobs_df['PUFC05_AGE'] = jobs_df['PUFC05_AGE'].astype(float)"
      ]
    },
    {
      "cell_type": "code",
      "execution_count": null,
      "metadata": {
        "colab": {
          "base_uri": "https://localhost:8080/",
          "height": 699
        },
        "id": "xT3xtRYwGuFw",
        "outputId": "ce78fd3b-9295-478e-e1af-63ce0cb7bc32"
      },
      "outputs": [
        {
          "data": {
            "image/png": "[encoded data removed]",
            "text/plain": [
              "<Figure size 1000x800 with 1 Axes>"
            ]
          },
          "metadata": {},
          "output_type": "display_data"
        }
      ],
      "source": [
        "# Initial Boxplot for the Age Distribution\n",
        "\n",
        "plt.figure(figsize=(10, 8))\n",
        "plt.boxplot(x=jobs_df['PUFC05_AGE'])\n",
        "plt.title('Age Distribution')\n",
        "plt.show()"
      ]
    },
    {
      "cell_type": "markdown",
      "metadata": {
        "id": "ajFEVGczkQvr"
      },
      "source": [
        "Using the boxplot, we can easily spot the outliers in our data represented by the circles.\n",
        "\n",
        "Since the outliers seem to be fairly manageable, we can do mean imputation to normalize the data."
      ]
    },
    {
      "cell_type": "code",
      "execution_count": null,
      "metadata": {
        "colab": {
          "base_uri": "https://localhost:8080/"
        },
        "id": "vuWINskcGuFw",
        "outputId": "20c057df-6baf-4ff2-e1ef-36705ef2e080"
      },
      "outputs": [
        {
          "data": {
            "text/plain": [
              "8"
            ]
          },
          "execution_count": 125,
          "metadata": {},
          "output_type": "execute_result"
        }
      ],
      "source": [
        "# Computing for the IQR\n",
        "\n",
        "age_q1 = jobs_df['PUFC05_AGE'].quantile(0.25)\n",
        "age_q3 = jobs_df['PUFC05_AGE'].quantile(0.75)\n",
        "age_iqr = age_q3 - age_q1\n",
        "\n",
        "# Getting the outliers\n",
        "\n",
        "age_lw = age_q1 - 2 * age_iqr\n",
        "age_uw = age_q3 + 2 * age_iqr\n",
        "age_outliers = jobs_df[(jobs_df['PUFC05_AGE'] < age_lw) | (jobs_df['PUFC05_AGE'] > age_uw)]\n",
        "age_outliers['PUFC05_AGE'].shape[0]"
      ]
    },
    {
      "cell_type": "markdown",
      "metadata": {
        "id": "7sjsyKPd_mU5"
      },
      "source": [
        "Let's get the mean of the ages without the outliers"
      ]
    },
    {
      "cell_type": "code",
      "execution_count": null,
      "metadata": {
        "colab": {
          "base_uri": "https://localhost:8080/"
        },
        "id": "_gTiH36e_7GB",
        "outputId": "912e45e0-3d92-42a7-af6b-8b4544981a64"
      },
      "outputs": [
        {
          "data": {
            "text/plain": [
              "np.float64(35.33282069590531)"
            ]
          },
          "execution_count": 126,
          "metadata": {},
          "output_type": "execute_result"
        }
      ],
      "source": [
        "mean_val = jobs_df[(jobs_df['PUFC05_AGE'] >= age_lw) & (jobs_df['PUFC05_AGE'] <= age_uw)]['PUFC05_AGE'].mean()\n",
        "mean_val"
      ]
    },
    {
      "cell_type": "markdown",
      "metadata": {
        "id": "QOszuZYoABoI"
      },
      "source": [
        "After getting the mean, we will use it to set the values of the outliers for the mean imputation."
      ]
    },
    {
      "cell_type": "code",
      "execution_count": null,
      "metadata": {
        "colab": {
          "base_uri": "https://localhost:8080/"
        },
        "id": "EiPof6EYARiw",
        "outputId": "826029ca-8bd4-40ce-8df5-80ee966389fe"
      },
      "outputs": [
        {
          "name": "stdout",
          "output_type": "stream",
          "text": [
            "Number of outliers after imputation: 0\n"
          ]
        }
      ],
      "source": [
        "jobs_df.loc[(jobs_df['PUFC05_AGE'] < age_lw) | (jobs_df['PUFC05_AGE'] > age_uw), 'PUFC05_AGE'] = mean_val\n",
        "outlier_count_after = jobs_df[(jobs_df['PUFC05_AGE'] < age_lw) | (jobs_df['PUFC05_AGE'] > age_uw)].shape[0]\n",
        "print(\"Number of outliers after imputation:\", outlier_count_after)"
      ]
    },
    {
      "cell_type": "markdown",
      "metadata": {
        "id": "Jf_8ifzgGuFw"
      },
      "source": [
        "### Work Hours per Day variable\n",
        "\n",
        "`PUFC18_PNWHRS` represent the different normal working hours per day ranging from 1 to 16."
      ]
    },
    {
      "cell_type": "code",
      "execution_count": null,
      "metadata": {
        "colab": {
          "base_uri": "https://localhost:8080/"
        },
        "id": "6gMUKYM1GuFw",
        "outputId": "f6cf6263-3703-4927-a985-7f7e44e1febd"
      },
      "outputs": [
        {
          "data": {
            "text/plain": [
              "array(['08', '12', '04', '10', '09', '06', '03', '05', '07', '01', '02',\n",
              "       '15', '11', '14', '16', '13'], dtype=object)"
            ]
          },
          "execution_count": 128,
          "metadata": {},
          "output_type": "execute_result"
        }
      ],
      "source": [
        "jobs_df['PUFC18_PNWHRS'].unique()"
      ]
    },
    {
      "cell_type": "markdown",
      "metadata": {
        "id": "jeiokhPrlW3D"
      },
      "source": [
        "We can convert this data into an integer type in order to easily work with the data later on."
      ]
    },
    {
      "cell_type": "code",
      "execution_count": null,
      "metadata": {
        "colab": {
          "base_uri": "https://localhost:8080/"
        },
        "id": "ckalHtw6VnAy",
        "outputId": "f55f3d2d-310d-4985-d6cd-b38e3153dc65"
      },
      "outputs": [
        {
          "data": {
            "text/plain": [
              "array([ 8, 12,  4, 10,  9,  6,  3,  5,  7,  1,  2, 15, 11, 14, 16, 13])"
            ]
          },
          "execution_count": 129,
          "metadata": {},
          "output_type": "execute_result"
        }
      ],
      "source": [
        "jobs_df['PUFC18_PNWHRS'] = jobs_df['PUFC18_PNWHRS'].astype(int)\n",
        "jobs_df['PUFC18_PNWHRS'].unique()"
      ]
    },
    {
      "cell_type": "markdown",
      "metadata": {
        "id": "tXqh2fj0GuFw"
      },
      "source": [
        "### Total Work Hours variable\n",
        "\n",
        "`PUFC19_PHOURS` represent the total work hours in the past week, including the primary and secondary occupation (if any).\n",
        "\n",
        "The value set includes numbers ranging from 0 to 112, for the work hours wherein 0 represents the non-workers in the survey and 999 for not reported."
      ]
    },
    {
      "cell_type": "code",
      "execution_count": null,
      "metadata": {
        "colab": {
          "base_uri": "https://localhost:8080/"
        },
        "id": "n2xCx2KgGuFw",
        "outputId": "c3e056aa-e623-461f-afc5-249aab6eeb70"
      },
      "outputs": [
        {
          "data": {
            "text/plain": [
              "array(['024', '072', '048', '060', '016', '040', '070', '045', '032',\n",
              "       '054', '042', '006', '028', '008', '030', '056', '036', '020',\n",
              "       '015', '009', '021', '084', '000', '050', '018', '012', '014',\n",
              "       '004', '035', '044', '090', '077', '049', '025', '052', '064',\n",
              "       '059', '057', '010', '027', '063', '066', '003', '112', '096',\n",
              "       '078', '091', '098', '022', '055', '007', '002', '058', '005',\n",
              "       '075', '033', '105', '062', '031', '011', '034', '026', '094',\n",
              "       '065', '001', '039', '041', '092', '046', '038', '051', '080',\n",
              "       '074', '068', '061', '019', '088', '069', '073', '082', '013',\n",
              "       '081', '053', '043', '047', '067', '037', '108'], dtype=object)"
            ]
          },
          "execution_count": 130,
          "metadata": {},
          "output_type": "execute_result"
        }
      ],
      "source": [
        "jobs_df['PUFC19_PHOURS'].unique()"
      ]
    },
    {
      "cell_type": "markdown",
      "metadata": {
        "id": "QOcuOZfwmxGx"
      },
      "source": [
        "The data does not include 0 and 999 anymore as we have been able to filter the data previously to only accommodate the working respondents.\n",
        "\n",
        "However, similar to our previous variable, we can also convert the data type into integer so it will be easier to work with it later on."
      ]
    },
    {
      "cell_type": "code",
      "execution_count": null,
      "metadata": {
        "colab": {
          "base_uri": "https://localhost:8080/"
        },
        "id": "55SG4DH-GuFw",
        "outputId": "30f08b03-edef-487a-eeb1-3b418b5d6936"
      },
      "outputs": [
        {
          "data": {
            "text/plain": [
              "array([ 24,  72,  48,  60,  16,  40,  70,  45,  32,  54,  42,   6,  28,\n",
              "         8,  30,  56,  36,  20,  15,   9,  21,  84,   0,  50,  18,  12,\n",
              "        14,   4,  35,  44,  90,  77,  49,  25,  52,  64,  59,  57,  10,\n",
              "        27,  63,  66,   3, 112,  96,  78,  91,  98,  22,  55,   7,   2,\n",
              "        58,   5,  75,  33, 105,  62,  31,  11,  34,  26,  94,  65,   1,\n",
              "        39,  41,  92,  46,  38,  51,  80,  74,  68,  61,  19,  88,  69,\n",
              "        73,  82,  13,  81,  53,  43,  47,  67,  37, 108])"
            ]
          },
          "execution_count": 131,
          "metadata": {},
          "output_type": "execute_result"
        }
      ],
      "source": [
        "jobs_df['PUFC19_PHOURS'] = jobs_df['PUFC19_PHOURS'].astype(int)\n",
        "jobs_df['PUFC19_PHOURS'].unique()"
      ]
    }
  ],
  "metadata": {
    "colab": {
      "include_colab_link": true,
      "provenance": []
    },
    "kernelspec": {
      "display_name": "Python 3",
      "name": "python3"
    },
    "language_info": {
      "codemirror_mode": {
        "name": "ipython",
        "version": 3
      },
      "file_extension": ".py",
      "mimetype": "text/x-python",
      "name": "python",
      "nbconvert_exporter": "python",
      "pygments_lexer": "ipython3",
      "version": "3.13.1"
    }
  },
  "nbformat": 4,
  "nbformat_minor": 0
}
